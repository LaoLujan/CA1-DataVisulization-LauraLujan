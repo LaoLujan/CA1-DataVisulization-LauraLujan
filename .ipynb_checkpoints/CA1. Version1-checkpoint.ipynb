{
 "cells": [
  {
   "cell_type": "markdown",
   "id": "303282f6-b486-4d34-b122-0a1bd5401ccf",
   "metadata": {},
   "source": [
    "Step 1: \n",
    "import data and libraries\n",
    "\n",
    "#seaborn in the one that allow us to use countplot \n",
    "#data was a .xlsx file, I changed to csv"
   ]
  },
  {
   "cell_type": "code",
   "execution_count": 176,
   "id": "995ba793-7763-4c4f-8a3a-fa2972b2a732",
   "metadata": {},
   "outputs": [
    {
     "name": "stderr",
     "output_type": "stream",
     "text": [
      "C:\\Users\\NHLUJ\\AppData\\Local\\Temp\\ipykernel_27584\\274342880.py:5: DtypeWarning: Columns (0,4,13,14,15,16,30,31) have mixed types. Specify dtype option on import or set low_memory=False.\n",
      "  df = pd.read_csv('all_data_M_2023.csv')\n"
     ]
    }
   ],
   "source": [
    "import pandas as pd\n",
    "import matplotlib.pyplot as plt\n",
    "import seaborn as sns \n",
    "import plotly.express as px\n",
    "df = pd.read_csv('all_data_M_2023.csv')\n",
    "\n"
   ]
  },
  {
   "cell_type": "markdown",
   "id": "aac39ea1-1f2c-489b-939f-71eea45b7505",
   "metadata": {},
   "source": [
    "Step 2:\n",
    "General analysis of data and information"
   ]
  },
  {
   "cell_type": "code",
   "execution_count": 67,
   "id": "fbdd2a19-6bea-4903-a55b-93a340366f26",
   "metadata": {},
   "outputs": [
    {
     "data": {
      "text/plain": [
       "(413327, 32)"
      ]
     },
     "execution_count": 67,
     "metadata": {},
     "output_type": "execute_result"
    }
   ],
   "source": [
    "#data.shape(rows, colums)\n",
    "df.shape"
   ]
  },
  {
   "cell_type": "code",
   "execution_count": 69,
   "id": "fb0888fc-97da-4de9-8639-73f168996dc1",
   "metadata": {},
   "outputs": [
    {
     "data": {
      "text/plain": [
       "pandas.core.frame.DataFrame"
      ]
     },
     "execution_count": 69,
     "metadata": {},
     "output_type": "execute_result"
    }
   ],
   "source": [
    "type(df)"
   ]
  },
  {
   "cell_type": "code",
   "execution_count": 71,
   "id": "4ce00b67-b3cf-4827-8db8-02adaf467e3a",
   "metadata": {},
   "outputs": [
    {
     "data": {
      "text/html": [
       "<div>\n",
       "<style scoped>\n",
       "    .dataframe tbody tr th:only-of-type {\n",
       "        vertical-align: middle;\n",
       "    }\n",
       "\n",
       "    .dataframe tbody tr th {\n",
       "        vertical-align: top;\n",
       "    }\n",
       "\n",
       "    .dataframe thead th {\n",
       "        text-align: right;\n",
       "    }\n",
       "</style>\n",
       "<table border=\"1\" class=\"dataframe\">\n",
       "  <thead>\n",
       "    <tr style=\"text-align: right;\">\n",
       "      <th></th>\n",
       "      <th>AREA</th>\n",
       "      <th>AREA_TITLE</th>\n",
       "      <th>AREA_TYPE</th>\n",
       "      <th>PRIM_STATE</th>\n",
       "      <th>NAICS</th>\n",
       "      <th>NAICS_TITLE</th>\n",
       "      <th>I_GROUP</th>\n",
       "      <th>OWN_CODE</th>\n",
       "      <th>OCC_CODE</th>\n",
       "      <th>OCC_TITLE</th>\n",
       "      <th>...</th>\n",
       "      <th>H_MEDIAN</th>\n",
       "      <th>H_PCT75</th>\n",
       "      <th>H_PCT90</th>\n",
       "      <th>A_PCT10</th>\n",
       "      <th>A_PCT25</th>\n",
       "      <th>A_MEDIAN</th>\n",
       "      <th>A_PCT75</th>\n",
       "      <th>A_PCT90</th>\n",
       "      <th>ANNUAL</th>\n",
       "      <th>HOURLY</th>\n",
       "    </tr>\n",
       "  </thead>\n",
       "  <tbody>\n",
       "    <tr>\n",
       "      <th>0</th>\n",
       "      <td>c</td>\n",
       "      <td>U.S.</td>\n",
       "      <td>1</td>\n",
       "      <td>US</td>\n",
       "      <td>0</td>\n",
       "      <td>Cross-industry</td>\n",
       "      <td>cross-industry</td>\n",
       "      <td>1235</td>\n",
       "      <td>00-0000</td>\n",
       "      <td>All Occupations</td>\n",
       "      <td>...</td>\n",
       "      <td>23.11</td>\n",
       "      <td>37.01</td>\n",
       "      <td>58.40</td>\n",
       "      <td>29,050</td>\n",
       "      <td>35,660</td>\n",
       "      <td>48,060</td>\n",
       "      <td>76,980</td>\n",
       "      <td>121,470</td>\n",
       "      <td>NaN</td>\n",
       "      <td>NaN</td>\n",
       "    </tr>\n",
       "    <tr>\n",
       "      <th>1</th>\n",
       "      <td>99</td>\n",
       "      <td>U.S.</td>\n",
       "      <td>1</td>\n",
       "      <td>US</td>\n",
       "      <td>0</td>\n",
       "      <td>Cross-industry</td>\n",
       "      <td>cross-industry</td>\n",
       "      <td>1235</td>\n",
       "      <td>11-0000</td>\n",
       "      <td>Management Occupations</td>\n",
       "      <td>...</td>\n",
       "      <td>56.19</td>\n",
       "      <td>81.29</td>\n",
       "      <td>111.36</td>\n",
       "      <td>54,550</td>\n",
       "      <td>78,330</td>\n",
       "      <td>116,880</td>\n",
       "      <td>169,090</td>\n",
       "      <td>231,620</td>\n",
       "      <td>NaN</td>\n",
       "      <td>NaN</td>\n",
       "    </tr>\n",
       "    <tr>\n",
       "      <th>2</th>\n",
       "      <td>99</td>\n",
       "      <td>U.S.</td>\n",
       "      <td>1</td>\n",
       "      <td>US</td>\n",
       "      <td>0</td>\n",
       "      <td>Cross-industry</td>\n",
       "      <td>cross-industry</td>\n",
       "      <td>1235</td>\n",
       "      <td>11-1000</td>\n",
       "      <td>Top Executives</td>\n",
       "      <td>...</td>\n",
       "      <td>49.74</td>\n",
       "      <td>79.57</td>\n",
       "      <td>#</td>\n",
       "      <td>46,400</td>\n",
       "      <td>66,170</td>\n",
       "      <td>103,460</td>\n",
       "      <td>165,500</td>\n",
       "      <td>#</td>\n",
       "      <td>NaN</td>\n",
       "      <td>NaN</td>\n",
       "    </tr>\n",
       "    <tr>\n",
       "      <th>3</th>\n",
       "      <td>99</td>\n",
       "      <td>U.S.</td>\n",
       "      <td>1</td>\n",
       "      <td>US</td>\n",
       "      <td>0</td>\n",
       "      <td>Cross-industry</td>\n",
       "      <td>cross-industry</td>\n",
       "      <td>1235</td>\n",
       "      <td>11-1010</td>\n",
       "      <td>Chief Executives</td>\n",
       "      <td>...</td>\n",
       "      <td>99.37</td>\n",
       "      <td>#</td>\n",
       "      <td>#</td>\n",
       "      <td>80,000</td>\n",
       "      <td>130,840</td>\n",
       "      <td>206,680</td>\n",
       "      <td>#</td>\n",
       "      <td>#</td>\n",
       "      <td>NaN</td>\n",
       "      <td>NaN</td>\n",
       "    </tr>\n",
       "    <tr>\n",
       "      <th>4</th>\n",
       "      <td>99</td>\n",
       "      <td>U.S.</td>\n",
       "      <td>1</td>\n",
       "      <td>US</td>\n",
       "      <td>0</td>\n",
       "      <td>Cross-industry</td>\n",
       "      <td>cross-industry</td>\n",
       "      <td>1235</td>\n",
       "      <td>11-1011</td>\n",
       "      <td>Chief Executives</td>\n",
       "      <td>...</td>\n",
       "      <td>99.37</td>\n",
       "      <td>#</td>\n",
       "      <td>#</td>\n",
       "      <td>80,000</td>\n",
       "      <td>130,840</td>\n",
       "      <td>206,680</td>\n",
       "      <td>#</td>\n",
       "      <td>#</td>\n",
       "      <td>NaN</td>\n",
       "      <td>NaN</td>\n",
       "    </tr>\n",
       "  </tbody>\n",
       "</table>\n",
       "<p>5 rows × 32 columns</p>\n",
       "</div>"
      ],
      "text/plain": [
       "   AREA AREA_TITLE  AREA_TYPE PRIM_STATE NAICS     NAICS_TITLE  \\\n",
       "0     c       U.S.          1         US     0  Cross-industry   \n",
       "1    99       U.S.          1         US     0  Cross-industry   \n",
       "2    99       U.S.          1         US     0  Cross-industry   \n",
       "3    99       U.S.          1         US     0  Cross-industry   \n",
       "4    99       U.S.          1         US     0  Cross-industry   \n",
       "\n",
       "          I_GROUP  OWN_CODE OCC_CODE               OCC_TITLE  ... H_MEDIAN  \\\n",
       "0  cross-industry      1235  00-0000         All Occupations  ...    23.11   \n",
       "1  cross-industry      1235  11-0000  Management Occupations  ...    56.19   \n",
       "2  cross-industry      1235  11-1000          Top Executives  ...    49.74   \n",
       "3  cross-industry      1235  11-1010        Chief Executives  ...    99.37   \n",
       "4  cross-industry      1235  11-1011        Chief Executives  ...    99.37   \n",
       "\n",
       "  H_PCT75 H_PCT90 A_PCT10  A_PCT25 A_MEDIAN  A_PCT75  A_PCT90 ANNUAL HOURLY  \n",
       "0   37.01   58.40  29,050   35,660   48,060   76,980  121,470    NaN    NaN  \n",
       "1   81.29  111.36  54,550   78,330  116,880  169,090  231,620    NaN    NaN  \n",
       "2   79.57       #  46,400   66,170  103,460  165,500        #    NaN    NaN  \n",
       "3       #       #  80,000  130,840  206,680        #        #    NaN    NaN  \n",
       "4       #       #  80,000  130,840  206,680        #        #    NaN    NaN  \n",
       "\n",
       "[5 rows x 32 columns]"
      ]
     },
     "execution_count": 71,
     "metadata": {},
     "output_type": "execute_result"
    }
   ],
   "source": [
    "df.head()"
   ]
  },
  {
   "cell_type": "code",
   "execution_count": 73,
   "id": "29672639-8808-4d06-adf4-07a5c6d3eb93",
   "metadata": {},
   "outputs": [
    {
     "name": "stdout",
     "output_type": "stream",
     "text": [
      "<class 'pandas.core.frame.DataFrame'>\n",
      "RangeIndex: 413327 entries, 0 to 413326\n",
      "Data columns (total 32 columns):\n",
      " #   Column        Non-Null Count   Dtype \n",
      "---  ------        --------------   ----- \n",
      " 0   AREA          413327 non-null  object\n",
      " 1   AREA_TITLE    413327 non-null  object\n",
      " 2   AREA_TYPE     413327 non-null  int64 \n",
      " 3   PRIM_STATE    413327 non-null  object\n",
      " 4   NAICS         413327 non-null  object\n",
      " 5   NAICS_TITLE   413327 non-null  object\n",
      " 6   I_GROUP       413327 non-null  object\n",
      " 7   OWN_CODE      413327 non-null  int64 \n",
      " 8   OCC_CODE      413327 non-null  object\n",
      " 9   OCC_TITLE     413327 non-null  object\n",
      " 10  O_GROUP       413327 non-null  object\n",
      " 11  TOT_EMP       413327 non-null  object\n",
      " 12  EMP_PRSE      413327 non-null  object\n",
      " 13  JOBS_1000     235826 non-null  object\n",
      " 14  LOC_QUOTIENT  235826 non-null  object\n",
      " 15  PCT_TOTAL     170470 non-null  object\n",
      " 16  PCT_RPT       170470 non-null  object\n",
      " 17  H_MEAN        413327 non-null  object\n",
      " 18  A_MEAN        413327 non-null  object\n",
      " 19  MEAN_PRSE     413327 non-null  object\n",
      " 20  H_PCT10       413327 non-null  object\n",
      " 21  H_PCT25       413327 non-null  object\n",
      " 22  H_MEDIAN      413327 non-null  object\n",
      " 23  H_PCT75       413327 non-null  object\n",
      " 24  H_PCT90       413327 non-null  object\n",
      " 25  A_PCT10       413327 non-null  object\n",
      " 26  A_PCT25       413327 non-null  object\n",
      " 27  A_MEDIAN      413327 non-null  object\n",
      " 28  A_PCT75       413327 non-null  object\n",
      " 29  A_PCT90       413327 non-null  object\n",
      " 30  ANNUAL        16497 non-null   object\n",
      " 31  HOURLY        755 non-null     object\n",
      "dtypes: int64(2), object(30)\n",
      "memory usage: 100.9+ MB\n"
     ]
    }
   ],
   "source": [
    "df.info()"
   ]
  },
  {
   "cell_type": "code",
   "execution_count": 75,
   "id": "39ccfb41-5d57-4e45-9d53-3cb77d64324b",
   "metadata": {},
   "outputs": [
    {
     "data": {
      "text/html": [
       "<div>\n",
       "<style scoped>\n",
       "    .dataframe tbody tr th:only-of-type {\n",
       "        vertical-align: middle;\n",
       "    }\n",
       "\n",
       "    .dataframe tbody tr th {\n",
       "        vertical-align: top;\n",
       "    }\n",
       "\n",
       "    .dataframe thead th {\n",
       "        text-align: right;\n",
       "    }\n",
       "</style>\n",
       "<table border=\"1\" class=\"dataframe\">\n",
       "  <thead>\n",
       "    <tr style=\"text-align: right;\">\n",
       "      <th></th>\n",
       "      <th>AREA_TYPE</th>\n",
       "      <th>OWN_CODE</th>\n",
       "    </tr>\n",
       "  </thead>\n",
       "  <tbody>\n",
       "    <tr>\n",
       "      <th>count</th>\n",
       "      <td>413327.000000</td>\n",
       "      <td>413327.000000</td>\n",
       "    </tr>\n",
       "    <tr>\n",
       "      <th>mean</th>\n",
       "      <td>2.766826</td>\n",
       "      <td>717.279984</td>\n",
       "    </tr>\n",
       "    <tr>\n",
       "      <th>std</th>\n",
       "      <td>1.780825</td>\n",
       "      <td>601.852382</td>\n",
       "    </tr>\n",
       "    <tr>\n",
       "      <th>min</th>\n",
       "      <td>1.000000</td>\n",
       "      <td>1.000000</td>\n",
       "    </tr>\n",
       "    <tr>\n",
       "      <th>25%</th>\n",
       "      <td>1.000000</td>\n",
       "      <td>5.000000</td>\n",
       "    </tr>\n",
       "    <tr>\n",
       "      <th>50%</th>\n",
       "      <td>2.000000</td>\n",
       "      <td>1235.000000</td>\n",
       "    </tr>\n",
       "    <tr>\n",
       "      <th>75%</th>\n",
       "      <td>4.000000</td>\n",
       "      <td>1235.000000</td>\n",
       "    </tr>\n",
       "    <tr>\n",
       "      <th>max</th>\n",
       "      <td>6.000000</td>\n",
       "      <td>1235.000000</td>\n",
       "    </tr>\n",
       "  </tbody>\n",
       "</table>\n",
       "</div>"
      ],
      "text/plain": [
       "           AREA_TYPE       OWN_CODE\n",
       "count  413327.000000  413327.000000\n",
       "mean        2.766826     717.279984\n",
       "std         1.780825     601.852382\n",
       "min         1.000000       1.000000\n",
       "25%         1.000000       5.000000\n",
       "50%         2.000000    1235.000000\n",
       "75%         4.000000    1235.000000\n",
       "max         6.000000    1235.000000"
      ]
     },
     "execution_count": 75,
     "metadata": {},
     "output_type": "execute_result"
    }
   ],
   "source": [
    "df.describe()"
   ]
  },
  {
   "cell_type": "markdown",
   "id": "959debfd-ca0b-4624-9b26-d83924cc8353",
   "metadata": {},
   "source": [
    "Step 3: \n",
    "Based on analysis, define what do you want to knwo about the data set, create some possible questions to answear\n",
    "I analyzed the excel file to understand the data. \n",
    "and some of the possible questions we can answear with metploit is: \n",
    "1) How many times each area_type appears:\n",
    "       First I had to convert the areas 1,2,3,4... in names like U.S, so it will be clear to represent\n",
    "       So I created area_labels to relate each number with its name\n",
    "       From now all this info will be stored in area_type_label\n",
    "       \n",
    "       \n"
   ]
  },
  {
   "cell_type": "code",
   "execution_count": 77,
   "id": "4cea18cc-25b2-45fa-b92c-4e6420828417",
   "metadata": {},
   "outputs": [],
   "source": [
    "area_labels = {1: 'U.S.', 2: 'State', 3: 'Territory', 4: 'MSA/NECTA',6 : 'Nonmetropolitan Area'}"
   ]
  },
  {
   "cell_type": "code",
   "execution_count": 79,
   "id": "5b2c2da8-2732-4181-98aa-e4e480bf1002",
   "metadata": {},
   "outputs": [],
   "source": [
    "df['area_type_label'] = df['AREA_TYPE'].map(area_labels)"
   ]
  },
  {
   "cell_type": "code",
   "execution_count": 81,
   "id": "6abe24f3-e989-4d08-bf7c-6c85bcf2345d",
   "metadata": {},
   "outputs": [
    {
     "data": {
      "text/plain": [
       "area_type_label\n",
       "U.S.                    177501\n",
       "MSA/NECTA               149591\n",
       "Nonmetropolitan Area     48559\n",
       "State                    36643\n",
       "Territory                 1033\n",
       "Name: count, dtype: int64"
      ]
     },
     "execution_count": 81,
     "metadata": {},
     "output_type": "execute_result"
    }
   ],
   "source": [
    "df['area_type_label'].value_counts()"
   ]
  },
  {
   "cell_type": "code",
   "execution_count": 83,
   "id": "12b63589-4ae7-423c-b159-2dd493b9608b",
   "metadata": {},
   "outputs": [
    {
     "data": {
      "image/png": "[encoded data removed]",
      "text/plain": [
       "<Figure size 640x480 with 1 Axes>"
      ]
     },
     "metadata": {},
     "output_type": "display_data"
    }
   ],
   "source": [
    "sns.countplot(x='area_type_label', data = df)\n",
    "plt.title('Area Type')\n",
    "plt.show()"
   ]
  },
  {
   "cell_type": "markdown",
   "id": "a279ac53-32fc-4069-80a4-372f7991d38f",
   "metadata": {},
   "source": [
    "2) which ownership appears the most ?\n",
    "       I used CHATGPT to arrange this list bc I had to type it all one by one so to save time I copied from excel and asked to create my dictionary\n",
    "       Now same as before, I named my newe labels, I linked to the OWN_CODE and I mapped the dictionary\n",
    "   NOTE: the names are to long so they overlap"
   ]
  },
  {
   "cell_type": "code",
   "execution_count": 85,
   "id": "026bf86b-8e5f-4ec2-84cc-998f37bf9428",
   "metadata": {},
   "outputs": [],
   "source": [
    "own_labels = {\n",
    "    1: 'Federal Government',\n",
    "    2: 'State Government',\n",
    "    3: 'Local Government',\n",
    "    123: 'Federal, State, and Local Government',\n",
    "    235: 'Private, State, and Local Government',\n",
    "    35: 'Private and Local Government',\n",
    "    5: 'Private',\n",
    "    57: 'Private, Local Govt Gambling & Casino Hotels',\n",
    "    58: 'Private + State & Local Govt Hospitals',\n",
    "    59: 'Private and Postal Service',\n",
    "    1235: 'Federal, State, Local + Private Sector'\n",
    "}\n"
   ]
  },
  {
   "cell_type": "code",
   "execution_count": 87,
   "id": "9bcb2a43-29fc-4e61-ac30-1055f8e058da",
   "metadata": {},
   "outputs": [],
   "source": [
    "df['own_label'] = df['OWN_CODE'].map(own_labels)\n"
   ]
  },
  {
   "cell_type": "code",
   "execution_count": 89,
   "id": "4789e613-291e-4251-8f19-ed1d8abdf88e",
   "metadata": {},
   "outputs": [
    {
     "data": {
      "image/png": "[encoded data removed]",
      "text/plain": [
       "<Figure size 640x480 with 1 Axes>"
      ]
     },
     "metadata": {},
     "output_type": "display_data"
    }
   ],
   "source": [
    "sns.countplot(x ='own_label', data = df)\n",
    "plt.title('Number of Records by Ownership Type')\n",
    "plt.show()"
   ]
  },
  {
   "cell_type": "markdown",
   "id": "e0652b7c-03e7-48f7-92b5-753bc0112f58",
   "metadata": {},
   "source": [
    "3) now is time to get into the 3 categories we are interested in. \"Artificial Intelligence, Data Science and Software Development\". At the moment I am not able to see what jobs are on the data set, I can only see if there are private or public but that doesn't give me what I need. So I'll display the jobs without repeating them and see what I can get. "
   ]
  },
  {
   "cell_type": "code",
   "execution_count": 91,
   "id": "6a4c9047-9ae0-4c63-8353-163d81b739cf",
   "metadata": {},
   "outputs": [],
   "source": [
    "#Unique jobs is going to hold like a sublist of all the jobs in the data set without repeating them \n",
    "unique_jobs = df['OCC_TITLE'].unique()\n"
   ]
  },
  {
   "cell_type": "code",
   "execution_count": 93,
   "id": "80295813-60d4-4c90-bf93-4dd84c18b54d",
   "metadata": {},
   "outputs": [
    {
     "name": "stdout",
     "output_type": "stream",
     "text": [
      "There are 1138 unique jobs.\n",
      "All Occupations\n",
      "Management Occupations\n",
      "Top Executives\n",
      "Chief Executives\n",
      "General and Operations Managers\n",
      "Legislators\n",
      "Advertising, Marketing, Promotions, Public Relations, and Sales Managers\n",
      "Advertising and Promotions Managers\n",
      "Marketing and Sales Managers\n",
      "Marketing Managers\n",
      "Sales Managers\n",
      "Public Relations and Fundraising Managers\n",
      "Public Relations Managers\n",
      "Fundraising Managers\n",
      "Operations Specialties Managers\n",
      "Administrative Services and Facilities Managers\n",
      "Administrative Services Managers\n",
      "Facilities Managers\n",
      "Computer and Information Systems Managers\n",
      "Financial Managers\n",
      "Industrial Production Managers\n",
      "Purchasing Managers\n",
      "Transportation, Storage, and Distribution Managers\n",
      "Compensation and Benefits Managers\n",
      "Human Resources Managers\n",
      "Training and Development Managers\n",
      "Other Management Occupations\n",
      "Farmers, Ranchers, and Other Agricultural Managers\n",
      "Construction Managers\n",
      "Education and Childcare Administrators\n",
      "Education and Childcare Administrators, Preschool and Daycare\n",
      "Education Administrators, Kindergarten through Secondary\n",
      "Education Administrators, Postsecondary\n",
      "Education Administrators, All Other\n",
      "Architectural and Engineering Managers\n",
      "Food Service Managers\n",
      "Entertainment and Recreation Managers\n",
      "Gambling Managers\n",
      "Entertainment and Recreation Managers, Except Gambling\n",
      "Lodging Managers\n",
      "Medical and Health Services Managers\n",
      "Natural Sciences Managers\n",
      "Postmasters and Mail Superintendents\n",
      "Property, Real Estate, and Community Association Managers\n",
      "Social and Community Service Managers\n",
      "Emergency Management Directors\n",
      "Personal Service Managers\n",
      "Funeral Home Managers\n",
      "Personal Service Managers, All Other\n",
      "Miscellaneous Managers\n",
      "Managers, All Other\n",
      "Business and Financial Operations Occupations\n",
      "Business Operations Specialists\n",
      "Agents and Business Managers of Artists, Performers, and Athletes\n",
      "Buyers and Purchasing Agents\n",
      "Claims Adjusters, Appraisers, Examiners, and Investigators\n",
      "Claims Adjusters, Examiners, and Investigators\n",
      "Insurance Appraisers, Auto Damage\n",
      "Compliance Officers\n",
      "Cost Estimators\n",
      "Human Resources Workers\n",
      "Human Resources Specialists\n",
      "Farm Labor Contractors\n",
      "Labor Relations Specialists\n",
      "Logisticians and Project Management Specialists\n",
      "Logisticians\n",
      "Project Management Specialists\n",
      "Management Analysts\n",
      "Meeting, Convention, and Event Planners\n",
      "Fundraisers\n",
      "Compensation, Benefits, and Job Analysis Specialists\n",
      "Training and Development Specialists\n",
      "Market Research Analysts and Marketing Specialists\n",
      "Miscellaneous Business Operations Specialists\n",
      "Business Operations Specialists, All Other\n",
      "Financial Specialists\n",
      "Accountants and Auditors\n",
      "Property Appraisers and Assessors\n",
      "Budget Analysts\n",
      "Credit Analysts\n",
      "Financial Analysts and Advisors\n",
      "Financial and Investment Analysts\n",
      "Personal Financial Advisors\n",
      "Insurance Underwriters\n",
      "Financial Risk Specialists\n",
      "Financial Examiners\n",
      "Credit Counselors and Loan Officers\n",
      "Credit Counselors\n",
      "Loan Officers\n",
      "Tax Examiners, Collectors and Preparers, and Revenue Agents\n",
      "Tax Examiners and Collectors, and Revenue Agents\n",
      "Tax Preparers\n",
      "Miscellaneous Financial Specialists\n",
      "Financial Specialists, All Other\n",
      "Computer and Mathematical Occupations\n",
      "Computer Occupations\n",
      "Computer and Information Analysts\n",
      "Computer Systems Analysts\n",
      "Information Security Analysts\n",
      "Computer and Information Research Scientists\n",
      "Computer Support Specialists\n",
      "Computer Network Support Specialists\n",
      "Computer User Support Specialists\n",
      "Database and Network Administrators and Architects\n",
      "Computer Network Architects\n",
      "Database Administrators\n",
      "Database Architects\n",
      "Network and Computer Systems Administrators\n",
      "Software and Web Developers, Programmers, and Testers\n",
      "Computer Programmers\n",
      "Software Developers\n",
      "Software Quality Assurance Analysts and Testers\n",
      "Web Developers\n",
      "Web and Digital Interface Designers\n",
      "Miscellaneous Computer Occupations\n",
      "Computer Occupations, All Other\n",
      "Mathematical Science Occupations\n",
      "Actuaries\n",
      "Mathematicians\n",
      "Operations Research Analysts\n",
      "Statisticians\n",
      "Data Scientists\n",
      "Miscellaneous Mathematical Science Occupations\n",
      "Mathematical Science Occupations, All Other\n",
      "Architecture and Engineering Occupations\n",
      "Architects, Surveyors, and Cartographers\n",
      "Architects, Except Naval\n",
      "Architects, Except Landscape and Naval\n",
      "Landscape Architects\n",
      "Surveyors, Cartographers, and Photogrammetrists\n",
      "Cartographers and Photogrammetrists\n",
      "Surveyors\n",
      "Engineers\n",
      "Aerospace Engineers\n",
      "Agricultural Engineers\n",
      "Bioengineers and Biomedical Engineers\n",
      "Chemical Engineers\n",
      "Civil Engineers\n",
      "Computer Hardware Engineers\n",
      "Electrical and Electronics Engineers\n",
      "Electrical Engineers\n",
      "Electronics Engineers, Except Computer\n",
      "Environmental Engineers\n",
      "Industrial Engineers, Including Health and Safety\n",
      "Health and Safety Engineers, Except Mining Safety Engineers and Inspectors\n",
      "Industrial Engineers\n",
      "Marine Engineers and Naval Architects\n",
      "Materials Engineers\n",
      "Mechanical Engineers\n",
      "Mining and Geological Engineers, Including Mining Safety Engineers\n",
      "Nuclear Engineers\n",
      "Petroleum Engineers\n",
      "Miscellaneous Engineers\n",
      "Engineers, All Other\n",
      "Drafters, Engineering Technicians, and Mapping Technicians\n",
      "Drafters\n",
      "Architectural and Civil Drafters\n",
      "Electrical and Electronics Drafters\n",
      "Mechanical Drafters\n",
      "Drafters, All Other\n",
      "Engineering Technologists and Technicians, Except Drafters\n",
      "Aerospace Engineering and Operations Technologists and Technicians\n",
      "Civil Engineering Technologists and Technicians\n",
      "Electrical and Electronic Engineering Technologists and Technicians\n",
      "Electro-Mechanical and Mechatronics Technologists and Technicians\n",
      "Environmental Engineering Technologists and Technicians\n",
      "Industrial Engineering Technologists and Technicians\n",
      "Mechanical Engineering Technologists and Technicians\n",
      "Calibration Technologists and Technicians\n",
      "Engineering Technologists and Technicians, Except Drafters, All Other\n",
      "Surveying and Mapping Technicians\n",
      "Life, Physical, and Social Science Occupations\n",
      "Life Scientists\n",
      "Agricultural and Food Scientists\n",
      "Animal Scientists\n",
      "Food Scientists and Technologists\n",
      "Soil and Plant Scientists\n",
      "Biological Scientists\n",
      "Biochemists and Biophysicists\n",
      "Microbiologists\n",
      "Zoologists and Wildlife Biologists\n",
      "Biological Scientists, All Other\n",
      "Conservation Scientists and Foresters\n",
      "Conservation Scientists\n",
      "Foresters\n",
      "Medical Scientists\n",
      "Epidemiologists\n",
      "Medical Scientists, Except Epidemiologists\n",
      "Miscellaneous Life Scientists\n",
      "Life Scientists, All Other\n",
      "Physical Scientists\n",
      "Astronomers and Physicists\n",
      "Astronomers\n",
      "Physicists\n",
      "Atmospheric and Space Scientists\n",
      "Chemists and Materials Scientists\n",
      "Chemists\n",
      "Materials Scientists\n",
      "Environmental Scientists and Geoscientists\n",
      "Environmental Scientists and Specialists, Including Health\n"
     ]
    }
   ],
   "source": [
    "print(\"There are \" + str(len(unique_jobs)) + \" unique jobs.\")\n",
    "for job in unique_jobs[:200]:  \n",
    "    print(job)\n",
    "\n",
    "#print (\"There are\" + string the following (length of (unique_jobs)) + \" unique job titles.\")\n",
    "#For job in = the loop is going through all the jobs one by one, up to 50 or 100, since we have more than 1 thousand jobs, \n",
    "#I am gonna select maybe just 100"
   ]
  },
  {
   "cell_type": "markdown",
   "id": "5cda593c-8c78-4dd5-9164-252b7f145814",
   "metadata": {},
   "source": [
    "There are more the 1,000 jobs and all with different names, I need to filter with key words and create a subset ?\n",
    "Am i gonna filter ONLY AI, Data Science and Software Developmen OR am I gonna find all the related jobst\n",
    "how can I filter the data  "
   ]
  },
  {
   "cell_type": "markdown",
   "id": "8c9344bb-6b0d-4a32-845e-c1afcabcb40a",
   "metadata": {},
   "source": [
    "I think I am only choosing some specific titles I can see displayed and work with them, I dont relly know how to filter by key words. At the end this is about knowing how to plot and diplay information. I decided to eliminate AI because my regex is very flexible, so they were job titles not related to AI appearing in the list.  "
   ]
  },
  {
   "cell_type": "code",
   "execution_count": 198,
   "id": "39cbb113-1f40-4671-8e7d-55e0ab559561",
   "metadata": {},
   "outputs": [
    {
     "data": {
      "text/html": [
       "<div>\n",
       "<style scoped>\n",
       "    .dataframe tbody tr th:only-of-type {\n",
       "        vertical-align: middle;\n",
       "    }\n",
       "\n",
       "    .dataframe tbody tr th {\n",
       "        vertical-align: top;\n",
       "    }\n",
       "\n",
       "    .dataframe thead th {\n",
       "        text-align: right;\n",
       "    }\n",
       "</style>\n",
       "<table border=\"1\" class=\"dataframe\">\n",
       "  <thead>\n",
       "    <tr style=\"text-align: right;\">\n",
       "      <th></th>\n",
       "      <th>AREA</th>\n",
       "      <th>AREA_TITLE</th>\n",
       "      <th>AREA_TYPE</th>\n",
       "      <th>PRIM_STATE</th>\n",
       "      <th>NAICS</th>\n",
       "      <th>NAICS_TITLE</th>\n",
       "      <th>I_GROUP</th>\n",
       "      <th>OWN_CODE</th>\n",
       "      <th>OCC_CODE</th>\n",
       "      <th>OCC_TITLE</th>\n",
       "      <th>...</th>\n",
       "      <th>H_MEDIAN</th>\n",
       "      <th>H_PCT75</th>\n",
       "      <th>H_PCT90</th>\n",
       "      <th>A_PCT10</th>\n",
       "      <th>A_PCT25</th>\n",
       "      <th>A_MEDIAN</th>\n",
       "      <th>A_PCT75</th>\n",
       "      <th>A_PCT90</th>\n",
       "      <th>ANNUAL</th>\n",
       "      <th>HOURLY</th>\n",
       "    </tr>\n",
       "  </thead>\n",
       "  <tbody>\n",
       "    <tr>\n",
       "      <th>147</th>\n",
       "      <td>99</td>\n",
       "      <td>U.S.</td>\n",
       "      <td>1</td>\n",
       "      <td>US</td>\n",
       "      <td>0</td>\n",
       "      <td>Cross-industry</td>\n",
       "      <td>cross-industry</td>\n",
       "      <td>1235</td>\n",
       "      <td>15-1250</td>\n",
       "      <td>Software and Web Developers, Programmers, and ...</td>\n",
       "      <td>...</td>\n",
       "      <td>61.11</td>\n",
       "      <td>78.66</td>\n",
       "      <td>97.47</td>\n",
       "      <td>66,930</td>\n",
       "      <td>92,650</td>\n",
       "      <td>127,120</td>\n",
       "      <td>163,610</td>\n",
       "      <td>202,730</td>\n",
       "      <td>NaN</td>\n",
       "      <td>NaN</td>\n",
       "    </tr>\n",
       "    <tr>\n",
       "      <th>149</th>\n",
       "      <td>99</td>\n",
       "      <td>U.S.</td>\n",
       "      <td>1</td>\n",
       "      <td>US</td>\n",
       "      <td>0</td>\n",
       "      <td>Cross-industry</td>\n",
       "      <td>cross-industry</td>\n",
       "      <td>1235</td>\n",
       "      <td>15-1252</td>\n",
       "      <td>Software Developers</td>\n",
       "      <td>...</td>\n",
       "      <td>63.59</td>\n",
       "      <td>80.55</td>\n",
       "      <td>100.30</td>\n",
       "      <td>77,020</td>\n",
       "      <td>101,200</td>\n",
       "      <td>132,270</td>\n",
       "      <td>167,540</td>\n",
       "      <td>208,620</td>\n",
       "      <td>NaN</td>\n",
       "      <td>NaN</td>\n",
       "    </tr>\n",
       "    <tr>\n",
       "      <th>151</th>\n",
       "      <td>99</td>\n",
       "      <td>U.S.</td>\n",
       "      <td>1</td>\n",
       "      <td>US</td>\n",
       "      <td>0</td>\n",
       "      <td>Cross-industry</td>\n",
       "      <td>cross-industry</td>\n",
       "      <td>1235</td>\n",
       "      <td>15-1254</td>\n",
       "      <td>Web Developers</td>\n",
       "      <td>...</td>\n",
       "      <td>40.84</td>\n",
       "      <td>55.95</td>\n",
       "      <td>75.61</td>\n",
       "      <td>46,850</td>\n",
       "      <td>61,690</td>\n",
       "      <td>84,960</td>\n",
       "      <td>116,370</td>\n",
       "      <td>157,280</td>\n",
       "      <td>NaN</td>\n",
       "      <td>NaN</td>\n",
       "    </tr>\n",
       "    <tr>\n",
       "      <th>164</th>\n",
       "      <td>99</td>\n",
       "      <td>U.S.</td>\n",
       "      <td>1</td>\n",
       "      <td>US</td>\n",
       "      <td>0</td>\n",
       "      <td>Cross-industry</td>\n",
       "      <td>cross-industry</td>\n",
       "      <td>1235</td>\n",
       "      <td>15-2050</td>\n",
       "      <td>Data Scientists</td>\n",
       "      <td>...</td>\n",
       "      <td>51.93</td>\n",
       "      <td>70.99</td>\n",
       "      <td>88.51</td>\n",
       "      <td>61,070</td>\n",
       "      <td>79,810</td>\n",
       "      <td>108,020</td>\n",
       "      <td>147,670</td>\n",
       "      <td>184,090</td>\n",
       "      <td>NaN</td>\n",
       "      <td>NaN</td>\n",
       "    </tr>\n",
       "    <tr>\n",
       "      <th>165</th>\n",
       "      <td>99</td>\n",
       "      <td>U.S.</td>\n",
       "      <td>1</td>\n",
       "      <td>US</td>\n",
       "      <td>0</td>\n",
       "      <td>Cross-industry</td>\n",
       "      <td>cross-industry</td>\n",
       "      <td>1235</td>\n",
       "      <td>15-2051</td>\n",
       "      <td>Data Scientists</td>\n",
       "      <td>...</td>\n",
       "      <td>51.93</td>\n",
       "      <td>70.99</td>\n",
       "      <td>88.51</td>\n",
       "      <td>61,070</td>\n",
       "      <td>79,810</td>\n",
       "      <td>108,020</td>\n",
       "      <td>147,670</td>\n",
       "      <td>184,090</td>\n",
       "      <td>NaN</td>\n",
       "      <td>NaN</td>\n",
       "    </tr>\n",
       "    <tr>\n",
       "      <th>1545</th>\n",
       "      <td>99</td>\n",
       "      <td>U.S.</td>\n",
       "      <td>1</td>\n",
       "      <td>US</td>\n",
       "      <td>1</td>\n",
       "      <td>Cross-industry, Private Ownership only</td>\n",
       "      <td>cross-industry, ownership</td>\n",
       "      <td>5</td>\n",
       "      <td>15-1250</td>\n",
       "      <td>Software and Web Developers, Programmers, and ...</td>\n",
       "      <td>...</td>\n",
       "      <td>61.52</td>\n",
       "      <td>78.92</td>\n",
       "      <td>97.98</td>\n",
       "      <td>67,330</td>\n",
       "      <td>94,120</td>\n",
       "      <td>127,970</td>\n",
       "      <td>164,160</td>\n",
       "      <td>203,790</td>\n",
       "      <td>NaN</td>\n",
       "      <td>NaN</td>\n",
       "    </tr>\n",
       "    <tr>\n",
       "      <th>1547</th>\n",
       "      <td>99</td>\n",
       "      <td>U.S.</td>\n",
       "      <td>1</td>\n",
       "      <td>US</td>\n",
       "      <td>1</td>\n",
       "      <td>Cross-industry, Private Ownership only</td>\n",
       "      <td>cross-industry, ownership</td>\n",
       "      <td>5</td>\n",
       "      <td>15-1252</td>\n",
       "      <td>Software Developers</td>\n",
       "      <td>...</td>\n",
       "      <td>63.78</td>\n",
       "      <td>80.77</td>\n",
       "      <td>100.53</td>\n",
       "      <td>77,330</td>\n",
       "      <td>101,620</td>\n",
       "      <td>132,650</td>\n",
       "      <td>168,000</td>\n",
       "      <td>209,100</td>\n",
       "      <td>NaN</td>\n",
       "      <td>NaN</td>\n",
       "    </tr>\n",
       "    <tr>\n",
       "      <th>1549</th>\n",
       "      <td>99</td>\n",
       "      <td>U.S.</td>\n",
       "      <td>1</td>\n",
       "      <td>US</td>\n",
       "      <td>1</td>\n",
       "      <td>Cross-industry, Private Ownership only</td>\n",
       "      <td>cross-industry, ownership</td>\n",
       "      <td>5</td>\n",
       "      <td>15-1254</td>\n",
       "      <td>Web Developers</td>\n",
       "      <td>...</td>\n",
       "      <td>41.29</td>\n",
       "      <td>56.83</td>\n",
       "      <td>76.19</td>\n",
       "      <td>46,590</td>\n",
       "      <td>61,510</td>\n",
       "      <td>85,890</td>\n",
       "      <td>118,210</td>\n",
       "      <td>158,480</td>\n",
       "      <td>NaN</td>\n",
       "      <td>NaN</td>\n",
       "    </tr>\n",
       "    <tr>\n",
       "      <th>1562</th>\n",
       "      <td>99</td>\n",
       "      <td>U.S.</td>\n",
       "      <td>1</td>\n",
       "      <td>US</td>\n",
       "      <td>1</td>\n",
       "      <td>Cross-industry, Private Ownership only</td>\n",
       "      <td>cross-industry, ownership</td>\n",
       "      <td>5</td>\n",
       "      <td>15-2050</td>\n",
       "      <td>Data Scientists</td>\n",
       "      <td>...</td>\n",
       "      <td>52.80</td>\n",
       "      <td>72.23</td>\n",
       "      <td>89.42</td>\n",
       "      <td>61,470</td>\n",
       "      <td>80,510</td>\n",
       "      <td>109,820</td>\n",
       "      <td>150,230</td>\n",
       "      <td>186,000</td>\n",
       "      <td>NaN</td>\n",
       "      <td>NaN</td>\n",
       "    </tr>\n",
       "    <tr>\n",
       "      <th>1563</th>\n",
       "      <td>99</td>\n",
       "      <td>U.S.</td>\n",
       "      <td>1</td>\n",
       "      <td>US</td>\n",
       "      <td>1</td>\n",
       "      <td>Cross-industry, Private Ownership only</td>\n",
       "      <td>cross-industry, ownership</td>\n",
       "      <td>5</td>\n",
       "      <td>15-2051</td>\n",
       "      <td>Data Scientists</td>\n",
       "      <td>...</td>\n",
       "      <td>52.80</td>\n",
       "      <td>72.23</td>\n",
       "      <td>89.42</td>\n",
       "      <td>61,470</td>\n",
       "      <td>80,510</td>\n",
       "      <td>109,820</td>\n",
       "      <td>150,230</td>\n",
       "      <td>186,000</td>\n",
       "      <td>NaN</td>\n",
       "      <td>NaN</td>\n",
       "    </tr>\n",
       "    <tr>\n",
       "      <th>2855</th>\n",
       "      <td>99</td>\n",
       "      <td>U.S.</td>\n",
       "      <td>1</td>\n",
       "      <td>US</td>\n",
       "      <td>11</td>\n",
       "      <td>Agriculture, Forestry, Fishing and Hunting</td>\n",
       "      <td>sector</td>\n",
       "      <td>5</td>\n",
       "      <td>15-1250</td>\n",
       "      <td>Software and Web Developers, Programmers, and ...</td>\n",
       "      <td>...</td>\n",
       "      <td>38.69</td>\n",
       "      <td>62.78</td>\n",
       "      <td>70.22</td>\n",
       "      <td>42,310</td>\n",
       "      <td>48,420</td>\n",
       "      <td>80,480</td>\n",
       "      <td>130,590</td>\n",
       "      <td>146,070</td>\n",
       "      <td>NaN</td>\n",
       "      <td>NaN</td>\n",
       "    </tr>\n",
       "    <tr>\n",
       "      <th>2856</th>\n",
       "      <td>99</td>\n",
       "      <td>U.S.</td>\n",
       "      <td>1</td>\n",
       "      <td>US</td>\n",
       "      <td>11</td>\n",
       "      <td>Agriculture, Forestry, Fishing and Hunting</td>\n",
       "      <td>sector</td>\n",
       "      <td>5</td>\n",
       "      <td>15-1252</td>\n",
       "      <td>Software Developers</td>\n",
       "      <td>...</td>\n",
       "      <td>60.81</td>\n",
       "      <td>67.92</td>\n",
       "      <td>77.97</td>\n",
       "      <td>67,600</td>\n",
       "      <td>102,340</td>\n",
       "      <td>126,490</td>\n",
       "      <td>141,280</td>\n",
       "      <td>162,170</td>\n",
       "      <td>NaN</td>\n",
       "      <td>NaN</td>\n",
       "    </tr>\n",
       "    <tr>\n",
       "      <th>3213</th>\n",
       "      <td>99</td>\n",
       "      <td>U.S.</td>\n",
       "      <td>1</td>\n",
       "      <td>US</td>\n",
       "      <td>21</td>\n",
       "      <td>Mining, Quarrying, and Oil and Gas Extraction</td>\n",
       "      <td>sector</td>\n",
       "      <td>5</td>\n",
       "      <td>15-1250</td>\n",
       "      <td>Software and Web Developers, Programmers, and ...</td>\n",
       "      <td>...</td>\n",
       "      <td>61.61</td>\n",
       "      <td>69.10</td>\n",
       "      <td>77.49</td>\n",
       "      <td>79,120</td>\n",
       "      <td>103,480</td>\n",
       "      <td>128,160</td>\n",
       "      <td>143,730</td>\n",
       "      <td>161,170</td>\n",
       "      <td>NaN</td>\n",
       "      <td>NaN</td>\n",
       "    </tr>\n",
       "    <tr>\n",
       "      <th>3215</th>\n",
       "      <td>99</td>\n",
       "      <td>U.S.</td>\n",
       "      <td>1</td>\n",
       "      <td>US</td>\n",
       "      <td>21</td>\n",
       "      <td>Mining, Quarrying, and Oil and Gas Extraction</td>\n",
       "      <td>sector</td>\n",
       "      <td>5</td>\n",
       "      <td>15-1252</td>\n",
       "      <td>Software Developers</td>\n",
       "      <td>...</td>\n",
       "      <td>62.40</td>\n",
       "      <td>69.10</td>\n",
       "      <td>77.05</td>\n",
       "      <td>84,950</td>\n",
       "      <td>106,420</td>\n",
       "      <td>129,780</td>\n",
       "      <td>143,730</td>\n",
       "      <td>160,270</td>\n",
       "      <td>NaN</td>\n",
       "      <td>NaN</td>\n",
       "    </tr>\n",
       "    <tr>\n",
       "      <th>3222</th>\n",
       "      <td>99</td>\n",
       "      <td>U.S.</td>\n",
       "      <td>1</td>\n",
       "      <td>US</td>\n",
       "      <td>21</td>\n",
       "      <td>Mining, Quarrying, and Oil and Gas Extraction</td>\n",
       "      <td>sector</td>\n",
       "      <td>5</td>\n",
       "      <td>15-2050</td>\n",
       "      <td>Data Scientists</td>\n",
       "      <td>...</td>\n",
       "      <td>50.52</td>\n",
       "      <td>71.03</td>\n",
       "      <td>78.73</td>\n",
       "      <td>49,940</td>\n",
       "      <td>67,320</td>\n",
       "      <td>105,090</td>\n",
       "      <td>147,740</td>\n",
       "      <td>163,760</td>\n",
       "      <td>NaN</td>\n",
       "      <td>NaN</td>\n",
       "    </tr>\n",
       "    <tr>\n",
       "      <th>3223</th>\n",
       "      <td>99</td>\n",
       "      <td>U.S.</td>\n",
       "      <td>1</td>\n",
       "      <td>US</td>\n",
       "      <td>21</td>\n",
       "      <td>Mining, Quarrying, and Oil and Gas Extraction</td>\n",
       "      <td>sector</td>\n",
       "      <td>5</td>\n",
       "      <td>15-2051</td>\n",
       "      <td>Data Scientists</td>\n",
       "      <td>...</td>\n",
       "      <td>50.52</td>\n",
       "      <td>71.03</td>\n",
       "      <td>78.73</td>\n",
       "      <td>49,940</td>\n",
       "      <td>67,320</td>\n",
       "      <td>105,090</td>\n",
       "      <td>147,740</td>\n",
       "      <td>163,760</td>\n",
       "      <td>NaN</td>\n",
       "      <td>NaN</td>\n",
       "    </tr>\n",
       "    <tr>\n",
       "      <th>3739</th>\n",
       "      <td>99</td>\n",
       "      <td>U.S.</td>\n",
       "      <td>1</td>\n",
       "      <td>US</td>\n",
       "      <td>22</td>\n",
       "      <td>Utilities</td>\n",
       "      <td>sector</td>\n",
       "      <td>5</td>\n",
       "      <td>15-1250</td>\n",
       "      <td>Software and Web Developers, Programmers, and ...</td>\n",
       "      <td>...</td>\n",
       "      <td>59.79</td>\n",
       "      <td>70.23</td>\n",
       "      <td>81.82</td>\n",
       "      <td>77,690</td>\n",
       "      <td>99,980</td>\n",
       "      <td>124,360</td>\n",
       "      <td>146,080</td>\n",
       "      <td>170,180</td>\n",
       "      <td>NaN</td>\n",
       "      <td>NaN</td>\n",
       "    </tr>\n",
       "    <tr>\n",
       "      <th>3741</th>\n",
       "      <td>99</td>\n",
       "      <td>U.S.</td>\n",
       "      <td>1</td>\n",
       "      <td>US</td>\n",
       "      <td>22</td>\n",
       "      <td>Utilities</td>\n",
       "      <td>sector</td>\n",
       "      <td>5</td>\n",
       "      <td>15-1252</td>\n",
       "      <td>Software Developers</td>\n",
       "      <td>...</td>\n",
       "      <td>60.81</td>\n",
       "      <td>70.23</td>\n",
       "      <td>81.30</td>\n",
       "      <td>77,800</td>\n",
       "      <td>102,680</td>\n",
       "      <td>126,480</td>\n",
       "      <td>146,080</td>\n",
       "      <td>169,110</td>\n",
       "      <td>NaN</td>\n",
       "      <td>NaN</td>\n",
       "    </tr>\n",
       "    <tr>\n",
       "      <th>3743</th>\n",
       "      <td>99</td>\n",
       "      <td>U.S.</td>\n",
       "      <td>1</td>\n",
       "      <td>US</td>\n",
       "      <td>22</td>\n",
       "      <td>Utilities</td>\n",
       "      <td>sector</td>\n",
       "      <td>5</td>\n",
       "      <td>15-1254</td>\n",
       "      <td>Web Developers</td>\n",
       "      <td>...</td>\n",
       "      <td>41.80</td>\n",
       "      <td>50.36</td>\n",
       "      <td>65.14</td>\n",
       "      <td>76,470</td>\n",
       "      <td>81,640</td>\n",
       "      <td>86,950</td>\n",
       "      <td>104,740</td>\n",
       "      <td>135,490</td>\n",
       "      <td>NaN</td>\n",
       "      <td>NaN</td>\n",
       "    </tr>\n",
       "    <tr>\n",
       "      <th>3750</th>\n",
       "      <td>99</td>\n",
       "      <td>U.S.</td>\n",
       "      <td>1</td>\n",
       "      <td>US</td>\n",
       "      <td>22</td>\n",
       "      <td>Utilities</td>\n",
       "      <td>sector</td>\n",
       "      <td>5</td>\n",
       "      <td>15-2050</td>\n",
       "      <td>Data Scientists</td>\n",
       "      <td>...</td>\n",
       "      <td>48.53</td>\n",
       "      <td>64.00</td>\n",
       "      <td>77.51</td>\n",
       "      <td>64,900</td>\n",
       "      <td>80,000</td>\n",
       "      <td>100,940</td>\n",
       "      <td>133,110</td>\n",
       "      <td>161,210</td>\n",
       "      <td>NaN</td>\n",
       "      <td>NaN</td>\n",
       "    </tr>\n",
       "  </tbody>\n",
       "</table>\n",
       "<p>20 rows × 32 columns</p>\n",
       "</div>"
      ],
      "text/plain": [
       "     AREA AREA_TITLE  AREA_TYPE PRIM_STATE NAICS  \\\n",
       "147    99       U.S.          1         US     0   \n",
       "149    99       U.S.          1         US     0   \n",
       "151    99       U.S.          1         US     0   \n",
       "164    99       U.S.          1         US     0   \n",
       "165    99       U.S.          1         US     0   \n",
       "1545   99       U.S.          1         US     1   \n",
       "1547   99       U.S.          1         US     1   \n",
       "1549   99       U.S.          1         US     1   \n",
       "1562   99       U.S.          1         US     1   \n",
       "1563   99       U.S.          1         US     1   \n",
       "2855   99       U.S.          1         US    11   \n",
       "2856   99       U.S.          1         US    11   \n",
       "3213   99       U.S.          1         US    21   \n",
       "3215   99       U.S.          1         US    21   \n",
       "3222   99       U.S.          1         US    21   \n",
       "3223   99       U.S.          1         US    21   \n",
       "3739   99       U.S.          1         US    22   \n",
       "3741   99       U.S.          1         US    22   \n",
       "3743   99       U.S.          1         US    22   \n",
       "3750   99       U.S.          1         US    22   \n",
       "\n",
       "                                        NAICS_TITLE  \\\n",
       "147                                  Cross-industry   \n",
       "149                                  Cross-industry   \n",
       "151                                  Cross-industry   \n",
       "164                                  Cross-industry   \n",
       "165                                  Cross-industry   \n",
       "1545         Cross-industry, Private Ownership only   \n",
       "1547         Cross-industry, Private Ownership only   \n",
       "1549         Cross-industry, Private Ownership only   \n",
       "1562         Cross-industry, Private Ownership only   \n",
       "1563         Cross-industry, Private Ownership only   \n",
       "2855     Agriculture, Forestry, Fishing and Hunting   \n",
       "2856     Agriculture, Forestry, Fishing and Hunting   \n",
       "3213  Mining, Quarrying, and Oil and Gas Extraction   \n",
       "3215  Mining, Quarrying, and Oil and Gas Extraction   \n",
       "3222  Mining, Quarrying, and Oil and Gas Extraction   \n",
       "3223  Mining, Quarrying, and Oil and Gas Extraction   \n",
       "3739                                      Utilities   \n",
       "3741                                      Utilities   \n",
       "3743                                      Utilities   \n",
       "3750                                      Utilities   \n",
       "\n",
       "                        I_GROUP  OWN_CODE OCC_CODE  \\\n",
       "147              cross-industry      1235  15-1250   \n",
       "149              cross-industry      1235  15-1252   \n",
       "151              cross-industry      1235  15-1254   \n",
       "164              cross-industry      1235  15-2050   \n",
       "165              cross-industry      1235  15-2051   \n",
       "1545  cross-industry, ownership         5  15-1250   \n",
       "1547  cross-industry, ownership         5  15-1252   \n",
       "1549  cross-industry, ownership         5  15-1254   \n",
       "1562  cross-industry, ownership         5  15-2050   \n",
       "1563  cross-industry, ownership         5  15-2051   \n",
       "2855                     sector         5  15-1250   \n",
       "2856                     sector         5  15-1252   \n",
       "3213                     sector         5  15-1250   \n",
       "3215                     sector         5  15-1252   \n",
       "3222                     sector         5  15-2050   \n",
       "3223                     sector         5  15-2051   \n",
       "3739                     sector         5  15-1250   \n",
       "3741                     sector         5  15-1252   \n",
       "3743                     sector         5  15-1254   \n",
       "3750                     sector         5  15-2050   \n",
       "\n",
       "                                              OCC_TITLE  ... H_MEDIAN H_PCT75  \\\n",
       "147   Software and Web Developers, Programmers, and ...  ...    61.11   78.66   \n",
       "149                                 Software Developers  ...    63.59   80.55   \n",
       "151                                      Web Developers  ...    40.84   55.95   \n",
       "164                                     Data Scientists  ...    51.93   70.99   \n",
       "165                                     Data Scientists  ...    51.93   70.99   \n",
       "1545  Software and Web Developers, Programmers, and ...  ...    61.52   78.92   \n",
       "1547                                Software Developers  ...    63.78   80.77   \n",
       "1549                                     Web Developers  ...    41.29   56.83   \n",
       "1562                                    Data Scientists  ...    52.80   72.23   \n",
       "1563                                    Data Scientists  ...    52.80   72.23   \n",
       "2855  Software and Web Developers, Programmers, and ...  ...    38.69   62.78   \n",
       "2856                                Software Developers  ...    60.81   67.92   \n",
       "3213  Software and Web Developers, Programmers, and ...  ...    61.61   69.10   \n",
       "3215                                Software Developers  ...    62.40   69.10   \n",
       "3222                                    Data Scientists  ...    50.52   71.03   \n",
       "3223                                    Data Scientists  ...    50.52   71.03   \n",
       "3739  Software and Web Developers, Programmers, and ...  ...    59.79   70.23   \n",
       "3741                                Software Developers  ...    60.81   70.23   \n",
       "3743                                     Web Developers  ...    41.80   50.36   \n",
       "3750                                    Data Scientists  ...    48.53   64.00   \n",
       "\n",
       "     H_PCT90 A_PCT10  A_PCT25 A_MEDIAN  A_PCT75  A_PCT90 ANNUAL HOURLY  \n",
       "147    97.47  66,930   92,650  127,120  163,610  202,730    NaN    NaN  \n",
       "149   100.30  77,020  101,200  132,270  167,540  208,620    NaN    NaN  \n",
       "151    75.61  46,850   61,690   84,960  116,370  157,280    NaN    NaN  \n",
       "164    88.51  61,070   79,810  108,020  147,670  184,090    NaN    NaN  \n",
       "165    88.51  61,070   79,810  108,020  147,670  184,090    NaN    NaN  \n",
       "1545   97.98  67,330   94,120  127,970  164,160  203,790    NaN    NaN  \n",
       "1547  100.53  77,330  101,620  132,650  168,000  209,100    NaN    NaN  \n",
       "1549   76.19  46,590   61,510   85,890  118,210  158,480    NaN    NaN  \n",
       "1562   89.42  61,470   80,510  109,820  150,230  186,000    NaN    NaN  \n",
       "1563   89.42  61,470   80,510  109,820  150,230  186,000    NaN    NaN  \n",
       "2855   70.22  42,310   48,420   80,480  130,590  146,070    NaN    NaN  \n",
       "2856   77.97  67,600  102,340  126,490  141,280  162,170    NaN    NaN  \n",
       "3213   77.49  79,120  103,480  128,160  143,730  161,170    NaN    NaN  \n",
       "3215   77.05  84,950  106,420  129,780  143,730  160,270    NaN    NaN  \n",
       "3222   78.73  49,940   67,320  105,090  147,740  163,760    NaN    NaN  \n",
       "3223   78.73  49,940   67,320  105,090  147,740  163,760    NaN    NaN  \n",
       "3739   81.82  77,690   99,980  124,360  146,080  170,180    NaN    NaN  \n",
       "3741   81.30  77,800  102,680  126,480  146,080  169,110    NaN    NaN  \n",
       "3743   65.14  76,470   81,640   86,950  104,740  135,490    NaN    NaN  \n",
       "3750   77.51  64,900   80,000  100,940  133,110  161,210    NaN    NaN  \n",
       "\n",
       "[20 rows x 32 columns]"
      ]
     },
     "execution_count": 198,
     "metadata": {},
     "output_type": "execute_result"
    }
   ],
   "source": [
    "#I choose this 3 jobs to plot, they do not describe the data set as expected but now finally we can start to work with plots \n",
    "keywords = [\n",
    "    'Data Scientists',\n",
    "    'Software Developers', 'Web Developers'\n",
    "]\n",
    "pattern = r'\\b(?:' + '|'.join(keywords) + r')\\b'\n",
    "#ref for regex: https://www.bing.com/search?q=r%27%5Cb(%3F%3A%27+%2B+%27%7C%27.join(keywords)+%2B+r%27)%5Cb%27&pc=GD03&form=GDAVG1&ptag=9192\n",
    "#I tried this pattern a little more closed and strict but it didn't work so I thats why \"AI\" is not an option here, I replace it fot \"Web developers\"\n",
    "#and my regex now is more flexible, it'll match word boundaries in both ends and joind them without group anything, it'll try to match \n",
    "# 'Data Scientists' OR 'Software Developers' OR 'Web Developers'\n",
    "\n",
    "filtered_df = df[df['OCC_TITLE'].str.contains(pattern, case=False, na=False, regex=True)]\n",
    "#filterd_df is my new varieble. \n",
    "#We are gonna look in \"df\" which is my data set, \n",
    "#in the colums OCC TITLE\n",
    "#From the OCC TITLE, take the .string that .contains\n",
    "#(the pattern I created, make it NO case sensitive, if any Not Available then make it False, and use the regex I specified)\n",
    "\n",
    "filtered_df.head(20)\n",
    "#pint the first (20 rows)"
   ]
  },
  {
   "cell_type": "markdown",
   "id": "ac9245f1-827b-4b4e-a671-0a62919823d9",
   "metadata": {},
   "source": [
    "Here we are plotting how much is the average of the jobs we filtered before, what you can see is 4 colors of different jobs\n",
    "and its respective annual and hourly average. \n",
    "NOTE: WE SUPPOSE TO HAVE ONLY 3 JOBS BUT IN THE FILTER THERE IS ONE MORE BECAUSE IT STILL MATCHES THE REGEX\n",
    "NOTE: I DONT KNOW WHAT THAT LINE MEANS, I AM LITERALLY COPING THE CODE FROM OUR LAST CLASS AND THAT LINE WASN'T THERE, BUT I DISCOVERED\n",
    "THAT IF YOU CLICK ON THE OCC_TITTLE IN THE JOBS ON THE RIGTH HAD SIDE, IT ONLY VISUALIZE THE JOBS YOU CLICK ON"
   ]
  },
  {
   "cell_type": "code",
   "execution_count": 206,
   "id": "f059862e-ca53-4715-9b0c-31d66a4a9ace",
   "metadata": {
    "scrolled": true
   },
   "outputs": [
    {
     "data": {
      "application/vnd.plotly.v1+json": {
       "config": {
        "plotlyServerURL": "https://plot.ly"
       },
       "data": [
        {
         "customdata": [
          [
           "Software and Web Developers, Programmers, and Testers"
          ],
          [
           "Software and Web Developers, Programmers, and Testers"
          ],
          [
           "Software and Web Developers, Programmers, and Testers"
          ],
          [
           "Software and Web Developers, Programmers, and Testers"
          ],
          [
           "Software and Web Developers, Programmers, and Testers"
          ],
          [
           "Software and Web Developers, Programmers, and Testers"
          ],
          [
           "Software and Web Developers, Programmers, and Testers"
          ],
          [
           "Software and Web Developers, Programmers, and Testers"
          ],
          [
           "Software and Web Developers, Programmers, and Testers"
          ],
          [
           "Software and Web Developers, Programmers, and Testers"
          ],
          [
           "Software and Web Developers, Programmers, and Testers"
          ],
          [
           "Software and Web Developers, Programmers, and Testers"
          ],
          [
           "Software and Web Developers, Programmers, and Testers"
          ],
          [
           "Software and Web Developers, Programmers, and Testers"
          ],
          [
           "Software and Web Developers, Programmers, and Testers"
          ],
          [
           "Software and Web Developers, Programmers, and Testers"
          ],
          [
           "Software and Web Developers, Programmers, and Testers"
          ],
          [
           "Software and Web Developers, Programmers, and Testers"
          ],
          [
           "Software and Web Developers, Programmers, and Testers"
          ],
          [
           "Software and Web Developers, Programmers, and Testers"
          ],
          [
           "Software and Web Developers, Programmers, and Testers"
          ],
          [
           "Software and Web Developers, Programmers, and Testers"
          ],
          [
           "Software and Web Developers, Programmers, and Testers"
          ],
          [
           "Software and Web Developers, Programmers, and Testers"
          ],
          [
           "Software and Web Developers, Programmers, and Testers"
          ],
          [
           "Software and Web Developers, Programmers, and Testers"
          ],
          [
           "Software and Web Developers, Programmers, and Testers"
          ],
          [
           "Software and Web Developers, Programmers, and Testers"
          ],
          [
           "Software and Web Developers, Programmers, and Testers"
          ],
          [
           "Software and Web Developers, Programmers, and Testers"
          ],
          [
           "Software and Web Developers, Programmers, and Testers"
          ],
          [
           "Software and Web Developers, Programmers, and Testers"
          ],
          [
           "Software and Web Developers, Programmers, and Testers"
          ],
          [
           "Software and Web Developers, Programmers, and Testers"
          ],
          [
           "Software and Web Developers, Programmers, and Testers"
          ],
          [
           "Software and Web Developers, Programmers, and Testers"
          ],
          [
           "Software and Web Developers, Programmers, and Testers"
          ],
          [
           "Software and Web Developers, Programmers, and Testers"
          ],
          [
           "Software and Web Developers, Programmers, and Testers"
          ],
          [
           "Software and Web Developers, Programmers, and Testers"
          ],
          [
           "Software and Web Developers, Programmers, and Testers"
          ],
          [
           "Software and Web Developers, Programmers, and Testers"
          ],
          [
           "Software and Web Developers, Programmers, and Testers"
          ],
          [
           "Software and Web Developers, Programmers, and Testers"
          ],
          [
           "Software and Web Developers, Programmers, and Testers"
          ],
          [
           "Software and Web Developers, Programmers, and Testers"
          ],
          [
           "Software and Web Developers, Programmers, and Testers"
          ],
          [
           "Software and Web Developers, Programmers, and Testers"
          ],
          [
           "Software and Web Developers, Programmers, and Testers"
          ],
          [
           "Software and Web Developers, Programmers, and Testers"
          ],
          [
           "Software and Web Developers, Programmers, and Testers"
          ],
          [
           "Software and Web Developers, Programmers, and Testers"
          ],
          [
           "Software and Web Developers, Programmers, and Testers"
          ],
          [
           "Software and Web Developers, Programmers, and Testers"
          ],
          [
           "Software and Web Developers, Programmers, and Testers"
          ],
          [
           "Software and Web Developers, Programmers, and Testers"
          ],
          [
           "Software and Web Developers, Programmers, and Testers"
          ],
          [
           "Software and Web Developers, Programmers, and Testers"
          ],
          [
           "Software and Web Developers, Programmers, and Testers"
          ],
          [
           "Software and Web Developers, Programmers, and Testers"
          ],
          [
           "Software and Web Developers, Programmers, and Testers"
          ],
          [
           "Software and Web Developers, Programmers, and Testers"
          ],
          [
           "Software and Web Developers, Programmers, and Testers"
          ],
          [
           "Software and Web Developers, Programmers, and Testers"
          ],
          [
           "Software and Web Developers, Programmers, and Testers"
          ],
          [
           "Software and Web Developers, Programmers, and Testers"
          ],
          [
           "Software and Web Developers, Programmers, and Testers"
          ],
          [
           "Software and Web Developers, Programmers, and Testers"
          ],
          [
           "Software and Web Developers, Programmers, and Testers"
          ],
          [
           "Software and Web Developers, Programmers, and Testers"
          ],
          [
           "Software and Web Developers, Programmers, and Testers"
          ],
          [
           "Software and Web Developers, Programmers, and Testers"
          ],
          [
           "Software and Web Developers, Programmers, and Testers"
          ],
          [
           "Software and Web Developers, Programmers, and Testers"
          ],
          [
           "Software and Web Developers, Programmers, and Testers"
          ],
          [
           "Software and Web Developers, Programmers, and Testers"
          ],
          [
           "Software and Web Developers, Programmers, and Testers"
          ],
          [
           "Software and Web Developers, Programmers, and Testers"
          ],
          [
           "Software and Web Developers, Programmers, and Testers"
          ],
          [
           "Software and Web Developers, Programmers, and Testers"
          ],
          [
           "Software and Web Developers, Programmers, and Testers"
          ],
          [
           "Software and Web Developers, Programmers, and Testers"
          ],
          [
           "Software and Web Developers, Programmers, and Testers"
          ],
          [
           "Software and Web Developers, Programmers, and Testers"
          ],
          [
           "Software and Web Developers, Programmers, and Testers"
          ],
          [
           "Software and Web Developers, Programmers, and Testers"
          ],
          [
           "Software and Web Developers, Programmers, and Testers"
          ],
          [
           "Software and Web Developers, Programmers, and Testers"
          ],
          [
           "Software and Web Developers, Programmers, and Testers"
          ],
          [
           "Software and Web Developers, Programmers, and Testers"
          ],
          [
           "Software and Web Developers, Programmers, and Testers"
          ],
          [
           "Software and Web Developers, Programmers, and Testers"
          ],
          [
           "Software and Web Developers, Programmers, and Testers"
          ],
          [
           "Software and Web Developers, Programmers, and Testers"
          ],
          [
           "Software and Web Developers, Programmers, and Testers"
          ],
          [
           "Software and Web Developers, Programmers, and Testers"
          ],
          [
           "Software and Web Developers, Programmers, and Testers"
          ],
          [
           "Software and Web Developers, Programmers, and Testers"
          ],
          [
           "Software and Web Developers, Programmers, and Testers"
          ],
          [
           "Software and Web Developers, Programmers, and Testers"
          ],
          [
           "Software and Web Developers, Programmers, and Testers"
          ],
          [
           "Software and Web Developers, Programmers, and Testers"
          ],
          [
           "Software and Web Developers, Programmers, and Testers"
          ],
          [
           "Software and Web Developers, Programmers, and Testers"
          ],
          [
           "Software and Web Developers, Programmers, and Testers"
          ],
          [
           "Software and Web Developers, Programmers, and Testers"
          ],
          [
           "Software and Web Developers, Programmers, and Testers"
          ],
          [
           "Software and Web Developers, Programmers, and Testers"
          ],
          [
           "Software and Web Developers, Programmers, and Testers"
          ],
          [
           "Software and Web Developers, Programmers, and Testers"
          ],
          [
           "Software and Web Developers, Programmers, and Testers"
          ],
          [
           "Software and Web Developers, Programmers, and Testers"
          ],
          [
           "Software and Web Developers, Programmers, and Testers"
          ],
          [
           "Software and Web Developers, Programmers, and Testers"
          ],
          [
           "Software and Web Developers, Programmers, and Testers"
          ],
          [
           "Software and Web Developers, Programmers, and Testers"
          ],
          [
           "Software and Web Developers, Programmers, and Testers"
          ],
          [
           "Software and Web Developers, Programmers, and Testers"
          ],
          [
           "Software and Web Developers, Programmers, and Testers"
          ],
          [
           "Software and Web Developers, Programmers, and Testers"
          ],
          [
           "Software and Web Developers, Programmers, and Testers"
          ],
          [
           "Software and Web Developers, Programmers, and Testers"
          ],
          [
           "Software and Web Developers, Programmers, and Testers"
          ],
          [
           "Software and Web Developers, Programmers, and Testers"
          ],
          [
           "Software and Web Developers, Programmers, and Testers"
          ],
          [
           "Software and Web Developers, Programmers, and Testers"
          ],
          [
           "Software and Web Developers, Programmers, and Testers"
          ],
          [
           "Software and Web Developers, Programmers, and Testers"
          ],
          [
           "Software and Web Developers, Programmers, and Testers"
          ],
          [
           "Software and Web Developers, Programmers, and Testers"
          ],
          [
           "Software and Web Developers, Programmers, and Testers"
          ],
          [
           "Software and Web Developers, Programmers, and Testers"
          ],
          [
           "Software and Web Developers, Programmers, and Testers"
          ],
          [
           "Software and Web Developers, Programmers, and Testers"
          ],
          [
           "Software and Web Developers, Programmers, and Testers"
          ],
          [
           "Software and Web Developers, Programmers, and Testers"
          ],
          [
           "Software and Web Developers, Programmers, and Testers"
          ],
          [
           "Software and Web Developers, Programmers, and Testers"
          ],
          [
           "Software and Web Developers, Programmers, and Testers"
          ],
          [
           "Software and Web Developers, Programmers, and Testers"
          ],
          [
           "Software and Web Developers, Programmers, and Testers"
          ],
          [
           "Software and Web Developers, Programmers, and Testers"
          ],
          [
           "Software and Web Developers, Programmers, and Testers"
          ],
          [
           "Software and Web Developers, Programmers, and Testers"
          ],
          [
           "Software and Web Developers, Programmers, and Testers"
          ],
          [
           "Software and Web Developers, Programmers, and Testers"
          ],
          [
           "Software and Web Developers, Programmers, and Testers"
          ],
          [
           "Software and Web Developers, Programmers, and Testers"
          ],
          [
           "Software and Web Developers, Programmers, and Testers"
          ],
          [
           "Software and Web Developers, Programmers, and Testers"
          ],
          [
           "Software and Web Developers, Programmers, and Testers"
          ],
          [
           "Software and Web Developers, Programmers, and Testers"
          ],
          [
           "Software and Web Developers, Programmers, and Testers"
          ],
          [
           "Software and Web Developers, Programmers, and Testers"
          ],
          [
           "Software and Web Developers, Programmers, and Testers"
          ],
          [
           "Software and Web Developers, Programmers, and Testers"
          ],
          [
           "Software and Web Developers, Programmers, and Testers"
          ],
          [
           "Software and Web Developers, Programmers, and Testers"
          ],
          [
           "Software and Web Developers, Programmers, and Testers"
          ],
          [
           "Software and Web Developers, Programmers, and Testers"
          ],
          [
           "Software and Web Developers, Programmers, and Testers"
          ],
          [
           "Software and Web Developers, Programmers, and Testers"
          ],
          [
           "Software and Web Developers, Programmers, and Testers"
          ],
          [
           "Software and Web Developers, Programmers, and Testers"
          ],
          [
           "Software and Web Developers, Programmers, and Testers"
          ],
          [
           "Software and Web Developers, Programmers, and Testers"
          ],
          [
           "Software and Web Developers, Programmers, and Testers"
          ],
          [
           "Software and Web Developers, Programmers, and Testers"
          ],
          [
           "Software and Web Developers, Programmers, and Testers"
          ],
          [
           "Software and Web Developers, Programmers, and Testers"
          ],
          [
           "Software and Web Developers, Programmers, and Testers"
          ],
          [
           "Software and Web Developers, Programmers, and Testers"
          ],
          [
           "Software and Web Developers, Programmers, and Testers"
          ],
          [
           "Software and Web Developers, Programmers, and Testers"
          ],
          [
           "Software and Web Developers, Programmers, and Testers"
          ],
          [
           "Software and Web Developers, Programmers, and Testers"
          ],
          [
           "Software and Web Developers, Programmers, and Testers"
          ],
          [
           "Software and Web Developers, Programmers, and Testers"
          ],
          [
           "Software and Web Developers, Programmers, and Testers"
          ],
          [
           "Software and Web Developers, Programmers, and Testers"
          ],
          [
           "Software and Web Developers, Programmers, and Testers"
          ],
          [
           "Software and Web Developers, Programmers, and Testers"
          ],
          [
           "Software and Web Developers, Programmers, and Testers"
          ],
          [
           "Software and Web Developers, Programmers, and Testers"
          ],
          [
           "Software and Web Developers, Programmers, and Testers"
          ],
          [
           "Software and Web Developers, Programmers, and Testers"
          ],
          [
           "Software and Web Developers, Programmers, and Testers"
          ],
          [
           "Software and Web Developers, Programmers, and Testers"
          ],
          [
           "Software and Web Developers, Programmers, and Testers"
          ],
          [
           "Software and Web Developers, Programmers, and Testers"
          ],
          [
           "Software and Web Developers, Programmers, and Testers"
          ],
          [
           "Software and Web Developers, Programmers, and Testers"
          ],
          [
           "Software and Web Developers, Programmers, and Testers"
          ],
          [
           "Software and Web Developers, Programmers, and Testers"
          ],
          [
           "Software and Web Developers, Programmers, and Testers"
          ],
          [
           "Software and Web Developers, Programmers, and Testers"
          ],
          [
           "Software and Web Developers, Programmers, and Testers"
          ],
          [
           "Software and Web Developers, Programmers, and Testers"
          ],
          [
           "Software and Web Developers, Programmers, and Testers"
          ],
          [
           "Software and Web Developers, Programmers, and Testers"
          ],
          [
           "Software and Web Developers, Programmers, and Testers"
          ],
          [
           "Software and Web Developers, Programmers, and Testers"
          ],
          [
           "Software and Web Developers, Programmers, and Testers"
          ],
          [
           "Software and Web Developers, Programmers, and Testers"
          ],
          [
           "Software and Web Developers, Programmers, and Testers"
          ],
          [
           "Software and Web Developers, Programmers, and Testers"
          ],
          [
           "Software and Web Developers, Programmers, and Testers"
          ],
          [
           "Software and Web Developers, Programmers, and Testers"
          ],
          [
           "Software and Web Developers, Programmers, and Testers"
          ],
          [
           "Software and Web Developers, Programmers, and Testers"
          ],
          [
           "Software and Web Developers, Programmers, and Testers"
          ],
          [
           "Software and Web Developers, Programmers, and Testers"
          ],
          [
           "Software and Web Developers, Programmers, and Testers"
          ],
          [
           "Software and Web Developers, Programmers, and Testers"
          ],
          [
           "Software and Web Developers, Programmers, and Testers"
          ],
          [
           "Software and Web Developers, Programmers, and Testers"
          ],
          [
           "Software and Web Developers, Programmers, and Testers"
          ],
          [
           "Software and Web Developers, Programmers, and Testers"
          ],
          [
           "Software and Web Developers, Programmers, and Testers"
          ],
          [
           "Software and Web Developers, Programmers, and Testers"
          ],
          [
           "Software and Web Developers, Programmers, and Testers"
          ],
          [
           "Software and Web Developers, Programmers, and Testers"
          ],
          [
           "Software and Web Developers, Programmers, and Testers"
          ],
          [
           "Software and Web Developers, Programmers, and Testers"
          ],
          [
           "Software and Web Developers, Programmers, and Testers"
          ],
          [
           "Software and Web Developers, Programmers, and Testers"
          ],
          [
           "Software and Web Developers, Programmers, and Testers"
          ],
          [
           "Software and Web Developers, Programmers, and Testers"
          ],
          [
           "Software and Web Developers, Programmers, and Testers"
          ],
          [
           "Software and Web Developers, Programmers, and Testers"
          ],
          [
           "Software and Web Developers, Programmers, and Testers"
          ],
          [
           "Software and Web Developers, Programmers, and Testers"
          ],
          [
           "Software and Web Developers, Programmers, and Testers"
          ],
          [
           "Software and Web Developers, Programmers, and Testers"
          ],
          [
           "Software and Web Developers, Programmers, and Testers"
          ],
          [
           "Software and Web Developers, Programmers, and Testers"
          ],
          [
           "Software and Web Developers, Programmers, and Testers"
          ],
          [
           "Software and Web Developers, Programmers, and Testers"
          ],
          [
           "Software and Web Developers, Programmers, and Testers"
          ],
          [
           "Software and Web Developers, Programmers, and Testers"
          ],
          [
           "Software and Web Developers, Programmers, and Testers"
          ],
          [
           "Software and Web Developers, Programmers, and Testers"
          ],
          [
           "Software and Web Developers, Programmers, and Testers"
          ],
          [
           "Software and Web Developers, Programmers, and Testers"
          ],
          [
           "Software and Web Developers, Programmers, and Testers"
          ],
          [
           "Software and Web Developers, Programmers, and Testers"
          ],
          [
           "Software and Web Developers, Programmers, and Testers"
          ],
          [
           "Software and Web Developers, Programmers, and Testers"
          ],
          [
           "Software and Web Developers, Programmers, and Testers"
          ],
          [
           "Software and Web Developers, Programmers, and Testers"
          ],
          [
           "Software and Web Developers, Programmers, and Testers"
          ],
          [
           "Software and Web Developers, Programmers, and Testers"
          ],
          [
           "Software and Web Developers, Programmers, and Testers"
          ],
          [
           "Software and Web Developers, Programmers, and Testers"
          ],
          [
           "Software and Web Developers, Programmers, and Testers"
          ],
          [
           "Software and Web Developers, Programmers, and Testers"
          ],
          [
           "Software and Web Developers, Programmers, and Testers"
          ],
          [
           "Software and Web Developers, Programmers, and Testers"
          ],
          [
           "Software and Web Developers, Programmers, and Testers"
          ],
          [
           "Software and Web Developers, Programmers, and Testers"
          ],
          [
           "Software and Web Developers, Programmers, and Testers"
          ],
          [
           "Software and Web Developers, Programmers, and Testers"
          ],
          [
           "Software and Web Developers, Programmers, and Testers"
          ],
          [
           "Software and Web Developers, Programmers, and Testers"
          ],
          [
           "Software and Web Developers, Programmers, and Testers"
          ],
          [
           "Software and Web Developers, Programmers, and Testers"
          ],
          [
           "Software and Web Developers, Programmers, and Testers"
          ],
          [
           "Software and Web Developers, Programmers, and Testers"
          ],
          [
           "Software and Web Developers, Programmers, and Testers"
          ],
          [
           "Software and Web Developers, Programmers, and Testers"
          ],
          [
           "Software and Web Developers, Programmers, and Testers"
          ],
          [
           "Software and Web Developers, Programmers, and Testers"
          ],
          [
           "Software and Web Developers, Programmers, and Testers"
          ],
          [
           "Software and Web Developers, Programmers, and Testers"
          ],
          [
           "Software and Web Developers, Programmers, and Testers"
          ],
          [
           "Software and Web Developers, Programmers, and Testers"
          ],
          [
           "Software and Web Developers, Programmers, and Testers"
          ],
          [
           "Software and Web Developers, Programmers, and Testers"
          ],
          [
           "Software and Web Developers, Programmers, and Testers"
          ],
          [
           "Software and Web Developers, Programmers, and Testers"
          ],
          [
           "Software and Web Developers, Programmers, and Testers"
          ],
          [
           "Software and Web Developers, Programmers, and Testers"
          ],
          [
           "Software and Web Developers, Programmers, and Testers"
          ],
          [
           "Software and Web Developers, Programmers, and Testers"
          ],
          [
           "Software and Web Developers, Programmers, and Testers"
          ],
          [
           "Software and Web Developers, Programmers, and Testers"
          ],
          [
           "Software and Web Developers, Programmers, and Testers"
          ],
          [
           "Software and Web Developers, Programmers, and Testers"
          ],
          [
           "Software and Web Developers, Programmers, and Testers"
          ],
          [
           "Software and Web Developers, Programmers, and Testers"
          ],
          [
           "Software and Web Developers, Programmers, and Testers"
          ],
          [
           "Software and Web Developers, Programmers, and Testers"
          ],
          [
           "Software and Web Developers, Programmers, and Testers"
          ],
          [
           "Software and Web Developers, Programmers, and Testers"
          ],
          [
           "Software and Web Developers, Programmers, and Testers"
          ],
          [
           "Software and Web Developers, Programmers, and Testers"
          ],
          [
           "Software and Web Developers, Programmers, and Testers"
          ],
          [
           "Software and Web Developers, Programmers, and Testers"
          ],
          [
           "Software and Web Developers, Programmers, and Testers"
          ],
          [
           "Software and Web Developers, Programmers, and Testers"
          ],
          [
           "Software and Web Developers, Programmers, and Testers"
          ],
          [
           "Software and Web Developers, Programmers, and Testers"
          ],
          [
           "Software and Web Developers, Programmers, and Testers"
          ],
          [
           "Software and Web Developers, Programmers, and Testers"
          ],
          [
           "Software and Web Developers, Programmers, and Testers"
          ],
          [
           "Software and Web Developers, Programmers, and Testers"
          ],
          [
           "Software and Web Developers, Programmers, and Testers"
          ],
          [
           "Software and Web Developers, Programmers, and Testers"
          ],
          [
           "Software and Web Developers, Programmers, and Testers"
          ],
          [
           "Software and Web Developers, Programmers, and Testers"
          ],
          [
           "Software and Web Developers, Programmers, and Testers"
          ],
          [
           "Software and Web Developers, Programmers, and Testers"
          ],
          [
           "Software and Web Developers, Programmers, and Testers"
          ],
          [
           "Software and Web Developers, Programmers, and Testers"
          ],
          [
           "Software and Web Developers, Programmers, and Testers"
          ],
          [
           "Software and Web Developers, Programmers, and Testers"
          ],
          [
           "Software and Web Developers, Programmers, and Testers"
          ],
          [
           "Software and Web Developers, Programmers, and Testers"
          ],
          [
           "Software and Web Developers, Programmers, and Testers"
          ],
          [
           "Software and Web Developers, Programmers, and Testers"
          ],
          [
           "Software and Web Developers, Programmers, and Testers"
          ],
          [
           "Software and Web Developers, Programmers, and Testers"
          ],
          [
           "Software and Web Developers, Programmers, and Testers"
          ],
          [
           "Software and Web Developers, Programmers, and Testers"
          ],
          [
           "Software and Web Developers, Programmers, and Testers"
          ],
          [
           "Software and Web Developers, Programmers, and Testers"
          ],
          [
           "Software and Web Developers, Programmers, and Testers"
          ],
          [
           "Software and Web Developers, Programmers, and Testers"
          ],
          [
           "Software and Web Developers, Programmers, and Testers"
          ],
          [
           "Software and Web Developers, Programmers, and Testers"
          ],
          [
           "Software and Web Developers, Programmers, and Testers"
          ],
          [
           "Software and Web Developers, Programmers, and Testers"
          ],
          [
           "Software and Web Developers, Programmers, and Testers"
          ],
          [
           "Software and Web Developers, Programmers, and Testers"
          ],
          [
           "Software and Web Developers, Programmers, and Testers"
          ],
          [
           "Software and Web Developers, Programmers, and Testers"
          ],
          [
           "Software and Web Developers, Programmers, and Testers"
          ],
          [
           "Software and Web Developers, Programmers, and Testers"
          ],
          [
           "Software and Web Developers, Programmers, and Testers"
          ],
          [
           "Software and Web Developers, Programmers, and Testers"
          ],
          [
           "Software and Web Developers, Programmers, and Testers"
          ],
          [
           "Software and Web Developers, Programmers, and Testers"
          ],
          [
           "Software and Web Developers, Programmers, and Testers"
          ],
          [
           "Software and Web Developers, Programmers, and Testers"
          ],
          [
           "Software and Web Developers, Programmers, and Testers"
          ],
          [
           "Software and Web Developers, Programmers, and Testers"
          ],
          [
           "Software and Web Developers, Programmers, and Testers"
          ],
          [
           "Software and Web Developers, Programmers, and Testers"
          ],
          [
           "Software and Web Developers, Programmers, and Testers"
          ],
          [
           "Software and Web Developers, Programmers, and Testers"
          ],
          [
           "Software and Web Developers, Programmers, and Testers"
          ],
          [
           "Software and Web Developers, Programmers, and Testers"
          ],
          [
           "Software and Web Developers, Programmers, and Testers"
          ],
          [
           "Software and Web Developers, Programmers, and Testers"
          ],
          [
           "Software and Web Developers, Programmers, and Testers"
          ],
          [
           "Software and Web Developers, Programmers, and Testers"
          ],
          [
           "Software and Web Developers, Programmers, and Testers"
          ],
          [
           "Software and Web Developers, Programmers, and Testers"
          ],
          [
           "Software and Web Developers, Programmers, and Testers"
          ],
          [
           "Software and Web Developers, Programmers, and Testers"
          ],
          [
           "Software and Web Developers, Programmers, and Testers"
          ],
          [
           "Software and Web Developers, Programmers, and Testers"
          ],
          [
           "Software and Web Developers, Programmers, and Testers"
          ],
          [
           "Software and Web Developers, Programmers, and Testers"
          ],
          [
           "Software and Web Developers, Programmers, and Testers"
          ],
          [
           "Software and Web Developers, Programmers, and Testers"
          ],
          [
           "Software and Web Developers, Programmers, and Testers"
          ],
          [
           "Software and Web Developers, Programmers, and Testers"
          ],
          [
           "Software and Web Developers, Programmers, and Testers"
          ],
          [
           "Software and Web Developers, Programmers, and Testers"
          ],
          [
           "Software and Web Developers, Programmers, and Testers"
          ],
          [
           "Software and Web Developers, Programmers, and Testers"
          ],
          [
           "Software and Web Developers, Programmers, and Testers"
          ],
          [
           "Software and Web Developers, Programmers, and Testers"
          ],
          [
           "Software and Web Developers, Programmers, and Testers"
          ],
          [
           "Software and Web Developers, Programmers, and Testers"
          ],
          [
           "Software and Web Developers, Programmers, and Testers"
          ],
          [
           "Software and Web Developers, Programmers, and Testers"
          ],
          [
           "Software and Web Developers, Programmers, and Testers"
          ],
          [
           "Software and Web Developers, Programmers, and Testers"
          ],
          [
           "Software and Web Developers, Programmers, and Testers"
          ],
          [
           "Software and Web Developers, Programmers, and Testers"
          ],
          [
           "Software and Web Developers, Programmers, and Testers"
          ],
          [
           "Software and Web Developers, Programmers, and Testers"
          ],
          [
           "Software and Web Developers, Programmers, and Testers"
          ],
          [
           "Software and Web Developers, Programmers, and Testers"
          ],
          [
           "Software and Web Developers, Programmers, and Testers"
          ],
          [
           "Software and Web Developers, Programmers, and Testers"
          ],
          [
           "Software and Web Developers, Programmers, and Testers"
          ],
          [
           "Software and Web Developers, Programmers, and Testers"
          ],
          [
           "Software and Web Developers, Programmers, and Testers"
          ],
          [
           "Software and Web Developers, Programmers, and Testers"
          ],
          [
           "Software and Web Developers, Programmers, and Testers"
          ],
          [
           "Software and Web Developers, Programmers, and Testers"
          ],
          [
           "Software and Web Developers, Programmers, and Testers"
          ],
          [
           "Software and Web Developers, Programmers, and Testers"
          ],
          [
           "Software and Web Developers, Programmers, and Testers"
          ],
          [
           "Software and Web Developers, Programmers, and Testers"
          ]
         ],
         "hovertemplate": "OCC_TITLE=%{customdata[0]}<br>H_MEDIAN=%{x}<br>A_MEDIAN=%{y}<extra></extra>",
         "legendgroup": "Software and Web Developers, Programmers, and Testers",
         "marker": {
          "color": "#636efa",
          "symbol": "circle"
         },
         "mode": "markers",
         "name": "Software and Web Developers, Programmers, and Testers",
         "showlegend": true,
         "type": "scattergl",
         "visible": "legendonly",
         "x": [
          "61.11",
          "61.52",
          "38.69",
          "61.61",
          "59.79",
          "41.90",
          "58.56",
          "67.92",
          "62.41",
          "60.81",
          "58.29",
          "61.60",
          "61.54",
          "42.78",
          "51.67",
          "38.95",
          "42.28",
          "48.31",
          "47.17",
          "37.43",
          "36.54",
          "64.54",
          "64.54",
          "41.18",
          "39.29",
          "53.88",
          "53.88",
          "59.79",
          "55.97",
          "71.22",
          "55.55",
          "64.09",
          "39.28",
          "66.33",
          "29.85",
          "44.37",
          "42.32",
          "45.78",
          "41.84",
          "40.52",
          "38.41",
          "43.07",
          "48.97",
          "41.82",
          "22.80",
          "42.03",
          "42.32",
          "41.82",
          "47.84",
          "26.08",
          "52.73",
          "46.65",
          "38.83",
          "58.82",
          "38.60",
          "25.44",
          "44.34",
          "43.27",
          "48.75",
          "50.97",
          "44.19",
          "45.30",
          "45.02",
          "38.01",
          "43.26",
          "37.02",
          "42.58",
          "43.97",
          "27.79",
          "36.54",
          "54.51",
          "32.80",
          "50.48",
          "61.44",
          "49.24",
          "39.76",
          "39.76",
          "63.72",
          "63.72",
          "57.31",
          "57.66",
          "46.78",
          "46.54",
          "47.50",
          "36.68",
          "36.68",
          "43.75",
          "38.62",
          "40.44",
          "44.26",
          "46.64",
          "50.20",
          "46.46",
          "43.21",
          "42.67",
          "46.03",
          "51.02",
          "50.14",
          "49.35",
          "43.13",
          "51.96",
          "73.86",
          "84.19",
          "64.02",
          "59.06",
          "68.97",
          "67.47",
          "61.91",
          "50.99",
          "48.71",
          "51.73",
          "48.74",
          "55.20",
          "64.92",
          "80.34",
          "45.00",
          "51.31",
          "63.89",
          "49.47",
          "47.65",
          "42.23",
          "43.67",
          "42.49",
          "53.83",
          "61.45",
          "47.33",
          "30.96",
          "59.16",
          "52.66",
          "61.06",
          "48.60",
          "56.85",
          "49.91",
          "43.69",
          "45.53",
          "61.19",
          "61.19",
          "36.01",
          "39.39",
          "23.99",
          "36.76",
          "49.57",
          "57.49",
          "35.96",
          "46.40",
          "47.61",
          "48.11",
          "47.41",
          "49.63",
          "49.63",
          "58.68",
          "58.68",
          "62.46",
          "50.16",
          "52.43",
          "45.96",
          "46.91",
          "26.86",
          "42.16",
          "47.51",
          "32.41",
          "34.49",
          "29.74",
          "26.86",
          "51.53",
          "67.03",
          "67.03",
          "68.47",
          "60.44",
          "60.44",
          "50.26",
          "58.27",
          "49.47",
          "48.56",
          "48.56",
          "80.12",
          "86.20",
          "31.62",
          "62.56",
          "62.14",
          "61.83",
          "55.74",
          "54.40",
          "55.82",
          "55.75",
          "62.81",
          "51.57",
          "51.57",
          "63.26",
          "51.13",
          "72.10",
          "49.53",
          "49.53",
          "52.75",
          "53.98",
          "35.63",
          "65.20",
          "58.22",
          "55.39",
          "65.75",
          "80.79",
          "41.97",
          "35.61",
          "44.09",
          "80.79",
          "62.56",
          "62.56",
          "64.11",
          "64.11",
          "83.93",
          "83.93",
          "64.66",
          "64.66",
          "63.89",
          "64.17",
          "63.14",
          "70.35",
          "70.35",
          "55.63",
          "55.12",
          "55.63",
          "52.59",
          "57.57",
          "59.32",
          "53.82",
          "65.61",
          "65.22",
          "65.88",
          "64.07",
          "64.07",
          "48.00",
          "51.12",
          "52.16",
          "52.16",
          "58.29",
          "55.69",
          "59.49",
          "60.51",
          "61.24",
          "47.17",
          "43.07",
          "58.50",
          "50.89",
          "66.05",
          "67.09",
          "49.20",
          "42.99",
          "52.84",
          "50.48",
          "21.59",
          "61.60",
          "61.60",
          "61.57",
          "60.66",
          "48.76",
          "62.75",
          "62.59",
          "50.61",
          "65.97",
          "53.58",
          "58.09",
          "52.85",
          "49.59",
          "54.07",
          "46.34",
          "33.87",
          "56.95",
          "32.42",
          "42.78",
          "40.33",
          "42.48",
          "47.46",
          "41.01",
          "40.55",
          "41.55",
          "36.62",
          "39.01",
          "34.80",
          "40.69",
          "34.62",
          "42.10",
          "40.60",
          "50.78",
          "46.82",
          "50.29",
          "50.29",
          "38.37",
          "34.15",
          "39.03",
          "45.64",
          "45.64",
          "49.92",
          "63.99",
          "49.50",
          "55.48",
          "55.75",
          "50.83",
          "31.74",
          "50.00",
          "61.30",
          "58.61",
          "46.24",
          "57.44",
          "45.77",
          "52.32",
          "36.53",
          "53.25",
          "52.14",
          "60.63",
          "49.56",
          "51.67",
          "52.06",
          "61.76",
          "49.62",
          "51.42",
          "48.62",
          "39.92",
          "51.35",
          "62.10",
          "52.69",
          "62.10",
          "41.22",
          "43.67",
          "38.05",
          "31.16",
          "41.39",
          "29.73",
          "48.32",
          "35.38",
          "35.60",
          "38.87",
          "44.45",
          "24.21",
          "14.72",
          "40.51",
          "32.56",
          "31.74",
          "37.92",
          "41.28",
          "40.59",
          "51.33",
          "34.93",
          "34.93",
          "39.42",
          "38.87",
          "58.73",
          "27.82",
          "25.41",
          "48.22",
          "49.16",
          "39.55",
          "*",
          "33.18",
          "47.45",
          "26.42",
          "17.22",
          "49.98",
          "54.83",
          "64.04",
          "44.68",
          "46.74",
          "56.83",
          "42.16",
          "50.64",
          "52.42",
          "51.23",
          "47.70",
          "31.12",
          "48.56",
          "44.34",
          "42.89",
          "50.25",
          "52.33",
          "47.17",
          "44.31",
          "57.69",
          "52.37",
          "43.60",
          "42.40",
          "51.40",
          "49.14",
          "64.72",
          "58.94",
          "43.62",
          "49.15",
          "40.20",
          "50.88",
          "43.67",
          "56.45",
          "50.22",
          "56.09",
          "45.57",
          "48.64",
          "46.40",
          "45.73",
          "58.91",
          "63.89",
          "46.91"
         ],
         "xaxis": "x",
         "y": [
          "127,120",
          "127,970",
          "80,480",
          "128,160",
          "124,360",
          "87,150",
          "121,810",
          "141,280",
          "129,810",
          "126,480",
          "121,240",
          "128,140",
          "128,010",
          "88,970",
          "107,480",
          "81,010",
          "87,940",
          "100,480",
          "98,110",
          "77,850",
          "76,010",
          "134,250",
          "134,250",
          "85,660",
          "81,720",
          "112,080",
          "112,080",
          "124,360",
          "116,410",
          "148,130",
          "115,550",
          "133,300",
          "81,700",
          "137,970",
          "62,080",
          "92,290",
          "88,030",
          "95,220",
          "87,040",
          "84,280",
          "79,900",
          "89,580",
          "101,850",
          "86,990",
          "47,420",
          "87,420",
          "88,030",
          "86,990",
          "99,520",
          "54,240",
          "109,680",
          "97,040",
          "80,760",
          "122,350",
          "80,280",
          "52,900",
          "92,230",
          "90,000",
          "101,400",
          "106,010",
          "91,910",
          "94,230",
          "93,650",
          "79,050",
          "89,980",
          "77,000",
          "88,560",
          "91,450",
          "57,800",
          "75,990",
          "113,380",
          "68,220",
          "105,000",
          "127,790",
          "102,410",
          "82,700",
          "82,700",
          "132,530",
          "132,530",
          "119,200",
          "119,920",
          "97,290",
          "96,810",
          "98,800",
          "76,300",
          "76,300",
          "91,000",
          "80,330",
          "84,120",
          "92,060",
          "97,000",
          "104,410",
          "96,650",
          "89,870",
          "88,760",
          "95,740",
          "106,120",
          "104,300",
          "102,650",
          "89,720",
          "108,090",
          "153,620",
          "175,110",
          "133,160",
          "122,840",
          "143,460",
          "140,340",
          "128,770",
          "106,050",
          "101,330",
          "107,590",
          "101,370",
          "114,810",
          "135,040",
          "167,100",
          "93,610",
          "106,730",
          "132,890",
          "102,900",
          "99,110",
          "87,830",
          "90,840",
          "88,390",
          "111,970",
          "127,820",
          "98,450",
          "64,400",
          "123,060",
          "109,540",
          "127,000",
          "101,100",
          "118,240",
          "103,800",
          "90,860",
          "94,700",
          "127,270",
          "127,270",
          "74,900",
          "81,920",
          "49,900",
          "76,470",
          "103,110",
          "119,570",
          "74,790",
          "96,510",
          "99,030",
          "100,070",
          "98,610",
          "103,230",
          "103,230",
          "122,060",
          "122,060",
          "129,910",
          "104,320",
          "109,050",
          "95,610",
          "97,560",
          "55,870",
          "87,700",
          "98,820",
          "67,410",
          "71,750",
          "61,870",
          "55,870",
          "107,180",
          "139,430",
          "139,420",
          "142,410",
          "125,710",
          "125,710",
          "104,530",
          "121,190",
          "102,890",
          "100,990",
          "100,990",
          "166,640",
          "179,300",
          "65,770",
          "130,120",
          "129,250",
          "128,610",
          "115,930",
          "113,160",
          "116,110",
          "115,960",
          "130,640",
          "107,270",
          "107,270",
          "131,590",
          "106,340",
          "149,960",
          "103,020",
          "103,020",
          "109,720",
          "112,290",
          "74,110",
          "135,620",
          "121,100",
          "115,210",
          "136,760",
          "168,050",
          "87,310",
          "74,070",
          "91,710",
          "168,050",
          "130,130",
          "130,130",
          "133,360",
          "133,360",
          "174,570",
          "174,570",
          "134,490",
          "134,490",
          "132,900",
          "133,470",
          "131,340",
          "146,340",
          "146,340",
          "115,700",
          "114,650",
          "115,700",
          "109,390",
          "119,740",
          "123,390",
          "111,940",
          "136,470",
          "135,670",
          "137,020",
          "133,270",
          "133,270",
          "99,840",
          "106,330",
          "108,490",
          "108,490",
          "121,240",
          "115,840",
          "123,730",
          "125,860",
          "127,370",
          "98,120",
          "89,580",
          "121,680",
          "105,840",
          "137,370",
          "139,550",
          "102,340",
          "89,420",
          "109,900",
          "105,010",
          "44,910",
          "128,140",
          "128,140",
          "128,060",
          "126,170",
          "101,410",
          "130,520",
          "130,190",
          "105,270",
          "137,220",
          "111,450",
          "120,820",
          "109,920",
          "103,150",
          "112,470",
          "96,380",
          "70,440",
          "118,450",
          "67,430",
          "88,970",
          "83,890",
          "88,350",
          "98,720",
          "85,300",
          "84,340",
          "86,430",
          "76,160",
          "81,140",
          "72,380",
          "84,630",
          "72,010",
          "87,570",
          "84,450",
          "105,630",
          "97,380",
          "104,610",
          "104,610",
          "79,800",
          "71,030",
          "81,180",
          "94,930",
          "94,930",
          "103,840",
          "133,090",
          "102,960",
          "115,390",
          "115,970",
          "105,720",
          "66,020",
          "104,000",
          "127,500",
          "121,900",
          "96,180",
          "119,480",
          "95,200",
          "108,830",
          "75,980",
          "110,750",
          "108,460",
          "126,100",
          "103,080",
          "107,480",
          "108,290",
          "128,460",
          "103,210",
          "106,950",
          "101,120",
          "83,030",
          "106,800",
          "129,160",
          "109,600",
          "129,160",
          "85,750",
          "90,840",
          "79,150",
          "64,820",
          "86,080",
          "61,840",
          "100,500",
          "73,590",
          "74,050",
          "80,850",
          "92,450",
          "50,360",
          "30,630",
          "84,270",
          "67,730",
          "66,020",
          "78,880",
          "85,870",
          "84,430",
          "106,770",
          "72,660",
          "72,660",
          "81,990",
          "80,850",
          "122,150",
          "57,870",
          "52,840",
          "100,300",
          "102,260",
          "82,260",
          "*",
          "69,000",
          "98,700",
          "54,960",
          "35,820",
          "103,950",
          "114,050",
          "133,200",
          "92,930",
          "97,230",
          "118,210",
          "87,700",
          "105,320",
          "109,040",
          "106,560",
          "99,210",
          "64,720",
          "101,010",
          "92,220",
          "89,210",
          "104,520",
          "108,850",
          "98,110",
          "92,170",
          "120,000",
          "108,930",
          "90,690",
          "88,190",
          "106,910",
          "102,200",
          "134,620",
          "122,590",
          "90,740",
          "102,230",
          "83,620",
          "105,820",
          "90,840",
          "117,410",
          "104,450",
          "116,670",
          "94,780",
          "101,180",
          "96,510",
          "95,110",
          "122,530",
          "132,900",
          "97,560"
         ],
         "yaxis": "y"
        },
        {
         "customdata": [
          [
           "Software Developers"
          ],
          [
           "Software Developers"
          ],
          [
           "Software Developers"
          ],
          [
           "Software Developers"
          ],
          [
           "Software Developers"
          ],
          [
           "Software Developers"
          ],
          [
           "Software Developers"
          ],
          [
           "Software Developers"
          ],
          [
           "Software Developers"
          ],
          [
           "Software Developers"
          ],
          [
           "Software Developers"
          ],
          [
           "Software Developers"
          ],
          [
           "Software Developers"
          ],
          [
           "Software Developers"
          ],
          [
           "Software Developers"
          ],
          [
           "Software Developers"
          ],
          [
           "Software Developers"
          ],
          [
           "Software Developers"
          ],
          [
           "Software Developers"
          ],
          [
           "Software Developers"
          ],
          [
           "Software Developers"
          ],
          [
           "Software Developers"
          ],
          [
           "Software Developers"
          ],
          [
           "Software Developers"
          ],
          [
           "Software Developers"
          ],
          [
           "Software Developers"
          ],
          [
           "Software Developers"
          ],
          [
           "Software Developers"
          ],
          [
           "Software Developers"
          ],
          [
           "Software Developers"
          ],
          [
           "Software Developers"
          ],
          [
           "Software Developers"
          ],
          [
           "Software Developers"
          ],
          [
           "Software Developers"
          ],
          [
           "Software Developers"
          ],
          [
           "Software Developers"
          ],
          [
           "Software Developers"
          ],
          [
           "Software Developers"
          ],
          [
           "Software Developers"
          ],
          [
           "Software Developers"
          ],
          [
           "Software Developers"
          ],
          [
           "Software Developers"
          ],
          [
           "Software Developers"
          ],
          [
           "Software Developers"
          ],
          [
           "Software Developers"
          ],
          [
           "Software Developers"
          ],
          [
           "Software Developers"
          ],
          [
           "Software Developers"
          ],
          [
           "Software Developers"
          ],
          [
           "Software Developers"
          ],
          [
           "Software Developers"
          ],
          [
           "Software Developers"
          ],
          [
           "Software Developers"
          ],
          [
           "Software Developers"
          ],
          [
           "Software Developers"
          ],
          [
           "Software Developers"
          ],
          [
           "Software Developers"
          ],
          [
           "Software Developers"
          ],
          [
           "Software Developers"
          ],
          [
           "Software Developers"
          ],
          [
           "Software Developers"
          ],
          [
           "Software Developers"
          ],
          [
           "Software Developers"
          ],
          [
           "Software Developers"
          ],
          [
           "Software Developers"
          ],
          [
           "Software Developers"
          ],
          [
           "Software Developers"
          ],
          [
           "Software Developers"
          ],
          [
           "Software Developers"
          ],
          [
           "Software Developers"
          ],
          [
           "Software Developers"
          ],
          [
           "Software Developers"
          ],
          [
           "Software Developers"
          ],
          [
           "Software Developers"
          ],
          [
           "Software Developers"
          ],
          [
           "Software Developers"
          ],
          [
           "Software Developers"
          ],
          [
           "Software Developers"
          ],
          [
           "Software Developers"
          ],
          [
           "Software Developers"
          ],
          [
           "Software Developers"
          ],
          [
           "Software Developers"
          ],
          [
           "Software Developers"
          ],
          [
           "Software Developers"
          ],
          [
           "Software Developers"
          ],
          [
           "Software Developers"
          ],
          [
           "Software Developers"
          ],
          [
           "Software Developers"
          ],
          [
           "Software Developers"
          ],
          [
           "Software Developers"
          ],
          [
           "Software Developers"
          ],
          [
           "Software Developers"
          ],
          [
           "Software Developers"
          ],
          [
           "Software Developers"
          ],
          [
           "Software Developers"
          ],
          [
           "Software Developers"
          ],
          [
           "Software Developers"
          ],
          [
           "Software Developers"
          ],
          [
           "Software Developers"
          ],
          [
           "Software Developers"
          ],
          [
           "Software Developers"
          ],
          [
           "Software Developers"
          ],
          [
           "Software Developers"
          ],
          [
           "Software Developers"
          ],
          [
           "Software Developers"
          ],
          [
           "Software Developers"
          ],
          [
           "Software Developers"
          ],
          [
           "Software Developers"
          ],
          [
           "Software Developers"
          ],
          [
           "Software Developers"
          ],
          [
           "Software Developers"
          ],
          [
           "Software Developers"
          ],
          [
           "Software Developers"
          ],
          [
           "Software Developers"
          ],
          [
           "Software Developers"
          ],
          [
           "Software Developers"
          ],
          [
           "Software Developers"
          ],
          [
           "Software Developers"
          ],
          [
           "Software Developers"
          ],
          [
           "Software Developers"
          ],
          [
           "Software Developers"
          ],
          [
           "Software Developers"
          ],
          [
           "Software Developers"
          ],
          [
           "Software Developers"
          ],
          [
           "Software Developers"
          ],
          [
           "Software Developers"
          ],
          [
           "Software Developers"
          ],
          [
           "Software Developers"
          ],
          [
           "Software Developers"
          ],
          [
           "Software Developers"
          ],
          [
           "Software Developers"
          ],
          [
           "Software Developers"
          ],
          [
           "Software Developers"
          ],
          [
           "Software Developers"
          ],
          [
           "Software Developers"
          ],
          [
           "Software Developers"
          ],
          [
           "Software Developers"
          ],
          [
           "Software Developers"
          ],
          [
           "Software Developers"
          ],
          [
           "Software Developers"
          ],
          [
           "Software Developers"
          ],
          [
           "Software Developers"
          ],
          [
           "Software Developers"
          ],
          [
           "Software Developers"
          ],
          [
           "Software Developers"
          ],
          [
           "Software Developers"
          ],
          [
           "Software Developers"
          ],
          [
           "Software Developers"
          ],
          [
           "Software Developers"
          ],
          [
           "Software Developers"
          ],
          [
           "Software Developers"
          ],
          [
           "Software Developers"
          ],
          [
           "Software Developers"
          ],
          [
           "Software Developers"
          ],
          [
           "Software Developers"
          ],
          [
           "Software Developers"
          ],
          [
           "Software Developers"
          ],
          [
           "Software Developers"
          ],
          [
           "Software Developers"
          ],
          [
           "Software Developers"
          ],
          [
           "Software Developers"
          ],
          [
           "Software Developers"
          ],
          [
           "Software Developers"
          ],
          [
           "Software Developers"
          ],
          [
           "Software Developers"
          ],
          [
           "Software Developers"
          ],
          [
           "Software Developers"
          ],
          [
           "Software Developers"
          ],
          [
           "Software Developers"
          ],
          [
           "Software Developers"
          ],
          [
           "Software Developers"
          ],
          [
           "Software Developers"
          ],
          [
           "Software Developers"
          ],
          [
           "Software Developers"
          ],
          [
           "Software Developers"
          ],
          [
           "Software Developers"
          ],
          [
           "Software Developers"
          ],
          [
           "Software Developers"
          ],
          [
           "Software Developers"
          ],
          [
           "Software Developers"
          ],
          [
           "Software Developers"
          ],
          [
           "Software Developers"
          ],
          [
           "Software Developers"
          ],
          [
           "Software Developers"
          ],
          [
           "Software Developers"
          ],
          [
           "Software Developers"
          ],
          [
           "Software Developers"
          ],
          [
           "Software Developers"
          ],
          [
           "Software Developers"
          ],
          [
           "Software Developers"
          ],
          [
           "Software Developers"
          ],
          [
           "Software Developers"
          ],
          [
           "Software Developers"
          ],
          [
           "Software Developers"
          ],
          [
           "Software Developers"
          ],
          [
           "Software Developers"
          ],
          [
           "Software Developers"
          ],
          [
           "Software Developers"
          ],
          [
           "Software Developers"
          ],
          [
           "Software Developers"
          ],
          [
           "Software Developers"
          ],
          [
           "Software Developers"
          ],
          [
           "Software Developers"
          ],
          [
           "Software Developers"
          ],
          [
           "Software Developers"
          ],
          [
           "Software Developers"
          ],
          [
           "Software Developers"
          ],
          [
           "Software Developers"
          ],
          [
           "Software Developers"
          ],
          [
           "Software Developers"
          ],
          [
           "Software Developers"
          ],
          [
           "Software Developers"
          ],
          [
           "Software Developers"
          ],
          [
           "Software Developers"
          ],
          [
           "Software Developers"
          ],
          [
           "Software Developers"
          ],
          [
           "Software Developers"
          ],
          [
           "Software Developers"
          ],
          [
           "Software Developers"
          ],
          [
           "Software Developers"
          ],
          [
           "Software Developers"
          ],
          [
           "Software Developers"
          ],
          [
           "Software Developers"
          ],
          [
           "Software Developers"
          ],
          [
           "Software Developers"
          ],
          [
           "Software Developers"
          ],
          [
           "Software Developers"
          ],
          [
           "Software Developers"
          ],
          [
           "Software Developers"
          ],
          [
           "Software Developers"
          ],
          [
           "Software Developers"
          ],
          [
           "Software Developers"
          ],
          [
           "Software Developers"
          ],
          [
           "Software Developers"
          ],
          [
           "Software Developers"
          ],
          [
           "Software Developers"
          ],
          [
           "Software Developers"
          ],
          [
           "Software Developers"
          ],
          [
           "Software Developers"
          ],
          [
           "Software Developers"
          ],
          [
           "Software Developers"
          ],
          [
           "Software Developers"
          ],
          [
           "Software Developers"
          ],
          [
           "Software Developers"
          ],
          [
           "Software Developers"
          ],
          [
           "Software Developers"
          ],
          [
           "Software Developers"
          ],
          [
           "Software Developers"
          ],
          [
           "Software Developers"
          ],
          [
           "Software Developers"
          ],
          [
           "Software Developers"
          ],
          [
           "Software Developers"
          ],
          [
           "Software Developers"
          ],
          [
           "Software Developers"
          ],
          [
           "Software Developers"
          ],
          [
           "Software Developers"
          ],
          [
           "Software Developers"
          ],
          [
           "Software Developers"
          ],
          [
           "Software Developers"
          ],
          [
           "Software Developers"
          ],
          [
           "Software Developers"
          ],
          [
           "Software Developers"
          ],
          [
           "Software Developers"
          ],
          [
           "Software Developers"
          ],
          [
           "Software Developers"
          ],
          [
           "Software Developers"
          ],
          [
           "Software Developers"
          ],
          [
           "Software Developers"
          ],
          [
           "Software Developers"
          ],
          [
           "Software Developers"
          ],
          [
           "Software Developers"
          ],
          [
           "Software Developers"
          ],
          [
           "Software Developers"
          ],
          [
           "Software Developers"
          ],
          [
           "Software Developers"
          ],
          [
           "Software Developers"
          ],
          [
           "Software Developers"
          ],
          [
           "Software Developers"
          ],
          [
           "Software Developers"
          ],
          [
           "Software Developers"
          ],
          [
           "Software Developers"
          ],
          [
           "Software Developers"
          ],
          [
           "Software Developers"
          ],
          [
           "Software Developers"
          ],
          [
           "Software Developers"
          ],
          [
           "Software Developers"
          ],
          [
           "Software Developers"
          ],
          [
           "Software Developers"
          ],
          [
           "Software Developers"
          ],
          [
           "Software Developers"
          ],
          [
           "Software Developers"
          ],
          [
           "Software Developers"
          ],
          [
           "Software Developers"
          ],
          [
           "Software Developers"
          ],
          [
           "Software Developers"
          ],
          [
           "Software Developers"
          ],
          [
           "Software Developers"
          ],
          [
           "Software Developers"
          ],
          [
           "Software Developers"
          ],
          [
           "Software Developers"
          ],
          [
           "Software Developers"
          ],
          [
           "Software Developers"
          ],
          [
           "Software Developers"
          ],
          [
           "Software Developers"
          ],
          [
           "Software Developers"
          ],
          [
           "Software Developers"
          ],
          [
           "Software Developers"
          ],
          [
           "Software Developers"
          ],
          [
           "Software Developers"
          ],
          [
           "Software Developers"
          ],
          [
           "Software Developers"
          ],
          [
           "Software Developers"
          ],
          [
           "Software Developers"
          ],
          [
           "Software Developers"
          ],
          [
           "Software Developers"
          ],
          [
           "Software Developers"
          ],
          [
           "Software Developers"
          ],
          [
           "Software Developers"
          ],
          [
           "Software Developers"
          ],
          [
           "Software Developers"
          ],
          [
           "Software Developers"
          ],
          [
           "Software Developers"
          ],
          [
           "Software Developers"
          ],
          [
           "Software Developers"
          ],
          [
           "Software Developers"
          ],
          [
           "Software Developers"
          ],
          [
           "Software Developers"
          ],
          [
           "Software Developers"
          ],
          [
           "Software Developers"
          ],
          [
           "Software Developers"
          ],
          [
           "Software Developers"
          ],
          [
           "Software Developers"
          ],
          [
           "Software Developers"
          ],
          [
           "Software Developers"
          ],
          [
           "Software Developers"
          ],
          [
           "Software Developers"
          ],
          [
           "Software Developers"
          ],
          [
           "Software Developers"
          ],
          [
           "Software Developers"
          ],
          [
           "Software Developers"
          ],
          [
           "Software Developers"
          ],
          [
           "Software Developers"
          ],
          [
           "Software Developers"
          ],
          [
           "Software Developers"
          ],
          [
           "Software Developers"
          ],
          [
           "Software Developers"
          ],
          [
           "Software Developers"
          ],
          [
           "Software Developers"
          ],
          [
           "Software Developers"
          ],
          [
           "Software Developers"
          ],
          [
           "Software Developers"
          ],
          [
           "Software Developers"
          ],
          [
           "Software Developers"
          ],
          [
           "Software Developers"
          ],
          [
           "Software Developers"
          ],
          [
           "Software Developers"
          ],
          [
           "Software Developers"
          ],
          [
           "Software Developers"
          ],
          [
           "Software Developers"
          ],
          [
           "Software Developers"
          ],
          [
           "Software Developers"
          ],
          [
           "Software Developers"
          ],
          [
           "Software Developers"
          ],
          [
           "Software Developers"
          ],
          [
           "Software Developers"
          ],
          [
           "Software Developers"
          ],
          [
           "Software Developers"
          ],
          [
           "Software Developers"
          ],
          [
           "Software Developers"
          ],
          [
           "Software Developers"
          ],
          [
           "Software Developers"
          ],
          [
           "Software Developers"
          ],
          [
           "Software Developers"
          ],
          [
           "Software Developers"
          ],
          [
           "Software Developers"
          ],
          [
           "Software Developers"
          ],
          [
           "Software Developers"
          ],
          [
           "Software Developers"
          ],
          [
           "Software Developers"
          ],
          [
           "Software Developers"
          ],
          [
           "Software Developers"
          ],
          [
           "Software Developers"
          ],
          [
           "Software Developers"
          ],
          [
           "Software Developers"
          ],
          [
           "Software Developers"
          ],
          [
           "Software Developers"
          ],
          [
           "Software Developers"
          ],
          [
           "Software Developers"
          ],
          [
           "Software Developers"
          ],
          [
           "Software Developers"
          ],
          [
           "Software Developers"
          ],
          [
           "Software Developers"
          ],
          [
           "Software Developers"
          ],
          [
           "Software Developers"
          ],
          [
           "Software Developers"
          ],
          [
           "Software Developers"
          ],
          [
           "Software Developers"
          ],
          [
           "Software Developers"
          ],
          [
           "Software Developers"
          ],
          [
           "Software Developers"
          ],
          [
           "Software Developers"
          ],
          [
           "Software Developers"
          ],
          [
           "Software Developers"
          ],
          [
           "Software Developers"
          ],
          [
           "Software Developers"
          ],
          [
           "Software Developers"
          ],
          [
           "Software Developers"
          ],
          [
           "Software Developers"
          ],
          [
           "Software Developers"
          ],
          [
           "Software Developers"
          ],
          [
           "Software Developers"
          ],
          [
           "Software Developers"
          ],
          [
           "Software Developers"
          ],
          [
           "Software Developers"
          ],
          [
           "Software Developers"
          ],
          [
           "Software Developers"
          ],
          [
           "Software Developers"
          ],
          [
           "Software Developers"
          ],
          [
           "Software Developers"
          ],
          [
           "Software Developers"
          ],
          [
           "Software Developers"
          ],
          [
           "Software Developers"
          ],
          [
           "Software Developers"
          ],
          [
           "Software Developers"
          ],
          [
           "Software Developers"
          ],
          [
           "Software Developers"
          ],
          [
           "Software Developers"
          ],
          [
           "Software Developers"
          ],
          [
           "Software Developers"
          ],
          [
           "Software Developers"
          ],
          [
           "Software Developers"
          ],
          [
           "Software Developers"
          ],
          [
           "Software Developers"
          ],
          [
           "Software Developers"
          ],
          [
           "Software Developers"
          ],
          [
           "Software Developers"
          ],
          [
           "Software Developers"
          ],
          [
           "Software Developers"
          ],
          [
           "Software Developers"
          ],
          [
           "Software Developers"
          ],
          [
           "Software Developers"
          ],
          [
           "Software Developers"
          ],
          [
           "Software Developers"
          ],
          [
           "Software Developers"
          ],
          [
           "Software Developers"
          ],
          [
           "Software Developers"
          ],
          [
           "Software Developers"
          ],
          [
           "Software Developers"
          ],
          [
           "Software Developers"
          ],
          [
           "Software Developers"
          ],
          [
           "Software Developers"
          ],
          [
           "Software Developers"
          ],
          [
           "Software Developers"
          ],
          [
           "Software Developers"
          ],
          [
           "Software Developers"
          ],
          [
           "Software Developers"
          ],
          [
           "Software Developers"
          ],
          [
           "Software Developers"
          ],
          [
           "Software Developers"
          ],
          [
           "Software Developers"
          ],
          [
           "Software Developers"
          ],
          [
           "Software Developers"
          ],
          [
           "Software Developers"
          ],
          [
           "Software Developers"
          ],
          [
           "Software Developers"
          ],
          [
           "Software Developers"
          ],
          [
           "Software Developers"
          ],
          [
           "Software Developers"
          ],
          [
           "Software Developers"
          ],
          [
           "Software Developers"
          ],
          [
           "Software Developers"
          ],
          [
           "Software Developers"
          ],
          [
           "Software Developers"
          ],
          [
           "Software Developers"
          ],
          [
           "Software Developers"
          ],
          [
           "Software Developers"
          ],
          [
           "Software Developers"
          ],
          [
           "Software Developers"
          ],
          [
           "Software Developers"
          ],
          [
           "Software Developers"
          ],
          [
           "Software Developers"
          ],
          [
           "Software Developers"
          ],
          [
           "Software Developers"
          ],
          [
           "Software Developers"
          ],
          [
           "Software Developers"
          ],
          [
           "Software Developers"
          ],
          [
           "Software Developers"
          ],
          [
           "Software Developers"
          ],
          [
           "Software Developers"
          ],
          [
           "Software Developers"
          ],
          [
           "Software Developers"
          ],
          [
           "Software Developers"
          ],
          [
           "Software Developers"
          ],
          [
           "Software Developers"
          ],
          [
           "Software Developers"
          ],
          [
           "Software Developers"
          ],
          [
           "Software Developers"
          ],
          [
           "Software Developers"
          ],
          [
           "Software Developers"
          ],
          [
           "Software Developers"
          ],
          [
           "Software Developers"
          ],
          [
           "Software Developers"
          ],
          [
           "Software Developers"
          ],
          [
           "Software Developers"
          ],
          [
           "Software Developers"
          ],
          [
           "Software Developers"
          ],
          [
           "Software Developers"
          ],
          [
           "Software Developers"
          ],
          [
           "Software Developers"
          ],
          [
           "Software Developers"
          ],
          [
           "Software Developers"
          ],
          [
           "Software Developers"
          ],
          [
           "Software Developers"
          ],
          [
           "Software Developers"
          ],
          [
           "Software Developers"
          ],
          [
           "Software Developers"
          ],
          [
           "Software Developers"
          ],
          [
           "Software Developers"
          ],
          [
           "Software Developers"
          ],
          [
           "Software Developers"
          ],
          [
           "Software Developers"
          ],
          [
           "Software Developers"
          ],
          [
           "Software Developers"
          ],
          [
           "Software Developers"
          ],
          [
           "Software Developers"
          ],
          [
           "Software Developers"
          ],
          [
           "Software Developers"
          ],
          [
           "Software Developers"
          ],
          [
           "Software Developers"
          ],
          [
           "Software Developers"
          ],
          [
           "Software Developers"
          ],
          [
           "Software Developers"
          ],
          [
           "Software Developers"
          ],
          [
           "Software Developers"
          ],
          [
           "Software Developers"
          ],
          [
           "Software Developers"
          ],
          [
           "Software Developers"
          ],
          [
           "Software Developers"
          ],
          [
           "Software Developers"
          ],
          [
           "Software Developers"
          ],
          [
           "Software Developers"
          ],
          [
           "Software Developers"
          ],
          [
           "Software Developers"
          ],
          [
           "Software Developers"
          ],
          [
           "Software Developers"
          ],
          [
           "Software Developers"
          ],
          [
           "Software Developers"
          ],
          [
           "Software Developers"
          ],
          [
           "Software Developers"
          ],
          [
           "Software Developers"
          ],
          [
           "Software Developers"
          ],
          [
           "Software Developers"
          ],
          [
           "Software Developers"
          ],
          [
           "Software Developers"
          ],
          [
           "Software Developers"
          ],
          [
           "Software Developers"
          ],
          [
           "Software Developers"
          ],
          [
           "Software Developers"
          ],
          [
           "Software Developers"
          ],
          [
           "Software Developers"
          ],
          [
           "Software Developers"
          ],
          [
           "Software Developers"
          ],
          [
           "Software Developers"
          ],
          [
           "Software Developers"
          ],
          [
           "Software Developers"
          ],
          [
           "Software Developers"
          ],
          [
           "Software Developers"
          ],
          [
           "Software Developers"
          ],
          [
           "Software Developers"
          ],
          [
           "Software Developers"
          ],
          [
           "Software Developers"
          ],
          [
           "Software Developers"
          ],
          [
           "Software Developers"
          ],
          [
           "Software Developers"
          ],
          [
           "Software Developers"
          ],
          [
           "Software Developers"
          ],
          [
           "Software Developers"
          ],
          [
           "Software Developers"
          ],
          [
           "Software Developers"
          ],
          [
           "Software Developers"
          ],
          [
           "Software Developers"
          ],
          [
           "Software Developers"
          ],
          [
           "Software Developers"
          ],
          [
           "Software Developers"
          ],
          [
           "Software Developers"
          ],
          [
           "Software Developers"
          ],
          [
           "Software Developers"
          ],
          [
           "Software Developers"
          ],
          [
           "Software Developers"
          ],
          [
           "Software Developers"
          ],
          [
           "Software Developers"
          ],
          [
           "Software Developers"
          ],
          [
           "Software Developers"
          ],
          [
           "Software Developers"
          ],
          [
           "Software Developers"
          ],
          [
           "Software Developers"
          ],
          [
           "Software Developers"
          ],
          [
           "Software Developers"
          ],
          [
           "Software Developers"
          ],
          [
           "Software Developers"
          ],
          [
           "Software Developers"
          ],
          [
           "Software Developers"
          ],
          [
           "Software Developers"
          ],
          [
           "Software Developers"
          ],
          [
           "Software Developers"
          ],
          [
           "Software Developers"
          ],
          [
           "Software Developers"
          ],
          [
           "Software Developers"
          ],
          [
           "Software Developers"
          ],
          [
           "Software Developers"
          ],
          [
           "Software Developers"
          ],
          [
           "Software Developers"
          ],
          [
           "Software Developers"
          ],
          [
           "Software Developers"
          ],
          [
           "Software Developers"
          ],
          [
           "Software Developers"
          ],
          [
           "Software Developers"
          ],
          [
           "Software Developers"
          ],
          [
           "Software Developers"
          ],
          [
           "Software Developers"
          ],
          [
           "Software Developers"
          ],
          [
           "Software Developers"
          ],
          [
           "Software Developers"
          ],
          [
           "Software Developers"
          ],
          [
           "Software Developers"
          ],
          [
           "Software Developers"
          ],
          [
           "Software Developers"
          ],
          [
           "Software Developers"
          ],
          [
           "Software Developers"
          ],
          [
           "Software Developers"
          ],
          [
           "Software Developers"
          ],
          [
           "Software Developers"
          ],
          [
           "Software Developers"
          ],
          [
           "Software Developers"
          ],
          [
           "Software Developers"
          ],
          [
           "Software Developers"
          ],
          [
           "Software Developers"
          ],
          [
           "Software Developers"
          ],
          [
           "Software Developers"
          ],
          [
           "Software Developers"
          ],
          [
           "Software Developers"
          ],
          [
           "Software Developers"
          ],
          [
           "Software Developers"
          ],
          [
           "Software Developers"
          ],
          [
           "Software Developers"
          ],
          [
           "Software Developers"
          ],
          [
           "Software Developers"
          ],
          [
           "Software Developers"
          ],
          [
           "Software Developers"
          ],
          [
           "Software Developers"
          ],
          [
           "Software Developers"
          ],
          [
           "Software Developers"
          ],
          [
           "Software Developers"
          ],
          [
           "Software Developers"
          ],
          [
           "Software Developers"
          ],
          [
           "Software Developers"
          ],
          [
           "Software Developers"
          ],
          [
           "Software Developers"
          ],
          [
           "Software Developers"
          ],
          [
           "Software Developers"
          ],
          [
           "Software Developers"
          ],
          [
           "Software Developers"
          ],
          [
           "Software Developers"
          ],
          [
           "Software Developers"
          ],
          [
           "Software Developers"
          ],
          [
           "Software Developers"
          ],
          [
           "Software Developers"
          ],
          [
           "Software Developers"
          ],
          [
           "Software Developers"
          ],
          [
           "Software Developers"
          ],
          [
           "Software Developers"
          ],
          [
           "Software Developers"
          ],
          [
           "Software Developers"
          ],
          [
           "Software Developers"
          ],
          [
           "Software Developers"
          ],
          [
           "Software Developers"
          ],
          [
           "Software Developers"
          ],
          [
           "Software Developers"
          ],
          [
           "Software Developers"
          ],
          [
           "Software Developers"
          ],
          [
           "Software Developers"
          ],
          [
           "Software Developers"
          ],
          [
           "Software Developers"
          ],
          [
           "Software Developers"
          ],
          [
           "Software Developers"
          ],
          [
           "Software Developers"
          ],
          [
           "Software Developers"
          ],
          [
           "Software Developers"
          ],
          [
           "Software Developers"
          ],
          [
           "Software Developers"
          ],
          [
           "Software Developers"
          ],
          [
           "Software Developers"
          ],
          [
           "Software Developers"
          ],
          [
           "Software Developers"
          ],
          [
           "Software Developers"
          ],
          [
           "Software Developers"
          ],
          [
           "Software Developers"
          ],
          [
           "Software Developers"
          ],
          [
           "Software Developers"
          ],
          [
           "Software Developers"
          ],
          [
           "Software Developers"
          ],
          [
           "Software Developers"
          ],
          [
           "Software Developers"
          ],
          [
           "Software Developers"
          ],
          [
           "Software Developers"
          ],
          [
           "Software Developers"
          ],
          [
           "Software Developers"
          ],
          [
           "Software Developers"
          ],
          [
           "Software Developers"
          ],
          [
           "Software Developers"
          ],
          [
           "Software Developers"
          ],
          [
           "Software Developers"
          ],
          [
           "Software Developers"
          ],
          [
           "Software Developers"
          ],
          [
           "Software Developers"
          ],
          [
           "Software Developers"
          ],
          [
           "Software Developers"
          ],
          [
           "Software Developers"
          ],
          [
           "Software Developers"
          ],
          [
           "Software Developers"
          ],
          [
           "Software Developers"
          ],
          [
           "Software Developers"
          ],
          [
           "Software Developers"
          ],
          [
           "Software Developers"
          ],
          [
           "Software Developers"
          ],
          [
           "Software Developers"
          ],
          [
           "Software Developers"
          ],
          [
           "Software Developers"
          ],
          [
           "Software Developers"
          ],
          [
           "Software Developers"
          ],
          [
           "Software Developers"
          ],
          [
           "Software Developers"
          ],
          [
           "Software Developers"
          ],
          [
           "Software Developers"
          ],
          [
           "Software Developers"
          ],
          [
           "Software Developers"
          ],
          [
           "Software Developers"
          ],
          [
           "Software Developers"
          ],
          [
           "Software Developers"
          ],
          [
           "Software Developers"
          ],
          [
           "Software Developers"
          ],
          [
           "Software Developers"
          ],
          [
           "Software Developers"
          ],
          [
           "Software Developers"
          ],
          [
           "Software Developers"
          ],
          [
           "Software Developers"
          ],
          [
           "Software Developers"
          ],
          [
           "Software Developers"
          ],
          [
           "Software Developers"
          ],
          [
           "Software Developers"
          ],
          [
           "Software Developers"
          ],
          [
           "Software Developers"
          ],
          [
           "Software Developers"
          ],
          [
           "Software Developers"
          ],
          [
           "Software Developers"
          ],
          [
           "Software Developers"
          ],
          [
           "Software Developers"
          ],
          [
           "Software Developers"
          ],
          [
           "Software Developers"
          ],
          [
           "Software Developers"
          ],
          [
           "Software Developers"
          ],
          [
           "Software Developers"
          ],
          [
           "Software Developers"
          ],
          [
           "Software Developers"
          ],
          [
           "Software Developers"
          ],
          [
           "Software Developers"
          ],
          [
           "Software Developers"
          ],
          [
           "Software Developers"
          ],
          [
           "Software Developers"
          ],
          [
           "Software Developers"
          ],
          [
           "Software Developers"
          ],
          [
           "Software Developers"
          ],
          [
           "Software Developers"
          ],
          [
           "Software Developers"
          ],
          [
           "Software Developers"
          ],
          [
           "Software Developers"
          ],
          [
           "Software Developers"
          ],
          [
           "Software Developers"
          ],
          [
           "Software Developers"
          ],
          [
           "Software Developers"
          ],
          [
           "Software Developers"
          ],
          [
           "Software Developers"
          ],
          [
           "Software Developers"
          ],
          [
           "Software Developers"
          ],
          [
           "Software Developers"
          ],
          [
           "Software Developers"
          ],
          [
           "Software Developers"
          ],
          [
           "Software Developers"
          ],
          [
           "Software Developers"
          ],
          [
           "Software Developers"
          ],
          [
           "Software Developers"
          ],
          [
           "Software Developers"
          ],
          [
           "Software Developers"
          ],
          [
           "Software Developers"
          ],
          [
           "Software Developers"
          ],
          [
           "Software Developers"
          ],
          [
           "Software Developers"
          ],
          [
           "Software Developers"
          ],
          [
           "Software Developers"
          ],
          [
           "Software Developers"
          ],
          [
           "Software Developers"
          ],
          [
           "Software Developers"
          ],
          [
           "Software Developers"
          ],
          [
           "Software Developers"
          ],
          [
           "Software Developers"
          ],
          [
           "Software Developers"
          ],
          [
           "Software Developers"
          ],
          [
           "Software Developers"
          ],
          [
           "Software Developers"
          ],
          [
           "Software Developers"
          ],
          [
           "Software Developers"
          ],
          [
           "Software Developers"
          ],
          [
           "Software Developers"
          ],
          [
           "Software Developers"
          ],
          [
           "Software Developers"
          ],
          [
           "Software Developers"
          ],
          [
           "Software Developers"
          ],
          [
           "Software Developers"
          ],
          [
           "Software Developers"
          ],
          [
           "Software Developers"
          ],
          [
           "Software Developers"
          ],
          [
           "Software Developers"
          ],
          [
           "Software Developers"
          ],
          [
           "Software Developers"
          ],
          [
           "Software Developers"
          ],
          [
           "Software Developers"
          ],
          [
           "Software Developers"
          ],
          [
           "Software Developers"
          ],
          [
           "Software Developers"
          ],
          [
           "Software Developers"
          ],
          [
           "Software Developers"
          ],
          [
           "Software Developers"
          ],
          [
           "Software Developers"
          ],
          [
           "Software Developers"
          ],
          [
           "Software Developers"
          ],
          [
           "Software Developers"
          ],
          [
           "Software Developers"
          ],
          [
           "Software Developers"
          ],
          [
           "Software Developers"
          ],
          [
           "Software Developers"
          ],
          [
           "Software Developers"
          ],
          [
           "Software Developers"
          ],
          [
           "Software Developers"
          ],
          [
           "Software Developers"
          ],
          [
           "Software Developers"
          ],
          [
           "Software Developers"
          ],
          [
           "Software Developers"
          ],
          [
           "Software Developers"
          ],
          [
           "Software Developers"
          ],
          [
           "Software Developers"
          ],
          [
           "Software Developers"
          ],
          [
           "Software Developers"
          ],
          [
           "Software Developers"
          ],
          [
           "Software Developers"
          ],
          [
           "Software Developers"
          ],
          [
           "Software Developers"
          ],
          [
           "Software Developers"
          ],
          [
           "Software Developers"
          ],
          [
           "Software Developers"
          ],
          [
           "Software Developers"
          ],
          [
           "Software Developers"
          ],
          [
           "Software Developers"
          ],
          [
           "Software Developers"
          ],
          [
           "Software Developers"
          ],
          [
           "Software Developers"
          ],
          [
           "Software Developers"
          ],
          [
           "Software Developers"
          ],
          [
           "Software Developers"
          ],
          [
           "Software Developers"
          ],
          [
           "Software Developers"
          ],
          [
           "Software Developers"
          ],
          [
           "Software Developers"
          ],
          [
           "Software Developers"
          ],
          [
           "Software Developers"
          ],
          [
           "Software Developers"
          ],
          [
           "Software Developers"
          ],
          [
           "Software Developers"
          ],
          [
           "Software Developers"
          ],
          [
           "Software Developers"
          ],
          [
           "Software Developers"
          ],
          [
           "Software Developers"
          ],
          [
           "Software Developers"
          ],
          [
           "Software Developers"
          ],
          [
           "Software Developers"
          ],
          [
           "Software Developers"
          ],
          [
           "Software Developers"
          ],
          [
           "Software Developers"
          ],
          [
           "Software Developers"
          ],
          [
           "Software Developers"
          ],
          [
           "Software Developers"
          ],
          [
           "Software Developers"
          ],
          [
           "Software Developers"
          ],
          [
           "Software Developers"
          ],
          [
           "Software Developers"
          ],
          [
           "Software Developers"
          ],
          [
           "Software Developers"
          ],
          [
           "Software Developers"
          ],
          [
           "Software Developers"
          ],
          [
           "Software Developers"
          ],
          [
           "Software Developers"
          ],
          [
           "Software Developers"
          ],
          [
           "Software Developers"
          ],
          [
           "Software Developers"
          ],
          [
           "Software Developers"
          ],
          [
           "Software Developers"
          ],
          [
           "Software Developers"
          ],
          [
           "Software Developers"
          ],
          [
           "Software Developers"
          ],
          [
           "Software Developers"
          ],
          [
           "Software Developers"
          ],
          [
           "Software Developers"
          ],
          [
           "Software Developers"
          ],
          [
           "Software Developers"
          ],
          [
           "Software Developers"
          ],
          [
           "Software Developers"
          ],
          [
           "Software Developers"
          ],
          [
           "Software Developers"
          ],
          [
           "Software Developers"
          ],
          [
           "Software Developers"
          ],
          [
           "Software Developers"
          ],
          [
           "Software Developers"
          ],
          [
           "Software Developers"
          ],
          [
           "Software Developers"
          ],
          [
           "Software Developers"
          ]
         ],
         "hovertemplate": "OCC_TITLE=%{customdata[0]}<br>H_MEDIAN=%{x}<br>A_MEDIAN=%{y}<extra></extra>",
         "legendgroup": "Software Developers",
         "marker": {
          "color": "#EF553B",
          "symbol": "circle"
         },
         "mode": "markers",
         "name": "Software Developers",
         "showlegend": true,
         "type": "scattergl",
         "visible": true,
         "x": [
          "63.59",
          "63.78",
          "60.81",
          "62.40",
          "60.81",
          "46.85",
          "61.76",
          "76.15",
          "63.89",
          "64.90",
          "61.69",
          "63.16",
          "64.08",
          "49.12",
          "56.16",
          "59.55",
          "57.74",
          "58.45",
          "49.03",
          "60.81",
          "62.74",
          "64.54",
          "64.54",
          "43.05",
          "56.97",
          "56.97",
          "60.81",
          "57.79",
          "71.21",
          "55.71",
          "63.26",
          "*",
          "65.67",
          "48.27",
          "48.54",
          "48.17",
          "43.06",
          "40.95",
          "37.49",
          "45.14",
          "46.65",
          "45.69",
          "46.15",
          "41.82",
          "51.85",
          "56.58",
          "52.17",
          "53.99",
          "60.88",
          "38.60",
          "46.67",
          "53.88",
          "41.34",
          "48.98",
          "59.54",
          "54.40",
          "54.43",
          "45.09",
          "50.29",
          "38.14",
          "65.32",
          "70.96",
          "46.88",
          "59.20",
          "36.03",
          "55.66",
          "62.78",
          "53.74",
          "47.51",
          "47.51",
          "62.50",
          "62.50",
          "62.01",
          "63.49",
          "49.37",
          "48.99",
          "51.39",
          "43.00",
          "43.00",
          "47.18",
          "44.51",
          "45.26",
          "43.64",
          "48.80",
          "53.78",
          "49.54",
          "51.44",
          "51.53",
          "47.10",
          "61.08",
          "51.96",
          "51.27",
          "47.89",
          "53.10",
          "76.86",
          "85.80",
          "64.41",
          "61.06",
          "69.41",
          "69.02",
          "64.53",
          "53.24",
          "49.85",
          "54.48",
          "50.26",
          "56.64",
          "65.62",
          "80.34",
          "51.62",
          "53.63",
          "65.32",
          "50.37",
          "48.04",
          "48.06",
          "51.50",
          "60.72",
          "65.51",
          "52.56",
          "61.66",
          "57.60",
          "62.50",
          "48.94",
          "61.31",
          "59.05",
          "61.25",
          "38.86",
          "63.74",
          "63.74",
          "65.89",
          "65.89",
          "58.27",
          "49.79",
          "60.16",
          "49.09",
          "69.44",
          "55.92",
          "55.59",
          "56.61",
          "72.61",
          "72.61",
          "62.50",
          "62.50",
          "62.91",
          "55.25",
          "75.45",
          "79.05",
          "67.61",
          "60.88",
          "48.94",
          "48.94",
          "62.16",
          "68.19",
          "68.19",
          "68.50",
          "62.25",
          "62.25",
          "50.26",
          "62.61",
          "50.26",
          "50.18",
          "50.18",
          "80.12",
          "86.20",
          "57.55",
          "51.02",
          "57.70",
          "61.49",
          "55.82",
          "57.70",
          "69.38",
          "55.30",
          "55.30",
          "68.78",
          "58.87",
          "79.73",
          "57.38",
          "57.38",
          "66.40",
          "66.41",
          "61.45",
          "68.55",
          "65.36",
          "69.10",
          "68.85",
          "84.70",
          "61.27",
          "57.00",
          "70.71",
          "84.70",
          "63.23",
          "63.23",
          "65.59",
          "65.59",
          "89.21",
          "89.21",
          "64.66",
          "64.66",
          "64.99",
          "65.04",
          "65.39",
          "74.62",
          "74.62",
          "60.16",
          "59.60",
          "61.22",
          "55.02",
          "60.96",
          "61.50",
          "60.09",
          "67.05",
          "67.34",
          "66.37",
          "66.91",
          "66.91",
          "50.12",
          "51.12",
          "64.05",
          "64.05",
          "61.69",
          "59.30",
          "61.38",
          "62.33",
          "62.72",
          "49.67",
          "60.59",
          "61.48",
          "58.48",
          "69.01",
          "69.54",
          "51.41",
          "57.26",
          "59.98",
          "64.16",
          "53.74",
          "63.16",
          "63.16",
          "64.10",
          "62.30",
          "60.25",
          "65.51",
          "65.07",
          "55.89",
          "66.37",
          "60.80",
          "60.80",
          "60.94",
          "56.62",
          "58.94",
          "54.38",
          "57.87",
          "52.63",
          "49.12",
          "42.41",
          "48.32",
          "51.88",
          "44.46",
          "45.00",
          "38.27",
          "43.68",
          "38.45",
          "47.18",
          "46.94",
          "42.49",
          "58.86",
          "51.50",
          "53.42",
          "53.42",
          "36.96",
          "34.15",
          "36.96",
          "48.47",
          "48.47",
          "59.34",
          "67.77",
          "58.71",
          "60.91",
          "61.27",
          "58.27",
          "69.71",
          "43.20",
          "74.95",
          "65.10",
          "48.64",
          "60.42",
          "52.16",
          "60.09",
          "60.53",
          "53.87",
          "59.57",
          "52.62",
          "53.87",
          "53.72",
          "61.00",
          "52.62",
          "53.54",
          "49.50",
          "49.50",
          "62.78",
          "65.55",
          "48.34",
          "48.34",
          "63.10",
          "46.63",
          "50.09",
          "50.09",
          "50.66",
          "24.21",
          "51.33",
          "46.46",
          "56.97",
          "61.71",
          "40.69",
          "51.33",
          "39.26",
          "39.26",
          "74.10",
          "36.75",
          "89.24",
          "56.08",
          "58.46",
          "57.87",
          "46.37",
          "60.73",
          "72.56",
          "68.62",
          "73.36",
          "55.54",
          "63.05",
          "62.91",
          "61.23",
          "57.60",
          "40.90",
          "55.77",
          "59.53",
          "52.84",
          "59.58",
          "64.81",
          "49.03",
          "48.19",
          "57.69",
          "55.77",
          "44.41",
          "43.60",
          "54.62",
          "53.01",
          "66.39",
          "61.16",
          "51.53",
          "51.03",
          "44.50",
          "53.17",
          "51.50",
          "61.89",
          "55.56",
          "62.26",
          "49.22",
          "63.11",
          "69.44",
          "68.50",
          "62.45",
          "64.86",
          "48.85",
          "49.39",
          "72.79",
          "59.22",
          "44.30",
          "81.09",
          "64.89",
          "60.14",
          "63.31",
          "67.48",
          "58.81",
          "61.09",
          "50.41",
          "49.38",
          "60.67",
          "50.84",
          "50.92",
          "50.12",
          "49.54",
          "50.41",
          "54.42",
          "66.37",
          "65.93",
          "49.92",
          "60.28",
          "40.96",
          "50.29",
          "52.54",
          "52.79",
          "60.38",
          "61.95",
          "63.31",
          "60.84",
          "69.94",
          "62.80",
          "48.55",
          "51.71",
          "50.02",
          "62.50",
          "53.80",
          "62.02",
          "53.43",
          "39.83",
          "53.20",
          "61.06",
          "56.17",
          "54.14",
          "64.92",
          "78.07",
          "39.13",
          "49.36",
          "66.28",
          "29.34",
          "76.50",
          "50.40",
          "32.68",
          "50.22",
          "55.88",
          "53.71",
          "61.91",
          "50.23",
          "46.39",
          "58.85",
          "50.14",
          "67.83",
          "51.33",
          "39.69",
          "48.59",
          "50.67",
          "48.19",
          "62.36",
          "56.23",
          "41.39",
          "55.29",
          "63.14",
          "63.46",
          "66.52",
          "46.28",
          "48.17",
          "47.47",
          "56.37",
          "32.47",
          "61.67",
          "59.28",
          "48.58",
          "53.15",
          "49.05",
          "47.01",
          "51.01",
          "*",
          "48.77",
          "47.61",
          "51.52",
          "72.82",
          "45.45",
          "62.87",
          "51.90",
          "53.66",
          "55.44",
          "57.04",
          "62.66",
          "47.03",
          "49.57",
          "34.27",
          "58.14",
          "60.57",
          "70.65",
          "49.45",
          "52.10",
          "51.20",
          "49.09",
          "59.75",
          "65.26",
          "57.84",
          "49.34",
          "49.86",
          "62.11",
          "61.08",
          "51.87",
          "47.32",
          "48.07",
          "50.86",
          "49.80",
          "47.44",
          "61.39",
          "46.76",
          "54.42",
          "53.56",
          "48.23",
          "54.97",
          "56.35",
          "56.44",
          "58.53",
          "55.26",
          "62.26",
          "50.72",
          "49.22",
          "44.91",
          "52.78",
          "50.39",
          "49.58",
          "54.37",
          "50.46",
          "64.90",
          "53.95",
          "51.68",
          "40.59",
          "51.13",
          "48.37",
          "51.12",
          "65.25",
          "46.87",
          "47.35",
          "55.82",
          "44.18",
          "48.87",
          "47.91",
          "51.32",
          "35.44",
          "48.04",
          "54.56",
          "47.19",
          "49.98",
          "61.10",
          "53.27",
          "47.73",
          "48.21",
          "47.83",
          "48.48",
          "41.71",
          "48.56",
          "62.23",
          "45.12",
          "48.69",
          "61.49",
          "39.39",
          "58.74",
          "59.53",
          "55.74",
          "46.21",
          "49.09",
          "50.54",
          "48.22",
          "45.60",
          "43.90",
          "58.58",
          "48.17",
          "59.58",
          "49.26",
          "48.83",
          "42.14",
          "56.83",
          "51.46",
          "49.62",
          "46.96",
          "28.83",
          "58.18",
          "66.08",
          "55.28",
          "51.15",
          "53.27",
          "60.44",
          "38.62",
          "53.71",
          "48.00",
          "51.32",
          "47.43",
          "52.45",
          "48.85",
          "40.60",
          "48.10",
          "58.29",
          "51.95",
          "42.85",
          "46.38",
          "49.28",
          "46.82",
          "39.04",
          "51.38",
          "59.07",
          "48.01",
          "51.45",
          "51.72",
          "63.35",
          "56.88",
          "51.53",
          "58.32",
          "51.22",
          "59.76",
          "48.56",
          "44.32",
          "42.22",
          "55.37",
          "48.64",
          "53.17",
          "47.46",
          "46.51",
          "50.37",
          "54.07",
          "58.57",
          "44.98",
          "39.29",
          "48.07",
          "48.48",
          "49.66",
          "45.87",
          "49.02",
          "49.56",
          "45.32",
          "48.45",
          "56.70",
          "73.83",
          "50.96",
          "43.95",
          "53.13",
          "54.16",
          "48.71",
          "50.64",
          "46.55",
          "49.03",
          "46.15",
          "46.84",
          "58.88",
          "54.57",
          "61.01",
          "62.18",
          "47.48",
          "56.95",
          "54.98",
          "51.84",
          "61.40",
          "56.73",
          "47.93",
          "58.48",
          "50.41",
          "48.45",
          "45.36",
          "40.50",
          "47.62",
          "55.47",
          "46.91",
          "44.15",
          "49.20",
          "73.25",
          "60.41",
          "57.40",
          "57.69",
          "56.13",
          "71.68",
          "49.58",
          "55.28",
          "50.69",
          "48.13",
          "57.56",
          "52.48",
          "50.02",
          "55.28",
          "53.91",
          "53.85",
          "46.75",
          "39.55",
          "65.27",
          "58.95",
          "50.69",
          "45.51",
          "56.68",
          "61.13",
          "60.53",
          "51.50",
          "44.58",
          "63.88",
          "51.46",
          "51.63",
          "61.29",
          "50.70",
          "59.39",
          "45.96",
          "63.46",
          "35.50",
          "50.16",
          "62.31",
          "61.05",
          "61.78",
          "64.59",
          "47.85",
          "61.04",
          "52.85",
          "50.58",
          "52.82",
          "57.16",
          "68.38",
          "46.94",
          "48.59",
          "47.65",
          "39.89",
          "52.60",
          "51.25",
          "64.64",
          "58.97",
          "55.65",
          "47.46",
          "59.91",
          "73.36",
          "82.86",
          "95.72",
          "26.41",
          "64.35",
          "68.14",
          "47.29",
          "74.14",
          "69.73",
          "53.84",
          "50.10",
          "80.30",
          "50.65",
          "48.50",
          "52.98",
          "*",
          "52.43",
          "47.81",
          "40.77",
          "49.14",
          "53.04",
          "55.88",
          "56.17",
          "47.89",
          "50.21",
          "49.64",
          "48.64",
          "64.36",
          "57.56",
          "59.51",
          "45.87",
          "57.56",
          "49.29",
          "48.07",
          "48.34",
          "48.57",
          "46.78",
          "62.36",
          "53.51",
          "49.75",
          "45.67",
          "52.70",
          "49.42",
          "48.87",
          "48.36",
          "62.90",
          "46.09",
          "59.80",
          "58.23",
          "63.62",
          "56.72",
          "51.16",
          "53.90",
          "68.03",
          "48.65",
          "57.22",
          "49.01",
          "45.91",
          "59.52",
          "41.63",
          "49.96",
          "52.78",
          "46.86",
          "59.67",
          "61.53",
          "60.04",
          "59.92",
          "48.46",
          "47.43",
          "65.55",
          "48.01",
          "50.43",
          "63.73",
          "66.87",
          "64.99",
          "61.33",
          "59.41",
          "58.37",
          "59.11",
          "53.76",
          "56.75",
          "59.00",
          "60.51",
          "56.88",
          "50.73",
          "56.36",
          "53.73",
          "62.75",
          "62.02",
          "53.30",
          "51.32",
          "61.58",
          "38.75",
          "47.93",
          "44.99",
          "78.91",
          "50.07",
          "37.14",
          "57.52",
          "42.58",
          "63.45",
          "61.74",
          "61.67",
          "57.49",
          "62.34",
          "64.71",
          "49.05",
          "61.08",
          "55.19",
          "54.98",
          "50.71",
          "47.58",
          "51.76",
          "56.55",
          "44.04",
          "44.04",
          "47.38",
          "45.40",
          "47.82",
          "59.80",
          "46.85",
          "48.91",
          "48.06",
          "57.99",
          "50.05",
          "48.48",
          "52.98",
          "43.21",
          "46.68",
          "42.29",
          "40.53",
          "44.81",
          "46.00",
          "*",
          "57.04",
          "56.61",
          "52.93",
          "62.66",
          "43.60",
          "38.64",
          "46.52",
          "49.14",
          "49.37",
          "49.03",
          "47.58",
          "50.47",
          "43.11",
          "41.81",
          "50.31",
          "36.73",
          "44.32",
          "40.81",
          "48.22",
          "47.76",
          "57.23",
          "53.25",
          "49.83",
          "48.66",
          "49.38",
          "46.08",
          "60.13",
          "65.73",
          "56.26",
          "56.67",
          "63.94",
          "50.74",
          "49.19",
          "49.85",
          "52.92",
          "53.79",
          "50.74",
          "51.57",
          "49.66",
          "57.37",
          "47.51",
          "48.80",
          "47.18",
          "48.95",
          "45.80",
          "63.48",
          "47.74",
          "53.73",
          "47.52",
          "57.07",
          "61.30",
          "61.74",
          "45.92",
          "47.58",
          "46.10",
          "45.28",
          "49.98",
          "51.13",
          "39.38",
          "37.98",
          "46.22",
          "51.95",
          "42.94",
          "45.67",
          "59.25",
          "59.10",
          "57.71",
          "56.87",
          "58.55",
          "58.50",
          "46.97",
          "48.85",
          "52.00",
          "60.08",
          "60.40",
          "47.89",
          "56.81",
          "61.94",
          "60.61",
          "39.34",
          "39.18",
          "48.71",
          "45.70",
          "44.50",
          "67.30",
          "71.11",
          "76.50"
         ],
         "xaxis": "x",
         "y": [
          "132,270",
          "132,650",
          "126,490",
          "129,780",
          "126,480",
          "97,450",
          "128,460",
          "158,390",
          "132,900",
          "135,000",
          "128,320",
          "131,370",
          "133,290",
          "102,170",
          "116,810",
          "123,870",
          "120,090",
          "121,580",
          "101,980",
          "126,490",
          "130,500",
          "134,250",
          "134,250",
          "89,550",
          "118,490",
          "118,490",
          "126,480",
          "120,210",
          "148,130",
          "115,880",
          "131,580",
          "*",
          "136,590",
          "100,390",
          "100,970",
          "100,190",
          "89,550",
          "85,180",
          "77,970",
          "93,900",
          "97,030",
          "95,040",
          "96,000",
          "86,990",
          "107,840",
          "117,680",
          "108,520",
          "112,290",
          "126,640",
          "80,280",
          "97,080",
          "112,060",
          "85,990",
          "101,870",
          "123,830",
          "113,150",
          "113,210",
          "93,780",
          "104,610",
          "79,320",
          "135,870",
          "147,590",
          "97,520",
          "123,130",
          "74,950",
          "115,780",
          "130,570",
          "111,780",
          "98,820",
          "98,820",
          "130,010",
          "130,010",
          "128,990",
          "132,060",
          "102,690",
          "101,910",
          "106,880",
          "89,430",
          "89,430",
          "98,140",
          "92,590",
          "94,140",
          "90,770",
          "101,500",
          "111,870",
          "103,040",
          "107,000",
          "107,170",
          "97,960",
          "127,040",
          "108,090",
          "106,640",
          "99,610",
          "110,440",
          "159,870",
          "178,460",
          "133,960",
          "127,000",
          "144,380",
          "143,570",
          "134,220",
          "110,740",
          "103,690",
          "113,320",
          "104,540",
          "117,800",
          "136,490",
          "167,100",
          "107,380",
          "111,560",
          "135,870",
          "104,760",
          "99,920",
          "99,960",
          "107,130",
          "126,290",
          "136,260",
          "109,320",
          "128,250",
          "119,800",
          "130,000",
          "101,800",
          "127,520",
          "122,820",
          "127,400",
          "80,820",
          "132,580",
          "132,580",
          "137,060",
          "137,060",
          "121,200",
          "103,550",
          "125,130",
          "102,110",
          "144,420",
          "116,310",
          "115,620",
          "117,740",
          "151,030",
          "151,030",
          "130,000",
          "130,000",
          "130,840",
          "114,920",
          "156,930",
          "164,430",
          "140,620",
          "126,630",
          "101,800",
          "101,800",
          "129,290",
          "141,830",
          "141,830",
          "142,470",
          "129,470",
          "129,470",
          "104,530",
          "130,220",
          "104,530",
          "104,380",
          "104,380",
          "166,640",
          "179,290",
          "119,710",
          "106,110",
          "120,020",
          "127,900",
          "116,110",
          "120,020",
          "144,300",
          "115,020",
          "115,020",
          "143,060",
          "122,450",
          "165,840",
          "119,340",
          "119,340",
          "138,120",
          "138,120",
          "127,810",
          "142,570",
          "135,960",
          "143,730",
          "143,210",
          "176,170",
          "127,450",
          "118,560",
          "147,070",
          "176,170",
          "131,520",
          "131,520",
          "136,420",
          "136,420",
          "185,570",
          "185,570",
          "134,490",
          "134,490",
          "135,180",
          "135,280",
          "136,020",
          "155,210",
          "155,210",
          "125,130",
          "123,960",
          "127,330",
          "114,430",
          "126,800",
          "127,920",
          "124,990",
          "139,460",
          "140,060",
          "138,040",
          "139,160",
          "139,160",
          "104,240",
          "106,330",
          "133,230",
          "133,230",
          "128,320",
          "123,340",
          "127,670",
          "129,650",
          "130,450",
          "103,300",
          "126,020",
          "127,880",
          "121,630",
          "143,550",
          "144,640",
          "106,930",
          "119,110",
          "124,750",
          "133,460",
          "111,790",
          "131,370",
          "131,370",
          "133,320",
          "129,580",
          "125,310",
          "136,260",
          "135,340",
          "116,260",
          "138,040",
          "126,460",
          "126,450",
          "126,760",
          "117,760",
          "122,600",
          "113,110",
          "120,370",
          "109,470",
          "102,170",
          "88,210",
          "100,510",
          "107,900",
          "92,470",
          "93,600",
          "79,610",
          "90,850",
          "79,980",
          "98,130",
          "97,630",
          "88,380",
          "122,440",
          "107,120",
          "111,110",
          "111,110",
          "76,870",
          "71,030",
          "76,870",
          "100,820",
          "100,820",
          "123,430",
          "140,970",
          "122,110",
          "126,700",
          "127,430",
          "121,190",
          "145,000",
          "89,850",
          "155,900",
          "135,410",
          "101,170",
          "125,680",
          "108,480",
          "124,990",
          "125,910",
          "112,040",
          "123,910",
          "109,450",
          "112,040",
          "111,750",
          "126,880",
          "109,450",
          "111,360",
          "102,950",
          "102,950",
          "130,570",
          "136,340",
          "100,550",
          "100,550",
          "131,260",
          "96,990",
          "104,180",
          "104,180",
          "105,380",
          "50,360",
          "106,770",
          "96,640",
          "118,500",
          "128,370",
          "84,640",
          "106,770",
          "81,660",
          "81,660",
          "154,120",
          "76,450",
          "185,630",
          "116,640",
          "121,590",
          "120,370",
          "96,450",
          "126,310",
          "150,930",
          "142,730",
          "152,590",
          "115,520",
          "131,140",
          "130,860",
          "127,350",
          "119,800",
          "85,060",
          "116,000",
          "123,830",
          "109,920",
          "123,920",
          "134,800",
          "101,980",
          "100,220",
          "120,000",
          "116,000",
          "92,370",
          "90,690",
          "113,600",
          "110,260",
          "138,100",
          "127,210",
          "107,190",
          "106,140",
          "92,560",
          "110,590",
          "107,130",
          "128,720",
          "115,570",
          "129,500",
          "102,380",
          "131,260",
          "144,420",
          "142,480",
          "129,890",
          "134,900",
          "101,610",
          "102,730",
          "151,400",
          "123,180",
          "92,140",
          "168,660",
          "134,960",
          "125,080",
          "131,690",
          "140,360",
          "122,310",
          "127,070",
          "104,860",
          "102,700",
          "126,200",
          "105,740",
          "105,920",
          "104,250",
          "103,030",
          "104,840",
          "113,190",
          "138,050",
          "137,130",
          "103,830",
          "125,380",
          "85,190",
          "104,600",
          "109,270",
          "109,800",
          "125,590",
          "128,860",
          "131,680",
          "126,560",
          "145,470",
          "130,620",
          "100,980",
          "107,560",
          "104,030",
          "130,000",
          "111,910",
          "128,990",
          "111,130",
          "82,850",
          "110,660",
          "127,000",
          "116,830",
          "112,620",
          "135,040",
          "162,390",
          "81,380",
          "102,660",
          "137,860",
          "61,030",
          "159,120",
          "104,830",
          "67,980",
          "104,450",
          "116,230",
          "111,710",
          "128,770",
          "104,480",
          "96,480",
          "122,420",
          "104,300",
          "141,080",
          "106,770",
          "82,550",
          "101,070",
          "105,390",
          "100,240",
          "129,700",
          "116,950",
          "86,080",
          "114,990",
          "131,320",
          "132,000",
          "138,370",
          "96,260",
          "100,200",
          "98,730",
          "117,250",
          "67,530",
          "128,270",
          "123,300",
          "101,040",
          "110,560",
          "102,030",
          "97,770",
          "106,090",
          "*",
          "101,440",
          "99,040",
          "107,160",
          "151,470",
          "94,530",
          "130,770",
          "107,960",
          "111,620",
          "115,310",
          "118,650",
          "130,330",
          "97,810",
          "103,110",
          "71,290",
          "120,920",
          "125,980",
          "146,950",
          "102,850",
          "108,370",
          "106,490",
          "102,110",
          "124,280",
          "135,750",
          "120,310",
          "102,630",
          "103,700",
          "129,180",
          "127,050",
          "107,890",
          "98,430",
          "99,990",
          "105,790",
          "103,580",
          "98,670",
          "127,690",
          "97,270",
          "113,190",
          "111,400",
          "100,310",
          "114,330",
          "117,210",
          "117,400",
          "121,740",
          "114,930",
          "129,490",
          "105,500",
          "102,370",
          "93,420",
          "109,770",
          "104,820",
          "103,120",
          "113,090",
          "104,950",
          "134,990",
          "112,210",
          "107,490",
          "84,430",
          "106,350",
          "100,610",
          "106,320",
          "135,710",
          "97,490",
          "98,480",
          "116,110",
          "91,890",
          "101,640",
          "99,640",
          "106,750",
          "73,710",
          "99,920",
          "113,490",
          "98,140",
          "103,970",
          "127,090",
          "110,800",
          "99,280",
          "100,280",
          "99,480",
          "100,840",
          "86,750",
          "101,010",
          "129,440",
          "93,850",
          "101,280",
          "127,900",
          "81,940",
          "122,180",
          "123,820",
          "115,930",
          "96,120",
          "102,110",
          "105,120",
          "100,300",
          "94,840",
          "91,310",
          "121,850",
          "100,200",
          "123,930",
          "102,460",
          "101,560",
          "87,660",
          "118,200",
          "107,030",
          "103,220",
          "97,680",
          "59,970",
          "121,020",
          "137,440",
          "114,980",
          "106,400",
          "110,800",
          "125,720",
          "80,340",
          "111,710",
          "99,850",
          "106,740",
          "98,650",
          "109,100",
          "101,600",
          "84,440",
          "100,050",
          "121,250",
          "108,050",
          "89,120",
          "96,470",
          "102,510",
          "97,390",
          "81,210",
          "106,870",
          "122,870",
          "99,860",
          "107,010",
          "107,570",
          "131,760",
          "118,320",
          "107,190",
          "121,300",
          "106,530",
          "124,300",
          "101,000",
          "92,180",
          "87,810",
          "115,170",
          "101,180",
          "110,600",
          "98,720",
          "96,730",
          "104,760",
          "112,460",
          "121,830",
          "93,560",
          "81,730",
          "99,990",
          "100,830",
          "103,280",
          "95,400",
          "101,960",
          "103,090",
          "94,270",
          "100,770",
          "117,930",
          "153,560",
          "105,990",
          "91,410",
          "110,500",
          "112,660",
          "101,310",
          "105,330",
          "96,820",
          "101,980",
          "95,990",
          "97,420",
          "122,470",
          "113,500",
          "126,900",
          "129,330",
          "98,750",
          "118,460",
          "114,370",
          "107,830",
          "127,720",
          "118,000",
          "99,700",
          "121,650",
          "104,840",
          "100,780",
          "94,340",
          "84,240",
          "99,050",
          "115,380",
          "97,580",
          "91,830",
          "102,340",
          "152,350",
          "125,640",
          "119,380",
          "120,000",
          "116,750",
          "149,090",
          "103,120",
          "114,980",
          "105,440",
          "100,110",
          "119,730",
          "109,160",
          "104,030",
          "114,980",
          "112,130",
          "112,010",
          "97,240",
          "82,260",
          "135,760",
          "122,620",
          "105,440",
          "94,660",
          "117,900",
          "127,150",
          "125,890",
          "107,110",
          "92,730",
          "132,870",
          "107,040",
          "107,390",
          "127,480",
          "105,450",
          "123,520",
          "95,590",
          "132,000",
          "73,830",
          "104,330",
          "129,610",
          "126,980",
          "128,510",
          "134,350",
          "99,520",
          "126,970",
          "109,940",
          "105,200",
          "109,860",
          "118,890",
          "142,240",
          "97,630",
          "101,060",
          "99,120",
          "82,970",
          "109,400",
          "106,600",
          "134,460",
          "122,670",
          "115,750",
          "98,710",
          "124,600",
          "152,600",
          "172,340",
          "199,100",
          "54,930",
          "133,840",
          "141,730",
          "98,350",
          "154,200",
          "145,050",
          "111,990",
          "104,200",
          "167,030",
          "105,350",
          "100,880",
          "110,190",
          "*",
          "109,060",
          "99,450",
          "84,810",
          "102,220",
          "110,320",
          "116,240",
          "116,830",
          "99,600",
          "104,440",
          "103,260",
          "101,170",
          "133,860",
          "119,720",
          "123,780",
          "95,410",
          "119,720",
          "102,530",
          "99,990",
          "100,550",
          "101,020",
          "97,310",
          "129,700",
          "111,310",
          "103,480",
          "94,990",
          "109,610",
          "102,790",
          "101,650",
          "100,580",
          "130,840",
          "95,880",
          "124,390",
          "121,110",
          "132,330",
          "117,980",
          "106,410",
          "112,120",
          "141,510",
          "101,190",
          "119,020",
          "101,950",
          "95,490",
          "123,810",
          "86,580",
          "103,920",
          "109,790",
          "97,470",
          "124,110",
          "127,990",
          "124,880",
          "124,630",
          "100,810",
          "98,660",
          "136,340",
          "99,860",
          "104,890",
          "132,570",
          "139,090",
          "135,180",
          "127,570",
          "123,570",
          "121,400",
          "122,950",
          "111,810",
          "118,050",
          "122,720",
          "125,860",
          "118,300",
          "105,510",
          "117,230",
          "111,760",
          "130,510",
          "128,990",
          "110,860",
          "106,740",
          "128,090",
          "80,600",
          "99,690",
          "93,590",
          "164,120",
          "104,140",
          "77,240",
          "119,640",
          "88,560",
          "131,980",
          "128,420",
          "128,270",
          "119,580",
          "129,660",
          "134,600",
          "102,030",
          "127,040",
          "114,790",
          "114,360",
          "105,470",
          "98,970",
          "107,660",
          "117,620",
          "91,600",
          "91,600",
          "98,550",
          "94,430",
          "99,460",
          "124,370",
          "97,450",
          "101,740",
          "99,960",
          "120,630",
          "104,090",
          "100,830",
          "110,190",
          "89,880",
          "97,090",
          "87,960",
          "84,290",
          "93,200",
          "95,670",
          "*",
          "118,650",
          "117,740",
          "110,090",
          "130,330",
          "90,690",
          "80,370",
          "96,760",
          "102,210",
          "102,690",
          "101,980",
          "98,960",
          "104,980",
          "89,660",
          "86,960",
          "104,640",
          "76,400",
          "92,190",
          "84,890",
          "100,300",
          "99,330",
          "119,030",
          "110,770",
          "103,640",
          "101,200",
          "102,720",
          "95,850",
          "125,060",
          "136,710",
          "117,020",
          "117,870",
          "133,000",
          "105,540",
          "102,300",
          "103,690",
          "110,080",
          "111,880",
          "105,530",
          "107,270",
          "103,300",
          "119,330",
          "98,810",
          "101,490",
          "98,130",
          "101,820",
          "95,260",
          "132,030",
          "99,290",
          "111,760",
          "98,850",
          "118,710",
          "127,500",
          "128,410",
          "95,520",
          "98,960",
          "95,880",
          "94,180",
          "103,960",
          "106,360",
          "81,910",
          "79,000",
          "96,130",
          "108,050",
          "89,320",
          "94,990",
          "123,230",
          "122,930",
          "120,040",
          "118,280",
          "121,770",
          "121,670",
          "97,700",
          "101,610",
          "108,160",
          "124,960",
          "125,620",
          "99,620",
          "118,160",
          "128,830",
          "126,060",
          "81,840",
          "81,480",
          "101,320",
          "95,060",
          "92,560",
          "139,980",
          "147,910",
          "159,120"
         ],
         "yaxis": "y"
        },
        {
         "customdata": [
          [
           "Web Developers"
          ],
          [
           "Web Developers"
          ],
          [
           "Web Developers"
          ],
          [
           "Web Developers"
          ],
          [
           "Web Developers"
          ],
          [
           "Web Developers"
          ],
          [
           "Web Developers"
          ],
          [
           "Web Developers"
          ],
          [
           "Web Developers"
          ],
          [
           "Web Developers"
          ],
          [
           "Web Developers"
          ],
          [
           "Web Developers"
          ],
          [
           "Web Developers"
          ],
          [
           "Web Developers"
          ],
          [
           "Web Developers"
          ],
          [
           "Web Developers"
          ],
          [
           "Web Developers"
          ],
          [
           "Web Developers"
          ],
          [
           "Web Developers"
          ],
          [
           "Web Developers"
          ],
          [
           "Web Developers"
          ],
          [
           "Web Developers"
          ],
          [
           "Web Developers"
          ],
          [
           "Web Developers"
          ],
          [
           "Web Developers"
          ],
          [
           "Web Developers"
          ],
          [
           "Web Developers"
          ],
          [
           "Web Developers"
          ],
          [
           "Web Developers"
          ],
          [
           "Web Developers"
          ],
          [
           "Web Developers"
          ],
          [
           "Web Developers"
          ],
          [
           "Web Developers"
          ],
          [
           "Web Developers"
          ],
          [
           "Web Developers"
          ],
          [
           "Web Developers"
          ],
          [
           "Web Developers"
          ],
          [
           "Web Developers"
          ],
          [
           "Web Developers"
          ],
          [
           "Web Developers"
          ],
          [
           "Web Developers"
          ],
          [
           "Web Developers"
          ],
          [
           "Web Developers"
          ],
          [
           "Web Developers"
          ],
          [
           "Web Developers"
          ],
          [
           "Web Developers"
          ],
          [
           "Web Developers"
          ],
          [
           "Web Developers"
          ],
          [
           "Web Developers"
          ],
          [
           "Web Developers"
          ],
          [
           "Web Developers"
          ],
          [
           "Web Developers"
          ],
          [
           "Web Developers"
          ],
          [
           "Web Developers"
          ],
          [
           "Web Developers"
          ],
          [
           "Web Developers"
          ],
          [
           "Web Developers"
          ],
          [
           "Web Developers"
          ],
          [
           "Web Developers"
          ],
          [
           "Web Developers"
          ],
          [
           "Web Developers"
          ],
          [
           "Web Developers"
          ],
          [
           "Web Developers"
          ],
          [
           "Web Developers"
          ],
          [
           "Web Developers"
          ],
          [
           "Web Developers"
          ],
          [
           "Web Developers"
          ],
          [
           "Web Developers"
          ],
          [
           "Web Developers"
          ],
          [
           "Web Developers"
          ],
          [
           "Web Developers"
          ],
          [
           "Web Developers"
          ],
          [
           "Web Developers"
          ],
          [
           "Web Developers"
          ],
          [
           "Web Developers"
          ],
          [
           "Web Developers"
          ],
          [
           "Web Developers"
          ],
          [
           "Web Developers"
          ],
          [
           "Web Developers"
          ],
          [
           "Web Developers"
          ],
          [
           "Web Developers"
          ],
          [
           "Web Developers"
          ],
          [
           "Web Developers"
          ],
          [
           "Web Developers"
          ],
          [
           "Web Developers"
          ],
          [
           "Web Developers"
          ],
          [
           "Web Developers"
          ],
          [
           "Web Developers"
          ],
          [
           "Web Developers"
          ],
          [
           "Web Developers"
          ],
          [
           "Web Developers"
          ],
          [
           "Web Developers"
          ],
          [
           "Web Developers"
          ],
          [
           "Web Developers"
          ],
          [
           "Web Developers"
          ],
          [
           "Web Developers"
          ],
          [
           "Web Developers"
          ],
          [
           "Web Developers"
          ],
          [
           "Web Developers"
          ],
          [
           "Web Developers"
          ],
          [
           "Web Developers"
          ],
          [
           "Web Developers"
          ],
          [
           "Web Developers"
          ],
          [
           "Web Developers"
          ],
          [
           "Web Developers"
          ],
          [
           "Web Developers"
          ],
          [
           "Web Developers"
          ],
          [
           "Web Developers"
          ],
          [
           "Web Developers"
          ],
          [
           "Web Developers"
          ],
          [
           "Web Developers"
          ],
          [
           "Web Developers"
          ],
          [
           "Web Developers"
          ],
          [
           "Web Developers"
          ],
          [
           "Web Developers"
          ],
          [
           "Web Developers"
          ],
          [
           "Web Developers"
          ],
          [
           "Web Developers"
          ],
          [
           "Web Developers"
          ],
          [
           "Web Developers"
          ],
          [
           "Web Developers"
          ],
          [
           "Web Developers"
          ],
          [
           "Web Developers"
          ],
          [
           "Web Developers"
          ],
          [
           "Web Developers"
          ],
          [
           "Web Developers"
          ],
          [
           "Web Developers"
          ],
          [
           "Web Developers"
          ],
          [
           "Web Developers"
          ],
          [
           "Web Developers"
          ],
          [
           "Web Developers"
          ],
          [
           "Web Developers"
          ],
          [
           "Web Developers"
          ],
          [
           "Web Developers"
          ],
          [
           "Web Developers"
          ],
          [
           "Web Developers"
          ],
          [
           "Web Developers"
          ],
          [
           "Web Developers"
          ],
          [
           "Web Developers"
          ],
          [
           "Web Developers"
          ],
          [
           "Web Developers"
          ],
          [
           "Web Developers"
          ],
          [
           "Web Developers"
          ],
          [
           "Web Developers"
          ],
          [
           "Web Developers"
          ],
          [
           "Web Developers"
          ],
          [
           "Web Developers"
          ],
          [
           "Web Developers"
          ],
          [
           "Web Developers"
          ],
          [
           "Web Developers"
          ],
          [
           "Web Developers"
          ],
          [
           "Web Developers"
          ],
          [
           "Web Developers"
          ],
          [
           "Web Developers"
          ],
          [
           "Web Developers"
          ],
          [
           "Web Developers"
          ],
          [
           "Web Developers"
          ],
          [
           "Web Developers"
          ],
          [
           "Web Developers"
          ],
          [
           "Web Developers"
          ],
          [
           "Web Developers"
          ],
          [
           "Web Developers"
          ],
          [
           "Web Developers"
          ],
          [
           "Web Developers"
          ],
          [
           "Web Developers"
          ],
          [
           "Web Developers"
          ],
          [
           "Web Developers"
          ],
          [
           "Web Developers"
          ],
          [
           "Web Developers"
          ],
          [
           "Web Developers"
          ],
          [
           "Web Developers"
          ],
          [
           "Web Developers"
          ],
          [
           "Web Developers"
          ],
          [
           "Web Developers"
          ],
          [
           "Web Developers"
          ],
          [
           "Web Developers"
          ],
          [
           "Web Developers"
          ],
          [
           "Web Developers"
          ],
          [
           "Web Developers"
          ],
          [
           "Web Developers"
          ],
          [
           "Web Developers"
          ],
          [
           "Web Developers"
          ],
          [
           "Web Developers"
          ],
          [
           "Web Developers"
          ],
          [
           "Web Developers"
          ],
          [
           "Web Developers"
          ],
          [
           "Web Developers"
          ],
          [
           "Web Developers"
          ],
          [
           "Web Developers"
          ],
          [
           "Web Developers"
          ],
          [
           "Web Developers"
          ],
          [
           "Web Developers"
          ],
          [
           "Web Developers"
          ],
          [
           "Web Developers"
          ],
          [
           "Web Developers"
          ],
          [
           "Web Developers"
          ],
          [
           "Web Developers"
          ],
          [
           "Web Developers"
          ],
          [
           "Web Developers"
          ],
          [
           "Web Developers"
          ],
          [
           "Web Developers"
          ],
          [
           "Web Developers"
          ],
          [
           "Web Developers"
          ],
          [
           "Web Developers"
          ],
          [
           "Web Developers"
          ],
          [
           "Web Developers"
          ],
          [
           "Web Developers"
          ],
          [
           "Web Developers"
          ],
          [
           "Web Developers"
          ],
          [
           "Web Developers"
          ],
          [
           "Web Developers"
          ],
          [
           "Web Developers"
          ],
          [
           "Web Developers"
          ],
          [
           "Web Developers"
          ],
          [
           "Web Developers"
          ],
          [
           "Web Developers"
          ],
          [
           "Web Developers"
          ],
          [
           "Web Developers"
          ],
          [
           "Web Developers"
          ],
          [
           "Web Developers"
          ],
          [
           "Web Developers"
          ],
          [
           "Web Developers"
          ],
          [
           "Web Developers"
          ],
          [
           "Web Developers"
          ],
          [
           "Web Developers"
          ],
          [
           "Web Developers"
          ],
          [
           "Web Developers"
          ],
          [
           "Web Developers"
          ],
          [
           "Web Developers"
          ],
          [
           "Web Developers"
          ],
          [
           "Web Developers"
          ],
          [
           "Web Developers"
          ],
          [
           "Web Developers"
          ],
          [
           "Web Developers"
          ],
          [
           "Web Developers"
          ],
          [
           "Web Developers"
          ],
          [
           "Web Developers"
          ],
          [
           "Web Developers"
          ],
          [
           "Web Developers"
          ],
          [
           "Web Developers"
          ],
          [
           "Web Developers"
          ],
          [
           "Web Developers"
          ],
          [
           "Web Developers"
          ],
          [
           "Web Developers"
          ],
          [
           "Web Developers"
          ],
          [
           "Web Developers"
          ],
          [
           "Web Developers"
          ],
          [
           "Web Developers"
          ],
          [
           "Web Developers"
          ],
          [
           "Web Developers"
          ],
          [
           "Web Developers"
          ],
          [
           "Web Developers"
          ],
          [
           "Web Developers"
          ],
          [
           "Web Developers"
          ],
          [
           "Web Developers"
          ],
          [
           "Web Developers"
          ],
          [
           "Web Developers"
          ],
          [
           "Web Developers"
          ],
          [
           "Web Developers"
          ],
          [
           "Web Developers"
          ],
          [
           "Web Developers"
          ],
          [
           "Web Developers"
          ],
          [
           "Web Developers"
          ],
          [
           "Web Developers"
          ],
          [
           "Web Developers"
          ],
          [
           "Web Developers"
          ],
          [
           "Web Developers"
          ],
          [
           "Web Developers"
          ],
          [
           "Web Developers"
          ],
          [
           "Web Developers"
          ],
          [
           "Web Developers"
          ],
          [
           "Web Developers"
          ],
          [
           "Web Developers"
          ],
          [
           "Web Developers"
          ],
          [
           "Web Developers"
          ],
          [
           "Web Developers"
          ],
          [
           "Web Developers"
          ],
          [
           "Web Developers"
          ],
          [
           "Web Developers"
          ],
          [
           "Web Developers"
          ],
          [
           "Web Developers"
          ],
          [
           "Web Developers"
          ],
          [
           "Web Developers"
          ],
          [
           "Web Developers"
          ],
          [
           "Web Developers"
          ],
          [
           "Web Developers"
          ],
          [
           "Web Developers"
          ],
          [
           "Web Developers"
          ],
          [
           "Web Developers"
          ],
          [
           "Web Developers"
          ],
          [
           "Web Developers"
          ],
          [
           "Web Developers"
          ],
          [
           "Web Developers"
          ],
          [
           "Web Developers"
          ],
          [
           "Web Developers"
          ],
          [
           "Web Developers"
          ],
          [
           "Web Developers"
          ],
          [
           "Web Developers"
          ],
          [
           "Web Developers"
          ],
          [
           "Web Developers"
          ],
          [
           "Web Developers"
          ],
          [
           "Web Developers"
          ],
          [
           "Web Developers"
          ],
          [
           "Web Developers"
          ],
          [
           "Web Developers"
          ],
          [
           "Web Developers"
          ],
          [
           "Web Developers"
          ],
          [
           "Web Developers"
          ],
          [
           "Web Developers"
          ],
          [
           "Web Developers"
          ],
          [
           "Web Developers"
          ],
          [
           "Web Developers"
          ],
          [
           "Web Developers"
          ],
          [
           "Web Developers"
          ],
          [
           "Web Developers"
          ],
          [
           "Web Developers"
          ],
          [
           "Web Developers"
          ],
          [
           "Web Developers"
          ],
          [
           "Web Developers"
          ],
          [
           "Web Developers"
          ],
          [
           "Web Developers"
          ],
          [
           "Web Developers"
          ],
          [
           "Web Developers"
          ],
          [
           "Web Developers"
          ],
          [
           "Web Developers"
          ],
          [
           "Web Developers"
          ],
          [
           "Web Developers"
          ],
          [
           "Web Developers"
          ],
          [
           "Web Developers"
          ],
          [
           "Web Developers"
          ],
          [
           "Web Developers"
          ],
          [
           "Web Developers"
          ],
          [
           "Web Developers"
          ],
          [
           "Web Developers"
          ],
          [
           "Web Developers"
          ],
          [
           "Web Developers"
          ],
          [
           "Web Developers"
          ],
          [
           "Web Developers"
          ],
          [
           "Web Developers"
          ],
          [
           "Web Developers"
          ],
          [
           "Web Developers"
          ],
          [
           "Web Developers"
          ],
          [
           "Web Developers"
          ],
          [
           "Web Developers"
          ],
          [
           "Web Developers"
          ],
          [
           "Web Developers"
          ],
          [
           "Web Developers"
          ],
          [
           "Web Developers"
          ],
          [
           "Web Developers"
          ],
          [
           "Web Developers"
          ],
          [
           "Web Developers"
          ],
          [
           "Web Developers"
          ],
          [
           "Web Developers"
          ],
          [
           "Web Developers"
          ],
          [
           "Web Developers"
          ],
          [
           "Web Developers"
          ],
          [
           "Web Developers"
          ],
          [
           "Web Developers"
          ],
          [
           "Web Developers"
          ],
          [
           "Web Developers"
          ],
          [
           "Web Developers"
          ],
          [
           "Web Developers"
          ],
          [
           "Web Developers"
          ],
          [
           "Web Developers"
          ],
          [
           "Web Developers"
          ],
          [
           "Web Developers"
          ],
          [
           "Web Developers"
          ],
          [
           "Web Developers"
          ],
          [
           "Web Developers"
          ],
          [
           "Web Developers"
          ],
          [
           "Web Developers"
          ],
          [
           "Web Developers"
          ],
          [
           "Web Developers"
          ],
          [
           "Web Developers"
          ],
          [
           "Web Developers"
          ],
          [
           "Web Developers"
          ],
          [
           "Web Developers"
          ],
          [
           "Web Developers"
          ],
          [
           "Web Developers"
          ],
          [
           "Web Developers"
          ],
          [
           "Web Developers"
          ],
          [
           "Web Developers"
          ],
          [
           "Web Developers"
          ],
          [
           "Web Developers"
          ],
          [
           "Web Developers"
          ],
          [
           "Web Developers"
          ],
          [
           "Web Developers"
          ],
          [
           "Web Developers"
          ],
          [
           "Web Developers"
          ],
          [
           "Web Developers"
          ],
          [
           "Web Developers"
          ],
          [
           "Web Developers"
          ],
          [
           "Web Developers"
          ],
          [
           "Web Developers"
          ],
          [
           "Web Developers"
          ],
          [
           "Web Developers"
          ],
          [
           "Web Developers"
          ],
          [
           "Web Developers"
          ],
          [
           "Web Developers"
          ],
          [
           "Web Developers"
          ],
          [
           "Web Developers"
          ],
          [
           "Web Developers"
          ],
          [
           "Web Developers"
          ],
          [
           "Web Developers"
          ],
          [
           "Web Developers"
          ],
          [
           "Web Developers"
          ],
          [
           "Web Developers"
          ],
          [
           "Web Developers"
          ],
          [
           "Web Developers"
          ],
          [
           "Web Developers"
          ],
          [
           "Web Developers"
          ],
          [
           "Web Developers"
          ],
          [
           "Web Developers"
          ],
          [
           "Web Developers"
          ],
          [
           "Web Developers"
          ],
          [
           "Web Developers"
          ],
          [
           "Web Developers"
          ],
          [
           "Web Developers"
          ],
          [
           "Web Developers"
          ],
          [
           "Web Developers"
          ],
          [
           "Web Developers"
          ],
          [
           "Web Developers"
          ],
          [
           "Web Developers"
          ],
          [
           "Web Developers"
          ],
          [
           "Web Developers"
          ],
          [
           "Web Developers"
          ],
          [
           "Web Developers"
          ],
          [
           "Web Developers"
          ],
          [
           "Web Developers"
          ],
          [
           "Web Developers"
          ],
          [
           "Web Developers"
          ],
          [
           "Web Developers"
          ],
          [
           "Web Developers"
          ],
          [
           "Web Developers"
          ],
          [
           "Web Developers"
          ],
          [
           "Web Developers"
          ],
          [
           "Web Developers"
          ],
          [
           "Web Developers"
          ],
          [
           "Web Developers"
          ],
          [
           "Web Developers"
          ],
          [
           "Web Developers"
          ],
          [
           "Web Developers"
          ],
          [
           "Web Developers"
          ],
          [
           "Web Developers"
          ],
          [
           "Web Developers"
          ],
          [
           "Web Developers"
          ],
          [
           "Web Developers"
          ],
          [
           "Web Developers"
          ],
          [
           "Web Developers"
          ],
          [
           "Web Developers"
          ],
          [
           "Web Developers"
          ],
          [
           "Web Developers"
          ],
          [
           "Web Developers"
          ],
          [
           "Web Developers"
          ],
          [
           "Web Developers"
          ],
          [
           "Web Developers"
          ],
          [
           "Web Developers"
          ],
          [
           "Web Developers"
          ],
          [
           "Web Developers"
          ],
          [
           "Web Developers"
          ],
          [
           "Web Developers"
          ],
          [
           "Web Developers"
          ],
          [
           "Web Developers"
          ],
          [
           "Web Developers"
          ],
          [
           "Web Developers"
          ],
          [
           "Web Developers"
          ],
          [
           "Web Developers"
          ],
          [
           "Web Developers"
          ],
          [
           "Web Developers"
          ],
          [
           "Web Developers"
          ],
          [
           "Web Developers"
          ],
          [
           "Web Developers"
          ],
          [
           "Web Developers"
          ],
          [
           "Web Developers"
          ],
          [
           "Web Developers"
          ],
          [
           "Web Developers"
          ],
          [
           "Web Developers"
          ],
          [
           "Web Developers"
          ],
          [
           "Web Developers"
          ],
          [
           "Web Developers"
          ],
          [
           "Web Developers"
          ],
          [
           "Web Developers"
          ],
          [
           "Web Developers"
          ],
          [
           "Web Developers"
          ],
          [
           "Web Developers"
          ],
          [
           "Web Developers"
          ],
          [
           "Web Developers"
          ],
          [
           "Web Developers"
          ],
          [
           "Web Developers"
          ],
          [
           "Web Developers"
          ],
          [
           "Web Developers"
          ],
          [
           "Web Developers"
          ],
          [
           "Web Developers"
          ],
          [
           "Web Developers"
          ],
          [
           "Web Developers"
          ],
          [
           "Web Developers"
          ],
          [
           "Web Developers"
          ],
          [
           "Web Developers"
          ],
          [
           "Web Developers"
          ],
          [
           "Web Developers"
          ],
          [
           "Web Developers"
          ],
          [
           "Web Developers"
          ],
          [
           "Web Developers"
          ],
          [
           "Web Developers"
          ],
          [
           "Web Developers"
          ],
          [
           "Web Developers"
          ],
          [
           "Web Developers"
          ],
          [
           "Web Developers"
          ],
          [
           "Web Developers"
          ],
          [
           "Web Developers"
          ],
          [
           "Web Developers"
          ],
          [
           "Web Developers"
          ],
          [
           "Web Developers"
          ],
          [
           "Web Developers"
          ],
          [
           "Web Developers"
          ],
          [
           "Web Developers"
          ],
          [
           "Web Developers"
          ],
          [
           "Web Developers"
          ],
          [
           "Web Developers"
          ],
          [
           "Web Developers"
          ],
          [
           "Web Developers"
          ],
          [
           "Web Developers"
          ],
          [
           "Web Developers"
          ],
          [
           "Web Developers"
          ],
          [
           "Web Developers"
          ],
          [
           "Web Developers"
          ],
          [
           "Web Developers"
          ],
          [
           "Web Developers"
          ]
         ],
         "hovertemplate": "OCC_TITLE=%{customdata[0]}<br>H_MEDIAN=%{x}<br>A_MEDIAN=%{y}<extra></extra>",
         "legendgroup": "Web Developers",
         "marker": {
          "color": "#00cc96",
          "symbol": "circle"
         },
         "mode": "markers",
         "name": "Web Developers",
         "showlegend": true,
         "type": "scattergl",
         "visible": true,
         "x": [
          "40.84",
          "41.29",
          "41.80",
          "29.96",
          "38.15",
          "49.42",
          "53.72",
          "35.77",
          "39.42",
          "47.59",
          "55.75",
          "37.42",
          "37.03",
          "31.81",
          "30.56",
          "36.76",
          "38.07",
          "41.80",
          "41.80",
          "27.78",
          "27.39",
          "27.78",
          "32.95",
          "29.96",
          "29.96",
          "33.53",
          "37.03",
          "28.04",
          "38.91",
          "40.57",
          "49.44",
          "32.00",
          "43.97",
          "43.97",
          "*",
          "*",
          "29.44",
          "29.44",
          "36.76",
          "42.00",
          "27.04",
          "31.19",
          "20.00",
          "28.89",
          "28.89",
          "40.54",
          "36.63",
          "46.78",
          "37.78",
          "31.92",
          "42.86",
          "30.98",
          "49.31",
          "49.83",
          "49.10",
          "38.33",
          "44.58",
          "37.31",
          "*",
          "49.57",
          "48.77",
          "54.88",
          "47.52",
          "59.94",
          "36.21",
          "39.41",
          "39.16",
          "35.49",
          "39.92",
          "39.11",
          "37.19",
          "43.07",
          "30.10",
          "34.09",
          "38.52",
          "23.64",
          "24.74",
          "22.52",
          "23.64",
          "40.75",
          "43.09",
          "38.00",
          "26.35",
          "36.89",
          "25.40",
          "40.08",
          "40.08",
          "24.32",
          "24.32",
          "24.32",
          "28.87",
          "28.60",
          "*",
          "28.84",
          "23.95",
          "*",
          "32.24",
          "32.47",
          "43.24",
          "43.24",
          "37.21",
          "37.21",
          "41.10",
          "41.10",
          "29.63",
          "29.63",
          "40.27",
          "45.75",
          "35.63",
          "48.38",
          "37.34",
          "32.53",
          "60.81",
          "48.54",
          "30.29",
          "26.50",
          "33.86",
          "54.61",
          "42.24",
          "42.24",
          "52.67",
          "52.67",
          "42.97",
          "42.97",
          "53.26",
          "50.82",
          "47.32",
          "65.23",
          "65.23",
          "49.97",
          "53.72",
          "53.72",
          "42.16",
          "38.90",
          "38.75",
          "48.55",
          "37.38",
          "37.38",
          "*",
          "35.19",
          "35.19",
          "39.42",
          "49.46",
          "52.89",
          "47.52",
          "46.40",
          "61.35",
          "37.02",
          "39.17",
          "40.28",
          "47.10",
          "48.33",
          "38.00",
          "38.08",
          "43.67",
          "47.59",
          "47.59",
          "55.80",
          "47.81",
          "62.82",
          "64.83",
          "27.97",
          "41.45",
          "34.27",
          "34.27",
          "40.69",
          "37.42",
          "34.91",
          "39.22",
          "37.77",
          "39.92",
          "40.58",
          "33.68",
          "36.18",
          "32.04",
          "38.17",
          "38.19",
          "35.64",
          "39.26",
          "31.90",
          "31.90",
          "32.63",
          "32.56",
          "44.39",
          "44.39",
          "31.65",
          "31.44",
          "43.18",
          "42.10",
          "50.12",
          "51.40",
          "45.67",
          "45.36",
          "42.47",
          "43.53",
          "45.61",
          "45.37",
          "39.62",
          "43.53",
          "46.40",
          "38.05",
          "42.58",
          "32.46",
          "32.46",
          "18.80",
          "35.75",
          "41.46",
          "30.61",
          "31.40",
          "35.57",
          "35.57",
          "22.89",
          "19.14",
          "31.93",
          "48.25",
          "25.39",
          "39.16",
          "40.19",
          "37.15",
          "25.70",
          "40.87",
          "27.50",
          "31.87",
          "39.23",
          "38.07",
          "37.63",
          "36.20",
          "35.70",
          "39.73",
          "39.61",
          "38.67",
          "27.55",
          "40.45",
          "44.95",
          "31.73",
          "39.79",
          "40.69",
          "55.95",
          "33.21",
          "26.67",
          "28.51",
          "38.00",
          "30.45",
          "35.82",
          "55.22",
          "*",
          "30.30",
          "42.35",
          "32.19",
          "20.26",
          "53.80",
          "30.88",
          "42.62",
          "49.25",
          "54.08",
          "37.81",
          "42.62",
          "*",
          "28.70",
          "48.36",
          "27.63",
          "33.37",
          "35.03",
          "33.11",
          "31.17",
          "31.68",
          "39.98",
          "48.00",
          "42.53",
          "45.09",
          "27.87",
          "32.90",
          "27.87",
          "33.81",
          "30.30",
          "43.85",
          "38.26",
          "38.09",
          "36.79",
          "30.56",
          "39.98",
          "37.34",
          "30.90",
          "41.95",
          "38.43",
          "42.52",
          "24.41",
          "37.02",
          "44.80",
          "32.08",
          "38.00",
          "50.88",
          "52.12",
          "32.40",
          "32.24",
          "30.24",
          "23.16",
          "38.61",
          "34.47",
          "37.13",
          "41.62",
          "29.06",
          "32.66",
          "45.35",
          "46.91",
          "39.87",
          "40.60",
          "29.14",
          "31.62",
          "28.34",
          "29.71",
          "37.68",
          "31.55",
          "39.60",
          "34.00",
          "37.37",
          "46.84",
          "29.85",
          "39.42",
          "32.32",
          "39.24",
          "31.44",
          "38.57",
          "42.37",
          "36.94",
          "42.25",
          "37.89",
          "42.31",
          "32.90",
          "37.15",
          "30.51",
          "38.28",
          "39.98",
          "31.01",
          "35.75",
          "42.35",
          "44.81",
          "26.59",
          "36.79",
          "29.02",
          "35.20",
          "28.84",
          "34.53",
          "43.04",
          "35.82",
          "41.30",
          "25.27",
          "28.59",
          "37.74",
          "33.79",
          "30.56",
          "21.23",
          "34.02",
          "37.91",
          "27.30",
          "32.70",
          "37.78",
          "40.84",
          "32.17",
          "30.81",
          "38.20",
          "32.78",
          "41.95",
          "14.75",
          "44.80",
          "34.33",
          "32.30",
          "36.74",
          "37.31",
          "40.62",
          "28.79",
          "35.10",
          "35.53",
          "51.91",
          "38.68",
          "33.55",
          "27.90",
          "33.52",
          "34.70",
          "37.97",
          "39.03",
          "29.91",
          "36.55",
          "30.29",
          "30.86",
          "33.81",
          "22.28",
          "37.60",
          "30.10",
          "48.13",
          "37.22",
          "29.49",
          "43.50",
          "35.63",
          "23.69",
          "28.40",
          "32.52",
          "36.99",
          "38.47",
          "28.19",
          "32.29",
          "46.37",
          "27.87",
          "46.66",
          "27.87",
          "32.40",
          "38.17",
          "33.28",
          "39.80",
          "30.33",
          "34.26",
          "33.06",
          "39.00",
          "39.72",
          "38.00",
          "*",
          "30.51",
          "60.23",
          "36.43",
          "29.02",
          "36.12",
          "39.09",
          "46.59",
          "30.03",
          "42.99",
          "36.18",
          "38.22",
          "34.18",
          "33.87",
          "39.10",
          "23.89",
          "34.39",
          "33.35",
          "47.25",
          "38.08",
          "38.71",
          "55.22",
          "38.40",
          "46.22",
          "43.08",
          "27.76",
          "40.00",
          "27.75",
          "33.96",
          "29.88",
          "40.08",
          "44.88",
          "68.26",
          "75.67",
          "21.45",
          "21.53",
          "33.96",
          "48.95",
          "35.07",
          "44.26",
          "55.56",
          "27.42",
          "24.41",
          "32.25",
          "45.69",
          "34.42",
          "39.58",
          "31.64",
          "33.29",
          "45.78",
          "32.83",
          "33.45",
          "48.46",
          "32.35",
          "36.58",
          "31.84",
          "56.08",
          "43.17",
          "34.50",
          "51.96",
          "38.15",
          "25.48",
          "34.56",
          "23.39",
          "36.02",
          "23.58",
          "36.32",
          "49.26",
          "42.81",
          "37.32",
          "50.64",
          "45.61",
          "43.11",
          "42.46",
          "28.12",
          "44.47",
          "38.83",
          "40.82",
          "35.54",
          "22.82",
          "30.30",
          "30.88",
          "48.27",
          "26.90",
          "28.85",
          "27.50",
          "29.86",
          "36.88",
          "30.00",
          "30.20",
          "27.87",
          "34.62",
          "39.14",
          "*",
          "27.43",
          "*",
          "34.62",
          "47.24",
          "35.03",
          "22.08",
          "22.08",
          "23.25",
          "23.25",
          "37.03",
          "29.46",
          "33.11",
          "38.46",
          "38.46",
          "*",
          "31.96",
          "29.52",
          "28.39",
          "36.34"
         ],
         "xaxis": "x",
         "y": [
          "84,960",
          "85,890",
          "86,950",
          "62,320",
          "79,350",
          "102,790",
          "111,740",
          "74,410",
          "81,990",
          "98,990",
          "115,950",
          "77,840",
          "77,010",
          "66,160",
          "63,570",
          "76,460",
          "79,190",
          "86,950",
          "86,950",
          "57,780",
          "56,980",
          "57,780",
          "68,540",
          "62,320",
          "62,320",
          "69,750",
          "77,020",
          "58,320",
          "80,940",
          "84,380",
          "102,840",
          "66,570",
          "91,450",
          "91,450",
          "*",
          "*",
          "61,240",
          "61,240",
          "76,460",
          "87,370",
          "56,250",
          "64,870",
          "41,610",
          "60,090",
          "60,090",
          "84,320",
          "76,190",
          "97,310",
          "78,580",
          "66,390",
          "89,160",
          "64,440",
          "102,560",
          "103,640",
          "102,140",
          "79,730",
          "92,720",
          "77,610",
          "*",
          "103,110",
          "101,450",
          "114,150",
          "98,850",
          "124,670",
          "75,320",
          "81,980",
          "81,460",
          "73,820",
          "83,040",
          "81,340",
          "77,360",
          "89,580",
          "62,600",
          "70,900",
          "80,130",
          "49,180",
          "51,460",
          "46,830",
          "49,180",
          "84,760",
          "89,630",
          "79,040",
          "54,810",
          "76,730",
          "52,840",
          "83,360",
          "83,360",
          "50,580",
          "50,580",
          "50,580",
          "60,050",
          "59,480",
          "*",
          "59,990",
          "49,810",
          "*",
          "67,060",
          "67,540",
          "89,930",
          "89,930",
          "77,400",
          "77,400",
          "85,500",
          "85,500",
          "61,630",
          "61,630",
          "83,750",
          "95,170",
          "74,110",
          "100,620",
          "77,670",
          "67,650",
          "126,480",
          "100,960",
          "63,010",
          "55,110",
          "70,420",
          "113,590",
          "87,850",
          "87,850",
          "109,550",
          "109,550",
          "89,390",
          "89,390",
          "110,780",
          "105,710",
          "98,420",
          "135,690",
          "135,690",
          "103,940",
          "111,740",
          "111,740",
          "87,700",
          "80,910",
          "80,600",
          "100,980",
          "77,750",
          "77,750",
          "*",
          "73,190",
          "73,190",
          "81,990",
          "102,880",
          "110,020",
          "98,840",
          "96,510",
          "127,610",
          "77,010",
          "81,480",
          "83,790",
          "97,970",
          "100,520",
          "79,040",
          "79,200",
          "90,830",
          "98,990",
          "98,990",
          "116,070",
          "99,440",
          "130,660",
          "134,850",
          "58,190",
          "86,220",
          "71,280",
          "71,280",
          "84,640",
          "77,840",
          "72,610",
          "81,580",
          "78,570",
          "83,020",
          "84,410",
          "70,050",
          "75,250",
          "66,640",
          "79,400",
          "79,430",
          "74,120",
          "81,660",
          "66,340",
          "66,340",
          "67,880",
          "67,730",
          "92,330",
          "92,330",
          "65,840",
          "65,400",
          "89,820",
          "87,560",
          "104,260",
          "106,920",
          "94,990",
          "94,340",
          "88,340",
          "90,530",
          "94,860",
          "94,360",
          "82,420",
          "90,530",
          "96,510",
          "79,150",
          "88,560",
          "67,510",
          "67,510",
          "39,100",
          "74,360",
          "86,250",
          "63,660",
          "65,320",
          "73,990",
          "73,990",
          "47,600",
          "39,810",
          "66,420",
          "100,350",
          "52,820",
          "81,450",
          "83,590",
          "77,260",
          "53,460",
          "85,010",
          "57,200",
          "66,290",
          "81,590",
          "79,190",
          "78,260",
          "75,300",
          "74,250",
          "82,640",
          "82,390",
          "80,440",
          "57,300",
          "84,130",
          "93,500",
          "65,990",
          "82,750",
          "84,640",
          "116,370",
          "69,080",
          "55,480",
          "59,290",
          "79,040",
          "63,330",
          "74,500",
          "114,850",
          "*",
          "63,020",
          "88,090",
          "66,960",
          "42,140",
          "111,910",
          "64,240",
          "88,640",
          "102,450",
          "112,490",
          "78,640",
          "88,640",
          "*",
          "59,690",
          "100,580",
          "57,470",
          "69,410",
          "72,870",
          "68,860",
          "64,820",
          "65,890",
          "83,150",
          "99,850",
          "88,460",
          "93,780",
          "57,970",
          "68,430",
          "57,970",
          "70,310",
          "63,020",
          "91,210",
          "79,590",
          "79,230",
          "76,530",
          "63,560",
          "83,160",
          "77,660",
          "64,260",
          "87,260",
          "79,940",
          "88,450",
          "50,770",
          "77,010",
          "93,180",
          "66,720",
          "79,030",
          "105,830",
          "108,410",
          "67,390",
          "67,060",
          "62,890",
          "48,160",
          "80,320",
          "71,700",
          "77,230",
          "86,560",
          "60,440",
          "67,940",
          "94,330",
          "97,560",
          "82,930",
          "84,450",
          "60,600",
          "65,770",
          "58,940",
          "61,790",
          "78,380",
          "65,620",
          "82,370",
          "70,720",
          "77,730",
          "97,430",
          "62,090",
          "81,990",
          "67,230",
          "81,620",
          "65,400",
          "80,230",
          "88,120",
          "76,830",
          "87,870",
          "78,800",
          "88,000",
          "68,420",
          "77,280",
          "63,470",
          "79,630",
          "83,160",
          "64,490",
          "74,360",
          "88,090",
          "93,200",
          "55,300",
          "76,520",
          "60,360",
          "73,210",
          "59,990",
          "71,830",
          "89,530",
          "74,500",
          "85,900",
          "52,560",
          "59,460",
          "78,510",
          "70,280",
          "63,560",
          "44,170",
          "70,760",
          "78,860",
          "56,780",
          "68,010",
          "78,570",
          "84,940",
          "66,910",
          "64,080",
          "79,450",
          "68,170",
          "87,260",
          "30,670",
          "93,180",
          "71,410",
          "67,190",
          "76,410",
          "77,610",
          "84,490",
          "59,870",
          "73,000",
          "73,890",
          "107,960",
          "80,460",
          "69,770",
          "58,030",
          "69,730",
          "72,180",
          "78,980",
          "81,180",
          "62,220",
          "76,020",
          "63,000",
          "64,190",
          "70,310",
          "46,350",
          "78,200",
          "62,600",
          "100,120",
          "77,420",
          "61,340",
          "90,480",
          "74,100",
          "49,280",
          "59,060",
          "67,640",
          "76,940",
          "80,010",
          "58,640",
          "67,150",
          "96,450",
          "57,960",
          "97,040",
          "57,970",
          "67,390",
          "79,400",
          "69,210",
          "82,780",
          "63,080",
          "71,270",
          "68,770",
          "81,110",
          "82,610",
          "79,030",
          "*",
          "63,470",
          "125,280",
          "75,770",
          "60,370",
          "75,140",
          "81,300",
          "96,900",
          "62,470",
          "89,420",
          "75,250",
          "79,500",
          "71,080",
          "70,450",
          "81,340",
          "49,690",
          "71,520",
          "69,370",
          "98,280",
          "79,210",
          "80,510",
          "114,860",
          "79,860",
          "96,130",
          "89,600",
          "57,740",
          "83,200",
          "57,720",
          "70,640",
          "62,150",
          "83,360",
          "93,340",
          "141,980",
          "157,390",
          "44,620",
          "44,770",
          "70,640",
          "101,820",
          "72,940",
          "92,050",
          "115,560",
          "57,030",
          "50,770",
          "67,090",
          "95,020",
          "71,600",
          "82,330",
          "65,820",
          "69,240",
          "95,210",
          "68,290",
          "69,580",
          "100,790",
          "67,290",
          "76,090",
          "66,230",
          "116,640",
          "89,790",
          "71,760",
          "108,070",
          "79,350",
          "53,000",
          "71,890",
          "48,660",
          "74,930",
          "49,040",
          "75,550",
          "102,460",
          "89,040",
          "77,630",
          "105,330",
          "94,860",
          "89,660",
          "88,320",
          "58,480",
          "92,490",
          "80,760",
          "84,900",
          "73,920",
          "47,460",
          "63,030",
          "64,240",
          "100,400",
          "55,960",
          "60,000",
          "57,210",
          "62,120",
          "76,710",
          "62,400",
          "62,810",
          "57,970",
          "72,010",
          "81,420",
          "*",
          "57,040",
          "*",
          "72,010",
          "98,260",
          "72,860",
          "45,930",
          "45,930",
          "48,370",
          "48,370",
          "77,020",
          "61,280",
          "68,860",
          "80,000",
          "79,990",
          "*",
          "66,470",
          "61,390",
          "59,040",
          "75,590"
         ],
         "yaxis": "y"
        },
        {
         "customdata": [
          [
           "Data Scientists"
          ],
          [
           "Data Scientists"
          ],
          [
           "Data Scientists"
          ],
          [
           "Data Scientists"
          ],
          [
           "Data Scientists"
          ],
          [
           "Data Scientists"
          ],
          [
           "Data Scientists"
          ],
          [
           "Data Scientists"
          ],
          [
           "Data Scientists"
          ],
          [
           "Data Scientists"
          ],
          [
           "Data Scientists"
          ],
          [
           "Data Scientists"
          ],
          [
           "Data Scientists"
          ],
          [
           "Data Scientists"
          ],
          [
           "Data Scientists"
          ],
          [
           "Data Scientists"
          ],
          [
           "Data Scientists"
          ],
          [
           "Data Scientists"
          ],
          [
           "Data Scientists"
          ],
          [
           "Data Scientists"
          ],
          [
           "Data Scientists"
          ],
          [
           "Data Scientists"
          ],
          [
           "Data Scientists"
          ],
          [
           "Data Scientists"
          ],
          [
           "Data Scientists"
          ],
          [
           "Data Scientists"
          ],
          [
           "Data Scientists"
          ],
          [
           "Data Scientists"
          ],
          [
           "Data Scientists"
          ],
          [
           "Data Scientists"
          ],
          [
           "Data Scientists"
          ],
          [
           "Data Scientists"
          ],
          [
           "Data Scientists"
          ],
          [
           "Data Scientists"
          ],
          [
           "Data Scientists"
          ],
          [
           "Data Scientists"
          ],
          [
           "Data Scientists"
          ],
          [
           "Data Scientists"
          ],
          [
           "Data Scientists"
          ],
          [
           "Data Scientists"
          ],
          [
           "Data Scientists"
          ],
          [
           "Data Scientists"
          ],
          [
           "Data Scientists"
          ],
          [
           "Data Scientists"
          ],
          [
           "Data Scientists"
          ],
          [
           "Data Scientists"
          ],
          [
           "Data Scientists"
          ],
          [
           "Data Scientists"
          ],
          [
           "Data Scientists"
          ],
          [
           "Data Scientists"
          ],
          [
           "Data Scientists"
          ],
          [
           "Data Scientists"
          ],
          [
           "Data Scientists"
          ],
          [
           "Data Scientists"
          ],
          [
           "Data Scientists"
          ],
          [
           "Data Scientists"
          ],
          [
           "Data Scientists"
          ],
          [
           "Data Scientists"
          ],
          [
           "Data Scientists"
          ],
          [
           "Data Scientists"
          ],
          [
           "Data Scientists"
          ],
          [
           "Data Scientists"
          ],
          [
           "Data Scientists"
          ],
          [
           "Data Scientists"
          ],
          [
           "Data Scientists"
          ],
          [
           "Data Scientists"
          ],
          [
           "Data Scientists"
          ],
          [
           "Data Scientists"
          ],
          [
           "Data Scientists"
          ],
          [
           "Data Scientists"
          ],
          [
           "Data Scientists"
          ],
          [
           "Data Scientists"
          ],
          [
           "Data Scientists"
          ],
          [
           "Data Scientists"
          ],
          [
           "Data Scientists"
          ],
          [
           "Data Scientists"
          ],
          [
           "Data Scientists"
          ],
          [
           "Data Scientists"
          ],
          [
           "Data Scientists"
          ],
          [
           "Data Scientists"
          ],
          [
           "Data Scientists"
          ],
          [
           "Data Scientists"
          ],
          [
           "Data Scientists"
          ],
          [
           "Data Scientists"
          ],
          [
           "Data Scientists"
          ],
          [
           "Data Scientists"
          ],
          [
           "Data Scientists"
          ],
          [
           "Data Scientists"
          ],
          [
           "Data Scientists"
          ],
          [
           "Data Scientists"
          ],
          [
           "Data Scientists"
          ],
          [
           "Data Scientists"
          ],
          [
           "Data Scientists"
          ],
          [
           "Data Scientists"
          ],
          [
           "Data Scientists"
          ],
          [
           "Data Scientists"
          ],
          [
           "Data Scientists"
          ],
          [
           "Data Scientists"
          ],
          [
           "Data Scientists"
          ],
          [
           "Data Scientists"
          ],
          [
           "Data Scientists"
          ],
          [
           "Data Scientists"
          ],
          [
           "Data Scientists"
          ],
          [
           "Data Scientists"
          ],
          [
           "Data Scientists"
          ],
          [
           "Data Scientists"
          ],
          [
           "Data Scientists"
          ],
          [
           "Data Scientists"
          ],
          [
           "Data Scientists"
          ],
          [
           "Data Scientists"
          ],
          [
           "Data Scientists"
          ],
          [
           "Data Scientists"
          ],
          [
           "Data Scientists"
          ],
          [
           "Data Scientists"
          ],
          [
           "Data Scientists"
          ],
          [
           "Data Scientists"
          ],
          [
           "Data Scientists"
          ],
          [
           "Data Scientists"
          ],
          [
           "Data Scientists"
          ],
          [
           "Data Scientists"
          ],
          [
           "Data Scientists"
          ],
          [
           "Data Scientists"
          ],
          [
           "Data Scientists"
          ],
          [
           "Data Scientists"
          ],
          [
           "Data Scientists"
          ],
          [
           "Data Scientists"
          ],
          [
           "Data Scientists"
          ],
          [
           "Data Scientists"
          ],
          [
           "Data Scientists"
          ],
          [
           "Data Scientists"
          ],
          [
           "Data Scientists"
          ],
          [
           "Data Scientists"
          ],
          [
           "Data Scientists"
          ],
          [
           "Data Scientists"
          ],
          [
           "Data Scientists"
          ],
          [
           "Data Scientists"
          ],
          [
           "Data Scientists"
          ],
          [
           "Data Scientists"
          ],
          [
           "Data Scientists"
          ],
          [
           "Data Scientists"
          ],
          [
           "Data Scientists"
          ],
          [
           "Data Scientists"
          ],
          [
           "Data Scientists"
          ],
          [
           "Data Scientists"
          ],
          [
           "Data Scientists"
          ],
          [
           "Data Scientists"
          ],
          [
           "Data Scientists"
          ],
          [
           "Data Scientists"
          ],
          [
           "Data Scientists"
          ],
          [
           "Data Scientists"
          ],
          [
           "Data Scientists"
          ],
          [
           "Data Scientists"
          ],
          [
           "Data Scientists"
          ],
          [
           "Data Scientists"
          ],
          [
           "Data Scientists"
          ],
          [
           "Data Scientists"
          ],
          [
           "Data Scientists"
          ],
          [
           "Data Scientists"
          ],
          [
           "Data Scientists"
          ],
          [
           "Data Scientists"
          ],
          [
           "Data Scientists"
          ],
          [
           "Data Scientists"
          ],
          [
           "Data Scientists"
          ],
          [
           "Data Scientists"
          ],
          [
           "Data Scientists"
          ],
          [
           "Data Scientists"
          ],
          [
           "Data Scientists"
          ],
          [
           "Data Scientists"
          ],
          [
           "Data Scientists"
          ],
          [
           "Data Scientists"
          ],
          [
           "Data Scientists"
          ],
          [
           "Data Scientists"
          ],
          [
           "Data Scientists"
          ],
          [
           "Data Scientists"
          ],
          [
           "Data Scientists"
          ],
          [
           "Data Scientists"
          ],
          [
           "Data Scientists"
          ],
          [
           "Data Scientists"
          ],
          [
           "Data Scientists"
          ],
          [
           "Data Scientists"
          ],
          [
           "Data Scientists"
          ],
          [
           "Data Scientists"
          ],
          [
           "Data Scientists"
          ],
          [
           "Data Scientists"
          ],
          [
           "Data Scientists"
          ],
          [
           "Data Scientists"
          ],
          [
           "Data Scientists"
          ],
          [
           "Data Scientists"
          ],
          [
           "Data Scientists"
          ],
          [
           "Data Scientists"
          ],
          [
           "Data Scientists"
          ],
          [
           "Data Scientists"
          ],
          [
           "Data Scientists"
          ],
          [
           "Data Scientists"
          ],
          [
           "Data Scientists"
          ],
          [
           "Data Scientists"
          ],
          [
           "Data Scientists"
          ],
          [
           "Data Scientists"
          ],
          [
           "Data Scientists"
          ],
          [
           "Data Scientists"
          ],
          [
           "Data Scientists"
          ],
          [
           "Data Scientists"
          ],
          [
           "Data Scientists"
          ],
          [
           "Data Scientists"
          ],
          [
           "Data Scientists"
          ],
          [
           "Data Scientists"
          ],
          [
           "Data Scientists"
          ],
          [
           "Data Scientists"
          ],
          [
           "Data Scientists"
          ],
          [
           "Data Scientists"
          ],
          [
           "Data Scientists"
          ],
          [
           "Data Scientists"
          ],
          [
           "Data Scientists"
          ],
          [
           "Data Scientists"
          ],
          [
           "Data Scientists"
          ],
          [
           "Data Scientists"
          ],
          [
           "Data Scientists"
          ],
          [
           "Data Scientists"
          ],
          [
           "Data Scientists"
          ],
          [
           "Data Scientists"
          ],
          [
           "Data Scientists"
          ],
          [
           "Data Scientists"
          ],
          [
           "Data Scientists"
          ],
          [
           "Data Scientists"
          ],
          [
           "Data Scientists"
          ],
          [
           "Data Scientists"
          ],
          [
           "Data Scientists"
          ],
          [
           "Data Scientists"
          ],
          [
           "Data Scientists"
          ],
          [
           "Data Scientists"
          ],
          [
           "Data Scientists"
          ],
          [
           "Data Scientists"
          ],
          [
           "Data Scientists"
          ],
          [
           "Data Scientists"
          ],
          [
           "Data Scientists"
          ],
          [
           "Data Scientists"
          ],
          [
           "Data Scientists"
          ],
          [
           "Data Scientists"
          ],
          [
           "Data Scientists"
          ],
          [
           "Data Scientists"
          ],
          [
           "Data Scientists"
          ],
          [
           "Data Scientists"
          ],
          [
           "Data Scientists"
          ],
          [
           "Data Scientists"
          ],
          [
           "Data Scientists"
          ],
          [
           "Data Scientists"
          ],
          [
           "Data Scientists"
          ],
          [
           "Data Scientists"
          ],
          [
           "Data Scientists"
          ],
          [
           "Data Scientists"
          ],
          [
           "Data Scientists"
          ],
          [
           "Data Scientists"
          ],
          [
           "Data Scientists"
          ],
          [
           "Data Scientists"
          ],
          [
           "Data Scientists"
          ],
          [
           "Data Scientists"
          ],
          [
           "Data Scientists"
          ],
          [
           "Data Scientists"
          ],
          [
           "Data Scientists"
          ],
          [
           "Data Scientists"
          ],
          [
           "Data Scientists"
          ],
          [
           "Data Scientists"
          ],
          [
           "Data Scientists"
          ],
          [
           "Data Scientists"
          ],
          [
           "Data Scientists"
          ],
          [
           "Data Scientists"
          ],
          [
           "Data Scientists"
          ],
          [
           "Data Scientists"
          ],
          [
           "Data Scientists"
          ],
          [
           "Data Scientists"
          ],
          [
           "Data Scientists"
          ],
          [
           "Data Scientists"
          ],
          [
           "Data Scientists"
          ],
          [
           "Data Scientists"
          ],
          [
           "Data Scientists"
          ],
          [
           "Data Scientists"
          ],
          [
           "Data Scientists"
          ],
          [
           "Data Scientists"
          ],
          [
           "Data Scientists"
          ],
          [
           "Data Scientists"
          ],
          [
           "Data Scientists"
          ],
          [
           "Data Scientists"
          ],
          [
           "Data Scientists"
          ],
          [
           "Data Scientists"
          ],
          [
           "Data Scientists"
          ],
          [
           "Data Scientists"
          ],
          [
           "Data Scientists"
          ],
          [
           "Data Scientists"
          ],
          [
           "Data Scientists"
          ],
          [
           "Data Scientists"
          ],
          [
           "Data Scientists"
          ],
          [
           "Data Scientists"
          ],
          [
           "Data Scientists"
          ],
          [
           "Data Scientists"
          ],
          [
           "Data Scientists"
          ],
          [
           "Data Scientists"
          ],
          [
           "Data Scientists"
          ],
          [
           "Data Scientists"
          ],
          [
           "Data Scientists"
          ],
          [
           "Data Scientists"
          ],
          [
           "Data Scientists"
          ],
          [
           "Data Scientists"
          ],
          [
           "Data Scientists"
          ],
          [
           "Data Scientists"
          ],
          [
           "Data Scientists"
          ],
          [
           "Data Scientists"
          ],
          [
           "Data Scientists"
          ],
          [
           "Data Scientists"
          ],
          [
           "Data Scientists"
          ],
          [
           "Data Scientists"
          ],
          [
           "Data Scientists"
          ],
          [
           "Data Scientists"
          ],
          [
           "Data Scientists"
          ],
          [
           "Data Scientists"
          ],
          [
           "Data Scientists"
          ],
          [
           "Data Scientists"
          ],
          [
           "Data Scientists"
          ],
          [
           "Data Scientists"
          ],
          [
           "Data Scientists"
          ],
          [
           "Data Scientists"
          ],
          [
           "Data Scientists"
          ],
          [
           "Data Scientists"
          ],
          [
           "Data Scientists"
          ],
          [
           "Data Scientists"
          ],
          [
           "Data Scientists"
          ],
          [
           "Data Scientists"
          ],
          [
           "Data Scientists"
          ],
          [
           "Data Scientists"
          ],
          [
           "Data Scientists"
          ],
          [
           "Data Scientists"
          ],
          [
           "Data Scientists"
          ],
          [
           "Data Scientists"
          ],
          [
           "Data Scientists"
          ],
          [
           "Data Scientists"
          ],
          [
           "Data Scientists"
          ],
          [
           "Data Scientists"
          ],
          [
           "Data Scientists"
          ],
          [
           "Data Scientists"
          ],
          [
           "Data Scientists"
          ],
          [
           "Data Scientists"
          ],
          [
           "Data Scientists"
          ],
          [
           "Data Scientists"
          ],
          [
           "Data Scientists"
          ],
          [
           "Data Scientists"
          ],
          [
           "Data Scientists"
          ],
          [
           "Data Scientists"
          ],
          [
           "Data Scientists"
          ],
          [
           "Data Scientists"
          ],
          [
           "Data Scientists"
          ],
          [
           "Data Scientists"
          ],
          [
           "Data Scientists"
          ],
          [
           "Data Scientists"
          ],
          [
           "Data Scientists"
          ],
          [
           "Data Scientists"
          ],
          [
           "Data Scientists"
          ],
          [
           "Data Scientists"
          ],
          [
           "Data Scientists"
          ],
          [
           "Data Scientists"
          ],
          [
           "Data Scientists"
          ],
          [
           "Data Scientists"
          ],
          [
           "Data Scientists"
          ],
          [
           "Data Scientists"
          ],
          [
           "Data Scientists"
          ],
          [
           "Data Scientists"
          ],
          [
           "Data Scientists"
          ],
          [
           "Data Scientists"
          ],
          [
           "Data Scientists"
          ],
          [
           "Data Scientists"
          ],
          [
           "Data Scientists"
          ],
          [
           "Data Scientists"
          ],
          [
           "Data Scientists"
          ],
          [
           "Data Scientists"
          ],
          [
           "Data Scientists"
          ],
          [
           "Data Scientists"
          ],
          [
           "Data Scientists"
          ],
          [
           "Data Scientists"
          ],
          [
           "Data Scientists"
          ],
          [
           "Data Scientists"
          ],
          [
           "Data Scientists"
          ],
          [
           "Data Scientists"
          ],
          [
           "Data Scientists"
          ],
          [
           "Data Scientists"
          ],
          [
           "Data Scientists"
          ],
          [
           "Data Scientists"
          ],
          [
           "Data Scientists"
          ],
          [
           "Data Scientists"
          ],
          [
           "Data Scientists"
          ],
          [
           "Data Scientists"
          ],
          [
           "Data Scientists"
          ],
          [
           "Data Scientists"
          ],
          [
           "Data Scientists"
          ],
          [
           "Data Scientists"
          ],
          [
           "Data Scientists"
          ],
          [
           "Data Scientists"
          ],
          [
           "Data Scientists"
          ],
          [
           "Data Scientists"
          ],
          [
           "Data Scientists"
          ],
          [
           "Data Scientists"
          ],
          [
           "Data Scientists"
          ],
          [
           "Data Scientists"
          ],
          [
           "Data Scientists"
          ],
          [
           "Data Scientists"
          ],
          [
           "Data Scientists"
          ],
          [
           "Data Scientists"
          ],
          [
           "Data Scientists"
          ],
          [
           "Data Scientists"
          ],
          [
           "Data Scientists"
          ],
          [
           "Data Scientists"
          ],
          [
           "Data Scientists"
          ],
          [
           "Data Scientists"
          ],
          [
           "Data Scientists"
          ],
          [
           "Data Scientists"
          ],
          [
           "Data Scientists"
          ],
          [
           "Data Scientists"
          ],
          [
           "Data Scientists"
          ],
          [
           "Data Scientists"
          ],
          [
           "Data Scientists"
          ],
          [
           "Data Scientists"
          ],
          [
           "Data Scientists"
          ],
          [
           "Data Scientists"
          ],
          [
           "Data Scientists"
          ],
          [
           "Data Scientists"
          ],
          [
           "Data Scientists"
          ],
          [
           "Data Scientists"
          ],
          [
           "Data Scientists"
          ],
          [
           "Data Scientists"
          ],
          [
           "Data Scientists"
          ],
          [
           "Data Scientists"
          ],
          [
           "Data Scientists"
          ],
          [
           "Data Scientists"
          ],
          [
           "Data Scientists"
          ],
          [
           "Data Scientists"
          ],
          [
           "Data Scientists"
          ],
          [
           "Data Scientists"
          ],
          [
           "Data Scientists"
          ],
          [
           "Data Scientists"
          ],
          [
           "Data Scientists"
          ],
          [
           "Data Scientists"
          ],
          [
           "Data Scientists"
          ],
          [
           "Data Scientists"
          ],
          [
           "Data Scientists"
          ],
          [
           "Data Scientists"
          ],
          [
           "Data Scientists"
          ],
          [
           "Data Scientists"
          ],
          [
           "Data Scientists"
          ],
          [
           "Data Scientists"
          ],
          [
           "Data Scientists"
          ],
          [
           "Data Scientists"
          ],
          [
           "Data Scientists"
          ],
          [
           "Data Scientists"
          ],
          [
           "Data Scientists"
          ],
          [
           "Data Scientists"
          ],
          [
           "Data Scientists"
          ],
          [
           "Data Scientists"
          ],
          [
           "Data Scientists"
          ],
          [
           "Data Scientists"
          ],
          [
           "Data Scientists"
          ],
          [
           "Data Scientists"
          ],
          [
           "Data Scientists"
          ],
          [
           "Data Scientists"
          ],
          [
           "Data Scientists"
          ],
          [
           "Data Scientists"
          ],
          [
           "Data Scientists"
          ],
          [
           "Data Scientists"
          ],
          [
           "Data Scientists"
          ],
          [
           "Data Scientists"
          ],
          [
           "Data Scientists"
          ],
          [
           "Data Scientists"
          ],
          [
           "Data Scientists"
          ],
          [
           "Data Scientists"
          ],
          [
           "Data Scientists"
          ],
          [
           "Data Scientists"
          ],
          [
           "Data Scientists"
          ],
          [
           "Data Scientists"
          ],
          [
           "Data Scientists"
          ],
          [
           "Data Scientists"
          ],
          [
           "Data Scientists"
          ],
          [
           "Data Scientists"
          ],
          [
           "Data Scientists"
          ],
          [
           "Data Scientists"
          ],
          [
           "Data Scientists"
          ],
          [
           "Data Scientists"
          ],
          [
           "Data Scientists"
          ],
          [
           "Data Scientists"
          ],
          [
           "Data Scientists"
          ],
          [
           "Data Scientists"
          ],
          [
           "Data Scientists"
          ],
          [
           "Data Scientists"
          ],
          [
           "Data Scientists"
          ],
          [
           "Data Scientists"
          ],
          [
           "Data Scientists"
          ],
          [
           "Data Scientists"
          ],
          [
           "Data Scientists"
          ],
          [
           "Data Scientists"
          ],
          [
           "Data Scientists"
          ],
          [
           "Data Scientists"
          ],
          [
           "Data Scientists"
          ],
          [
           "Data Scientists"
          ],
          [
           "Data Scientists"
          ],
          [
           "Data Scientists"
          ],
          [
           "Data Scientists"
          ],
          [
           "Data Scientists"
          ],
          [
           "Data Scientists"
          ],
          [
           "Data Scientists"
          ],
          [
           "Data Scientists"
          ],
          [
           "Data Scientists"
          ],
          [
           "Data Scientists"
          ],
          [
           "Data Scientists"
          ],
          [
           "Data Scientists"
          ],
          [
           "Data Scientists"
          ],
          [
           "Data Scientists"
          ],
          [
           "Data Scientists"
          ],
          [
           "Data Scientists"
          ],
          [
           "Data Scientists"
          ],
          [
           "Data Scientists"
          ],
          [
           "Data Scientists"
          ],
          [
           "Data Scientists"
          ],
          [
           "Data Scientists"
          ],
          [
           "Data Scientists"
          ],
          [
           "Data Scientists"
          ],
          [
           "Data Scientists"
          ],
          [
           "Data Scientists"
          ],
          [
           "Data Scientists"
          ],
          [
           "Data Scientists"
          ],
          [
           "Data Scientists"
          ],
          [
           "Data Scientists"
          ],
          [
           "Data Scientists"
          ],
          [
           "Data Scientists"
          ],
          [
           "Data Scientists"
          ],
          [
           "Data Scientists"
          ],
          [
           "Data Scientists"
          ],
          [
           "Data Scientists"
          ],
          [
           "Data Scientists"
          ],
          [
           "Data Scientists"
          ],
          [
           "Data Scientists"
          ],
          [
           "Data Scientists"
          ],
          [
           "Data Scientists"
          ],
          [
           "Data Scientists"
          ],
          [
           "Data Scientists"
          ],
          [
           "Data Scientists"
          ],
          [
           "Data Scientists"
          ],
          [
           "Data Scientists"
          ],
          [
           "Data Scientists"
          ],
          [
           "Data Scientists"
          ],
          [
           "Data Scientists"
          ],
          [
           "Data Scientists"
          ],
          [
           "Data Scientists"
          ],
          [
           "Data Scientists"
          ],
          [
           "Data Scientists"
          ],
          [
           "Data Scientists"
          ],
          [
           "Data Scientists"
          ],
          [
           "Data Scientists"
          ],
          [
           "Data Scientists"
          ],
          [
           "Data Scientists"
          ],
          [
           "Data Scientists"
          ],
          [
           "Data Scientists"
          ],
          [
           "Data Scientists"
          ],
          [
           "Data Scientists"
          ],
          [
           "Data Scientists"
          ],
          [
           "Data Scientists"
          ],
          [
           "Data Scientists"
          ],
          [
           "Data Scientists"
          ],
          [
           "Data Scientists"
          ],
          [
           "Data Scientists"
          ],
          [
           "Data Scientists"
          ],
          [
           "Data Scientists"
          ],
          [
           "Data Scientists"
          ],
          [
           "Data Scientists"
          ],
          [
           "Data Scientists"
          ],
          [
           "Data Scientists"
          ],
          [
           "Data Scientists"
          ],
          [
           "Data Scientists"
          ],
          [
           "Data Scientists"
          ],
          [
           "Data Scientists"
          ],
          [
           "Data Scientists"
          ],
          [
           "Data Scientists"
          ],
          [
           "Data Scientists"
          ],
          [
           "Data Scientists"
          ],
          [
           "Data Scientists"
          ],
          [
           "Data Scientists"
          ],
          [
           "Data Scientists"
          ],
          [
           "Data Scientists"
          ],
          [
           "Data Scientists"
          ],
          [
           "Data Scientists"
          ],
          [
           "Data Scientists"
          ],
          [
           "Data Scientists"
          ],
          [
           "Data Scientists"
          ],
          [
           "Data Scientists"
          ],
          [
           "Data Scientists"
          ],
          [
           "Data Scientists"
          ],
          [
           "Data Scientists"
          ],
          [
           "Data Scientists"
          ],
          [
           "Data Scientists"
          ],
          [
           "Data Scientists"
          ],
          [
           "Data Scientists"
          ],
          [
           "Data Scientists"
          ],
          [
           "Data Scientists"
          ],
          [
           "Data Scientists"
          ],
          [
           "Data Scientists"
          ],
          [
           "Data Scientists"
          ],
          [
           "Data Scientists"
          ],
          [
           "Data Scientists"
          ],
          [
           "Data Scientists"
          ],
          [
           "Data Scientists"
          ],
          [
           "Data Scientists"
          ],
          [
           "Data Scientists"
          ],
          [
           "Data Scientists"
          ],
          [
           "Data Scientists"
          ],
          [
           "Data Scientists"
          ],
          [
           "Data Scientists"
          ],
          [
           "Data Scientists"
          ],
          [
           "Data Scientists"
          ],
          [
           "Data Scientists"
          ],
          [
           "Data Scientists"
          ],
          [
           "Data Scientists"
          ],
          [
           "Data Scientists"
          ],
          [
           "Data Scientists"
          ],
          [
           "Data Scientists"
          ],
          [
           "Data Scientists"
          ],
          [
           "Data Scientists"
          ],
          [
           "Data Scientists"
          ],
          [
           "Data Scientists"
          ],
          [
           "Data Scientists"
          ],
          [
           "Data Scientists"
          ],
          [
           "Data Scientists"
          ],
          [
           "Data Scientists"
          ],
          [
           "Data Scientists"
          ],
          [
           "Data Scientists"
          ],
          [
           "Data Scientists"
          ],
          [
           "Data Scientists"
          ],
          [
           "Data Scientists"
          ],
          [
           "Data Scientists"
          ],
          [
           "Data Scientists"
          ],
          [
           "Data Scientists"
          ],
          [
           "Data Scientists"
          ],
          [
           "Data Scientists"
          ],
          [
           "Data Scientists"
          ],
          [
           "Data Scientists"
          ],
          [
           "Data Scientists"
          ],
          [
           "Data Scientists"
          ],
          [
           "Data Scientists"
          ],
          [
           "Data Scientists"
          ],
          [
           "Data Scientists"
          ],
          [
           "Data Scientists"
          ],
          [
           "Data Scientists"
          ],
          [
           "Data Scientists"
          ],
          [
           "Data Scientists"
          ],
          [
           "Data Scientists"
          ],
          [
           "Data Scientists"
          ],
          [
           "Data Scientists"
          ],
          [
           "Data Scientists"
          ],
          [
           "Data Scientists"
          ],
          [
           "Data Scientists"
          ],
          [
           "Data Scientists"
          ],
          [
           "Data Scientists"
          ],
          [
           "Data Scientists"
          ],
          [
           "Data Scientists"
          ],
          [
           "Data Scientists"
          ],
          [
           "Data Scientists"
          ],
          [
           "Data Scientists"
          ],
          [
           "Data Scientists"
          ],
          [
           "Data Scientists"
          ],
          [
           "Data Scientists"
          ],
          [
           "Data Scientists"
          ],
          [
           "Data Scientists"
          ],
          [
           "Data Scientists"
          ],
          [
           "Data Scientists"
          ],
          [
           "Data Scientists"
          ],
          [
           "Data Scientists"
          ],
          [
           "Data Scientists"
          ],
          [
           "Data Scientists"
          ],
          [
           "Data Scientists"
          ],
          [
           "Data Scientists"
          ],
          [
           "Data Scientists"
          ],
          [
           "Data Scientists"
          ],
          [
           "Data Scientists"
          ],
          [
           "Data Scientists"
          ],
          [
           "Data Scientists"
          ],
          [
           "Data Scientists"
          ],
          [
           "Data Scientists"
          ],
          [
           "Data Scientists"
          ],
          [
           "Data Scientists"
          ],
          [
           "Data Scientists"
          ],
          [
           "Data Scientists"
          ],
          [
           "Data Scientists"
          ],
          [
           "Data Scientists"
          ],
          [
           "Data Scientists"
          ],
          [
           "Data Scientists"
          ],
          [
           "Data Scientists"
          ],
          [
           "Data Scientists"
          ],
          [
           "Data Scientists"
          ],
          [
           "Data Scientists"
          ],
          [
           "Data Scientists"
          ],
          [
           "Data Scientists"
          ],
          [
           "Data Scientists"
          ],
          [
           "Data Scientists"
          ],
          [
           "Data Scientists"
          ],
          [
           "Data Scientists"
          ],
          [
           "Data Scientists"
          ],
          [
           "Data Scientists"
          ],
          [
           "Data Scientists"
          ],
          [
           "Data Scientists"
          ],
          [
           "Data Scientists"
          ],
          [
           "Data Scientists"
          ],
          [
           "Data Scientists"
          ],
          [
           "Data Scientists"
          ],
          [
           "Data Scientists"
          ],
          [
           "Data Scientists"
          ],
          [
           "Data Scientists"
          ],
          [
           "Data Scientists"
          ],
          [
           "Data Scientists"
          ],
          [
           "Data Scientists"
          ],
          [
           "Data Scientists"
          ],
          [
           "Data Scientists"
          ],
          [
           "Data Scientists"
          ],
          [
           "Data Scientists"
          ],
          [
           "Data Scientists"
          ],
          [
           "Data Scientists"
          ],
          [
           "Data Scientists"
          ],
          [
           "Data Scientists"
          ],
          [
           "Data Scientists"
          ],
          [
           "Data Scientists"
          ],
          [
           "Data Scientists"
          ],
          [
           "Data Scientists"
          ],
          [
           "Data Scientists"
          ],
          [
           "Data Scientists"
          ],
          [
           "Data Scientists"
          ],
          [
           "Data Scientists"
          ],
          [
           "Data Scientists"
          ],
          [
           "Data Scientists"
          ],
          [
           "Data Scientists"
          ],
          [
           "Data Scientists"
          ],
          [
           "Data Scientists"
          ],
          [
           "Data Scientists"
          ],
          [
           "Data Scientists"
          ],
          [
           "Data Scientists"
          ],
          [
           "Data Scientists"
          ],
          [
           "Data Scientists"
          ],
          [
           "Data Scientists"
          ],
          [
           "Data Scientists"
          ],
          [
           "Data Scientists"
          ],
          [
           "Data Scientists"
          ],
          [
           "Data Scientists"
          ],
          [
           "Data Scientists"
          ],
          [
           "Data Scientists"
          ],
          [
           "Data Scientists"
          ],
          [
           "Data Scientists"
          ],
          [
           "Data Scientists"
          ],
          [
           "Data Scientists"
          ],
          [
           "Data Scientists"
          ],
          [
           "Data Scientists"
          ],
          [
           "Data Scientists"
          ],
          [
           "Data Scientists"
          ],
          [
           "Data Scientists"
          ],
          [
           "Data Scientists"
          ],
          [
           "Data Scientists"
          ],
          [
           "Data Scientists"
          ],
          [
           "Data Scientists"
          ],
          [
           "Data Scientists"
          ],
          [
           "Data Scientists"
          ],
          [
           "Data Scientists"
          ],
          [
           "Data Scientists"
          ],
          [
           "Data Scientists"
          ],
          [
           "Data Scientists"
          ],
          [
           "Data Scientists"
          ],
          [
           "Data Scientists"
          ],
          [
           "Data Scientists"
          ],
          [
           "Data Scientists"
          ],
          [
           "Data Scientists"
          ],
          [
           "Data Scientists"
          ],
          [
           "Data Scientists"
          ],
          [
           "Data Scientists"
          ],
          [
           "Data Scientists"
          ],
          [
           "Data Scientists"
          ],
          [
           "Data Scientists"
          ],
          [
           "Data Scientists"
          ],
          [
           "Data Scientists"
          ],
          [
           "Data Scientists"
          ],
          [
           "Data Scientists"
          ],
          [
           "Data Scientists"
          ],
          [
           "Data Scientists"
          ],
          [
           "Data Scientists"
          ],
          [
           "Data Scientists"
          ],
          [
           "Data Scientists"
          ],
          [
           "Data Scientists"
          ],
          [
           "Data Scientists"
          ],
          [
           "Data Scientists"
          ],
          [
           "Data Scientists"
          ],
          [
           "Data Scientists"
          ],
          [
           "Data Scientists"
          ],
          [
           "Data Scientists"
          ],
          [
           "Data Scientists"
          ],
          [
           "Data Scientists"
          ],
          [
           "Data Scientists"
          ],
          [
           "Data Scientists"
          ],
          [
           "Data Scientists"
          ],
          [
           "Data Scientists"
          ],
          [
           "Data Scientists"
          ],
          [
           "Data Scientists"
          ],
          [
           "Data Scientists"
          ],
          [
           "Data Scientists"
          ],
          [
           "Data Scientists"
          ],
          [
           "Data Scientists"
          ],
          [
           "Data Scientists"
          ],
          [
           "Data Scientists"
          ],
          [
           "Data Scientists"
          ],
          [
           "Data Scientists"
          ],
          [
           "Data Scientists"
          ],
          [
           "Data Scientists"
          ],
          [
           "Data Scientists"
          ],
          [
           "Data Scientists"
          ],
          [
           "Data Scientists"
          ],
          [
           "Data Scientists"
          ],
          [
           "Data Scientists"
          ],
          [
           "Data Scientists"
          ],
          [
           "Data Scientists"
          ],
          [
           "Data Scientists"
          ],
          [
           "Data Scientists"
          ],
          [
           "Data Scientists"
          ],
          [
           "Data Scientists"
          ],
          [
           "Data Scientists"
          ],
          [
           "Data Scientists"
          ],
          [
           "Data Scientists"
          ],
          [
           "Data Scientists"
          ],
          [
           "Data Scientists"
          ],
          [
           "Data Scientists"
          ],
          [
           "Data Scientists"
          ],
          [
           "Data Scientists"
          ],
          [
           "Data Scientists"
          ],
          [
           "Data Scientists"
          ],
          [
           "Data Scientists"
          ],
          [
           "Data Scientists"
          ],
          [
           "Data Scientists"
          ],
          [
           "Data Scientists"
          ],
          [
           "Data Scientists"
          ],
          [
           "Data Scientists"
          ],
          [
           "Data Scientists"
          ],
          [
           "Data Scientists"
          ],
          [
           "Data Scientists"
          ],
          [
           "Data Scientists"
          ],
          [
           "Data Scientists"
          ],
          [
           "Data Scientists"
          ],
          [
           "Data Scientists"
          ],
          [
           "Data Scientists"
          ],
          [
           "Data Scientists"
          ],
          [
           "Data Scientists"
          ],
          [
           "Data Scientists"
          ],
          [
           "Data Scientists"
          ],
          [
           "Data Scientists"
          ],
          [
           "Data Scientists"
          ],
          [
           "Data Scientists"
          ],
          [
           "Data Scientists"
          ],
          [
           "Data Scientists"
          ],
          [
           "Data Scientists"
          ],
          [
           "Data Scientists"
          ],
          [
           "Data Scientists"
          ],
          [
           "Data Scientists"
          ],
          [
           "Data Scientists"
          ],
          [
           "Data Scientists"
          ],
          [
           "Data Scientists"
          ],
          [
           "Data Scientists"
          ],
          [
           "Data Scientists"
          ],
          [
           "Data Scientists"
          ],
          [
           "Data Scientists"
          ],
          [
           "Data Scientists"
          ],
          [
           "Data Scientists"
          ],
          [
           "Data Scientists"
          ],
          [
           "Data Scientists"
          ],
          [
           "Data Scientists"
          ],
          [
           "Data Scientists"
          ],
          [
           "Data Scientists"
          ],
          [
           "Data Scientists"
          ],
          [
           "Data Scientists"
          ],
          [
           "Data Scientists"
          ],
          [
           "Data Scientists"
          ],
          [
           "Data Scientists"
          ],
          [
           "Data Scientists"
          ],
          [
           "Data Scientists"
          ],
          [
           "Data Scientists"
          ],
          [
           "Data Scientists"
          ],
          [
           "Data Scientists"
          ],
          [
           "Data Scientists"
          ],
          [
           "Data Scientists"
          ],
          [
           "Data Scientists"
          ],
          [
           "Data Scientists"
          ],
          [
           "Data Scientists"
          ],
          [
           "Data Scientists"
          ],
          [
           "Data Scientists"
          ],
          [
           "Data Scientists"
          ],
          [
           "Data Scientists"
          ],
          [
           "Data Scientists"
          ],
          [
           "Data Scientists"
          ],
          [
           "Data Scientists"
          ],
          [
           "Data Scientists"
          ],
          [
           "Data Scientists"
          ],
          [
           "Data Scientists"
          ],
          [
           "Data Scientists"
          ],
          [
           "Data Scientists"
          ],
          [
           "Data Scientists"
          ],
          [
           "Data Scientists"
          ],
          [
           "Data Scientists"
          ],
          [
           "Data Scientists"
          ],
          [
           "Data Scientists"
          ],
          [
           "Data Scientists"
          ],
          [
           "Data Scientists"
          ],
          [
           "Data Scientists"
          ],
          [
           "Data Scientists"
          ],
          [
           "Data Scientists"
          ],
          [
           "Data Scientists"
          ],
          [
           "Data Scientists"
          ],
          [
           "Data Scientists"
          ],
          [
           "Data Scientists"
          ],
          [
           "Data Scientists"
          ],
          [
           "Data Scientists"
          ],
          [
           "Data Scientists"
          ],
          [
           "Data Scientists"
          ],
          [
           "Data Scientists"
          ],
          [
           "Data Scientists"
          ],
          [
           "Data Scientists"
          ],
          [
           "Data Scientists"
          ],
          [
           "Data Scientists"
          ],
          [
           "Data Scientists"
          ],
          [
           "Data Scientists"
          ],
          [
           "Data Scientists"
          ],
          [
           "Data Scientists"
          ],
          [
           "Data Scientists"
          ],
          [
           "Data Scientists"
          ],
          [
           "Data Scientists"
          ],
          [
           "Data Scientists"
          ],
          [
           "Data Scientists"
          ],
          [
           "Data Scientists"
          ],
          [
           "Data Scientists"
          ],
          [
           "Data Scientists"
          ],
          [
           "Data Scientists"
          ],
          [
           "Data Scientists"
          ],
          [
           "Data Scientists"
          ],
          [
           "Data Scientists"
          ],
          [
           "Data Scientists"
          ],
          [
           "Data Scientists"
          ],
          [
           "Data Scientists"
          ]
         ],
         "hovertemplate": "OCC_TITLE=%{customdata[0]}<br>H_MEDIAN=%{x}<br>A_MEDIAN=%{y}<extra></extra>",
         "legendgroup": "Data Scientists",
         "marker": {
          "color": "#ab63fa",
          "symbol": "circle"
         },
         "mode": "markers",
         "name": "Data Scientists",
         "showlegend": true,
         "type": "scattergl",
         "visible": true,
         "x": [
          "51.93",
          "51.93",
          "52.80",
          "52.80",
          "50.52",
          "50.52",
          "48.53",
          "48.53",
          "34.42",
          "34.42",
          "52.20",
          "52.20",
          "65.38",
          "65.38",
          "56.12",
          "56.12",
          "48.08",
          "48.08",
          "53.42",
          "53.42",
          "55.18",
          "55.18",
          "45.87",
          "45.87",
          "38.07",
          "38.07",
          "40.57",
          "40.57",
          "39.27",
          "39.27",
          "37.60",
          "37.60",
          "40.31",
          "40.31",
          "41.86",
          "41.86",
          "51.07",
          "51.07",
          "51.07",
          "51.07",
          "47.82",
          "47.82",
          "39.87",
          "39.87",
          "50.52",
          "50.52",
          "50.52",
          "50.52",
          "48.53",
          "48.53",
          "48.55",
          "48.55",
          "64.05",
          "64.05",
          "48.31",
          "48.31",
          "41.49",
          "41.49",
          "35.61",
          "35.61",
          "62.95",
          "62.95",
          "27.52",
          "27.52",
          "23.98",
          "23.98",
          "23.98",
          "23.98",
          "38.14",
          "38.14",
          "36.89",
          "36.89",
          "34.42",
          "34.42",
          "55.30",
          "55.30",
          "44.45",
          "44.45",
          "47.83",
          "47.83",
          "44.27",
          "44.27",
          "*",
          "*",
          "44.76",
          "44.76",
          "48.15",
          "48.15",
          "48.14",
          "48.14",
          "43.07",
          "43.07",
          "38.65",
          "38.65",
          "38.65",
          "38.65",
          "60.23",
          "60.23",
          "60.23",
          "60.23",
          "59.78",
          "59.78",
          "64.38",
          "64.38",
          "38.99",
          "38.99",
          "37.66",
          "37.66",
          "51.78",
          "51.78",
          "51.78",
          "51.78",
          "41.93",
          "41.93",
          "42.15",
          "42.15",
          "47.62",
          "47.62",
          "47.62",
          "47.62",
          "39.36",
          "39.36",
          "54.39",
          "54.39",
          "68.02",
          "68.02",
          "83.58",
          "83.58",
          "66.85",
          "66.85",
          "74.73",
          "74.73",
          "58.96",
          "58.96",
          "45.67",
          "45.67",
          "49.86",
          "49.86",
          "51.89",
          "51.89",
          "60.35",
          "60.35",
          "63.84",
          "63.84",
          "47.39",
          "47.39",
          "60.35",
          "60.35",
          "35.11",
          "35.11",
          "49.91",
          "49.91",
          "50.97",
          "50.97",
          "40.35",
          "40.35",
          "50.53",
          "50.53",
          "58.18",
          "58.18",
          "56.75",
          "56.75",
          "48.28",
          "48.28",
          "*",
          "*",
          "49.34",
          "49.34",
          "47.74",
          "47.74",
          "54.96",
          "54.96",
          "54.96",
          "54.96",
          "63.96",
          "63.96",
          "47.88",
          "47.88",
          "69.54",
          "69.54",
          "50.67",
          "50.67",
          "64.61",
          "64.61",
          "27.39",
          "27.39",
          "54.00",
          "54.00",
          "49.22",
          "49.22",
          "58.67",
          "58.67",
          "58.67",
          "58.67",
          "65.88",
          "65.88",
          "65.88",
          "65.88",
          "64.03",
          "64.03",
          "*",
          "*",
          "*",
          "*",
          "43.26",
          "43.26",
          "29.24",
          "29.24",
          "30.09",
          "30.09",
          "48.26",
          "48.26",
          "50.45",
          "50.45",
          "51.37",
          "51.37",
          "47.36",
          "47.36",
          "47.36",
          "47.36",
          "39.22",
          "39.22",
          "39.22",
          "39.22",
          "79.15",
          "79.15",
          "79.15",
          "79.15",
          "37.10",
          "37.10",
          "36.53",
          "36.53",
          "36.95",
          "36.95",
          "41.93",
          "41.93",
          "41.48",
          "41.48",
          "43.88",
          "43.88",
          "59.83",
          "59.83",
          "59.83",
          "59.83",
          "37.08",
          "37.08",
          "37.08",
          "37.08",
          "64.36",
          "64.36",
          "65.18",
          "65.18",
          "43.26",
          "43.26",
          "65.97",
          "65.97",
          "54.97",
          "54.97",
          "46.11",
          "46.11",
          "68.43",
          "68.43",
          "82.63",
          "82.63",
          "44.08",
          "44.08",
          "44.10",
          "44.10",
          "83.14",
          "83.14",
          "52.70",
          "52.70",
          "52.70",
          "52.70",
          "62.04",
          "62.04",
          "62.04",
          "62.04",
          "71.11",
          "71.11",
          "71.11",
          "71.11",
          "53.15",
          "53.15",
          "53.15",
          "53.15",
          "60.86",
          "60.86",
          "56.70",
          "56.70",
          "55.91",
          "55.91",
          "64.68",
          "64.68",
          "64.68",
          "64.68",
          "50.19",
          "50.19",
          "50.53",
          "50.53",
          "49.85",
          "49.85",
          "51.64",
          "51.64",
          "47.29",
          "47.29",
          "49.78",
          "49.78",
          "43.71",
          "43.71",
          "48.15",
          "48.15",
          "50.86",
          "50.86",
          "49.58",
          "49.58",
          "49.58",
          "49.58",
          "*",
          "*",
          "40.86",
          "40.86",
          "40.86",
          "40.86",
          "53.42",
          "53.42",
          "33.81",
          "33.81",
          "61.68",
          "61.68",
          "43.96",
          "43.96",
          "45.67",
          "45.67",
          "35.55",
          "35.55",
          "61.04",
          "61.04",
          "56.92",
          "56.92",
          "49.52",
          "49.52",
          "60.78",
          "60.78",
          "61.23",
          "61.23",
          "49.04",
          "49.04",
          "48.52",
          "48.52",
          "53.11",
          "53.11",
          "55.18",
          "55.18",
          "55.18",
          "55.18",
          "45.87",
          "45.87",
          "45.87",
          "45.87",
          "34.50",
          "34.50",
          "49.42",
          "49.42",
          "43.74",
          "43.74",
          "39.35",
          "39.35",
          "64.95",
          "64.95",
          "45.86",
          "45.86",
          "46.19",
          "46.19",
          "39.62",
          "39.62",
          "31.78",
          "31.78",
          "38.36",
          "38.36",
          "64.52",
          "64.52",
          "38.07",
          "38.07",
          "33.56",
          "37.10",
          "39.57",
          "33.56",
          "37.10",
          "39.57",
          "37.92",
          "37.92",
          "39.04",
          "36.05",
          "39.04",
          "36.05",
          "33.59",
          "33.59",
          "38.60",
          "32.81",
          "38.60",
          "32.81",
          "37.36",
          "37.36",
          "33.56",
          "37.10",
          "39.27",
          "33.56",
          "37.10",
          "39.27",
          "50.15",
          "50.15",
          "50.67",
          "50.67",
          "32.24",
          "32.24",
          "38.56",
          "38.56",
          "38.59",
          "38.59",
          "38.59",
          "38.59",
          "49.37",
          "49.37",
          "36.44",
          "49.37",
          "36.44",
          "49.37",
          "42.50",
          "42.50",
          "38.18",
          "38.18",
          "50.92",
          "50.92",
          "40.21",
          "40.21",
          "59.51",
          "59.51",
          "41.44",
          "41.44",
          "29.98",
          "29.98",
          "52.37",
          "52.37",
          "45.38",
          "45.38",
          "45.67",
          "45.67",
          "47.42",
          "47.42",
          "43.39",
          "43.39",
          "55.82",
          "42.13",
          "42.82",
          "55.82",
          "42.13",
          "42.82",
          "43.33",
          "43.33",
          "55.82",
          "42.14",
          "42.29",
          "55.82",
          "42.14",
          "42.29",
          "36.84",
          "36.84",
          "47.40",
          "47.40",
          "47.40",
          "47.40",
          "32.13",
          "32.13",
          "36.50",
          "36.50",
          "30.41",
          "30.41",
          "28.14",
          "28.14",
          "32.32",
          "32.32",
          "30.83",
          "30.83",
          "30.73",
          "30.73",
          "34.46",
          "34.46",
          "31.65",
          "31.65",
          "39.27",
          "39.27",
          "40.54",
          "40.54",
          "34.96",
          "34.96",
          "33.07",
          "33.07",
          "33.07",
          "33.07",
          "50.09",
          "50.09",
          "54.61",
          "54.61",
          "36.64",
          "36.64",
          "36.64",
          "36.64",
          "36.80",
          "36.80",
          "39.44",
          "39.44",
          "32.24",
          "32.24",
          "48.09",
          "48.09",
          "47.96",
          "47.96",
          "40.09",
          "40.09",
          "37.52",
          "37.52",
          "38.89",
          "38.89",
          "37.78",
          "37.78",
          "31.17",
          "31.17",
          "44.93",
          "44.93",
          "46.94",
          "46.94",
          "41.86",
          "41.86",
          "39.64",
          "39.64",
          "57.82",
          "57.82",
          "57.82",
          "57.82",
          "41.86",
          "41.86",
          "39.64",
          "39.64",
          "37.22",
          "37.22",
          "37.64",
          "37.64",
          "58.27",
          "58.27",
          "48.13",
          "48.13",
          "37.63",
          "37.63",
          "39.42",
          "39.42",
          "47.48",
          "47.48",
          "35.11",
          "35.11",
          "42.64",
          "42.64",
          "43.57",
          "43.57",
          "58.70",
          "58.70",
          "35.60",
          "35.60",
          "59.36",
          "59.36",
          "27.44",
          "27.44",
          "39.03",
          "39.03",
          "40.85",
          "40.85",
          "61.39",
          "61.39",
          "49.43",
          "49.43",
          "48.35",
          "38.46",
          "51.15",
          "55.72",
          "64.27",
          "53.83",
          "54.21",
          "66.72",
          "58.66",
          "45.84",
          "48.54",
          "62.47",
          "58.79",
          "52.20",
          "39.24",
          "46.62",
          "48.85",
          "42.69",
          "33.04",
          "48.06",
          "60.32",
          "58.44",
          "43.63",
          "55.11",
          "30.10",
          "39.14",
          "45.40",
          "44.54",
          "41.36",
          "44.55",
          "62.77",
          "41.84",
          "61.96",
          "61.03",
          "54.63",
          "46.67",
          "40.29",
          "55.24",
          "46.76",
          "61.71",
          "45.82",
          "43.97",
          "44.42",
          "48.12",
          "46.87",
          "56.49",
          "65.62",
          "63.76",
          "32.53",
          "48.96",
          "62.68",
          "36.48",
          "53.00",
          "44.62",
          "47.72",
          "39.59",
          "47.49",
          "34.58",
          "48.98",
          "33.96",
          "40.35",
          "47.70",
          "42.14",
          "49.62",
          "50.31",
          "48.36",
          "37.75",
          "53.73",
          "38.23",
          "60.78",
          "33.04",
          "37.88",
          "44.22",
          "46.14",
          "44.04",
          "40.06",
          "57.02",
          "40.70",
          "38.93",
          "50.00",
          "60.35",
          "54.42",
          "47.00",
          "51.57",
          "41.33",
          "27.40",
          "42.54",
          "41.78",
          "32.41",
          "45.51",
          "64.05",
          "56.45",
          "33.86",
          "52.20",
          "48.92",
          "37.51",
          "44.71",
          "43.11",
          "54.24",
          "37.29",
          "40.59",
          "39.94",
          "45.38",
          "37.70",
          "52.28",
          "43.97",
          "52.34",
          "48.28",
          "38.27",
          "39.02",
          "53.73",
          "51.06",
          "46.62",
          "60.80",
          "35.66",
          "61.71",
          "61.21",
          "49.41",
          "35.73",
          "39.49",
          "35.89",
          "45.85",
          "34.45",
          "49.27",
          "51.20",
          "39.09",
          "35.52",
          "37.59",
          "54.72",
          "37.53",
          "41.41",
          "28.63",
          "33.33",
          "53.54",
          "40.39",
          "52.36",
          "48.32",
          "48.90",
          "50.27",
          "42.78",
          "40.74",
          "42.10",
          "43.37",
          "46.87",
          "45.93",
          "51.09",
          "*",
          "39.19",
          "39.22",
          "38.18",
          "44.87",
          "37.93",
          "48.65",
          "47.59",
          "35.81",
          "39.01",
          "40.60",
          "*",
          "40.18",
          "55.50",
          "42.21",
          "41.98",
          "46.65",
          "39.01",
          "46.95",
          "37.49",
          "39.03",
          "34.25",
          "41.53",
          "39.77",
          "41.77",
          "48.25",
          "35.65",
          "60.01",
          "41.74",
          "42.41",
          "45.25",
          "50.07",
          "35.23",
          "49.73",
          "48.62",
          "44.97",
          "38.45",
          "47.28",
          "50.77",
          "55.08",
          "38.47",
          "49.88",
          "22.12",
          "43.40",
          "45.31",
          "47.64",
          "46.77",
          "38.40",
          "64.21",
          "40.21",
          "46.68",
          "40.70",
          "42.79",
          "42.39",
          "50.93",
          "45.94",
          "42.53",
          "48.91",
          "61.20",
          "47.00",
          "36.70",
          "36.82",
          "47.85",
          "51.33",
          "52.64",
          "39.70",
          "60.79",
          "44.79",
          "46.95",
          "48.26",
          "61.03",
          "47.28",
          "48.19",
          "39.75",
          "55.67",
          "49.13",
          "41.49",
          "40.42",
          "50.45",
          "44.72",
          "47.24",
          "48.45",
          "40.90",
          "53.07",
          "38.61",
          "47.12",
          "51.08",
          "61.20",
          "78.57",
          "82.60",
          "31.16",
          "54.25",
          "62.02",
          "61.84",
          "54.22",
          "34.66",
          "38.48",
          "65.20",
          "47.30",
          "44.98",
          "43.97",
          "38.02",
          "42.41",
          "56.14",
          "44.41",
          "33.65",
          "42.91",
          "43.57",
          "34.46",
          "48.85",
          "36.75",
          "34.37",
          "64.40",
          "46.14",
          "40.60",
          "43.97",
          "37.25",
          "59.82",
          "35.60",
          "39.13",
          "50.61",
          "43.97",
          "43.74",
          "39.69",
          "64.94",
          "47.41",
          "49.49",
          "44.73",
          "54.48",
          "56.47",
          "43.52",
          "41.03",
          "39.76",
          "44.82",
          "49.81",
          "58.66",
          "66.07",
          "56.56",
          "45.79",
          "39.55",
          "54.21",
          "41.30",
          "42.86",
          "56.76",
          "46.21",
          "59.30",
          "60.51",
          "51.68",
          "37.89",
          "61.45",
          "43.68",
          "48.24",
          "40.01",
          "39.87",
          "36.66",
          "47.55",
          "49.14",
          "40.06",
          "35.81",
          "30.41",
          "32.56",
          "37.82",
          "31.00",
          "34.32",
          "38.88",
          "39.83",
          "41.16",
          "30.33",
          "58.51",
          "27.91",
          "44.84",
          "41.35",
          "33.42",
          "35.91",
          "35.72",
          "25.58",
          "36.97",
          "29.05",
          "42.07",
          "40.90",
          "42.04",
          "45.38",
          "38.44",
          "41.54",
          "40.59",
          "41.86",
          "39.88",
          "47.38",
          "36.04",
          "39.59",
          "42.97",
          "33.03",
          "37.22",
          "37.54",
          "31.02",
          "43.71",
          "38.45",
          "46.15",
          "45.46",
          "41.45",
          "29.28",
          "35.66",
          "44.18",
          "48.52",
          "17.51",
          "43.76",
          "37.35",
          "39.87",
          "43.76",
          "42.94",
          "37.32",
          "38.87",
          "46.16",
          "40.57"
         ],
         "xaxis": "x",
         "y": [
          "108,020",
          "108,020",
          "109,820",
          "109,820",
          "105,090",
          "105,090",
          "100,940",
          "100,940",
          "71,600",
          "71,600",
          "108,580",
          "108,580",
          "135,990",
          "135,990",
          "116,730",
          "116,730",
          "100,000",
          "100,000",
          "111,110",
          "111,110",
          "114,780",
          "114,780",
          "95,410",
          "95,410",
          "79,190",
          "79,190",
          "84,390",
          "84,390",
          "81,680",
          "81,680",
          "78,200",
          "78,200",
          "83,840",
          "83,840",
          "87,070",
          "87,070",
          "106,220",
          "106,220",
          "106,220",
          "106,220",
          "99,470",
          "99,470",
          "82,930",
          "82,930",
          "105,090",
          "105,090",
          "105,090",
          "105,090",
          "100,940",
          "100,940",
          "100,990",
          "100,990",
          "133,220",
          "133,220",
          "100,490",
          "100,490",
          "86,290",
          "86,290",
          "74,080",
          "74,080",
          "130,940",
          "130,940",
          "57,230",
          "57,230",
          "49,880",
          "49,880",
          "49,880",
          "49,880",
          "79,340",
          "79,340",
          "76,730",
          "76,730",
          "71,600",
          "71,600",
          "115,030",
          "115,030",
          "92,460",
          "92,460",
          "99,480",
          "99,480",
          "92,070",
          "92,070",
          "*",
          "*",
          "93,100",
          "93,100",
          "100,150",
          "100,150",
          "100,140",
          "100,140",
          "89,590",
          "89,590",
          "80,390",
          "80,390",
          "80,390",
          "80,390",
          "125,270",
          "125,270",
          "125,270",
          "125,270",
          "124,350",
          "124,350",
          "133,900",
          "133,900",
          "81,100",
          "81,100",
          "78,330",
          "78,330",
          "107,700",
          "107,700",
          "107,700",
          "107,700",
          "87,210",
          "87,210",
          "87,660",
          "87,660",
          "99,050",
          "99,050",
          "99,050",
          "99,050",
          "81,860",
          "81,860",
          "113,130",
          "113,130",
          "141,480",
          "141,480",
          "173,850",
          "173,850",
          "139,050",
          "139,050",
          "155,440",
          "155,440",
          "122,640",
          "122,640",
          "94,990",
          "94,990",
          "103,720",
          "103,720",
          "107,940",
          "107,940",
          "125,520",
          "125,520",
          "132,790",
          "132,790",
          "98,570",
          "98,570",
          "125,530",
          "125,530",
          "73,020",
          "73,020",
          "103,820",
          "103,820",
          "106,020",
          "106,020",
          "83,930",
          "83,930",
          "105,090",
          "105,090",
          "121,010",
          "121,010",
          "118,030",
          "118,030",
          "100,420",
          "100,420",
          "*",
          "*",
          "102,620",
          "102,620",
          "99,310",
          "99,310",
          "114,310",
          "114,310",
          "114,310",
          "114,310",
          "133,030",
          "133,030",
          "99,590",
          "99,590",
          "144,640",
          "144,640",
          "105,390",
          "105,390",
          "134,380",
          "134,380",
          "56,960",
          "56,960",
          "112,310",
          "112,310",
          "102,370",
          "102,370",
          "122,040",
          "122,040",
          "122,040",
          "122,040",
          "137,030",
          "137,030",
          "137,030",
          "137,030",
          "133,170",
          "133,170",
          "*",
          "*",
          "*",
          "*",
          "89,980",
          "89,980",
          "60,820",
          "60,820",
          "62,580",
          "62,580",
          "100,380",
          "100,380",
          "104,940",
          "104,940",
          "106,860",
          "106,860",
          "98,510",
          "98,510",
          "98,510",
          "98,510",
          "81,580",
          "81,580",
          "81,580",
          "81,580",
          "164,630",
          "164,630",
          "164,630",
          "164,630",
          "77,160",
          "77,160",
          "75,980",
          "75,980",
          "76,860",
          "76,860",
          "87,210",
          "87,210",
          "86,270",
          "86,270",
          "91,270",
          "91,270",
          "124,450",
          "124,450",
          "124,450",
          "124,450",
          "77,120",
          "77,120",
          "77,120",
          "77,120",
          "133,880",
          "133,880",
          "135,570",
          "135,570",
          "89,980",
          "89,980",
          "137,220",
          "137,220",
          "114,340",
          "114,340",
          "95,920",
          "95,920",
          "142,330",
          "142,330",
          "171,860",
          "171,860",
          "91,680",
          "91,680",
          "91,720",
          "91,720",
          "172,930",
          "172,930",
          "109,620",
          "109,620",
          "109,620",
          "109,620",
          "129,030",
          "129,030",
          "129,030",
          "129,030",
          "147,900",
          "147,900",
          "147,900",
          "147,900",
          "110,560",
          "110,560",
          "110,560",
          "110,560",
          "126,590",
          "126,590",
          "117,930",
          "117,930",
          "116,290",
          "116,290",
          "134,540",
          "134,540",
          "134,540",
          "134,540",
          "104,390",
          "104,390",
          "105,110",
          "105,110",
          "103,690",
          "103,690",
          "107,410",
          "107,410",
          "98,360",
          "98,360",
          "103,550",
          "103,550",
          "90,920",
          "90,920",
          "100,140",
          "100,140",
          "105,790",
          "105,790",
          "103,130",
          "103,130",
          "103,130",
          "103,130",
          "*",
          "*",
          "84,990",
          "84,990",
          "84,990",
          "84,990",
          "111,110",
          "111,110",
          "70,320",
          "70,320",
          "128,300",
          "128,300",
          "91,440",
          "91,440",
          "94,990",
          "94,990",
          "73,950",
          "73,950",
          "126,960",
          "126,960",
          "118,400",
          "118,400",
          "103,000",
          "103,000",
          "126,430",
          "126,430",
          "127,360",
          "127,360",
          "102,010",
          "102,010",
          "100,930",
          "100,930",
          "110,470",
          "110,470",
          "114,780",
          "114,780",
          "114,780",
          "114,780",
          "95,410",
          "95,410",
          "95,410",
          "95,410",
          "71,760",
          "71,760",
          "102,790",
          "102,790",
          "90,980",
          "90,980",
          "81,850",
          "81,850",
          "135,090",
          "135,090",
          "95,390",
          "95,390",
          "96,080",
          "96,080",
          "82,410",
          "82,410",
          "66,110",
          "66,110",
          "79,790",
          "79,790",
          "134,210",
          "134,210",
          "79,190",
          "79,190",
          "69,790",
          "77,170",
          "82,310",
          "69,790",
          "77,170",
          "82,310",
          "78,870",
          "78,870",
          "81,210",
          "74,980",
          "81,210",
          "74,980",
          "69,870",
          "69,870",
          "80,290",
          "68,250",
          "80,290",
          "68,250",
          "77,720",
          "77,720",
          "69,790",
          "77,170",
          "81,680",
          "69,790",
          "77,170",
          "81,680",
          "104,310",
          "104,310",
          "105,390",
          "105,390",
          "67,050",
          "67,050",
          "80,200",
          "80,200",
          "80,260",
          "80,260",
          "80,260",
          "80,260",
          "102,690",
          "102,690",
          "75,790",
          "102,690",
          "75,790",
          "102,690",
          "88,400",
          "88,400",
          "79,410",
          "79,410",
          "105,910",
          "105,910",
          "83,630",
          "83,630",
          "123,790",
          "123,790",
          "86,190",
          "86,190",
          "62,360",
          "62,360",
          "108,930",
          "108,930",
          "94,380",
          "94,380",
          "94,990",
          "94,990",
          "98,630",
          "98,630",
          "90,260",
          "90,260",
          "116,100",
          "87,630",
          "89,070",
          "116,100",
          "87,630",
          "89,070",
          "90,120",
          "90,120",
          "116,100",
          "87,650",
          "87,970",
          "116,100",
          "87,650",
          "87,970",
          "76,630",
          "76,630",
          "98,580",
          "98,580",
          "98,580",
          "98,580",
          "66,840",
          "66,840",
          "75,910",
          "75,910",
          "63,250",
          "63,250",
          "58,520",
          "58,520",
          "67,220",
          "67,220",
          "64,130",
          "64,130",
          "63,920",
          "63,920",
          "71,670",
          "71,670",
          "65,830",
          "65,830",
          "81,680",
          "81,680",
          "84,320",
          "84,320",
          "72,710",
          "72,710",
          "68,780",
          "68,780",
          "68,780",
          "68,780",
          "104,190",
          "104,190",
          "113,580",
          "113,580",
          "76,210",
          "76,210",
          "76,210",
          "76,210",
          "76,540",
          "76,540",
          "82,040",
          "82,040",
          "67,050",
          "67,050",
          "100,020",
          "100,020",
          "99,750",
          "99,750",
          "83,390",
          "83,390",
          "78,050",
          "78,050",
          "80,890",
          "80,890",
          "78,580",
          "78,580",
          "64,830",
          "64,830",
          "93,460",
          "93,460",
          "97,630",
          "97,630",
          "87,070",
          "87,070",
          "82,460",
          "82,460",
          "120,270",
          "120,270",
          "120,270",
          "120,270",
          "87,070",
          "87,070",
          "82,460",
          "82,460",
          "77,420",
          "77,420",
          "78,300",
          "78,300",
          "121,200",
          "121,200",
          "100,100",
          "100,100",
          "78,270",
          "78,270",
          "81,990",
          "81,990",
          "98,760",
          "98,760",
          "73,020",
          "73,020",
          "88,690",
          "88,690",
          "90,630",
          "90,630",
          "122,100",
          "122,100",
          "74,050",
          "74,050",
          "123,480",
          "123,480",
          "57,080",
          "57,080",
          "81,180",
          "81,180",
          "84,960",
          "84,960",
          "127,690",
          "127,690",
          "102,810",
          "102,810",
          "100,560",
          "80,000",
          "106,400",
          "115,890",
          "133,690",
          "111,970",
          "112,750",
          "138,780",
          "122,010",
          "95,360",
          "100,950",
          "129,930",
          "122,280",
          "108,580",
          "81,620",
          "96,980",
          "101,610",
          "88,800",
          "68,730",
          "99,960",
          "125,460",
          "121,560",
          "90,750",
          "114,630",
          "62,600",
          "81,410",
          "94,420",
          "92,640",
          "86,030",
          "92,670",
          "130,570",
          "87,020",
          "128,890",
          "126,940",
          "113,620",
          "97,070",
          "83,810",
          "114,910",
          "97,260",
          "128,350",
          "95,310",
          "91,460",
          "92,400",
          "100,100",
          "97,490",
          "117,500",
          "136,490",
          "132,620",
          "67,660",
          "101,850",
          "130,370",
          "75,880",
          "110,230",
          "92,820",
          "99,250",
          "82,360",
          "98,780",
          "71,930",
          "101,880",
          "70,630",
          "83,940",
          "99,220",
          "87,650",
          "103,220",
          "104,640",
          "100,580",
          "78,530",
          "111,760",
          "79,520",
          "126,430",
          "68,730",
          "78,800",
          "91,970",
          "95,970",
          "91,610",
          "83,330",
          "118,610",
          "84,650",
          "80,980",
          "104,000",
          "125,520",
          "113,190",
          "97,770",
          "107,260",
          "85,970",
          "56,990",
          "88,480",
          "86,900",
          "67,410",
          "94,650",
          "133,220",
          "117,410",
          "70,430",
          "108,580",
          "101,750",
          "78,020",
          "92,990",
          "89,660",
          "112,820",
          "77,560",
          "84,430",
          "83,060",
          "94,390",
          "78,410",
          "108,730",
          "91,460",
          "108,870",
          "100,420",
          "79,600",
          "81,160",
          "111,750",
          "106,210",
          "96,970",
          "126,460",
          "74,180",
          "128,350",
          "127,310",
          "102,770",
          "74,310",
          "82,140",
          "74,650",
          "95,380",
          "71,660",
          "102,480",
          "106,490",
          "81,300",
          "73,890",
          "78,200",
          "113,830",
          "78,060",
          "86,130",
          "59,550",
          "69,320",
          "111,360",
          "84,010",
          "108,920",
          "100,510",
          "101,720",
          "104,560",
          "88,980",
          "84,740",
          "87,580",
          "90,200",
          "97,490",
          "95,520",
          "106,270",
          "*",
          "81,510",
          "81,590",
          "79,420",
          "93,330",
          "78,900",
          "101,190",
          "98,980",
          "74,490",
          "81,130",
          "84,450",
          "*",
          "83,570",
          "115,440",
          "87,790",
          "87,310",
          "97,020",
          "81,140",
          "97,660",
          "77,990",
          "81,180",
          "71,250",
          "86,390",
          "82,720",
          "86,880",
          "100,370",
          "74,150",
          "124,810",
          "86,810",
          "88,210",
          "94,120",
          "104,140",
          "73,270",
          "103,440",
          "101,120",
          "93,540",
          "79,970",
          "98,340",
          "105,610",
          "114,560",
          "80,020",
          "103,760",
          "46,010",
          "90,260",
          "94,230",
          "99,100",
          "97,290",
          "79,870",
          "133,560",
          "83,640",
          "97,090",
          "84,650",
          "89,000",
          "88,170",
          "105,930",
          "95,550",
          "88,460",
          "101,730",
          "127,300",
          "97,770",
          "76,340",
          "76,590",
          "99,530",
          "106,760",
          "109,500",
          "82,580",
          "126,450",
          "93,160",
          "97,650",
          "100,380",
          "126,950",
          "98,350",
          "100,240",
          "82,680",
          "115,800",
          "102,180",
          "86,290",
          "84,080",
          "104,940",
          "93,020",
          "98,260",
          "100,780",
          "85,070",
          "110,390",
          "80,310",
          "98,010",
          "106,250",
          "127,300",
          "163,430",
          "171,800",
          "64,820",
          "112,840",
          "129,010",
          "128,620",
          "112,770",
          "72,090",
          "80,030",
          "135,610",
          "98,390",
          "93,560",
          "91,460",
          "79,080",
          "88,210",
          "116,770",
          "92,370",
          "70,000",
          "89,250",
          "90,630",
          "71,670",
          "101,600",
          "76,440",
          "71,480",
          "133,960",
          "95,960",
          "84,450",
          "91,470",
          "77,480",
          "124,420",
          "74,050",
          "81,390",
          "105,280",
          "91,450",
          "90,980",
          "82,550",
          "135,080",
          "98,600",
          "102,940",
          "93,030",
          "113,320",
          "117,450",
          "90,520",
          "85,340",
          "82,700",
          "93,220",
          "103,600",
          "122,020",
          "137,420",
          "117,650",
          "95,240",
          "82,270",
          "112,750",
          "85,900",
          "89,140",
          "118,060",
          "96,120",
          "123,340",
          "125,860",
          "107,490",
          "78,800",
          "127,820",
          "90,860",
          "100,340",
          "83,220",
          "82,930",
          "76,250",
          "98,900",
          "102,220",
          "83,320",
          "74,480",
          "63,250",
          "67,720",
          "78,660",
          "64,470",
          "71,380",
          "80,870",
          "82,850",
          "85,610",
          "63,080",
          "121,700",
          "58,060",
          "93,270",
          "86,010",
          "69,510",
          "74,680",
          "74,300",
          "53,200",
          "76,900",
          "60,420",
          "87,510",
          "85,070",
          "87,440",
          "94,390",
          "79,960",
          "86,400",
          "84,430",
          "87,060",
          "82,950",
          "98,560",
          "74,960",
          "82,340",
          "89,380",
          "68,700",
          "77,410",
          "78,080",
          "64,520",
          "90,920",
          "79,970",
          "96,000",
          "94,570",
          "86,220",
          "60,900",
          "74,160",
          "91,900",
          "100,910",
          "36,410",
          "91,010",
          "77,690",
          "82,930",
          "91,010",
          "89,320",
          "77,620",
          "80,860",
          "96,020",
          "84,380"
         ],
         "yaxis": "y"
        }
       ],
       "layout": {
        "autosize": true,
        "legend": {
         "title": {
          "text": "OCC_TITLE"
         },
         "tracegroupgap": 0
        },
        "template": {
         "data": {
          "bar": [
           {
            "error_x": {
             "color": "#2a3f5f"
            },
            "error_y": {
             "color": "#2a3f5f"
            },
            "marker": {
             "line": {
              "color": "#E5ECF6",
              "width": 0.5
             },
             "pattern": {
              "fillmode": "overlay",
              "size": 10,
              "solidity": 0.2
             }
            },
            "type": "bar"
           }
          ],
          "barpolar": [
           {
            "marker": {
             "line": {
              "color": "#E5ECF6",
              "width": 0.5
             },
             "pattern": {
              "fillmode": "overlay",
              "size": 10,
              "solidity": 0.2
             }
            },
            "type": "barpolar"
           }
          ],
          "carpet": [
           {
            "aaxis": {
             "endlinecolor": "#2a3f5f",
             "gridcolor": "white",
             "linecolor": "white",
             "minorgridcolor": "white",
             "startlinecolor": "#2a3f5f"
            },
            "baxis": {
             "endlinecolor": "#2a3f5f",
             "gridcolor": "white",
             "linecolor": "white",
             "minorgridcolor": "white",
             "startlinecolor": "#2a3f5f"
            },
            "type": "carpet"
           }
          ],
          "choropleth": [
           {
            "colorbar": {
             "outlinewidth": 0,
             "ticks": ""
            },
            "type": "choropleth"
           }
          ],
          "contour": [
           {
            "colorbar": {
             "outlinewidth": 0,
             "ticks": ""
            },
            "colorscale": [
             [
              0,
              "#0d0887"
             ],
             [
              0.1111111111111111,
              "#46039f"
             ],
             [
              0.2222222222222222,
              "#7201a8"
             ],
             [
              0.3333333333333333,
              "#9c179e"
             ],
             [
              0.4444444444444444,
              "#bd3786"
             ],
             [
              0.5555555555555556,
              "#d8576b"
             ],
             [
              0.6666666666666666,
              "#ed7953"
             ],
             [
              0.7777777777777778,
              "#fb9f3a"
             ],
             [
              0.8888888888888888,
              "#fdca26"
             ],
             [
              1,
              "#f0f921"
             ]
            ],
            "type": "contour"
           }
          ],
          "contourcarpet": [
           {
            "colorbar": {
             "outlinewidth": 0,
             "ticks": ""
            },
            "type": "contourcarpet"
           }
          ],
          "heatmap": [
           {
            "colorbar": {
             "outlinewidth": 0,
             "ticks": ""
            },
            "colorscale": [
             [
              0,
              "#0d0887"
             ],
             [
              0.1111111111111111,
              "#46039f"
             ],
             [
              0.2222222222222222,
              "#7201a8"
             ],
             [
              0.3333333333333333,
              "#9c179e"
             ],
             [
              0.4444444444444444,
              "#bd3786"
             ],
             [
              0.5555555555555556,
              "#d8576b"
             ],
             [
              0.6666666666666666,
              "#ed7953"
             ],
             [
              0.7777777777777778,
              "#fb9f3a"
             ],
             [
              0.8888888888888888,
              "#fdca26"
             ],
             [
              1,
              "#f0f921"
             ]
            ],
            "type": "heatmap"
           }
          ],
          "heatmapgl": [
           {
            "colorbar": {
             "outlinewidth": 0,
             "ticks": ""
            },
            "colorscale": [
             [
              0,
              "#0d0887"
             ],
             [
              0.1111111111111111,
              "#46039f"
             ],
             [
              0.2222222222222222,
              "#7201a8"
             ],
             [
              0.3333333333333333,
              "#9c179e"
             ],
             [
              0.4444444444444444,
              "#bd3786"
             ],
             [
              0.5555555555555556,
              "#d8576b"
             ],
             [
              0.6666666666666666,
              "#ed7953"
             ],
             [
              0.7777777777777778,
              "#fb9f3a"
             ],
             [
              0.8888888888888888,
              "#fdca26"
             ],
             [
              1,
              "#f0f921"
             ]
            ],
            "type": "heatmapgl"
           }
          ],
          "histogram": [
           {
            "marker": {
             "pattern": {
              "fillmode": "overlay",
              "size": 10,
              "solidity": 0.2
             }
            },
            "type": "histogram"
           }
          ],
          "histogram2d": [
           {
            "colorbar": {
             "outlinewidth": 0,
             "ticks": ""
            },
            "colorscale": [
             [
              0,
              "#0d0887"
             ],
             [
              0.1111111111111111,
              "#46039f"
             ],
             [
              0.2222222222222222,
              "#7201a8"
             ],
             [
              0.3333333333333333,
              "#9c179e"
             ],
             [
              0.4444444444444444,
              "#bd3786"
             ],
             [
              0.5555555555555556,
              "#d8576b"
             ],
             [
              0.6666666666666666,
              "#ed7953"
             ],
             [
              0.7777777777777778,
              "#fb9f3a"
             ],
             [
              0.8888888888888888,
              "#fdca26"
             ],
             [
              1,
              "#f0f921"
             ]
            ],
            "type": "histogram2d"
           }
          ],
          "histogram2dcontour": [
           {
            "colorbar": {
             "outlinewidth": 0,
             "ticks": ""
            },
            "colorscale": [
             [
              0,
              "#0d0887"
             ],
             [
              0.1111111111111111,
              "#46039f"
             ],
             [
              0.2222222222222222,
              "#7201a8"
             ],
             [
              0.3333333333333333,
              "#9c179e"
             ],
             [
              0.4444444444444444,
              "#bd3786"
             ],
             [
              0.5555555555555556,
              "#d8576b"
             ],
             [
              0.6666666666666666,
              "#ed7953"
             ],
             [
              0.7777777777777778,
              "#fb9f3a"
             ],
             [
              0.8888888888888888,
              "#fdca26"
             ],
             [
              1,
              "#f0f921"
             ]
            ],
            "type": "histogram2dcontour"
           }
          ],
          "mesh3d": [
           {
            "colorbar": {
             "outlinewidth": 0,
             "ticks": ""
            },
            "type": "mesh3d"
           }
          ],
          "parcoords": [
           {
            "line": {
             "colorbar": {
              "outlinewidth": 0,
              "ticks": ""
             }
            },
            "type": "parcoords"
           }
          ],
          "pie": [
           {
            "automargin": true,
            "type": "pie"
           }
          ],
          "scatter": [
           {
            "fillpattern": {
             "fillmode": "overlay",
             "size": 10,
             "solidity": 0.2
            },
            "type": "scatter"
           }
          ],
          "scatter3d": [
           {
            "line": {
             "colorbar": {
              "outlinewidth": 0,
              "ticks": ""
             }
            },
            "marker": {
             "colorbar": {
              "outlinewidth": 0,
              "ticks": ""
             }
            },
            "type": "scatter3d"
           }
          ],
          "scattercarpet": [
           {
            "marker": {
             "colorbar": {
              "outlinewidth": 0,
              "ticks": ""
             }
            },
            "type": "scattercarpet"
           }
          ],
          "scattergeo": [
           {
            "marker": {
             "colorbar": {
              "outlinewidth": 0,
              "ticks": ""
             }
            },
            "type": "scattergeo"
           }
          ],
          "scattergl": [
           {
            "marker": {
             "colorbar": {
              "outlinewidth": 0,
              "ticks": ""
             }
            },
            "type": "scattergl"
           }
          ],
          "scattermapbox": [
           {
            "marker": {
             "colorbar": {
              "outlinewidth": 0,
              "ticks": ""
             }
            },
            "type": "scattermapbox"
           }
          ],
          "scatterpolar": [
           {
            "marker": {
             "colorbar": {
              "outlinewidth": 0,
              "ticks": ""
             }
            },
            "type": "scatterpolar"
           }
          ],
          "scatterpolargl": [
           {
            "marker": {
             "colorbar": {
              "outlinewidth": 0,
              "ticks": ""
             }
            },
            "type": "scatterpolargl"
           }
          ],
          "scatterternary": [
           {
            "marker": {
             "colorbar": {
              "outlinewidth": 0,
              "ticks": ""
             }
            },
            "type": "scatterternary"
           }
          ],
          "surface": [
           {
            "colorbar": {
             "outlinewidth": 0,
             "ticks": ""
            },
            "colorscale": [
             [
              0,
              "#0d0887"
             ],
             [
              0.1111111111111111,
              "#46039f"
             ],
             [
              0.2222222222222222,
              "#7201a8"
             ],
             [
              0.3333333333333333,
              "#9c179e"
             ],
             [
              0.4444444444444444,
              "#bd3786"
             ],
             [
              0.5555555555555556,
              "#d8576b"
             ],
             [
              0.6666666666666666,
              "#ed7953"
             ],
             [
              0.7777777777777778,
              "#fb9f3a"
             ],
             [
              0.8888888888888888,
              "#fdca26"
             ],
             [
              1,
              "#f0f921"
             ]
            ],
            "type": "surface"
           }
          ],
          "table": [
           {
            "cells": {
             "fill": {
              "color": "#EBF0F8"
             },
             "line": {
              "color": "white"
             }
            },
            "header": {
             "fill": {
              "color": "#C8D4E3"
             },
             "line": {
              "color": "white"
             }
            },
            "type": "table"
           }
          ]
         },
         "layout": {
          "annotationdefaults": {
           "arrowcolor": "#2a3f5f",
           "arrowhead": 0,
           "arrowwidth": 1
          },
          "autotypenumbers": "strict",
          "coloraxis": {
           "colorbar": {
            "outlinewidth": 0,
            "ticks": ""
           }
          },
          "colorscale": {
           "diverging": [
            [
             0,
             "#8e0152"
            ],
            [
             0.1,
             "#c51b7d"
            ],
            [
             0.2,
             "#de77ae"
            ],
            [
             0.3,
             "#f1b6da"
            ],
            [
             0.4,
             "#fde0ef"
            ],
            [
             0.5,
             "#f7f7f7"
            ],
            [
             0.6,
             "#e6f5d0"
            ],
            [
             0.7,
             "#b8e186"
            ],
            [
             0.8,
             "#7fbc41"
            ],
            [
             0.9,
             "#4d9221"
            ],
            [
             1,
             "#276419"
            ]
           ],
           "sequential": [
            [
             0,
             "#0d0887"
            ],
            [
             0.1111111111111111,
             "#46039f"
            ],
            [
             0.2222222222222222,
             "#7201a8"
            ],
            [
             0.3333333333333333,
             "#9c179e"
            ],
            [
             0.4444444444444444,
             "#bd3786"
            ],
            [
             0.5555555555555556,
             "#d8576b"
            ],
            [
             0.6666666666666666,
             "#ed7953"
            ],
            [
             0.7777777777777778,
             "#fb9f3a"
            ],
            [
             0.8888888888888888,
             "#fdca26"
            ],
            [
             1,
             "#f0f921"
            ]
           ],
           "sequentialminus": [
            [
             0,
             "#0d0887"
            ],
            [
             0.1111111111111111,
             "#46039f"
            ],
            [
             0.2222222222222222,
             "#7201a8"
            ],
            [
             0.3333333333333333,
             "#9c179e"
            ],
            [
             0.4444444444444444,
             "#bd3786"
            ],
            [
             0.5555555555555556,
             "#d8576b"
            ],
            [
             0.6666666666666666,
             "#ed7953"
            ],
            [
             0.7777777777777778,
             "#fb9f3a"
            ],
            [
             0.8888888888888888,
             "#fdca26"
            ],
            [
             1,
             "#f0f921"
            ]
           ]
          },
          "colorway": [
           "#636efa",
           "#EF553B",
           "#00cc96",
           "#ab63fa",
           "#FFA15A",
           "#19d3f3",
           "#FF6692",
           "#B6E880",
           "#FF97FF",
           "#FECB52"
          ],
          "font": {
           "color": "#2a3f5f"
          },
          "geo": {
           "bgcolor": "white",
           "lakecolor": "white",
           "landcolor": "#E5ECF6",
           "showlakes": true,
           "showland": true,
           "subunitcolor": "white"
          },
          "hoverlabel": {
           "align": "left"
          },
          "hovermode": "closest",
          "mapbox": {
           "style": "light"
          },
          "paper_bgcolor": "white",
          "plot_bgcolor": "#E5ECF6",
          "polar": {
           "angularaxis": {
            "gridcolor": "white",
            "linecolor": "white",
            "ticks": ""
           },
           "bgcolor": "#E5ECF6",
           "radialaxis": {
            "gridcolor": "white",
            "linecolor": "white",
            "ticks": ""
           }
          },
          "scene": {
           "xaxis": {
            "backgroundcolor": "#E5ECF6",
            "gridcolor": "white",
            "gridwidth": 2,
            "linecolor": "white",
            "showbackground": true,
            "ticks": "",
            "zerolinecolor": "white"
           },
           "yaxis": {
            "backgroundcolor": "#E5ECF6",
            "gridcolor": "white",
            "gridwidth": 2,
            "linecolor": "white",
            "showbackground": true,
            "ticks": "",
            "zerolinecolor": "white"
           },
           "zaxis": {
            "backgroundcolor": "#E5ECF6",
            "gridcolor": "white",
            "gridwidth": 2,
            "linecolor": "white",
            "showbackground": true,
            "ticks": "",
            "zerolinecolor": "white"
           }
          },
          "shapedefaults": {
           "line": {
            "color": "#2a3f5f"
           }
          },
          "ternary": {
           "aaxis": {
            "gridcolor": "white",
            "linecolor": "white",
            "ticks": ""
           },
           "baxis": {
            "gridcolor": "white",
            "linecolor": "white",
            "ticks": ""
           },
           "bgcolor": "#E5ECF6",
           "caxis": {
            "gridcolor": "white",
            "linecolor": "white",
            "ticks": ""
           }
          },
          "title": {
           "x": 0.05
          },
          "xaxis": {
           "automargin": true,
           "gridcolor": "white",
           "linecolor": "white",
           "ticks": "",
           "title": {
            "standoff": 15
           },
           "zerolinecolor": "white",
           "zerolinewidth": 2
          },
          "yaxis": {
           "automargin": true,
           "gridcolor": "white",
           "linecolor": "white",
           "ticks": "",
           "title": {
            "standoff": 15
           },
           "zerolinecolor": "white",
           "zerolinewidth": 2
          }
         }
        },
        "title": {
         "text": "Hourly and Annual Median According to Job Titles"
        },
        "xaxis": {
         "anchor": "y",
         "autorange": true,
         "domain": [
          0,
          1
         ],
         "range": [
          -94.441598758246,
          1578.441598758246
         ],
         "title": {
          "text": "H_MEDIAN"
         },
         "type": "category"
        },
        "yaxis": {
         "anchor": "x",
         "autorange": true,
         "domain": [
          0,
          1
         ],
         "range": [
          -137.4029126213592,
          1802.4029126213593
         ],
         "title": {
          "text": "A_MEDIAN"
         },
         "type": "category"
        }
       }
      },
      "image/png": "[encoded data removed]",
      "text/html": [
       "<div>                            <div id=\"62b46986-82fd-43fd-947e-d94d8b21b724\" class=\"plotly-graph-div\" style=\"height:525px; width:100%;\"></div>            <script type=\"text/javascript\">                require([\"plotly\"], function(Plotly) {                    window.PLOTLYENV=window.PLOTLYENV || {};                                    if (document.getElementById(\"62b46986-82fd-43fd-947e-d94d8b21b724\")) {                    Plotly.newPlot(                        \"62b46986-82fd-43fd-947e-d94d8b21b724\",                        [{\"customdata\":[[\"Software and Web Developers, Programmers, and Testers\"],[\"Software and Web Developers, Programmers, and Testers\"],[\"Software and Web Developers, Programmers, and Testers\"],[\"Software and Web Developers, Programmers, and Testers\"],[\"Software and Web Developers, Programmers, and Testers\"],[\"Software and Web Developers, Programmers, and Testers\"],[\"Software and Web Developers, Programmers, and Testers\"],[\"Software and Web Developers, Programmers, and Testers\"],[\"Software and Web Developers, Programmers, and Testers\"],[\"Software and Web Developers, Programmers, and Testers\"],[\"Software and Web Developers, Programmers, and Testers\"],[\"Software and Web Developers, Programmers, and Testers\"],[\"Software and Web Developers, Programmers, and Testers\"],[\"Software and Web Developers, Programmers, and Testers\"],[\"Software and Web Developers, Programmers, and Testers\"],[\"Software and Web Developers, Programmers, and Testers\"],[\"Software and Web Developers, Programmers, and Testers\"],[\"Software and Web Developers, Programmers, and Testers\"],[\"Software and Web Developers, Programmers, and Testers\"],[\"Software and Web Developers, Programmers, and Testers\"],[\"Software and Web Developers, Programmers, and Testers\"],[\"Software and Web Developers, Programmers, and Testers\"],[\"Software and Web Developers, Programmers, and Testers\"],[\"Software and Web Developers, Programmers, and Testers\"],[\"Software and Web Developers, Programmers, and Testers\"],[\"Software and Web Developers, Programmers, and Testers\"],[\"Software and Web Developers, Programmers, and Testers\"],[\"Software and Web Developers, Programmers, and Testers\"],[\"Software and Web Developers, Programmers, and Testers\"],[\"Software and Web Developers, Programmers, and Testers\"],[\"Software and Web Developers, Programmers, and Testers\"],[\"Software and Web Developers, Programmers, and Testers\"],[\"Software and Web Developers, Programmers, and Testers\"],[\"Software and Web Developers, Programmers, and Testers\"],[\"Software and Web Developers, Programmers, and Testers\"],[\"Software and Web Developers, Programmers, and Testers\"],[\"Software and Web Developers, Programmers, and Testers\"],[\"Software and Web Developers, Programmers, and Testers\"],[\"Software and Web Developers, Programmers, and Testers\"],[\"Software and Web Developers, Programmers, and Testers\"],[\"Software and Web Developers, Programmers, and Testers\"],[\"Software and Web Developers, Programmers, and Testers\"],[\"Software and Web Developers, Programmers, and Testers\"],[\"Software and Web Developers, Programmers, and Testers\"],[\"Software and Web Developers, Programmers, and Testers\"],[\"Software and Web Developers, Programmers, and Testers\"],[\"Software and Web Developers, Programmers, and Testers\"],[\"Software and Web Developers, Programmers, and Testers\"],[\"Software and Web Developers, Programmers, and Testers\"],[\"Software and Web Developers, Programmers, and Testers\"],[\"Software and Web Developers, Programmers, and Testers\"],[\"Software and Web Developers, Programmers, and Testers\"],[\"Software and Web Developers, Programmers, and Testers\"],[\"Software and Web Developers, Programmers, and Testers\"],[\"Software and Web Developers, Programmers, and Testers\"],[\"Software and Web Developers, Programmers, and Testers\"],[\"Software and Web Developers, Programmers, and Testers\"],[\"Software and Web Developers, Programmers, and Testers\"],[\"Software and Web Developers, Programmers, and Testers\"],[\"Software and Web Developers, Programmers, and Testers\"],[\"Software and Web Developers, Programmers, and Testers\"],[\"Software and Web Developers, Programmers, and Testers\"],[\"Software and Web Developers, Programmers, and Testers\"],[\"Software and Web Developers, Programmers, and Testers\"],[\"Software and Web Developers, Programmers, and Testers\"],[\"Software and Web Developers, Programmers, and Testers\"],[\"Software and Web Developers, Programmers, and Testers\"],[\"Software and Web Developers, Programmers, and Testers\"],[\"Software and Web Developers, Programmers, and Testers\"],[\"Software and Web Developers, Programmers, and Testers\"],[\"Software and Web Developers, Programmers, and Testers\"],[\"Software and Web Developers, Programmers, and Testers\"],[\"Software and Web Developers, Programmers, and Testers\"],[\"Software and Web Developers, Programmers, and Testers\"],[\"Software and Web Developers, Programmers, and Testers\"],[\"Software and Web Developers, Programmers, and Testers\"],[\"Software and Web Developers, Programmers, and Testers\"],[\"Software and Web Developers, Programmers, and Testers\"],[\"Software and Web Developers, Programmers, and Testers\"],[\"Software and Web Developers, Programmers, and Testers\"],[\"Software and Web Developers, Programmers, and Testers\"],[\"Software and Web Developers, Programmers, and Testers\"],[\"Software and Web Developers, Programmers, and Testers\"],[\"Software and Web Developers, Programmers, and Testers\"],[\"Software and Web Developers, Programmers, and Testers\"],[\"Software and Web Developers, Programmers, and Testers\"],[\"Software and Web Developers, Programmers, and Testers\"],[\"Software and Web Developers, Programmers, and Testers\"],[\"Software and Web Developers, Programmers, and Testers\"],[\"Software and Web Developers, Programmers, and Testers\"],[\"Software and Web Developers, Programmers, and Testers\"],[\"Software and Web Developers, Programmers, and Testers\"],[\"Software and Web Developers, Programmers, and Testers\"],[\"Software and Web Developers, Programmers, and Testers\"],[\"Software and Web Developers, Programmers, and Testers\"],[\"Software and Web Developers, Programmers, and Testers\"],[\"Software and Web Developers, Programmers, and Testers\"],[\"Software and Web Developers, Programmers, and Testers\"],[\"Software and Web Developers, Programmers, and Testers\"],[\"Software and Web Developers, Programmers, and Testers\"],[\"Software and Web Developers, Programmers, and Testers\"],[\"Software and Web Developers, Programmers, and Testers\"],[\"Software and Web Developers, Programmers, and Testers\"],[\"Software and Web Developers, Programmers, and Testers\"],[\"Software and Web Developers, Programmers, and Testers\"],[\"Software and Web Developers, Programmers, and Testers\"],[\"Software and Web Developers, Programmers, and Testers\"],[\"Software and Web Developers, Programmers, and Testers\"],[\"Software and Web Developers, Programmers, and Testers\"],[\"Software and Web Developers, Programmers, and Testers\"],[\"Software and Web Developers, Programmers, and Testers\"],[\"Software and Web Developers, Programmers, and Testers\"],[\"Software and Web Developers, Programmers, and Testers\"],[\"Software and Web Developers, Programmers, and Testers\"],[\"Software and Web Developers, Programmers, and Testers\"],[\"Software and Web Developers, Programmers, and Testers\"],[\"Software and Web Developers, Programmers, and Testers\"],[\"Software and Web Developers, Programmers, and Testers\"],[\"Software and Web Developers, Programmers, and Testers\"],[\"Software and Web Developers, Programmers, and Testers\"],[\"Software and Web Developers, Programmers, and Testers\"],[\"Software and Web Developers, Programmers, and Testers\"],[\"Software and Web Developers, Programmers, and Testers\"],[\"Software and Web Developers, Programmers, and Testers\"],[\"Software and Web Developers, Programmers, and Testers\"],[\"Software and Web Developers, Programmers, and Testers\"],[\"Software and Web Developers, Programmers, and Testers\"],[\"Software and Web Developers, Programmers, and Testers\"],[\"Software and Web Developers, Programmers, and Testers\"],[\"Software and Web Developers, Programmers, and Testers\"],[\"Software and Web Developers, Programmers, and Testers\"],[\"Software and Web Developers, Programmers, and Testers\"],[\"Software and Web Developers, Programmers, and Testers\"],[\"Software and Web Developers, Programmers, and Testers\"],[\"Software and Web Developers, Programmers, and Testers\"],[\"Software and Web Developers, Programmers, and Testers\"],[\"Software and Web Developers, Programmers, and Testers\"],[\"Software and Web Developers, Programmers, and Testers\"],[\"Software and Web Developers, Programmers, and Testers\"],[\"Software and Web Developers, Programmers, and Testers\"],[\"Software and Web Developers, Programmers, and Testers\"],[\"Software and Web Developers, Programmers, and Testers\"],[\"Software and Web Developers, Programmers, and Testers\"],[\"Software and Web Developers, Programmers, and Testers\"],[\"Software and Web Developers, Programmers, and Testers\"],[\"Software and Web Developers, Programmers, and Testers\"],[\"Software and Web Developers, Programmers, and Testers\"],[\"Software and Web Developers, Programmers, and Testers\"],[\"Software and Web Developers, Programmers, and Testers\"],[\"Software and Web Developers, Programmers, and Testers\"],[\"Software and Web Developers, Programmers, and Testers\"],[\"Software and Web Developers, Programmers, and Testers\"],[\"Software and Web Developers, Programmers, and Testers\"],[\"Software and Web Developers, Programmers, and Testers\"],[\"Software and Web Developers, Programmers, and Testers\"],[\"Software and Web Developers, Programmers, and Testers\"],[\"Software and Web Developers, Programmers, and Testers\"],[\"Software and Web Developers, Programmers, and Testers\"],[\"Software and Web Developers, Programmers, and Testers\"],[\"Software and Web Developers, Programmers, and Testers\"],[\"Software and Web Developers, Programmers, and Testers\"],[\"Software and Web Developers, Programmers, and Testers\"],[\"Software and Web Developers, Programmers, and Testers\"],[\"Software and Web Developers, Programmers, and Testers\"],[\"Software and Web Developers, Programmers, and Testers\"],[\"Software and Web Developers, Programmers, and Testers\"],[\"Software and Web Developers, Programmers, and Testers\"],[\"Software and Web Developers, Programmers, and Testers\"],[\"Software and Web Developers, Programmers, and Testers\"],[\"Software and Web Developers, Programmers, and Testers\"],[\"Software and Web Developers, Programmers, and Testers\"],[\"Software and Web Developers, Programmers, and Testers\"],[\"Software and Web Developers, Programmers, and Testers\"],[\"Software and Web Developers, Programmers, and Testers\"],[\"Software and Web Developers, Programmers, and Testers\"],[\"Software and Web Developers, Programmers, and Testers\"],[\"Software and Web Developers, Programmers, and Testers\"],[\"Software and Web Developers, Programmers, and Testers\"],[\"Software and Web Developers, Programmers, and Testers\"],[\"Software and Web Developers, Programmers, and Testers\"],[\"Software and Web Developers, Programmers, and Testers\"],[\"Software and Web Developers, Programmers, and Testers\"],[\"Software and Web Developers, Programmers, and Testers\"],[\"Software and Web Developers, Programmers, and Testers\"],[\"Software and Web Developers, Programmers, and Testers\"],[\"Software and Web Developers, Programmers, and Testers\"],[\"Software and Web Developers, Programmers, and Testers\"],[\"Software and Web Developers, Programmers, and Testers\"],[\"Software and Web Developers, Programmers, and Testers\"],[\"Software and Web Developers, Programmers, and Testers\"],[\"Software and Web Developers, Programmers, and Testers\"],[\"Software and Web Developers, Programmers, and Testers\"],[\"Software and Web Developers, Programmers, and Testers\"],[\"Software and Web Developers, Programmers, and Testers\"],[\"Software and Web Developers, Programmers, and Testers\"],[\"Software and Web Developers, Programmers, and Testers\"],[\"Software and Web Developers, Programmers, and Testers\"],[\"Software and Web Developers, Programmers, and Testers\"],[\"Software and Web Developers, Programmers, and Testers\"],[\"Software and Web Developers, Programmers, and Testers\"],[\"Software and Web Developers, Programmers, and Testers\"],[\"Software and Web Developers, Programmers, and Testers\"],[\"Software and Web Developers, Programmers, and Testers\"],[\"Software and Web Developers, Programmers, and Testers\"],[\"Software and Web Developers, Programmers, and Testers\"],[\"Software and Web Developers, Programmers, and Testers\"],[\"Software and Web Developers, Programmers, and Testers\"],[\"Software and Web Developers, Programmers, and Testers\"],[\"Software and Web Developers, Programmers, and Testers\"],[\"Software and Web Developers, Programmers, and Testers\"],[\"Software and Web Developers, Programmers, and Testers\"],[\"Software and Web Developers, Programmers, and Testers\"],[\"Software and Web Developers, Programmers, and Testers\"],[\"Software and Web Developers, Programmers, and Testers\"],[\"Software and Web Developers, Programmers, and Testers\"],[\"Software and Web Developers, Programmers, and Testers\"],[\"Software and Web Developers, Programmers, and Testers\"],[\"Software and Web Developers, Programmers, and Testers\"],[\"Software and Web Developers, Programmers, and Testers\"],[\"Software and Web Developers, Programmers, and Testers\"],[\"Software and Web Developers, Programmers, and Testers\"],[\"Software and Web Developers, Programmers, and Testers\"],[\"Software and Web Developers, Programmers, and Testers\"],[\"Software and Web Developers, Programmers, and Testers\"],[\"Software and Web Developers, Programmers, and Testers\"],[\"Software and Web Developers, Programmers, and Testers\"],[\"Software and Web Developers, Programmers, and Testers\"],[\"Software and Web Developers, Programmers, and Testers\"],[\"Software and Web Developers, Programmers, and Testers\"],[\"Software and Web Developers, Programmers, and Testers\"],[\"Software and Web Developers, Programmers, and Testers\"],[\"Software and Web Developers, Programmers, and Testers\"],[\"Software and Web Developers, Programmers, and Testers\"],[\"Software and Web Developers, Programmers, and Testers\"],[\"Software and Web Developers, Programmers, and Testers\"],[\"Software and Web Developers, Programmers, and Testers\"],[\"Software and Web Developers, Programmers, and Testers\"],[\"Software and Web Developers, Programmers, and Testers\"],[\"Software and Web Developers, Programmers, and Testers\"],[\"Software and Web Developers, Programmers, and Testers\"],[\"Software and Web Developers, Programmers, and Testers\"],[\"Software and Web Developers, Programmers, and Testers\"],[\"Software and Web Developers, Programmers, and Testers\"],[\"Software and Web Developers, Programmers, and Testers\"],[\"Software and Web Developers, Programmers, and Testers\"],[\"Software and Web Developers, Programmers, and Testers\"],[\"Software and Web Developers, Programmers, and Testers\"],[\"Software and Web Developers, Programmers, and Testers\"],[\"Software and Web Developers, Programmers, and Testers\"],[\"Software and Web Developers, Programmers, and Testers\"],[\"Software and Web Developers, Programmers, and Testers\"],[\"Software and Web Developers, Programmers, and Testers\"],[\"Software and Web Developers, Programmers, and Testers\"],[\"Software and Web Developers, Programmers, and Testers\"],[\"Software and Web Developers, Programmers, and Testers\"],[\"Software and Web Developers, Programmers, and Testers\"],[\"Software and Web Developers, Programmers, and Testers\"],[\"Software and Web Developers, Programmers, and Testers\"],[\"Software and Web Developers, Programmers, and Testers\"],[\"Software and Web Developers, Programmers, and Testers\"],[\"Software and Web Developers, Programmers, and Testers\"],[\"Software and Web Developers, Programmers, and Testers\"],[\"Software and Web Developers, Programmers, and Testers\"],[\"Software and Web Developers, Programmers, and Testers\"],[\"Software and Web Developers, Programmers, and Testers\"],[\"Software and Web Developers, Programmers, and Testers\"],[\"Software and Web Developers, Programmers, and Testers\"],[\"Software and Web Developers, Programmers, and Testers\"],[\"Software and Web Developers, Programmers, and Testers\"],[\"Software and Web Developers, Programmers, and Testers\"],[\"Software and Web Developers, Programmers, and Testers\"],[\"Software and Web Developers, Programmers, and Testers\"],[\"Software and Web Developers, Programmers, and Testers\"],[\"Software and Web Developers, Programmers, and Testers\"],[\"Software and Web Developers, Programmers, and Testers\"],[\"Software and Web Developers, Programmers, and Testers\"],[\"Software and Web Developers, Programmers, and Testers\"],[\"Software and Web Developers, Programmers, and Testers\"],[\"Software and Web Developers, Programmers, and Testers\"],[\"Software and Web Developers, Programmers, and Testers\"],[\"Software and Web Developers, Programmers, and Testers\"],[\"Software and Web Developers, Programmers, and Testers\"],[\"Software and Web Developers, Programmers, and Testers\"],[\"Software and Web Developers, Programmers, and Testers\"],[\"Software and Web Developers, Programmers, and Testers\"],[\"Software and Web Developers, Programmers, and Testers\"],[\"Software and Web Developers, Programmers, and Testers\"],[\"Software and Web Developers, Programmers, and Testers\"],[\"Software and Web Developers, Programmers, and Testers\"],[\"Software and Web Developers, Programmers, and Testers\"],[\"Software and Web Developers, Programmers, and Testers\"],[\"Software and Web Developers, Programmers, and Testers\"],[\"Software and Web Developers, Programmers, and Testers\"],[\"Software and Web Developers, Programmers, and Testers\"],[\"Software and Web Developers, Programmers, and Testers\"],[\"Software and Web Developers, Programmers, and Testers\"],[\"Software and Web Developers, Programmers, and Testers\"],[\"Software and Web Developers, Programmers, and Testers\"],[\"Software and Web Developers, Programmers, and Testers\"],[\"Software and Web Developers, Programmers, and Testers\"],[\"Software and Web Developers, Programmers, and Testers\"],[\"Software and Web Developers, Programmers, and Testers\"],[\"Software and Web Developers, Programmers, and Testers\"],[\"Software and Web Developers, Programmers, and Testers\"],[\"Software and Web Developers, Programmers, and Testers\"],[\"Software and Web Developers, Programmers, and Testers\"],[\"Software and Web Developers, Programmers, and Testers\"],[\"Software and Web Developers, Programmers, and Testers\"],[\"Software and Web Developers, Programmers, and Testers\"],[\"Software and Web Developers, Programmers, and Testers\"],[\"Software and Web Developers, Programmers, and Testers\"],[\"Software and Web Developers, Programmers, and Testers\"],[\"Software and Web Developers, Programmers, and Testers\"],[\"Software and Web Developers, Programmers, and Testers\"],[\"Software and Web Developers, Programmers, and Testers\"],[\"Software and Web Developers, Programmers, and Testers\"],[\"Software and Web Developers, Programmers, and Testers\"],[\"Software and Web Developers, Programmers, and Testers\"],[\"Software and Web Developers, Programmers, and Testers\"],[\"Software and Web Developers, Programmers, and Testers\"],[\"Software and Web Developers, Programmers, and Testers\"],[\"Software and Web Developers, Programmers, and Testers\"],[\"Software and Web Developers, Programmers, and Testers\"],[\"Software and Web Developers, Programmers, and Testers\"],[\"Software and Web Developers, Programmers, and Testers\"],[\"Software and Web Developers, Programmers, and Testers\"],[\"Software and Web Developers, Programmers, and Testers\"],[\"Software and Web Developers, Programmers, and Testers\"],[\"Software and Web Developers, Programmers, and Testers\"],[\"Software and Web Developers, Programmers, and Testers\"],[\"Software and Web Developers, Programmers, and Testers\"],[\"Software and Web Developers, Programmers, and Testers\"],[\"Software and Web Developers, Programmers, and Testers\"],[\"Software and Web Developers, Programmers, and Testers\"],[\"Software and Web Developers, Programmers, and Testers\"],[\"Software and Web Developers, Programmers, and Testers\"],[\"Software and Web Developers, Programmers, and Testers\"],[\"Software and Web Developers, Programmers, and Testers\"],[\"Software and Web Developers, Programmers, and Testers\"],[\"Software and Web Developers, Programmers, and Testers\"],[\"Software and Web Developers, Programmers, and Testers\"],[\"Software and Web Developers, Programmers, and Testers\"],[\"Software and Web Developers, Programmers, and Testers\"],[\"Software and Web Developers, Programmers, and Testers\"],[\"Software and Web Developers, Programmers, and Testers\"],[\"Software and Web Developers, Programmers, and Testers\"],[\"Software and Web Developers, Programmers, and Testers\"],[\"Software and Web Developers, Programmers, and Testers\"],[\"Software and Web Developers, Programmers, and Testers\"],[\"Software and Web Developers, Programmers, and Testers\"],[\"Software and Web Developers, Programmers, and Testers\"],[\"Software and Web Developers, Programmers, and Testers\"],[\"Software and Web Developers, Programmers, and Testers\"],[\"Software and Web Developers, Programmers, and Testers\"],[\"Software and Web Developers, Programmers, and Testers\"],[\"Software and Web Developers, Programmers, and Testers\"],[\"Software and Web Developers, Programmers, and Testers\"],[\"Software and Web Developers, Programmers, and Testers\"],[\"Software and Web Developers, Programmers, and Testers\"],[\"Software and Web Developers, Programmers, and Testers\"],[\"Software and Web Developers, Programmers, and Testers\"],[\"Software and Web Developers, Programmers, and Testers\"],[\"Software and Web Developers, Programmers, and Testers\"],[\"Software and Web Developers, Programmers, and Testers\"],[\"Software and Web Developers, Programmers, and Testers\"],[\"Software and Web Developers, Programmers, and Testers\"],[\"Software and Web Developers, Programmers, and Testers\"],[\"Software and Web Developers, Programmers, and Testers\"],[\"Software and Web Developers, Programmers, and Testers\"],[\"Software and Web Developers, Programmers, and Testers\"],[\"Software and Web Developers, Programmers, and Testers\"],[\"Software and Web Developers, Programmers, and Testers\"],[\"Software and Web Developers, Programmers, and Testers\"],[\"Software and Web Developers, Programmers, and Testers\"],[\"Software and Web Developers, Programmers, and Testers\"],[\"Software and Web Developers, Programmers, and Testers\"],[\"Software and Web Developers, Programmers, and Testers\"],[\"Software and Web Developers, Programmers, and Testers\"],[\"Software and Web Developers, Programmers, and Testers\"],[\"Software and Web Developers, Programmers, and Testers\"],[\"Software and Web Developers, Programmers, and Testers\"],[\"Software and Web Developers, Programmers, and Testers\"],[\"Software and Web Developers, Programmers, and Testers\"],[\"Software and Web Developers, Programmers, and Testers\"],[\"Software and Web Developers, Programmers, and Testers\"],[\"Software and Web Developers, Programmers, and Testers\"],[\"Software and Web Developers, Programmers, and Testers\"],[\"Software and Web Developers, Programmers, and Testers\"],[\"Software and Web Developers, Programmers, and Testers\"],[\"Software and Web Developers, Programmers, and Testers\"],[\"Software and Web Developers, Programmers, and Testers\"],[\"Software and Web Developers, Programmers, and Testers\"],[\"Software and Web Developers, Programmers, and Testers\"],[\"Software and Web Developers, Programmers, and Testers\"],[\"Software and Web Developers, Programmers, and Testers\"],[\"Software and Web Developers, Programmers, and Testers\"],[\"Software and Web Developers, Programmers, and Testers\"],[\"Software and Web Developers, Programmers, and Testers\"]],\"hovertemplate\":\"OCC_TITLE=%{customdata[0]}\\u003cbr\\u003eH_MEDIAN=%{x}\\u003cbr\\u003eA_MEDIAN=%{y}\\u003cextra\\u003e\\u003c\\u002fextra\\u003e\",\"legendgroup\":\"Software and Web Developers, Programmers, and Testers\",\"marker\":{\"color\":\"#636efa\",\"symbol\":\"circle\"},\"mode\":\"markers\",\"name\":\"Software and Web Developers, Programmers, and Testers\",\"showlegend\":true,\"x\":[\"61.11\",\"61.52\",\"38.69\",\"61.61\",\"59.79\",\"41.90\",\"58.56\",\"67.92\",\"62.41\",\"60.81\",\"58.29\",\"61.60\",\"61.54\",\"42.78\",\"51.67\",\"38.95\",\"42.28\",\"48.31\",\"47.17\",\"37.43\",\"36.54\",\"64.54\",\"64.54\",\"41.18\",\"39.29\",\"53.88\",\"53.88\",\"59.79\",\"55.97\",\"71.22\",\"55.55\",\"64.09\",\"39.28\",\"66.33\",\"29.85\",\"44.37\",\"42.32\",\"45.78\",\"41.84\",\"40.52\",\"38.41\",\"43.07\",\"48.97\",\"41.82\",\"22.80\",\"42.03\",\"42.32\",\"41.82\",\"47.84\",\"26.08\",\"52.73\",\"46.65\",\"38.83\",\"58.82\",\"38.60\",\"25.44\",\"44.34\",\"43.27\",\"48.75\",\"50.97\",\"44.19\",\"45.30\",\"45.02\",\"38.01\",\"43.26\",\"37.02\",\"42.58\",\"43.97\",\"27.79\",\"36.54\",\"54.51\",\"32.80\",\"50.48\",\"61.44\",\"49.24\",\"39.76\",\"39.76\",\"63.72\",\"63.72\",\"57.31\",\"57.66\",\"46.78\",\"46.54\",\"47.50\",\"36.68\",\"36.68\",\"43.75\",\"38.62\",\"40.44\",\"44.26\",\"46.64\",\"50.20\",\"46.46\",\"43.21\",\"42.67\",\"46.03\",\"51.02\",\"50.14\",\"49.35\",\"43.13\",\"51.96\",\"73.86\",\"84.19\",\"64.02\",\"59.06\",\"68.97\",\"67.47\",\"61.91\",\"50.99\",\"48.71\",\"51.73\",\"48.74\",\"55.20\",\"64.92\",\"80.34\",\"45.00\",\"51.31\",\"63.89\",\"49.47\",\"47.65\",\"42.23\",\"43.67\",\"42.49\",\"53.83\",\"61.45\",\"47.33\",\"30.96\",\"59.16\",\"52.66\",\"61.06\",\"48.60\",\"56.85\",\"49.91\",\"43.69\",\"45.53\",\"61.19\",\"61.19\",\"36.01\",\"39.39\",\"23.99\",\"36.76\",\"49.57\",\"57.49\",\"35.96\",\"46.40\",\"47.61\",\"48.11\",\"47.41\",\"49.63\",\"49.63\",\"58.68\",\"58.68\",\"62.46\",\"50.16\",\"52.43\",\"45.96\",\"46.91\",\"26.86\",\"42.16\",\"47.51\",\"32.41\",\"34.49\",\"29.74\",\"26.86\",\"51.53\",\"67.03\",\"67.03\",\"68.47\",\"60.44\",\"60.44\",\"50.26\",\"58.27\",\"49.47\",\"48.56\",\"48.56\",\"80.12\",\"86.20\",\"31.62\",\"62.56\",\"62.14\",\"61.83\",\"55.74\",\"54.40\",\"55.82\",\"55.75\",\"62.81\",\"51.57\",\"51.57\",\"63.26\",\"51.13\",\"72.10\",\"49.53\",\"49.53\",\"52.75\",\"53.98\",\"35.63\",\"65.20\",\"58.22\",\"55.39\",\"65.75\",\"80.79\",\"41.97\",\"35.61\",\"44.09\",\"80.79\",\"62.56\",\"62.56\",\"64.11\",\"64.11\",\"83.93\",\"83.93\",\"64.66\",\"64.66\",\"63.89\",\"64.17\",\"63.14\",\"70.35\",\"70.35\",\"55.63\",\"55.12\",\"55.63\",\"52.59\",\"57.57\",\"59.32\",\"53.82\",\"65.61\",\"65.22\",\"65.88\",\"64.07\",\"64.07\",\"48.00\",\"51.12\",\"52.16\",\"52.16\",\"58.29\",\"55.69\",\"59.49\",\"60.51\",\"61.24\",\"47.17\",\"43.07\",\"58.50\",\"50.89\",\"66.05\",\"67.09\",\"49.20\",\"42.99\",\"52.84\",\"50.48\",\"21.59\",\"61.60\",\"61.60\",\"61.57\",\"60.66\",\"48.76\",\"62.75\",\"62.59\",\"50.61\",\"65.97\",\"53.58\",\"58.09\",\"52.85\",\"49.59\",\"54.07\",\"46.34\",\"33.87\",\"56.95\",\"32.42\",\"42.78\",\"40.33\",\"42.48\",\"47.46\",\"41.01\",\"40.55\",\"41.55\",\"36.62\",\"39.01\",\"34.80\",\"40.69\",\"34.62\",\"42.10\",\"40.60\",\"50.78\",\"46.82\",\"50.29\",\"50.29\",\"38.37\",\"34.15\",\"39.03\",\"45.64\",\"45.64\",\"49.92\",\"63.99\",\"49.50\",\"55.48\",\"55.75\",\"50.83\",\"31.74\",\"50.00\",\"61.30\",\"58.61\",\"46.24\",\"57.44\",\"45.77\",\"52.32\",\"36.53\",\"53.25\",\"52.14\",\"60.63\",\"49.56\",\"51.67\",\"52.06\",\"61.76\",\"49.62\",\"51.42\",\"48.62\",\"39.92\",\"51.35\",\"62.10\",\"52.69\",\"62.10\",\"41.22\",\"43.67\",\"38.05\",\"31.16\",\"41.39\",\"29.73\",\"48.32\",\"35.38\",\"35.60\",\"38.87\",\"44.45\",\"24.21\",\"14.72\",\"40.51\",\"32.56\",\"31.74\",\"37.92\",\"41.28\",\"40.59\",\"51.33\",\"34.93\",\"34.93\",\"39.42\",\"38.87\",\"58.73\",\"27.82\",\"25.41\",\"48.22\",\"49.16\",\"39.55\",\"*\",\"33.18\",\"47.45\",\"26.42\",\"17.22\",\"49.98\",\"54.83\",\"64.04\",\"44.68\",\"46.74\",\"56.83\",\"42.16\",\"50.64\",\"52.42\",\"51.23\",\"47.70\",\"31.12\",\"48.56\",\"44.34\",\"42.89\",\"50.25\",\"52.33\",\"47.17\",\"44.31\",\"57.69\",\"52.37\",\"43.60\",\"42.40\",\"51.40\",\"49.14\",\"64.72\",\"58.94\",\"43.62\",\"49.15\",\"40.20\",\"50.88\",\"43.67\",\"56.45\",\"50.22\",\"56.09\",\"45.57\",\"48.64\",\"46.40\",\"45.73\",\"58.91\",\"63.89\",\"46.91\"],\"xaxis\":\"x\",\"y\":[\"127,120\",\"127,970\",\"80,480\",\"128,160\",\"124,360\",\"87,150\",\"121,810\",\"141,280\",\"129,810\",\"126,480\",\"121,240\",\"128,140\",\"128,010\",\"88,970\",\"107,480\",\"81,010\",\"87,940\",\"100,480\",\"98,110\",\"77,850\",\"76,010\",\"134,250\",\"134,250\",\"85,660\",\"81,720\",\"112,080\",\"112,080\",\"124,360\",\"116,410\",\"148,130\",\"115,550\",\"133,300\",\"81,700\",\"137,970\",\"62,080\",\"92,290\",\"88,030\",\"95,220\",\"87,040\",\"84,280\",\"79,900\",\"89,580\",\"101,850\",\"86,990\",\"47,420\",\"87,420\",\"88,030\",\"86,990\",\"99,520\",\"54,240\",\"109,680\",\"97,040\",\"80,760\",\"122,350\",\"80,280\",\"52,900\",\"92,230\",\"90,000\",\"101,400\",\"106,010\",\"91,910\",\"94,230\",\"93,650\",\"79,050\",\"89,980\",\"77,000\",\"88,560\",\"91,450\",\"57,800\",\"75,990\",\"113,380\",\"68,220\",\"105,000\",\"127,790\",\"102,410\",\"82,700\",\"82,700\",\"132,530\",\"132,530\",\"119,200\",\"119,920\",\"97,290\",\"96,810\",\"98,800\",\"76,300\",\"76,300\",\"91,000\",\"80,330\",\"84,120\",\"92,060\",\"97,000\",\"104,410\",\"96,650\",\"89,870\",\"88,760\",\"95,740\",\"106,120\",\"104,300\",\"102,650\",\"89,720\",\"108,090\",\"153,620\",\"175,110\",\"133,160\",\"122,840\",\"143,460\",\"140,340\",\"128,770\",\"106,050\",\"101,330\",\"107,590\",\"101,370\",\"114,810\",\"135,040\",\"167,100\",\"93,610\",\"106,730\",\"132,890\",\"102,900\",\"99,110\",\"87,830\",\"90,840\",\"88,390\",\"111,970\",\"127,820\",\"98,450\",\"64,400\",\"123,060\",\"109,540\",\"127,000\",\"101,100\",\"118,240\",\"103,800\",\"90,860\",\"94,700\",\"127,270\",\"127,270\",\"74,900\",\"81,920\",\"49,900\",\"76,470\",\"103,110\",\"119,570\",\"74,790\",\"96,510\",\"99,030\",\"100,070\",\"98,610\",\"103,230\",\"103,230\",\"122,060\",\"122,060\",\"129,910\",\"104,320\",\"109,050\",\"95,610\",\"97,560\",\"55,870\",\"87,700\",\"98,820\",\"67,410\",\"71,750\",\"61,870\",\"55,870\",\"107,180\",\"139,430\",\"139,420\",\"142,410\",\"125,710\",\"125,710\",\"104,530\",\"121,190\",\"102,890\",\"100,990\",\"100,990\",\"166,640\",\"179,300\",\"65,770\",\"130,120\",\"129,250\",\"128,610\",\"115,930\",\"113,160\",\"116,110\",\"115,960\",\"130,640\",\"107,270\",\"107,270\",\"131,590\",\"106,340\",\"149,960\",\"103,020\",\"103,020\",\"109,720\",\"112,290\",\"74,110\",\"135,620\",\"121,100\",\"115,210\",\"136,760\",\"168,050\",\"87,310\",\"74,070\",\"91,710\",\"168,050\",\"130,130\",\"130,130\",\"133,360\",\"133,360\",\"174,570\",\"174,570\",\"134,490\",\"134,490\",\"132,900\",\"133,470\",\"131,340\",\"146,340\",\"146,340\",\"115,700\",\"114,650\",\"115,700\",\"109,390\",\"119,740\",\"123,390\",\"111,940\",\"136,470\",\"135,670\",\"137,020\",\"133,270\",\"133,270\",\"99,840\",\"106,330\",\"108,490\",\"108,490\",\"121,240\",\"115,840\",\"123,730\",\"125,860\",\"127,370\",\"98,120\",\"89,580\",\"121,680\",\"105,840\",\"137,370\",\"139,550\",\"102,340\",\"89,420\",\"109,900\",\"105,010\",\"44,910\",\"128,140\",\"128,140\",\"128,060\",\"126,170\",\"101,410\",\"130,520\",\"130,190\",\"105,270\",\"137,220\",\"111,450\",\"120,820\",\"109,920\",\"103,150\",\"112,470\",\"96,380\",\"70,440\",\"118,450\",\"67,430\",\"88,970\",\"83,890\",\"88,350\",\"98,720\",\"85,300\",\"84,340\",\"86,430\",\"76,160\",\"81,140\",\"72,380\",\"84,630\",\"72,010\",\"87,570\",\"84,450\",\"105,630\",\"97,380\",\"104,610\",\"104,610\",\"79,800\",\"71,030\",\"81,180\",\"94,930\",\"94,930\",\"103,840\",\"133,090\",\"102,960\",\"115,390\",\"115,970\",\"105,720\",\"66,020\",\"104,000\",\"127,500\",\"121,900\",\"96,180\",\"119,480\",\"95,200\",\"108,830\",\"75,980\",\"110,750\",\"108,460\",\"126,100\",\"103,080\",\"107,480\",\"108,290\",\"128,460\",\"103,210\",\"106,950\",\"101,120\",\"83,030\",\"106,800\",\"129,160\",\"109,600\",\"129,160\",\"85,750\",\"90,840\",\"79,150\",\"64,820\",\"86,080\",\"61,840\",\"100,500\",\"73,590\",\"74,050\",\"80,850\",\"92,450\",\"50,360\",\"30,630\",\"84,270\",\"67,730\",\"66,020\",\"78,880\",\"85,870\",\"84,430\",\"106,770\",\"72,660\",\"72,660\",\"81,990\",\"80,850\",\"122,150\",\"57,870\",\"52,840\",\"100,300\",\"102,260\",\"82,260\",\"*\",\"69,000\",\"98,700\",\"54,960\",\"35,820\",\"103,950\",\"114,050\",\"133,200\",\"92,930\",\"97,230\",\"118,210\",\"87,700\",\"105,320\",\"109,040\",\"106,560\",\"99,210\",\"64,720\",\"101,010\",\"92,220\",\"89,210\",\"104,520\",\"108,850\",\"98,110\",\"92,170\",\"120,000\",\"108,930\",\"90,690\",\"88,190\",\"106,910\",\"102,200\",\"134,620\",\"122,590\",\"90,740\",\"102,230\",\"83,620\",\"105,820\",\"90,840\",\"117,410\",\"104,450\",\"116,670\",\"94,780\",\"101,180\",\"96,510\",\"95,110\",\"122,530\",\"132,900\",\"97,560\"],\"yaxis\":\"y\",\"type\":\"scattergl\"},{\"customdata\":[[\"Software Developers\"],[\"Software Developers\"],[\"Software Developers\"],[\"Software Developers\"],[\"Software Developers\"],[\"Software Developers\"],[\"Software Developers\"],[\"Software Developers\"],[\"Software Developers\"],[\"Software Developers\"],[\"Software Developers\"],[\"Software Developers\"],[\"Software Developers\"],[\"Software Developers\"],[\"Software Developers\"],[\"Software Developers\"],[\"Software Developers\"],[\"Software Developers\"],[\"Software Developers\"],[\"Software Developers\"],[\"Software Developers\"],[\"Software Developers\"],[\"Software Developers\"],[\"Software Developers\"],[\"Software Developers\"],[\"Software Developers\"],[\"Software Developers\"],[\"Software Developers\"],[\"Software Developers\"],[\"Software Developers\"],[\"Software Developers\"],[\"Software Developers\"],[\"Software Developers\"],[\"Software Developers\"],[\"Software Developers\"],[\"Software Developers\"],[\"Software Developers\"],[\"Software Developers\"],[\"Software Developers\"],[\"Software Developers\"],[\"Software Developers\"],[\"Software Developers\"],[\"Software Developers\"],[\"Software Developers\"],[\"Software Developers\"],[\"Software Developers\"],[\"Software Developers\"],[\"Software Developers\"],[\"Software Developers\"],[\"Software Developers\"],[\"Software Developers\"],[\"Software Developers\"],[\"Software Developers\"],[\"Software Developers\"],[\"Software Developers\"],[\"Software Developers\"],[\"Software Developers\"],[\"Software Developers\"],[\"Software Developers\"],[\"Software Developers\"],[\"Software Developers\"],[\"Software Developers\"],[\"Software Developers\"],[\"Software Developers\"],[\"Software Developers\"],[\"Software Developers\"],[\"Software Developers\"],[\"Software Developers\"],[\"Software Developers\"],[\"Software Developers\"],[\"Software Developers\"],[\"Software Developers\"],[\"Software Developers\"],[\"Software Developers\"],[\"Software Developers\"],[\"Software Developers\"],[\"Software Developers\"],[\"Software Developers\"],[\"Software Developers\"],[\"Software Developers\"],[\"Software Developers\"],[\"Software Developers\"],[\"Software Developers\"],[\"Software Developers\"],[\"Software Developers\"],[\"Software Developers\"],[\"Software Developers\"],[\"Software Developers\"],[\"Software Developers\"],[\"Software Developers\"],[\"Software Developers\"],[\"Software Developers\"],[\"Software Developers\"],[\"Software Developers\"],[\"Software Developers\"],[\"Software Developers\"],[\"Software Developers\"],[\"Software Developers\"],[\"Software Developers\"],[\"Software Developers\"],[\"Software Developers\"],[\"Software Developers\"],[\"Software Developers\"],[\"Software Developers\"],[\"Software Developers\"],[\"Software Developers\"],[\"Software Developers\"],[\"Software Developers\"],[\"Software Developers\"],[\"Software Developers\"],[\"Software Developers\"],[\"Software Developers\"],[\"Software Developers\"],[\"Software Developers\"],[\"Software Developers\"],[\"Software Developers\"],[\"Software Developers\"],[\"Software Developers\"],[\"Software Developers\"],[\"Software Developers\"],[\"Software Developers\"],[\"Software Developers\"],[\"Software Developers\"],[\"Software Developers\"],[\"Software Developers\"],[\"Software Developers\"],[\"Software Developers\"],[\"Software Developers\"],[\"Software Developers\"],[\"Software Developers\"],[\"Software Developers\"],[\"Software Developers\"],[\"Software Developers\"],[\"Software Developers\"],[\"Software Developers\"],[\"Software Developers\"],[\"Software Developers\"],[\"Software Developers\"],[\"Software Developers\"],[\"Software Developers\"],[\"Software Developers\"],[\"Software Developers\"],[\"Software Developers\"],[\"Software Developers\"],[\"Software Developers\"],[\"Software Developers\"],[\"Software Developers\"],[\"Software Developers\"],[\"Software Developers\"],[\"Software Developers\"],[\"Software Developers\"],[\"Software Developers\"],[\"Software Developers\"],[\"Software Developers\"],[\"Software Developers\"],[\"Software Developers\"],[\"Software Developers\"],[\"Software Developers\"],[\"Software Developers\"],[\"Software Developers\"],[\"Software Developers\"],[\"Software Developers\"],[\"Software Developers\"],[\"Software Developers\"],[\"Software Developers\"],[\"Software Developers\"],[\"Software Developers\"],[\"Software Developers\"],[\"Software Developers\"],[\"Software Developers\"],[\"Software Developers\"],[\"Software Developers\"],[\"Software Developers\"],[\"Software Developers\"],[\"Software Developers\"],[\"Software Developers\"],[\"Software Developers\"],[\"Software Developers\"],[\"Software Developers\"],[\"Software Developers\"],[\"Software Developers\"],[\"Software Developers\"],[\"Software Developers\"],[\"Software Developers\"],[\"Software Developers\"],[\"Software Developers\"],[\"Software Developers\"],[\"Software Developers\"],[\"Software Developers\"],[\"Software Developers\"],[\"Software Developers\"],[\"Software Developers\"],[\"Software Developers\"],[\"Software Developers\"],[\"Software Developers\"],[\"Software Developers\"],[\"Software Developers\"],[\"Software Developers\"],[\"Software Developers\"],[\"Software Developers\"],[\"Software Developers\"],[\"Software Developers\"],[\"Software Developers\"],[\"Software Developers\"],[\"Software Developers\"],[\"Software Developers\"],[\"Software Developers\"],[\"Software Developers\"],[\"Software Developers\"],[\"Software Developers\"],[\"Software Developers\"],[\"Software Developers\"],[\"Software Developers\"],[\"Software Developers\"],[\"Software Developers\"],[\"Software Developers\"],[\"Software Developers\"],[\"Software Developers\"],[\"Software Developers\"],[\"Software Developers\"],[\"Software Developers\"],[\"Software Developers\"],[\"Software Developers\"],[\"Software Developers\"],[\"Software Developers\"],[\"Software Developers\"],[\"Software Developers\"],[\"Software Developers\"],[\"Software Developers\"],[\"Software Developers\"],[\"Software Developers\"],[\"Software Developers\"],[\"Software Developers\"],[\"Software Developers\"],[\"Software Developers\"],[\"Software Developers\"],[\"Software Developers\"],[\"Software Developers\"],[\"Software Developers\"],[\"Software Developers\"],[\"Software Developers\"],[\"Software Developers\"],[\"Software Developers\"],[\"Software Developers\"],[\"Software Developers\"],[\"Software Developers\"],[\"Software Developers\"],[\"Software Developers\"],[\"Software Developers\"],[\"Software Developers\"],[\"Software Developers\"],[\"Software Developers\"],[\"Software Developers\"],[\"Software Developers\"],[\"Software Developers\"],[\"Software Developers\"],[\"Software Developers\"],[\"Software Developers\"],[\"Software Developers\"],[\"Software Developers\"],[\"Software Developers\"],[\"Software Developers\"],[\"Software Developers\"],[\"Software Developers\"],[\"Software Developers\"],[\"Software Developers\"],[\"Software Developers\"],[\"Software Developers\"],[\"Software Developers\"],[\"Software Developers\"],[\"Software Developers\"],[\"Software Developers\"],[\"Software Developers\"],[\"Software Developers\"],[\"Software Developers\"],[\"Software Developers\"],[\"Software Developers\"],[\"Software Developers\"],[\"Software Developers\"],[\"Software Developers\"],[\"Software Developers\"],[\"Software Developers\"],[\"Software Developers\"],[\"Software Developers\"],[\"Software Developers\"],[\"Software Developers\"],[\"Software Developers\"],[\"Software Developers\"],[\"Software Developers\"],[\"Software Developers\"],[\"Software Developers\"],[\"Software Developers\"],[\"Software Developers\"],[\"Software Developers\"],[\"Software Developers\"],[\"Software Developers\"],[\"Software Developers\"],[\"Software Developers\"],[\"Software Developers\"],[\"Software Developers\"],[\"Software Developers\"],[\"Software Developers\"],[\"Software Developers\"],[\"Software Developers\"],[\"Software Developers\"],[\"Software Developers\"],[\"Software Developers\"],[\"Software Developers\"],[\"Software Developers\"],[\"Software Developers\"],[\"Software Developers\"],[\"Software Developers\"],[\"Software Developers\"],[\"Software Developers\"],[\"Software Developers\"],[\"Software Developers\"],[\"Software Developers\"],[\"Software Developers\"],[\"Software Developers\"],[\"Software Developers\"],[\"Software Developers\"],[\"Software Developers\"],[\"Software Developers\"],[\"Software Developers\"],[\"Software Developers\"],[\"Software Developers\"],[\"Software Developers\"],[\"Software Developers\"],[\"Software Developers\"],[\"Software Developers\"],[\"Software Developers\"],[\"Software Developers\"],[\"Software Developers\"],[\"Software Developers\"],[\"Software Developers\"],[\"Software Developers\"],[\"Software Developers\"],[\"Software Developers\"],[\"Software Developers\"],[\"Software Developers\"],[\"Software Developers\"],[\"Software Developers\"],[\"Software Developers\"],[\"Software Developers\"],[\"Software Developers\"],[\"Software Developers\"],[\"Software Developers\"],[\"Software Developers\"],[\"Software Developers\"],[\"Software Developers\"],[\"Software Developers\"],[\"Software Developers\"],[\"Software Developers\"],[\"Software Developers\"],[\"Software Developers\"],[\"Software Developers\"],[\"Software Developers\"],[\"Software Developers\"],[\"Software Developers\"],[\"Software Developers\"],[\"Software Developers\"],[\"Software Developers\"],[\"Software Developers\"],[\"Software Developers\"],[\"Software Developers\"],[\"Software Developers\"],[\"Software Developers\"],[\"Software Developers\"],[\"Software Developers\"],[\"Software Developers\"],[\"Software Developers\"],[\"Software Developers\"],[\"Software Developers\"],[\"Software Developers\"],[\"Software Developers\"],[\"Software Developers\"],[\"Software Developers\"],[\"Software Developers\"],[\"Software Developers\"],[\"Software Developers\"],[\"Software Developers\"],[\"Software Developers\"],[\"Software Developers\"],[\"Software Developers\"],[\"Software Developers\"],[\"Software Developers\"],[\"Software Developers\"],[\"Software Developers\"],[\"Software Developers\"],[\"Software Developers\"],[\"Software Developers\"],[\"Software Developers\"],[\"Software Developers\"],[\"Software Developers\"],[\"Software Developers\"],[\"Software Developers\"],[\"Software Developers\"],[\"Software Developers\"],[\"Software Developers\"],[\"Software Developers\"],[\"Software Developers\"],[\"Software Developers\"],[\"Software Developers\"],[\"Software Developers\"],[\"Software Developers\"],[\"Software Developers\"],[\"Software Developers\"],[\"Software Developers\"],[\"Software Developers\"],[\"Software Developers\"],[\"Software Developers\"],[\"Software Developers\"],[\"Software Developers\"],[\"Software Developers\"],[\"Software Developers\"],[\"Software Developers\"],[\"Software Developers\"],[\"Software Developers\"],[\"Software Developers\"],[\"Software Developers\"],[\"Software Developers\"],[\"Software Developers\"],[\"Software Developers\"],[\"Software Developers\"],[\"Software Developers\"],[\"Software Developers\"],[\"Software Developers\"],[\"Software Developers\"],[\"Software Developers\"],[\"Software Developers\"],[\"Software Developers\"],[\"Software Developers\"],[\"Software Developers\"],[\"Software Developers\"],[\"Software Developers\"],[\"Software Developers\"],[\"Software Developers\"],[\"Software Developers\"],[\"Software Developers\"],[\"Software Developers\"],[\"Software Developers\"],[\"Software Developers\"],[\"Software Developers\"],[\"Software Developers\"],[\"Software Developers\"],[\"Software Developers\"],[\"Software Developers\"],[\"Software Developers\"],[\"Software Developers\"],[\"Software Developers\"],[\"Software Developers\"],[\"Software Developers\"],[\"Software Developers\"],[\"Software Developers\"],[\"Software Developers\"],[\"Software Developers\"],[\"Software Developers\"],[\"Software Developers\"],[\"Software Developers\"],[\"Software Developers\"],[\"Software Developers\"],[\"Software Developers\"],[\"Software Developers\"],[\"Software Developers\"],[\"Software Developers\"],[\"Software Developers\"],[\"Software Developers\"],[\"Software Developers\"],[\"Software Developers\"],[\"Software Developers\"],[\"Software Developers\"],[\"Software Developers\"],[\"Software Developers\"],[\"Software Developers\"],[\"Software Developers\"],[\"Software Developers\"],[\"Software Developers\"],[\"Software Developers\"],[\"Software Developers\"],[\"Software Developers\"],[\"Software Developers\"],[\"Software Developers\"],[\"Software Developers\"],[\"Software Developers\"],[\"Software Developers\"],[\"Software Developers\"],[\"Software Developers\"],[\"Software Developers\"],[\"Software Developers\"],[\"Software Developers\"],[\"Software Developers\"],[\"Software Developers\"],[\"Software Developers\"],[\"Software Developers\"],[\"Software Developers\"],[\"Software Developers\"],[\"Software Developers\"],[\"Software Developers\"],[\"Software Developers\"],[\"Software Developers\"],[\"Software Developers\"],[\"Software Developers\"],[\"Software Developers\"],[\"Software Developers\"],[\"Software Developers\"],[\"Software Developers\"],[\"Software Developers\"],[\"Software Developers\"],[\"Software Developers\"],[\"Software Developers\"],[\"Software Developers\"],[\"Software Developers\"],[\"Software Developers\"],[\"Software Developers\"],[\"Software Developers\"],[\"Software Developers\"],[\"Software Developers\"],[\"Software Developers\"],[\"Software Developers\"],[\"Software Developers\"],[\"Software Developers\"],[\"Software Developers\"],[\"Software Developers\"],[\"Software Developers\"],[\"Software Developers\"],[\"Software Developers\"],[\"Software Developers\"],[\"Software Developers\"],[\"Software Developers\"],[\"Software Developers\"],[\"Software Developers\"],[\"Software Developers\"],[\"Software Developers\"],[\"Software Developers\"],[\"Software Developers\"],[\"Software Developers\"],[\"Software Developers\"],[\"Software Developers\"],[\"Software Developers\"],[\"Software Developers\"],[\"Software Developers\"],[\"Software Developers\"],[\"Software Developers\"],[\"Software Developers\"],[\"Software Developers\"],[\"Software Developers\"],[\"Software Developers\"],[\"Software Developers\"],[\"Software Developers\"],[\"Software Developers\"],[\"Software Developers\"],[\"Software Developers\"],[\"Software Developers\"],[\"Software Developers\"],[\"Software Developers\"],[\"Software Developers\"],[\"Software Developers\"],[\"Software Developers\"],[\"Software Developers\"],[\"Software Developers\"],[\"Software Developers\"],[\"Software Developers\"],[\"Software Developers\"],[\"Software Developers\"],[\"Software Developers\"],[\"Software Developers\"],[\"Software Developers\"],[\"Software Developers\"],[\"Software Developers\"],[\"Software Developers\"],[\"Software Developers\"],[\"Software Developers\"],[\"Software Developers\"],[\"Software Developers\"],[\"Software Developers\"],[\"Software Developers\"],[\"Software Developers\"],[\"Software Developers\"],[\"Software Developers\"],[\"Software Developers\"],[\"Software Developers\"],[\"Software Developers\"],[\"Software Developers\"],[\"Software Developers\"],[\"Software Developers\"],[\"Software Developers\"],[\"Software Developers\"],[\"Software Developers\"],[\"Software Developers\"],[\"Software Developers\"],[\"Software Developers\"],[\"Software Developers\"],[\"Software Developers\"],[\"Software Developers\"],[\"Software Developers\"],[\"Software Developers\"],[\"Software Developers\"],[\"Software Developers\"],[\"Software Developers\"],[\"Software Developers\"],[\"Software Developers\"],[\"Software Developers\"],[\"Software Developers\"],[\"Software Developers\"],[\"Software Developers\"],[\"Software Developers\"],[\"Software Developers\"],[\"Software Developers\"],[\"Software Developers\"],[\"Software Developers\"],[\"Software Developers\"],[\"Software Developers\"],[\"Software Developers\"],[\"Software Developers\"],[\"Software Developers\"],[\"Software Developers\"],[\"Software Developers\"],[\"Software Developers\"],[\"Software Developers\"],[\"Software Developers\"],[\"Software Developers\"],[\"Software Developers\"],[\"Software Developers\"],[\"Software Developers\"],[\"Software Developers\"],[\"Software Developers\"],[\"Software Developers\"],[\"Software Developers\"],[\"Software Developers\"],[\"Software Developers\"],[\"Software Developers\"],[\"Software Developers\"],[\"Software Developers\"],[\"Software Developers\"],[\"Software Developers\"],[\"Software Developers\"],[\"Software Developers\"],[\"Software Developers\"],[\"Software Developers\"],[\"Software Developers\"],[\"Software Developers\"],[\"Software Developers\"],[\"Software Developers\"],[\"Software Developers\"],[\"Software Developers\"],[\"Software Developers\"],[\"Software Developers\"],[\"Software Developers\"],[\"Software Developers\"],[\"Software Developers\"],[\"Software Developers\"],[\"Software Developers\"],[\"Software Developers\"],[\"Software Developers\"],[\"Software Developers\"],[\"Software Developers\"],[\"Software Developers\"],[\"Software Developers\"],[\"Software Developers\"],[\"Software Developers\"],[\"Software Developers\"],[\"Software Developers\"],[\"Software Developers\"],[\"Software Developers\"],[\"Software Developers\"],[\"Software Developers\"],[\"Software Developers\"],[\"Software Developers\"],[\"Software Developers\"],[\"Software Developers\"],[\"Software Developers\"],[\"Software Developers\"],[\"Software Developers\"],[\"Software Developers\"],[\"Software Developers\"],[\"Software Developers\"],[\"Software Developers\"],[\"Software Developers\"],[\"Software Developers\"],[\"Software Developers\"],[\"Software Developers\"],[\"Software Developers\"],[\"Software Developers\"],[\"Software Developers\"],[\"Software Developers\"],[\"Software Developers\"],[\"Software Developers\"],[\"Software Developers\"],[\"Software Developers\"],[\"Software Developers\"],[\"Software Developers\"],[\"Software Developers\"],[\"Software Developers\"],[\"Software Developers\"],[\"Software Developers\"],[\"Software Developers\"],[\"Software Developers\"],[\"Software Developers\"],[\"Software Developers\"],[\"Software Developers\"],[\"Software Developers\"],[\"Software Developers\"],[\"Software Developers\"],[\"Software Developers\"],[\"Software Developers\"],[\"Software Developers\"],[\"Software Developers\"],[\"Software Developers\"],[\"Software Developers\"],[\"Software Developers\"],[\"Software Developers\"],[\"Software Developers\"],[\"Software Developers\"],[\"Software Developers\"],[\"Software Developers\"],[\"Software Developers\"],[\"Software Developers\"],[\"Software Developers\"],[\"Software Developers\"],[\"Software Developers\"],[\"Software Developers\"],[\"Software Developers\"],[\"Software Developers\"],[\"Software Developers\"],[\"Software Developers\"],[\"Software Developers\"],[\"Software Developers\"],[\"Software Developers\"],[\"Software Developers\"],[\"Software Developers\"],[\"Software Developers\"],[\"Software Developers\"],[\"Software Developers\"],[\"Software Developers\"],[\"Software Developers\"],[\"Software Developers\"],[\"Software Developers\"],[\"Software Developers\"],[\"Software Developers\"],[\"Software Developers\"],[\"Software Developers\"],[\"Software Developers\"],[\"Software Developers\"],[\"Software Developers\"],[\"Software Developers\"],[\"Software Developers\"],[\"Software Developers\"],[\"Software Developers\"],[\"Software Developers\"],[\"Software Developers\"],[\"Software Developers\"],[\"Software Developers\"],[\"Software Developers\"],[\"Software Developers\"],[\"Software Developers\"],[\"Software Developers\"],[\"Software Developers\"],[\"Software Developers\"],[\"Software Developers\"],[\"Software Developers\"],[\"Software Developers\"],[\"Software Developers\"],[\"Software Developers\"],[\"Software Developers\"],[\"Software Developers\"],[\"Software Developers\"],[\"Software Developers\"],[\"Software Developers\"],[\"Software Developers\"],[\"Software Developers\"],[\"Software Developers\"],[\"Software Developers\"],[\"Software Developers\"],[\"Software Developers\"],[\"Software Developers\"],[\"Software Developers\"],[\"Software Developers\"],[\"Software Developers\"],[\"Software Developers\"],[\"Software Developers\"],[\"Software Developers\"],[\"Software Developers\"],[\"Software Developers\"],[\"Software Developers\"],[\"Software Developers\"],[\"Software Developers\"],[\"Software Developers\"],[\"Software Developers\"],[\"Software Developers\"],[\"Software Developers\"],[\"Software Developers\"],[\"Software Developers\"],[\"Software Developers\"],[\"Software Developers\"],[\"Software Developers\"],[\"Software Developers\"],[\"Software Developers\"],[\"Software Developers\"],[\"Software Developers\"],[\"Software Developers\"],[\"Software Developers\"],[\"Software Developers\"],[\"Software Developers\"],[\"Software Developers\"],[\"Software Developers\"],[\"Software Developers\"],[\"Software Developers\"],[\"Software Developers\"],[\"Software Developers\"],[\"Software Developers\"],[\"Software Developers\"],[\"Software Developers\"],[\"Software Developers\"],[\"Software Developers\"],[\"Software Developers\"],[\"Software Developers\"],[\"Software Developers\"],[\"Software Developers\"],[\"Software Developers\"],[\"Software Developers\"],[\"Software Developers\"],[\"Software Developers\"],[\"Software Developers\"],[\"Software Developers\"],[\"Software Developers\"],[\"Software Developers\"],[\"Software Developers\"],[\"Software Developers\"],[\"Software Developers\"],[\"Software Developers\"],[\"Software Developers\"],[\"Software Developers\"],[\"Software Developers\"],[\"Software Developers\"],[\"Software Developers\"],[\"Software Developers\"],[\"Software Developers\"],[\"Software Developers\"],[\"Software Developers\"],[\"Software Developers\"],[\"Software Developers\"],[\"Software Developers\"],[\"Software Developers\"],[\"Software Developers\"],[\"Software Developers\"],[\"Software Developers\"],[\"Software Developers\"],[\"Software Developers\"],[\"Software Developers\"],[\"Software Developers\"],[\"Software Developers\"],[\"Software Developers\"],[\"Software Developers\"],[\"Software Developers\"],[\"Software Developers\"],[\"Software Developers\"],[\"Software Developers\"],[\"Software Developers\"],[\"Software Developers\"],[\"Software Developers\"],[\"Software Developers\"],[\"Software Developers\"],[\"Software Developers\"],[\"Software Developers\"],[\"Software Developers\"],[\"Software Developers\"],[\"Software Developers\"],[\"Software Developers\"],[\"Software Developers\"],[\"Software Developers\"],[\"Software Developers\"],[\"Software Developers\"],[\"Software Developers\"],[\"Software Developers\"],[\"Software Developers\"],[\"Software Developers\"],[\"Software Developers\"],[\"Software Developers\"],[\"Software Developers\"],[\"Software Developers\"],[\"Software Developers\"],[\"Software Developers\"],[\"Software Developers\"],[\"Software Developers\"],[\"Software Developers\"],[\"Software Developers\"],[\"Software Developers\"],[\"Software Developers\"],[\"Software Developers\"],[\"Software Developers\"],[\"Software Developers\"],[\"Software Developers\"],[\"Software Developers\"],[\"Software Developers\"],[\"Software Developers\"],[\"Software Developers\"],[\"Software Developers\"],[\"Software Developers\"],[\"Software Developers\"],[\"Software Developers\"],[\"Software Developers\"],[\"Software Developers\"],[\"Software Developers\"],[\"Software Developers\"],[\"Software Developers\"],[\"Software Developers\"],[\"Software Developers\"],[\"Software Developers\"],[\"Software Developers\"],[\"Software Developers\"],[\"Software Developers\"],[\"Software Developers\"],[\"Software Developers\"],[\"Software Developers\"],[\"Software Developers\"],[\"Software Developers\"],[\"Software Developers\"],[\"Software Developers\"],[\"Software Developers\"],[\"Software Developers\"],[\"Software Developers\"],[\"Software Developers\"],[\"Software Developers\"],[\"Software Developers\"]],\"hovertemplate\":\"OCC_TITLE=%{customdata[0]}\\u003cbr\\u003eH_MEDIAN=%{x}\\u003cbr\\u003eA_MEDIAN=%{y}\\u003cextra\\u003e\\u003c\\u002fextra\\u003e\",\"legendgroup\":\"Software Developers\",\"marker\":{\"color\":\"#EF553B\",\"symbol\":\"circle\"},\"mode\":\"markers\",\"name\":\"Software Developers\",\"showlegend\":true,\"x\":[\"63.59\",\"63.78\",\"60.81\",\"62.40\",\"60.81\",\"46.85\",\"61.76\",\"76.15\",\"63.89\",\"64.90\",\"61.69\",\"63.16\",\"64.08\",\"49.12\",\"56.16\",\"59.55\",\"57.74\",\"58.45\",\"49.03\",\"60.81\",\"62.74\",\"64.54\",\"64.54\",\"43.05\",\"56.97\",\"56.97\",\"60.81\",\"57.79\",\"71.21\",\"55.71\",\"63.26\",\"*\",\"65.67\",\"48.27\",\"48.54\",\"48.17\",\"43.06\",\"40.95\",\"37.49\",\"45.14\",\"46.65\",\"45.69\",\"46.15\",\"41.82\",\"51.85\",\"56.58\",\"52.17\",\"53.99\",\"60.88\",\"38.60\",\"46.67\",\"53.88\",\"41.34\",\"48.98\",\"59.54\",\"54.40\",\"54.43\",\"45.09\",\"50.29\",\"38.14\",\"65.32\",\"70.96\",\"46.88\",\"59.20\",\"36.03\",\"55.66\",\"62.78\",\"53.74\",\"47.51\",\"47.51\",\"62.50\",\"62.50\",\"62.01\",\"63.49\",\"49.37\",\"48.99\",\"51.39\",\"43.00\",\"43.00\",\"47.18\",\"44.51\",\"45.26\",\"43.64\",\"48.80\",\"53.78\",\"49.54\",\"51.44\",\"51.53\",\"47.10\",\"61.08\",\"51.96\",\"51.27\",\"47.89\",\"53.10\",\"76.86\",\"85.80\",\"64.41\",\"61.06\",\"69.41\",\"69.02\",\"64.53\",\"53.24\",\"49.85\",\"54.48\",\"50.26\",\"56.64\",\"65.62\",\"80.34\",\"51.62\",\"53.63\",\"65.32\",\"50.37\",\"48.04\",\"48.06\",\"51.50\",\"60.72\",\"65.51\",\"52.56\",\"61.66\",\"57.60\",\"62.50\",\"48.94\",\"61.31\",\"59.05\",\"61.25\",\"38.86\",\"63.74\",\"63.74\",\"65.89\",\"65.89\",\"58.27\",\"49.79\",\"60.16\",\"49.09\",\"69.44\",\"55.92\",\"55.59\",\"56.61\",\"72.61\",\"72.61\",\"62.50\",\"62.50\",\"62.91\",\"55.25\",\"75.45\",\"79.05\",\"67.61\",\"60.88\",\"48.94\",\"48.94\",\"62.16\",\"68.19\",\"68.19\",\"68.50\",\"62.25\",\"62.25\",\"50.26\",\"62.61\",\"50.26\",\"50.18\",\"50.18\",\"80.12\",\"86.20\",\"57.55\",\"51.02\",\"57.70\",\"61.49\",\"55.82\",\"57.70\",\"69.38\",\"55.30\",\"55.30\",\"68.78\",\"58.87\",\"79.73\",\"57.38\",\"57.38\",\"66.40\",\"66.41\",\"61.45\",\"68.55\",\"65.36\",\"69.10\",\"68.85\",\"84.70\",\"61.27\",\"57.00\",\"70.71\",\"84.70\",\"63.23\",\"63.23\",\"65.59\",\"65.59\",\"89.21\",\"89.21\",\"64.66\",\"64.66\",\"64.99\",\"65.04\",\"65.39\",\"74.62\",\"74.62\",\"60.16\",\"59.60\",\"61.22\",\"55.02\",\"60.96\",\"61.50\",\"60.09\",\"67.05\",\"67.34\",\"66.37\",\"66.91\",\"66.91\",\"50.12\",\"51.12\",\"64.05\",\"64.05\",\"61.69\",\"59.30\",\"61.38\",\"62.33\",\"62.72\",\"49.67\",\"60.59\",\"61.48\",\"58.48\",\"69.01\",\"69.54\",\"51.41\",\"57.26\",\"59.98\",\"64.16\",\"53.74\",\"63.16\",\"63.16\",\"64.10\",\"62.30\",\"60.25\",\"65.51\",\"65.07\",\"55.89\",\"66.37\",\"60.80\",\"60.80\",\"60.94\",\"56.62\",\"58.94\",\"54.38\",\"57.87\",\"52.63\",\"49.12\",\"42.41\",\"48.32\",\"51.88\",\"44.46\",\"45.00\",\"38.27\",\"43.68\",\"38.45\",\"47.18\",\"46.94\",\"42.49\",\"58.86\",\"51.50\",\"53.42\",\"53.42\",\"36.96\",\"34.15\",\"36.96\",\"48.47\",\"48.47\",\"59.34\",\"67.77\",\"58.71\",\"60.91\",\"61.27\",\"58.27\",\"69.71\",\"43.20\",\"74.95\",\"65.10\",\"48.64\",\"60.42\",\"52.16\",\"60.09\",\"60.53\",\"53.87\",\"59.57\",\"52.62\",\"53.87\",\"53.72\",\"61.00\",\"52.62\",\"53.54\",\"49.50\",\"49.50\",\"62.78\",\"65.55\",\"48.34\",\"48.34\",\"63.10\",\"46.63\",\"50.09\",\"50.09\",\"50.66\",\"24.21\",\"51.33\",\"46.46\",\"56.97\",\"61.71\",\"40.69\",\"51.33\",\"39.26\",\"39.26\",\"74.10\",\"36.75\",\"89.24\",\"56.08\",\"58.46\",\"57.87\",\"46.37\",\"60.73\",\"72.56\",\"68.62\",\"73.36\",\"55.54\",\"63.05\",\"62.91\",\"61.23\",\"57.60\",\"40.90\",\"55.77\",\"59.53\",\"52.84\",\"59.58\",\"64.81\",\"49.03\",\"48.19\",\"57.69\",\"55.77\",\"44.41\",\"43.60\",\"54.62\",\"53.01\",\"66.39\",\"61.16\",\"51.53\",\"51.03\",\"44.50\",\"53.17\",\"51.50\",\"61.89\",\"55.56\",\"62.26\",\"49.22\",\"63.11\",\"69.44\",\"68.50\",\"62.45\",\"64.86\",\"48.85\",\"49.39\",\"72.79\",\"59.22\",\"44.30\",\"81.09\",\"64.89\",\"60.14\",\"63.31\",\"67.48\",\"58.81\",\"61.09\",\"50.41\",\"49.38\",\"60.67\",\"50.84\",\"50.92\",\"50.12\",\"49.54\",\"50.41\",\"54.42\",\"66.37\",\"65.93\",\"49.92\",\"60.28\",\"40.96\",\"50.29\",\"52.54\",\"52.79\",\"60.38\",\"61.95\",\"63.31\",\"60.84\",\"69.94\",\"62.80\",\"48.55\",\"51.71\",\"50.02\",\"62.50\",\"53.80\",\"62.02\",\"53.43\",\"39.83\",\"53.20\",\"61.06\",\"56.17\",\"54.14\",\"64.92\",\"78.07\",\"39.13\",\"49.36\",\"66.28\",\"29.34\",\"76.50\",\"50.40\",\"32.68\",\"50.22\",\"55.88\",\"53.71\",\"61.91\",\"50.23\",\"46.39\",\"58.85\",\"50.14\",\"67.83\",\"51.33\",\"39.69\",\"48.59\",\"50.67\",\"48.19\",\"62.36\",\"56.23\",\"41.39\",\"55.29\",\"63.14\",\"63.46\",\"66.52\",\"46.28\",\"48.17\",\"47.47\",\"56.37\",\"32.47\",\"61.67\",\"59.28\",\"48.58\",\"53.15\",\"49.05\",\"47.01\",\"51.01\",\"*\",\"48.77\",\"47.61\",\"51.52\",\"72.82\",\"45.45\",\"62.87\",\"51.90\",\"53.66\",\"55.44\",\"57.04\",\"62.66\",\"47.03\",\"49.57\",\"34.27\",\"58.14\",\"60.57\",\"70.65\",\"49.45\",\"52.10\",\"51.20\",\"49.09\",\"59.75\",\"65.26\",\"57.84\",\"49.34\",\"49.86\",\"62.11\",\"61.08\",\"51.87\",\"47.32\",\"48.07\",\"50.86\",\"49.80\",\"47.44\",\"61.39\",\"46.76\",\"54.42\",\"53.56\",\"48.23\",\"54.97\",\"56.35\",\"56.44\",\"58.53\",\"55.26\",\"62.26\",\"50.72\",\"49.22\",\"44.91\",\"52.78\",\"50.39\",\"49.58\",\"54.37\",\"50.46\",\"64.90\",\"53.95\",\"51.68\",\"40.59\",\"51.13\",\"48.37\",\"51.12\",\"65.25\",\"46.87\",\"47.35\",\"55.82\",\"44.18\",\"48.87\",\"47.91\",\"51.32\",\"35.44\",\"48.04\",\"54.56\",\"47.19\",\"49.98\",\"61.10\",\"53.27\",\"47.73\",\"48.21\",\"47.83\",\"48.48\",\"41.71\",\"48.56\",\"62.23\",\"45.12\",\"48.69\",\"61.49\",\"39.39\",\"58.74\",\"59.53\",\"55.74\",\"46.21\",\"49.09\",\"50.54\",\"48.22\",\"45.60\",\"43.90\",\"58.58\",\"48.17\",\"59.58\",\"49.26\",\"48.83\",\"42.14\",\"56.83\",\"51.46\",\"49.62\",\"46.96\",\"28.83\",\"58.18\",\"66.08\",\"55.28\",\"51.15\",\"53.27\",\"60.44\",\"38.62\",\"53.71\",\"48.00\",\"51.32\",\"47.43\",\"52.45\",\"48.85\",\"40.60\",\"48.10\",\"58.29\",\"51.95\",\"42.85\",\"46.38\",\"49.28\",\"46.82\",\"39.04\",\"51.38\",\"59.07\",\"48.01\",\"51.45\",\"51.72\",\"63.35\",\"56.88\",\"51.53\",\"58.32\",\"51.22\",\"59.76\",\"48.56\",\"44.32\",\"42.22\",\"55.37\",\"48.64\",\"53.17\",\"47.46\",\"46.51\",\"50.37\",\"54.07\",\"58.57\",\"44.98\",\"39.29\",\"48.07\",\"48.48\",\"49.66\",\"45.87\",\"49.02\",\"49.56\",\"45.32\",\"48.45\",\"56.70\",\"73.83\",\"50.96\",\"43.95\",\"53.13\",\"54.16\",\"48.71\",\"50.64\",\"46.55\",\"49.03\",\"46.15\",\"46.84\",\"58.88\",\"54.57\",\"61.01\",\"62.18\",\"47.48\",\"56.95\",\"54.98\",\"51.84\",\"61.40\",\"56.73\",\"47.93\",\"58.48\",\"50.41\",\"48.45\",\"45.36\",\"40.50\",\"47.62\",\"55.47\",\"46.91\",\"44.15\",\"49.20\",\"73.25\",\"60.41\",\"57.40\",\"57.69\",\"56.13\",\"71.68\",\"49.58\",\"55.28\",\"50.69\",\"48.13\",\"57.56\",\"52.48\",\"50.02\",\"55.28\",\"53.91\",\"53.85\",\"46.75\",\"39.55\",\"65.27\",\"58.95\",\"50.69\",\"45.51\",\"56.68\",\"61.13\",\"60.53\",\"51.50\",\"44.58\",\"63.88\",\"51.46\",\"51.63\",\"61.29\",\"50.70\",\"59.39\",\"45.96\",\"63.46\",\"35.50\",\"50.16\",\"62.31\",\"61.05\",\"61.78\",\"64.59\",\"47.85\",\"61.04\",\"52.85\",\"50.58\",\"52.82\",\"57.16\",\"68.38\",\"46.94\",\"48.59\",\"47.65\",\"39.89\",\"52.60\",\"51.25\",\"64.64\",\"58.97\",\"55.65\",\"47.46\",\"59.91\",\"73.36\",\"82.86\",\"95.72\",\"26.41\",\"64.35\",\"68.14\",\"47.29\",\"74.14\",\"69.73\",\"53.84\",\"50.10\",\"80.30\",\"50.65\",\"48.50\",\"52.98\",\"*\",\"52.43\",\"47.81\",\"40.77\",\"49.14\",\"53.04\",\"55.88\",\"56.17\",\"47.89\",\"50.21\",\"49.64\",\"48.64\",\"64.36\",\"57.56\",\"59.51\",\"45.87\",\"57.56\",\"49.29\",\"48.07\",\"48.34\",\"48.57\",\"46.78\",\"62.36\",\"53.51\",\"49.75\",\"45.67\",\"52.70\",\"49.42\",\"48.87\",\"48.36\",\"62.90\",\"46.09\",\"59.80\",\"58.23\",\"63.62\",\"56.72\",\"51.16\",\"53.90\",\"68.03\",\"48.65\",\"57.22\",\"49.01\",\"45.91\",\"59.52\",\"41.63\",\"49.96\",\"52.78\",\"46.86\",\"59.67\",\"61.53\",\"60.04\",\"59.92\",\"48.46\",\"47.43\",\"65.55\",\"48.01\",\"50.43\",\"63.73\",\"66.87\",\"64.99\",\"61.33\",\"59.41\",\"58.37\",\"59.11\",\"53.76\",\"56.75\",\"59.00\",\"60.51\",\"56.88\",\"50.73\",\"56.36\",\"53.73\",\"62.75\",\"62.02\",\"53.30\",\"51.32\",\"61.58\",\"38.75\",\"47.93\",\"44.99\",\"78.91\",\"50.07\",\"37.14\",\"57.52\",\"42.58\",\"63.45\",\"61.74\",\"61.67\",\"57.49\",\"62.34\",\"64.71\",\"49.05\",\"61.08\",\"55.19\",\"54.98\",\"50.71\",\"47.58\",\"51.76\",\"56.55\",\"44.04\",\"44.04\",\"47.38\",\"45.40\",\"47.82\",\"59.80\",\"46.85\",\"48.91\",\"48.06\",\"57.99\",\"50.05\",\"48.48\",\"52.98\",\"43.21\",\"46.68\",\"42.29\",\"40.53\",\"44.81\",\"46.00\",\"*\",\"57.04\",\"56.61\",\"52.93\",\"62.66\",\"43.60\",\"38.64\",\"46.52\",\"49.14\",\"49.37\",\"49.03\",\"47.58\",\"50.47\",\"43.11\",\"41.81\",\"50.31\",\"36.73\",\"44.32\",\"40.81\",\"48.22\",\"47.76\",\"57.23\",\"53.25\",\"49.83\",\"48.66\",\"49.38\",\"46.08\",\"60.13\",\"65.73\",\"56.26\",\"56.67\",\"63.94\",\"50.74\",\"49.19\",\"49.85\",\"52.92\",\"53.79\",\"50.74\",\"51.57\",\"49.66\",\"57.37\",\"47.51\",\"48.80\",\"47.18\",\"48.95\",\"45.80\",\"63.48\",\"47.74\",\"53.73\",\"47.52\",\"57.07\",\"61.30\",\"61.74\",\"45.92\",\"47.58\",\"46.10\",\"45.28\",\"49.98\",\"51.13\",\"39.38\",\"37.98\",\"46.22\",\"51.95\",\"42.94\",\"45.67\",\"59.25\",\"59.10\",\"57.71\",\"56.87\",\"58.55\",\"58.50\",\"46.97\",\"48.85\",\"52.00\",\"60.08\",\"60.40\",\"47.89\",\"56.81\",\"61.94\",\"60.61\",\"39.34\",\"39.18\",\"48.71\",\"45.70\",\"44.50\",\"67.30\",\"71.11\",\"76.50\"],\"xaxis\":\"x\",\"y\":[\"132,270\",\"132,650\",\"126,490\",\"129,780\",\"126,480\",\"97,450\",\"128,460\",\"158,390\",\"132,900\",\"135,000\",\"128,320\",\"131,370\",\"133,290\",\"102,170\",\"116,810\",\"123,870\",\"120,090\",\"121,580\",\"101,980\",\"126,490\",\"130,500\",\"134,250\",\"134,250\",\"89,550\",\"118,490\",\"118,490\",\"126,480\",\"120,210\",\"148,130\",\"115,880\",\"131,580\",\"*\",\"136,590\",\"100,390\",\"100,970\",\"100,190\",\"89,550\",\"85,180\",\"77,970\",\"93,900\",\"97,030\",\"95,040\",\"96,000\",\"86,990\",\"107,840\",\"117,680\",\"108,520\",\"112,290\",\"126,640\",\"80,280\",\"97,080\",\"112,060\",\"85,990\",\"101,870\",\"123,830\",\"113,150\",\"113,210\",\"93,780\",\"104,610\",\"79,320\",\"135,870\",\"147,590\",\"97,520\",\"123,130\",\"74,950\",\"115,780\",\"130,570\",\"111,780\",\"98,820\",\"98,820\",\"130,010\",\"130,010\",\"128,990\",\"132,060\",\"102,690\",\"101,910\",\"106,880\",\"89,430\",\"89,430\",\"98,140\",\"92,590\",\"94,140\",\"90,770\",\"101,500\",\"111,870\",\"103,040\",\"107,000\",\"107,170\",\"97,960\",\"127,040\",\"108,090\",\"106,640\",\"99,610\",\"110,440\",\"159,870\",\"178,460\",\"133,960\",\"127,000\",\"144,380\",\"143,570\",\"134,220\",\"110,740\",\"103,690\",\"113,320\",\"104,540\",\"117,800\",\"136,490\",\"167,100\",\"107,380\",\"111,560\",\"135,870\",\"104,760\",\"99,920\",\"99,960\",\"107,130\",\"126,290\",\"136,260\",\"109,320\",\"128,250\",\"119,800\",\"130,000\",\"101,800\",\"127,520\",\"122,820\",\"127,400\",\"80,820\",\"132,580\",\"132,580\",\"137,060\",\"137,060\",\"121,200\",\"103,550\",\"125,130\",\"102,110\",\"144,420\",\"116,310\",\"115,620\",\"117,740\",\"151,030\",\"151,030\",\"130,000\",\"130,000\",\"130,840\",\"114,920\",\"156,930\",\"164,430\",\"140,620\",\"126,630\",\"101,800\",\"101,800\",\"129,290\",\"141,830\",\"141,830\",\"142,470\",\"129,470\",\"129,470\",\"104,530\",\"130,220\",\"104,530\",\"104,380\",\"104,380\",\"166,640\",\"179,290\",\"119,710\",\"106,110\",\"120,020\",\"127,900\",\"116,110\",\"120,020\",\"144,300\",\"115,020\",\"115,020\",\"143,060\",\"122,450\",\"165,840\",\"119,340\",\"119,340\",\"138,120\",\"138,120\",\"127,810\",\"142,570\",\"135,960\",\"143,730\",\"143,210\",\"176,170\",\"127,450\",\"118,560\",\"147,070\",\"176,170\",\"131,520\",\"131,520\",\"136,420\",\"136,420\",\"185,570\",\"185,570\",\"134,490\",\"134,490\",\"135,180\",\"135,280\",\"136,020\",\"155,210\",\"155,210\",\"125,130\",\"123,960\",\"127,330\",\"114,430\",\"126,800\",\"127,920\",\"124,990\",\"139,460\",\"140,060\",\"138,040\",\"139,160\",\"139,160\",\"104,240\",\"106,330\",\"133,230\",\"133,230\",\"128,320\",\"123,340\",\"127,670\",\"129,650\",\"130,450\",\"103,300\",\"126,020\",\"127,880\",\"121,630\",\"143,550\",\"144,640\",\"106,930\",\"119,110\",\"124,750\",\"133,460\",\"111,790\",\"131,370\",\"131,370\",\"133,320\",\"129,580\",\"125,310\",\"136,260\",\"135,340\",\"116,260\",\"138,040\",\"126,460\",\"126,450\",\"126,760\",\"117,760\",\"122,600\",\"113,110\",\"120,370\",\"109,470\",\"102,170\",\"88,210\",\"100,510\",\"107,900\",\"92,470\",\"93,600\",\"79,610\",\"90,850\",\"79,980\",\"98,130\",\"97,630\",\"88,380\",\"122,440\",\"107,120\",\"111,110\",\"111,110\",\"76,870\",\"71,030\",\"76,870\",\"100,820\",\"100,820\",\"123,430\",\"140,970\",\"122,110\",\"126,700\",\"127,430\",\"121,190\",\"145,000\",\"89,850\",\"155,900\",\"135,410\",\"101,170\",\"125,680\",\"108,480\",\"124,990\",\"125,910\",\"112,040\",\"123,910\",\"109,450\",\"112,040\",\"111,750\",\"126,880\",\"109,450\",\"111,360\",\"102,950\",\"102,950\",\"130,570\",\"136,340\",\"100,550\",\"100,550\",\"131,260\",\"96,990\",\"104,180\",\"104,180\",\"105,380\",\"50,360\",\"106,770\",\"96,640\",\"118,500\",\"128,370\",\"84,640\",\"106,770\",\"81,660\",\"81,660\",\"154,120\",\"76,450\",\"185,630\",\"116,640\",\"121,590\",\"120,370\",\"96,450\",\"126,310\",\"150,930\",\"142,730\",\"152,590\",\"115,520\",\"131,140\",\"130,860\",\"127,350\",\"119,800\",\"85,060\",\"116,000\",\"123,830\",\"109,920\",\"123,920\",\"134,800\",\"101,980\",\"100,220\",\"120,000\",\"116,000\",\"92,370\",\"90,690\",\"113,600\",\"110,260\",\"138,100\",\"127,210\",\"107,190\",\"106,140\",\"92,560\",\"110,590\",\"107,130\",\"128,720\",\"115,570\",\"129,500\",\"102,380\",\"131,260\",\"144,420\",\"142,480\",\"129,890\",\"134,900\",\"101,610\",\"102,730\",\"151,400\",\"123,180\",\"92,140\",\"168,660\",\"134,960\",\"125,080\",\"131,690\",\"140,360\",\"122,310\",\"127,070\",\"104,860\",\"102,700\",\"126,200\",\"105,740\",\"105,920\",\"104,250\",\"103,030\",\"104,840\",\"113,190\",\"138,050\",\"137,130\",\"103,830\",\"125,380\",\"85,190\",\"104,600\",\"109,270\",\"109,800\",\"125,590\",\"128,860\",\"131,680\",\"126,560\",\"145,470\",\"130,620\",\"100,980\",\"107,560\",\"104,030\",\"130,000\",\"111,910\",\"128,990\",\"111,130\",\"82,850\",\"110,660\",\"127,000\",\"116,830\",\"112,620\",\"135,040\",\"162,390\",\"81,380\",\"102,660\",\"137,860\",\"61,030\",\"159,120\",\"104,830\",\"67,980\",\"104,450\",\"116,230\",\"111,710\",\"128,770\",\"104,480\",\"96,480\",\"122,420\",\"104,300\",\"141,080\",\"106,770\",\"82,550\",\"101,070\",\"105,390\",\"100,240\",\"129,700\",\"116,950\",\"86,080\",\"114,990\",\"131,320\",\"132,000\",\"138,370\",\"96,260\",\"100,200\",\"98,730\",\"117,250\",\"67,530\",\"128,270\",\"123,300\",\"101,040\",\"110,560\",\"102,030\",\"97,770\",\"106,090\",\"*\",\"101,440\",\"99,040\",\"107,160\",\"151,470\",\"94,530\",\"130,770\",\"107,960\",\"111,620\",\"115,310\",\"118,650\",\"130,330\",\"97,810\",\"103,110\",\"71,290\",\"120,920\",\"125,980\",\"146,950\",\"102,850\",\"108,370\",\"106,490\",\"102,110\",\"124,280\",\"135,750\",\"120,310\",\"102,630\",\"103,700\",\"129,180\",\"127,050\",\"107,890\",\"98,430\",\"99,990\",\"105,790\",\"103,580\",\"98,670\",\"127,690\",\"97,270\",\"113,190\",\"111,400\",\"100,310\",\"114,330\",\"117,210\",\"117,400\",\"121,740\",\"114,930\",\"129,490\",\"105,500\",\"102,370\",\"93,420\",\"109,770\",\"104,820\",\"103,120\",\"113,090\",\"104,950\",\"134,990\",\"112,210\",\"107,490\",\"84,430\",\"106,350\",\"100,610\",\"106,320\",\"135,710\",\"97,490\",\"98,480\",\"116,110\",\"91,890\",\"101,640\",\"99,640\",\"106,750\",\"73,710\",\"99,920\",\"113,490\",\"98,140\",\"103,970\",\"127,090\",\"110,800\",\"99,280\",\"100,280\",\"99,480\",\"100,840\",\"86,750\",\"101,010\",\"129,440\",\"93,850\",\"101,280\",\"127,900\",\"81,940\",\"122,180\",\"123,820\",\"115,930\",\"96,120\",\"102,110\",\"105,120\",\"100,300\",\"94,840\",\"91,310\",\"121,850\",\"100,200\",\"123,930\",\"102,460\",\"101,560\",\"87,660\",\"118,200\",\"107,030\",\"103,220\",\"97,680\",\"59,970\",\"121,020\",\"137,440\",\"114,980\",\"106,400\",\"110,800\",\"125,720\",\"80,340\",\"111,710\",\"99,850\",\"106,740\",\"98,650\",\"109,100\",\"101,600\",\"84,440\",\"100,050\",\"121,250\",\"108,050\",\"89,120\",\"96,470\",\"102,510\",\"97,390\",\"81,210\",\"106,870\",\"122,870\",\"99,860\",\"107,010\",\"107,570\",\"131,760\",\"118,320\",\"107,190\",\"121,300\",\"106,530\",\"124,300\",\"101,000\",\"92,180\",\"87,810\",\"115,170\",\"101,180\",\"110,600\",\"98,720\",\"96,730\",\"104,760\",\"112,460\",\"121,830\",\"93,560\",\"81,730\",\"99,990\",\"100,830\",\"103,280\",\"95,400\",\"101,960\",\"103,090\",\"94,270\",\"100,770\",\"117,930\",\"153,560\",\"105,990\",\"91,410\",\"110,500\",\"112,660\",\"101,310\",\"105,330\",\"96,820\",\"101,980\",\"95,990\",\"97,420\",\"122,470\",\"113,500\",\"126,900\",\"129,330\",\"98,750\",\"118,460\",\"114,370\",\"107,830\",\"127,720\",\"118,000\",\"99,700\",\"121,650\",\"104,840\",\"100,780\",\"94,340\",\"84,240\",\"99,050\",\"115,380\",\"97,580\",\"91,830\",\"102,340\",\"152,350\",\"125,640\",\"119,380\",\"120,000\",\"116,750\",\"149,090\",\"103,120\",\"114,980\",\"105,440\",\"100,110\",\"119,730\",\"109,160\",\"104,030\",\"114,980\",\"112,130\",\"112,010\",\"97,240\",\"82,260\",\"135,760\",\"122,620\",\"105,440\",\"94,660\",\"117,900\",\"127,150\",\"125,890\",\"107,110\",\"92,730\",\"132,870\",\"107,040\",\"107,390\",\"127,480\",\"105,450\",\"123,520\",\"95,590\",\"132,000\",\"73,830\",\"104,330\",\"129,610\",\"126,980\",\"128,510\",\"134,350\",\"99,520\",\"126,970\",\"109,940\",\"105,200\",\"109,860\",\"118,890\",\"142,240\",\"97,630\",\"101,060\",\"99,120\",\"82,970\",\"109,400\",\"106,600\",\"134,460\",\"122,670\",\"115,750\",\"98,710\",\"124,600\",\"152,600\",\"172,340\",\"199,100\",\"54,930\",\"133,840\",\"141,730\",\"98,350\",\"154,200\",\"145,050\",\"111,990\",\"104,200\",\"167,030\",\"105,350\",\"100,880\",\"110,190\",\"*\",\"109,060\",\"99,450\",\"84,810\",\"102,220\",\"110,320\",\"116,240\",\"116,830\",\"99,600\",\"104,440\",\"103,260\",\"101,170\",\"133,860\",\"119,720\",\"123,780\",\"95,410\",\"119,720\",\"102,530\",\"99,990\",\"100,550\",\"101,020\",\"97,310\",\"129,700\",\"111,310\",\"103,480\",\"94,990\",\"109,610\",\"102,790\",\"101,650\",\"100,580\",\"130,840\",\"95,880\",\"124,390\",\"121,110\",\"132,330\",\"117,980\",\"106,410\",\"112,120\",\"141,510\",\"101,190\",\"119,020\",\"101,950\",\"95,490\",\"123,810\",\"86,580\",\"103,920\",\"109,790\",\"97,470\",\"124,110\",\"127,990\",\"124,880\",\"124,630\",\"100,810\",\"98,660\",\"136,340\",\"99,860\",\"104,890\",\"132,570\",\"139,090\",\"135,180\",\"127,570\",\"123,570\",\"121,400\",\"122,950\",\"111,810\",\"118,050\",\"122,720\",\"125,860\",\"118,300\",\"105,510\",\"117,230\",\"111,760\",\"130,510\",\"128,990\",\"110,860\",\"106,740\",\"128,090\",\"80,600\",\"99,690\",\"93,590\",\"164,120\",\"104,140\",\"77,240\",\"119,640\",\"88,560\",\"131,980\",\"128,420\",\"128,270\",\"119,580\",\"129,660\",\"134,600\",\"102,030\",\"127,040\",\"114,790\",\"114,360\",\"105,470\",\"98,970\",\"107,660\",\"117,620\",\"91,600\",\"91,600\",\"98,550\",\"94,430\",\"99,460\",\"124,370\",\"97,450\",\"101,740\",\"99,960\",\"120,630\",\"104,090\",\"100,830\",\"110,190\",\"89,880\",\"97,090\",\"87,960\",\"84,290\",\"93,200\",\"95,670\",\"*\",\"118,650\",\"117,740\",\"110,090\",\"130,330\",\"90,690\",\"80,370\",\"96,760\",\"102,210\",\"102,690\",\"101,980\",\"98,960\",\"104,980\",\"89,660\",\"86,960\",\"104,640\",\"76,400\",\"92,190\",\"84,890\",\"100,300\",\"99,330\",\"119,030\",\"110,770\",\"103,640\",\"101,200\",\"102,720\",\"95,850\",\"125,060\",\"136,710\",\"117,020\",\"117,870\",\"133,000\",\"105,540\",\"102,300\",\"103,690\",\"110,080\",\"111,880\",\"105,530\",\"107,270\",\"103,300\",\"119,330\",\"98,810\",\"101,490\",\"98,130\",\"101,820\",\"95,260\",\"132,030\",\"99,290\",\"111,760\",\"98,850\",\"118,710\",\"127,500\",\"128,410\",\"95,520\",\"98,960\",\"95,880\",\"94,180\",\"103,960\",\"106,360\",\"81,910\",\"79,000\",\"96,130\",\"108,050\",\"89,320\",\"94,990\",\"123,230\",\"122,930\",\"120,040\",\"118,280\",\"121,770\",\"121,670\",\"97,700\",\"101,610\",\"108,160\",\"124,960\",\"125,620\",\"99,620\",\"118,160\",\"128,830\",\"126,060\",\"81,840\",\"81,480\",\"101,320\",\"95,060\",\"92,560\",\"139,980\",\"147,910\",\"159,120\"],\"yaxis\":\"y\",\"type\":\"scattergl\"},{\"customdata\":[[\"Web Developers\"],[\"Web Developers\"],[\"Web Developers\"],[\"Web Developers\"],[\"Web Developers\"],[\"Web Developers\"],[\"Web Developers\"],[\"Web Developers\"],[\"Web Developers\"],[\"Web Developers\"],[\"Web Developers\"],[\"Web Developers\"],[\"Web Developers\"],[\"Web Developers\"],[\"Web Developers\"],[\"Web Developers\"],[\"Web Developers\"],[\"Web Developers\"],[\"Web Developers\"],[\"Web Developers\"],[\"Web Developers\"],[\"Web Developers\"],[\"Web Developers\"],[\"Web Developers\"],[\"Web Developers\"],[\"Web Developers\"],[\"Web Developers\"],[\"Web Developers\"],[\"Web Developers\"],[\"Web Developers\"],[\"Web Developers\"],[\"Web Developers\"],[\"Web Developers\"],[\"Web Developers\"],[\"Web Developers\"],[\"Web Developers\"],[\"Web Developers\"],[\"Web Developers\"],[\"Web Developers\"],[\"Web Developers\"],[\"Web Developers\"],[\"Web Developers\"],[\"Web Developers\"],[\"Web Developers\"],[\"Web Developers\"],[\"Web Developers\"],[\"Web Developers\"],[\"Web Developers\"],[\"Web Developers\"],[\"Web Developers\"],[\"Web Developers\"],[\"Web Developers\"],[\"Web Developers\"],[\"Web Developers\"],[\"Web Developers\"],[\"Web Developers\"],[\"Web Developers\"],[\"Web Developers\"],[\"Web Developers\"],[\"Web Developers\"],[\"Web Developers\"],[\"Web Developers\"],[\"Web Developers\"],[\"Web Developers\"],[\"Web Developers\"],[\"Web Developers\"],[\"Web Developers\"],[\"Web Developers\"],[\"Web Developers\"],[\"Web Developers\"],[\"Web Developers\"],[\"Web Developers\"],[\"Web Developers\"],[\"Web Developers\"],[\"Web Developers\"],[\"Web Developers\"],[\"Web Developers\"],[\"Web Developers\"],[\"Web Developers\"],[\"Web Developers\"],[\"Web Developers\"],[\"Web Developers\"],[\"Web Developers\"],[\"Web Developers\"],[\"Web Developers\"],[\"Web Developers\"],[\"Web Developers\"],[\"Web Developers\"],[\"Web Developers\"],[\"Web Developers\"],[\"Web Developers\"],[\"Web Developers\"],[\"Web Developers\"],[\"Web Developers\"],[\"Web Developers\"],[\"Web Developers\"],[\"Web Developers\"],[\"Web Developers\"],[\"Web Developers\"],[\"Web Developers\"],[\"Web Developers\"],[\"Web Developers\"],[\"Web Developers\"],[\"Web Developers\"],[\"Web Developers\"],[\"Web Developers\"],[\"Web Developers\"],[\"Web Developers\"],[\"Web Developers\"],[\"Web Developers\"],[\"Web Developers\"],[\"Web Developers\"],[\"Web Developers\"],[\"Web Developers\"],[\"Web Developers\"],[\"Web Developers\"],[\"Web Developers\"],[\"Web Developers\"],[\"Web Developers\"],[\"Web Developers\"],[\"Web Developers\"],[\"Web Developers\"],[\"Web Developers\"],[\"Web Developers\"],[\"Web Developers\"],[\"Web Developers\"],[\"Web Developers\"],[\"Web Developers\"],[\"Web Developers\"],[\"Web Developers\"],[\"Web Developers\"],[\"Web Developers\"],[\"Web Developers\"],[\"Web Developers\"],[\"Web Developers\"],[\"Web Developers\"],[\"Web Developers\"],[\"Web Developers\"],[\"Web Developers\"],[\"Web Developers\"],[\"Web Developers\"],[\"Web Developers\"],[\"Web Developers\"],[\"Web Developers\"],[\"Web Developers\"],[\"Web Developers\"],[\"Web Developers\"],[\"Web Developers\"],[\"Web Developers\"],[\"Web Developers\"],[\"Web Developers\"],[\"Web Developers\"],[\"Web Developers\"],[\"Web Developers\"],[\"Web Developers\"],[\"Web Developers\"],[\"Web Developers\"],[\"Web Developers\"],[\"Web Developers\"],[\"Web Developers\"],[\"Web Developers\"],[\"Web Developers\"],[\"Web Developers\"],[\"Web Developers\"],[\"Web Developers\"],[\"Web Developers\"],[\"Web Developers\"],[\"Web Developers\"],[\"Web Developers\"],[\"Web Developers\"],[\"Web Developers\"],[\"Web Developers\"],[\"Web Developers\"],[\"Web Developers\"],[\"Web Developers\"],[\"Web Developers\"],[\"Web Developers\"],[\"Web Developers\"],[\"Web Developers\"],[\"Web Developers\"],[\"Web Developers\"],[\"Web Developers\"],[\"Web Developers\"],[\"Web Developers\"],[\"Web Developers\"],[\"Web Developers\"],[\"Web Developers\"],[\"Web Developers\"],[\"Web Developers\"],[\"Web Developers\"],[\"Web Developers\"],[\"Web Developers\"],[\"Web Developers\"],[\"Web Developers\"],[\"Web Developers\"],[\"Web Developers\"],[\"Web Developers\"],[\"Web Developers\"],[\"Web Developers\"],[\"Web Developers\"],[\"Web Developers\"],[\"Web Developers\"],[\"Web Developers\"],[\"Web Developers\"],[\"Web Developers\"],[\"Web Developers\"],[\"Web Developers\"],[\"Web Developers\"],[\"Web Developers\"],[\"Web Developers\"],[\"Web Developers\"],[\"Web Developers\"],[\"Web Developers\"],[\"Web Developers\"],[\"Web Developers\"],[\"Web Developers\"],[\"Web Developers\"],[\"Web Developers\"],[\"Web Developers\"],[\"Web Developers\"],[\"Web Developers\"],[\"Web Developers\"],[\"Web Developers\"],[\"Web Developers\"],[\"Web Developers\"],[\"Web Developers\"],[\"Web Developers\"],[\"Web Developers\"],[\"Web Developers\"],[\"Web Developers\"],[\"Web Developers\"],[\"Web Developers\"],[\"Web Developers\"],[\"Web Developers\"],[\"Web Developers\"],[\"Web Developers\"],[\"Web Developers\"],[\"Web Developers\"],[\"Web Developers\"],[\"Web Developers\"],[\"Web Developers\"],[\"Web Developers\"],[\"Web Developers\"],[\"Web Developers\"],[\"Web Developers\"],[\"Web Developers\"],[\"Web Developers\"],[\"Web Developers\"],[\"Web Developers\"],[\"Web Developers\"],[\"Web Developers\"],[\"Web Developers\"],[\"Web Developers\"],[\"Web Developers\"],[\"Web Developers\"],[\"Web Developers\"],[\"Web Developers\"],[\"Web Developers\"],[\"Web Developers\"],[\"Web Developers\"],[\"Web Developers\"],[\"Web Developers\"],[\"Web Developers\"],[\"Web Developers\"],[\"Web Developers\"],[\"Web Developers\"],[\"Web Developers\"],[\"Web Developers\"],[\"Web Developers\"],[\"Web Developers\"],[\"Web Developers\"],[\"Web Developers\"],[\"Web Developers\"],[\"Web Developers\"],[\"Web Developers\"],[\"Web Developers\"],[\"Web Developers\"],[\"Web Developers\"],[\"Web Developers\"],[\"Web Developers\"],[\"Web Developers\"],[\"Web Developers\"],[\"Web Developers\"],[\"Web Developers\"],[\"Web Developers\"],[\"Web Developers\"],[\"Web Developers\"],[\"Web Developers\"],[\"Web Developers\"],[\"Web Developers\"],[\"Web Developers\"],[\"Web Developers\"],[\"Web Developers\"],[\"Web Developers\"],[\"Web Developers\"],[\"Web Developers\"],[\"Web Developers\"],[\"Web Developers\"],[\"Web Developers\"],[\"Web Developers\"],[\"Web Developers\"],[\"Web Developers\"],[\"Web Developers\"],[\"Web Developers\"],[\"Web Developers\"],[\"Web Developers\"],[\"Web Developers\"],[\"Web Developers\"],[\"Web Developers\"],[\"Web Developers\"],[\"Web Developers\"],[\"Web Developers\"],[\"Web Developers\"],[\"Web Developers\"],[\"Web Developers\"],[\"Web Developers\"],[\"Web Developers\"],[\"Web Developers\"],[\"Web Developers\"],[\"Web Developers\"],[\"Web Developers\"],[\"Web Developers\"],[\"Web Developers\"],[\"Web Developers\"],[\"Web Developers\"],[\"Web Developers\"],[\"Web Developers\"],[\"Web Developers\"],[\"Web Developers\"],[\"Web Developers\"],[\"Web Developers\"],[\"Web Developers\"],[\"Web Developers\"],[\"Web Developers\"],[\"Web Developers\"],[\"Web Developers\"],[\"Web Developers\"],[\"Web Developers\"],[\"Web Developers\"],[\"Web Developers\"],[\"Web Developers\"],[\"Web Developers\"],[\"Web Developers\"],[\"Web Developers\"],[\"Web Developers\"],[\"Web Developers\"],[\"Web Developers\"],[\"Web Developers\"],[\"Web Developers\"],[\"Web Developers\"],[\"Web Developers\"],[\"Web Developers\"],[\"Web Developers\"],[\"Web Developers\"],[\"Web Developers\"],[\"Web Developers\"],[\"Web Developers\"],[\"Web Developers\"],[\"Web Developers\"],[\"Web Developers\"],[\"Web Developers\"],[\"Web Developers\"],[\"Web Developers\"],[\"Web Developers\"],[\"Web Developers\"],[\"Web Developers\"],[\"Web Developers\"],[\"Web Developers\"],[\"Web Developers\"],[\"Web Developers\"],[\"Web Developers\"],[\"Web Developers\"],[\"Web Developers\"],[\"Web Developers\"],[\"Web Developers\"],[\"Web Developers\"],[\"Web Developers\"],[\"Web Developers\"],[\"Web Developers\"],[\"Web Developers\"],[\"Web Developers\"],[\"Web Developers\"],[\"Web Developers\"],[\"Web Developers\"],[\"Web Developers\"],[\"Web Developers\"],[\"Web Developers\"],[\"Web Developers\"],[\"Web Developers\"],[\"Web Developers\"],[\"Web Developers\"],[\"Web Developers\"],[\"Web Developers\"],[\"Web Developers\"],[\"Web Developers\"],[\"Web Developers\"],[\"Web Developers\"],[\"Web Developers\"],[\"Web Developers\"],[\"Web Developers\"],[\"Web Developers\"],[\"Web Developers\"],[\"Web Developers\"],[\"Web Developers\"],[\"Web Developers\"],[\"Web Developers\"],[\"Web Developers\"],[\"Web Developers\"],[\"Web Developers\"],[\"Web Developers\"],[\"Web Developers\"],[\"Web Developers\"],[\"Web Developers\"],[\"Web Developers\"],[\"Web Developers\"],[\"Web Developers\"],[\"Web Developers\"],[\"Web Developers\"],[\"Web Developers\"],[\"Web Developers\"],[\"Web Developers\"],[\"Web Developers\"],[\"Web Developers\"],[\"Web Developers\"],[\"Web Developers\"],[\"Web Developers\"],[\"Web Developers\"],[\"Web Developers\"],[\"Web Developers\"],[\"Web Developers\"],[\"Web Developers\"],[\"Web Developers\"],[\"Web Developers\"],[\"Web Developers\"],[\"Web Developers\"],[\"Web Developers\"],[\"Web Developers\"],[\"Web Developers\"],[\"Web Developers\"],[\"Web Developers\"],[\"Web Developers\"],[\"Web Developers\"],[\"Web Developers\"],[\"Web Developers\"],[\"Web Developers\"],[\"Web Developers\"],[\"Web Developers\"],[\"Web Developers\"],[\"Web Developers\"],[\"Web Developers\"],[\"Web Developers\"],[\"Web Developers\"],[\"Web Developers\"],[\"Web Developers\"],[\"Web Developers\"],[\"Web Developers\"],[\"Web Developers\"],[\"Web Developers\"],[\"Web Developers\"],[\"Web Developers\"],[\"Web Developers\"],[\"Web Developers\"],[\"Web Developers\"],[\"Web Developers\"],[\"Web Developers\"],[\"Web Developers\"],[\"Web Developers\"],[\"Web Developers\"],[\"Web Developers\"],[\"Web Developers\"],[\"Web Developers\"],[\"Web Developers\"],[\"Web Developers\"],[\"Web Developers\"],[\"Web Developers\"],[\"Web Developers\"],[\"Web Developers\"],[\"Web Developers\"],[\"Web Developers\"],[\"Web Developers\"],[\"Web Developers\"],[\"Web Developers\"],[\"Web Developers\"],[\"Web Developers\"],[\"Web Developers\"],[\"Web Developers\"],[\"Web Developers\"],[\"Web Developers\"],[\"Web Developers\"],[\"Web Developers\"],[\"Web Developers\"],[\"Web Developers\"],[\"Web Developers\"],[\"Web Developers\"],[\"Web Developers\"],[\"Web Developers\"],[\"Web Developers\"],[\"Web Developers\"],[\"Web Developers\"],[\"Web Developers\"],[\"Web Developers\"],[\"Web Developers\"],[\"Web Developers\"],[\"Web Developers\"],[\"Web Developers\"],[\"Web Developers\"],[\"Web Developers\"],[\"Web Developers\"],[\"Web Developers\"],[\"Web Developers\"],[\"Web Developers\"],[\"Web Developers\"],[\"Web Developers\"],[\"Web Developers\"],[\"Web Developers\"],[\"Web Developers\"],[\"Web Developers\"],[\"Web Developers\"],[\"Web Developers\"],[\"Web Developers\"],[\"Web Developers\"],[\"Web Developers\"],[\"Web Developers\"],[\"Web Developers\"],[\"Web Developers\"],[\"Web Developers\"],[\"Web Developers\"],[\"Web Developers\"]],\"hovertemplate\":\"OCC_TITLE=%{customdata[0]}\\u003cbr\\u003eH_MEDIAN=%{x}\\u003cbr\\u003eA_MEDIAN=%{y}\\u003cextra\\u003e\\u003c\\u002fextra\\u003e\",\"legendgroup\":\"Web Developers\",\"marker\":{\"color\":\"#00cc96\",\"symbol\":\"circle\"},\"mode\":\"markers\",\"name\":\"Web Developers\",\"showlegend\":true,\"x\":[\"40.84\",\"41.29\",\"41.80\",\"29.96\",\"38.15\",\"49.42\",\"53.72\",\"35.77\",\"39.42\",\"47.59\",\"55.75\",\"37.42\",\"37.03\",\"31.81\",\"30.56\",\"36.76\",\"38.07\",\"41.80\",\"41.80\",\"27.78\",\"27.39\",\"27.78\",\"32.95\",\"29.96\",\"29.96\",\"33.53\",\"37.03\",\"28.04\",\"38.91\",\"40.57\",\"49.44\",\"32.00\",\"43.97\",\"43.97\",\"*\",\"*\",\"29.44\",\"29.44\",\"36.76\",\"42.00\",\"27.04\",\"31.19\",\"20.00\",\"28.89\",\"28.89\",\"40.54\",\"36.63\",\"46.78\",\"37.78\",\"31.92\",\"42.86\",\"30.98\",\"49.31\",\"49.83\",\"49.10\",\"38.33\",\"44.58\",\"37.31\",\"*\",\"49.57\",\"48.77\",\"54.88\",\"47.52\",\"59.94\",\"36.21\",\"39.41\",\"39.16\",\"35.49\",\"39.92\",\"39.11\",\"37.19\",\"43.07\",\"30.10\",\"34.09\",\"38.52\",\"23.64\",\"24.74\",\"22.52\",\"23.64\",\"40.75\",\"43.09\",\"38.00\",\"26.35\",\"36.89\",\"25.40\",\"40.08\",\"40.08\",\"24.32\",\"24.32\",\"24.32\",\"28.87\",\"28.60\",\"*\",\"28.84\",\"23.95\",\"*\",\"32.24\",\"32.47\",\"43.24\",\"43.24\",\"37.21\",\"37.21\",\"41.10\",\"41.10\",\"29.63\",\"29.63\",\"40.27\",\"45.75\",\"35.63\",\"48.38\",\"37.34\",\"32.53\",\"60.81\",\"48.54\",\"30.29\",\"26.50\",\"33.86\",\"54.61\",\"42.24\",\"42.24\",\"52.67\",\"52.67\",\"42.97\",\"42.97\",\"53.26\",\"50.82\",\"47.32\",\"65.23\",\"65.23\",\"49.97\",\"53.72\",\"53.72\",\"42.16\",\"38.90\",\"38.75\",\"48.55\",\"37.38\",\"37.38\",\"*\",\"35.19\",\"35.19\",\"39.42\",\"49.46\",\"52.89\",\"47.52\",\"46.40\",\"61.35\",\"37.02\",\"39.17\",\"40.28\",\"47.10\",\"48.33\",\"38.00\",\"38.08\",\"43.67\",\"47.59\",\"47.59\",\"55.80\",\"47.81\",\"62.82\",\"64.83\",\"27.97\",\"41.45\",\"34.27\",\"34.27\",\"40.69\",\"37.42\",\"34.91\",\"39.22\",\"37.77\",\"39.92\",\"40.58\",\"33.68\",\"36.18\",\"32.04\",\"38.17\",\"38.19\",\"35.64\",\"39.26\",\"31.90\",\"31.90\",\"32.63\",\"32.56\",\"44.39\",\"44.39\",\"31.65\",\"31.44\",\"43.18\",\"42.10\",\"50.12\",\"51.40\",\"45.67\",\"45.36\",\"42.47\",\"43.53\",\"45.61\",\"45.37\",\"39.62\",\"43.53\",\"46.40\",\"38.05\",\"42.58\",\"32.46\",\"32.46\",\"18.80\",\"35.75\",\"41.46\",\"30.61\",\"31.40\",\"35.57\",\"35.57\",\"22.89\",\"19.14\",\"31.93\",\"48.25\",\"25.39\",\"39.16\",\"40.19\",\"37.15\",\"25.70\",\"40.87\",\"27.50\",\"31.87\",\"39.23\",\"38.07\",\"37.63\",\"36.20\",\"35.70\",\"39.73\",\"39.61\",\"38.67\",\"27.55\",\"40.45\",\"44.95\",\"31.73\",\"39.79\",\"40.69\",\"55.95\",\"33.21\",\"26.67\",\"28.51\",\"38.00\",\"30.45\",\"35.82\",\"55.22\",\"*\",\"30.30\",\"42.35\",\"32.19\",\"20.26\",\"53.80\",\"30.88\",\"42.62\",\"49.25\",\"54.08\",\"37.81\",\"42.62\",\"*\",\"28.70\",\"48.36\",\"27.63\",\"33.37\",\"35.03\",\"33.11\",\"31.17\",\"31.68\",\"39.98\",\"48.00\",\"42.53\",\"45.09\",\"27.87\",\"32.90\",\"27.87\",\"33.81\",\"30.30\",\"43.85\",\"38.26\",\"38.09\",\"36.79\",\"30.56\",\"39.98\",\"37.34\",\"30.90\",\"41.95\",\"38.43\",\"42.52\",\"24.41\",\"37.02\",\"44.80\",\"32.08\",\"38.00\",\"50.88\",\"52.12\",\"32.40\",\"32.24\",\"30.24\",\"23.16\",\"38.61\",\"34.47\",\"37.13\",\"41.62\",\"29.06\",\"32.66\",\"45.35\",\"46.91\",\"39.87\",\"40.60\",\"29.14\",\"31.62\",\"28.34\",\"29.71\",\"37.68\",\"31.55\",\"39.60\",\"34.00\",\"37.37\",\"46.84\",\"29.85\",\"39.42\",\"32.32\",\"39.24\",\"31.44\",\"38.57\",\"42.37\",\"36.94\",\"42.25\",\"37.89\",\"42.31\",\"32.90\",\"37.15\",\"30.51\",\"38.28\",\"39.98\",\"31.01\",\"35.75\",\"42.35\",\"44.81\",\"26.59\",\"36.79\",\"29.02\",\"35.20\",\"28.84\",\"34.53\",\"43.04\",\"35.82\",\"41.30\",\"25.27\",\"28.59\",\"37.74\",\"33.79\",\"30.56\",\"21.23\",\"34.02\",\"37.91\",\"27.30\",\"32.70\",\"37.78\",\"40.84\",\"32.17\",\"30.81\",\"38.20\",\"32.78\",\"41.95\",\"14.75\",\"44.80\",\"34.33\",\"32.30\",\"36.74\",\"37.31\",\"40.62\",\"28.79\",\"35.10\",\"35.53\",\"51.91\",\"38.68\",\"33.55\",\"27.90\",\"33.52\",\"34.70\",\"37.97\",\"39.03\",\"29.91\",\"36.55\",\"30.29\",\"30.86\",\"33.81\",\"22.28\",\"37.60\",\"30.10\",\"48.13\",\"37.22\",\"29.49\",\"43.50\",\"35.63\",\"23.69\",\"28.40\",\"32.52\",\"36.99\",\"38.47\",\"28.19\",\"32.29\",\"46.37\",\"27.87\",\"46.66\",\"27.87\",\"32.40\",\"38.17\",\"33.28\",\"39.80\",\"30.33\",\"34.26\",\"33.06\",\"39.00\",\"39.72\",\"38.00\",\"*\",\"30.51\",\"60.23\",\"36.43\",\"29.02\",\"36.12\",\"39.09\",\"46.59\",\"30.03\",\"42.99\",\"36.18\",\"38.22\",\"34.18\",\"33.87\",\"39.10\",\"23.89\",\"34.39\",\"33.35\",\"47.25\",\"38.08\",\"38.71\",\"55.22\",\"38.40\",\"46.22\",\"43.08\",\"27.76\",\"40.00\",\"27.75\",\"33.96\",\"29.88\",\"40.08\",\"44.88\",\"68.26\",\"75.67\",\"21.45\",\"21.53\",\"33.96\",\"48.95\",\"35.07\",\"44.26\",\"55.56\",\"27.42\",\"24.41\",\"32.25\",\"45.69\",\"34.42\",\"39.58\",\"31.64\",\"33.29\",\"45.78\",\"32.83\",\"33.45\",\"48.46\",\"32.35\",\"36.58\",\"31.84\",\"56.08\",\"43.17\",\"34.50\",\"51.96\",\"38.15\",\"25.48\",\"34.56\",\"23.39\",\"36.02\",\"23.58\",\"36.32\",\"49.26\",\"42.81\",\"37.32\",\"50.64\",\"45.61\",\"43.11\",\"42.46\",\"28.12\",\"44.47\",\"38.83\",\"40.82\",\"35.54\",\"22.82\",\"30.30\",\"30.88\",\"48.27\",\"26.90\",\"28.85\",\"27.50\",\"29.86\",\"36.88\",\"30.00\",\"30.20\",\"27.87\",\"34.62\",\"39.14\",\"*\",\"27.43\",\"*\",\"34.62\",\"47.24\",\"35.03\",\"22.08\",\"22.08\",\"23.25\",\"23.25\",\"37.03\",\"29.46\",\"33.11\",\"38.46\",\"38.46\",\"*\",\"31.96\",\"29.52\",\"28.39\",\"36.34\"],\"xaxis\":\"x\",\"y\":[\"84,960\",\"85,890\",\"86,950\",\"62,320\",\"79,350\",\"102,790\",\"111,740\",\"74,410\",\"81,990\",\"98,990\",\"115,950\",\"77,840\",\"77,010\",\"66,160\",\"63,570\",\"76,460\",\"79,190\",\"86,950\",\"86,950\",\"57,780\",\"56,980\",\"57,780\",\"68,540\",\"62,320\",\"62,320\",\"69,750\",\"77,020\",\"58,320\",\"80,940\",\"84,380\",\"102,840\",\"66,570\",\"91,450\",\"91,450\",\"*\",\"*\",\"61,240\",\"61,240\",\"76,460\",\"87,370\",\"56,250\",\"64,870\",\"41,610\",\"60,090\",\"60,090\",\"84,320\",\"76,190\",\"97,310\",\"78,580\",\"66,390\",\"89,160\",\"64,440\",\"102,560\",\"103,640\",\"102,140\",\"79,730\",\"92,720\",\"77,610\",\"*\",\"103,110\",\"101,450\",\"114,150\",\"98,850\",\"124,670\",\"75,320\",\"81,980\",\"81,460\",\"73,820\",\"83,040\",\"81,340\",\"77,360\",\"89,580\",\"62,600\",\"70,900\",\"80,130\",\"49,180\",\"51,460\",\"46,830\",\"49,180\",\"84,760\",\"89,630\",\"79,040\",\"54,810\",\"76,730\",\"52,840\",\"83,360\",\"83,360\",\"50,580\",\"50,580\",\"50,580\",\"60,050\",\"59,480\",\"*\",\"59,990\",\"49,810\",\"*\",\"67,060\",\"67,540\",\"89,930\",\"89,930\",\"77,400\",\"77,400\",\"85,500\",\"85,500\",\"61,630\",\"61,630\",\"83,750\",\"95,170\",\"74,110\",\"100,620\",\"77,670\",\"67,650\",\"126,480\",\"100,960\",\"63,010\",\"55,110\",\"70,420\",\"113,590\",\"87,850\",\"87,850\",\"109,550\",\"109,550\",\"89,390\",\"89,390\",\"110,780\",\"105,710\",\"98,420\",\"135,690\",\"135,690\",\"103,940\",\"111,740\",\"111,740\",\"87,700\",\"80,910\",\"80,600\",\"100,980\",\"77,750\",\"77,750\",\"*\",\"73,190\",\"73,190\",\"81,990\",\"102,880\",\"110,020\",\"98,840\",\"96,510\",\"127,610\",\"77,010\",\"81,480\",\"83,790\",\"97,970\",\"100,520\",\"79,040\",\"79,200\",\"90,830\",\"98,990\",\"98,990\",\"116,070\",\"99,440\",\"130,660\",\"134,850\",\"58,190\",\"86,220\",\"71,280\",\"71,280\",\"84,640\",\"77,840\",\"72,610\",\"81,580\",\"78,570\",\"83,020\",\"84,410\",\"70,050\",\"75,250\",\"66,640\",\"79,400\",\"79,430\",\"74,120\",\"81,660\",\"66,340\",\"66,340\",\"67,880\",\"67,730\",\"92,330\",\"92,330\",\"65,840\",\"65,400\",\"89,820\",\"87,560\",\"104,260\",\"106,920\",\"94,990\",\"94,340\",\"88,340\",\"90,530\",\"94,860\",\"94,360\",\"82,420\",\"90,530\",\"96,510\",\"79,150\",\"88,560\",\"67,510\",\"67,510\",\"39,100\",\"74,360\",\"86,250\",\"63,660\",\"65,320\",\"73,990\",\"73,990\",\"47,600\",\"39,810\",\"66,420\",\"100,350\",\"52,820\",\"81,450\",\"83,590\",\"77,260\",\"53,460\",\"85,010\",\"57,200\",\"66,290\",\"81,590\",\"79,190\",\"78,260\",\"75,300\",\"74,250\",\"82,640\",\"82,390\",\"80,440\",\"57,300\",\"84,130\",\"93,500\",\"65,990\",\"82,750\",\"84,640\",\"116,370\",\"69,080\",\"55,480\",\"59,290\",\"79,040\",\"63,330\",\"74,500\",\"114,850\",\"*\",\"63,020\",\"88,090\",\"66,960\",\"42,140\",\"111,910\",\"64,240\",\"88,640\",\"102,450\",\"112,490\",\"78,640\",\"88,640\",\"*\",\"59,690\",\"100,580\",\"57,470\",\"69,410\",\"72,870\",\"68,860\",\"64,820\",\"65,890\",\"83,150\",\"99,850\",\"88,460\",\"93,780\",\"57,970\",\"68,430\",\"57,970\",\"70,310\",\"63,020\",\"91,210\",\"79,590\",\"79,230\",\"76,530\",\"63,560\",\"83,160\",\"77,660\",\"64,260\",\"87,260\",\"79,940\",\"88,450\",\"50,770\",\"77,010\",\"93,180\",\"66,720\",\"79,030\",\"105,830\",\"108,410\",\"67,390\",\"67,060\",\"62,890\",\"48,160\",\"80,320\",\"71,700\",\"77,230\",\"86,560\",\"60,440\",\"67,940\",\"94,330\",\"97,560\",\"82,930\",\"84,450\",\"60,600\",\"65,770\",\"58,940\",\"61,790\",\"78,380\",\"65,620\",\"82,370\",\"70,720\",\"77,730\",\"97,430\",\"62,090\",\"81,990\",\"67,230\",\"81,620\",\"65,400\",\"80,230\",\"88,120\",\"76,830\",\"87,870\",\"78,800\",\"88,000\",\"68,420\",\"77,280\",\"63,470\",\"79,630\",\"83,160\",\"64,490\",\"74,360\",\"88,090\",\"93,200\",\"55,300\",\"76,520\",\"60,360\",\"73,210\",\"59,990\",\"71,830\",\"89,530\",\"74,500\",\"85,900\",\"52,560\",\"59,460\",\"78,510\",\"70,280\",\"63,560\",\"44,170\",\"70,760\",\"78,860\",\"56,780\",\"68,010\",\"78,570\",\"84,940\",\"66,910\",\"64,080\",\"79,450\",\"68,170\",\"87,260\",\"30,670\",\"93,180\",\"71,410\",\"67,190\",\"76,410\",\"77,610\",\"84,490\",\"59,870\",\"73,000\",\"73,890\",\"107,960\",\"80,460\",\"69,770\",\"58,030\",\"69,730\",\"72,180\",\"78,980\",\"81,180\",\"62,220\",\"76,020\",\"63,000\",\"64,190\",\"70,310\",\"46,350\",\"78,200\",\"62,600\",\"100,120\",\"77,420\",\"61,340\",\"90,480\",\"74,100\",\"49,280\",\"59,060\",\"67,640\",\"76,940\",\"80,010\",\"58,640\",\"67,150\",\"96,450\",\"57,960\",\"97,040\",\"57,970\",\"67,390\",\"79,400\",\"69,210\",\"82,780\",\"63,080\",\"71,270\",\"68,770\",\"81,110\",\"82,610\",\"79,030\",\"*\",\"63,470\",\"125,280\",\"75,770\",\"60,370\",\"75,140\",\"81,300\",\"96,900\",\"62,470\",\"89,420\",\"75,250\",\"79,500\",\"71,080\",\"70,450\",\"81,340\",\"49,690\",\"71,520\",\"69,370\",\"98,280\",\"79,210\",\"80,510\",\"114,860\",\"79,860\",\"96,130\",\"89,600\",\"57,740\",\"83,200\",\"57,720\",\"70,640\",\"62,150\",\"83,360\",\"93,340\",\"141,980\",\"157,390\",\"44,620\",\"44,770\",\"70,640\",\"101,820\",\"72,940\",\"92,050\",\"115,560\",\"57,030\",\"50,770\",\"67,090\",\"95,020\",\"71,600\",\"82,330\",\"65,820\",\"69,240\",\"95,210\",\"68,290\",\"69,580\",\"100,790\",\"67,290\",\"76,090\",\"66,230\",\"116,640\",\"89,790\",\"71,760\",\"108,070\",\"79,350\",\"53,000\",\"71,890\",\"48,660\",\"74,930\",\"49,040\",\"75,550\",\"102,460\",\"89,040\",\"77,630\",\"105,330\",\"94,860\",\"89,660\",\"88,320\",\"58,480\",\"92,490\",\"80,760\",\"84,900\",\"73,920\",\"47,460\",\"63,030\",\"64,240\",\"100,400\",\"55,960\",\"60,000\",\"57,210\",\"62,120\",\"76,710\",\"62,400\",\"62,810\",\"57,970\",\"72,010\",\"81,420\",\"*\",\"57,040\",\"*\",\"72,010\",\"98,260\",\"72,860\",\"45,930\",\"45,930\",\"48,370\",\"48,370\",\"77,020\",\"61,280\",\"68,860\",\"80,000\",\"79,990\",\"*\",\"66,470\",\"61,390\",\"59,040\",\"75,590\"],\"yaxis\":\"y\",\"type\":\"scattergl\"},{\"customdata\":[[\"Data Scientists\"],[\"Data Scientists\"],[\"Data Scientists\"],[\"Data Scientists\"],[\"Data Scientists\"],[\"Data Scientists\"],[\"Data Scientists\"],[\"Data Scientists\"],[\"Data Scientists\"],[\"Data Scientists\"],[\"Data Scientists\"],[\"Data Scientists\"],[\"Data Scientists\"],[\"Data Scientists\"],[\"Data Scientists\"],[\"Data Scientists\"],[\"Data Scientists\"],[\"Data Scientists\"],[\"Data Scientists\"],[\"Data Scientists\"],[\"Data Scientists\"],[\"Data Scientists\"],[\"Data Scientists\"],[\"Data Scientists\"],[\"Data Scientists\"],[\"Data Scientists\"],[\"Data Scientists\"],[\"Data Scientists\"],[\"Data Scientists\"],[\"Data Scientists\"],[\"Data Scientists\"],[\"Data Scientists\"],[\"Data Scientists\"],[\"Data Scientists\"],[\"Data Scientists\"],[\"Data Scientists\"],[\"Data Scientists\"],[\"Data Scientists\"],[\"Data Scientists\"],[\"Data Scientists\"],[\"Data Scientists\"],[\"Data Scientists\"],[\"Data Scientists\"],[\"Data Scientists\"],[\"Data Scientists\"],[\"Data Scientists\"],[\"Data Scientists\"],[\"Data Scientists\"],[\"Data Scientists\"],[\"Data Scientists\"],[\"Data Scientists\"],[\"Data Scientists\"],[\"Data Scientists\"],[\"Data Scientists\"],[\"Data Scientists\"],[\"Data Scientists\"],[\"Data Scientists\"],[\"Data Scientists\"],[\"Data Scientists\"],[\"Data Scientists\"],[\"Data Scientists\"],[\"Data Scientists\"],[\"Data Scientists\"],[\"Data Scientists\"],[\"Data Scientists\"],[\"Data Scientists\"],[\"Data Scientists\"],[\"Data Scientists\"],[\"Data Scientists\"],[\"Data Scientists\"],[\"Data Scientists\"],[\"Data Scientists\"],[\"Data Scientists\"],[\"Data Scientists\"],[\"Data Scientists\"],[\"Data Scientists\"],[\"Data Scientists\"],[\"Data Scientists\"],[\"Data Scientists\"],[\"Data Scientists\"],[\"Data Scientists\"],[\"Data Scientists\"],[\"Data Scientists\"],[\"Data Scientists\"],[\"Data Scientists\"],[\"Data Scientists\"],[\"Data Scientists\"],[\"Data Scientists\"],[\"Data Scientists\"],[\"Data Scientists\"],[\"Data Scientists\"],[\"Data Scientists\"],[\"Data Scientists\"],[\"Data Scientists\"],[\"Data Scientists\"],[\"Data Scientists\"],[\"Data Scientists\"],[\"Data Scientists\"],[\"Data Scientists\"],[\"Data Scientists\"],[\"Data Scientists\"],[\"Data Scientists\"],[\"Data Scientists\"],[\"Data Scientists\"],[\"Data Scientists\"],[\"Data Scientists\"],[\"Data Scientists\"],[\"Data Scientists\"],[\"Data Scientists\"],[\"Data Scientists\"],[\"Data Scientists\"],[\"Data Scientists\"],[\"Data Scientists\"],[\"Data Scientists\"],[\"Data Scientists\"],[\"Data Scientists\"],[\"Data Scientists\"],[\"Data Scientists\"],[\"Data Scientists\"],[\"Data Scientists\"],[\"Data Scientists\"],[\"Data Scientists\"],[\"Data Scientists\"],[\"Data Scientists\"],[\"Data Scientists\"],[\"Data Scientists\"],[\"Data Scientists\"],[\"Data Scientists\"],[\"Data Scientists\"],[\"Data Scientists\"],[\"Data Scientists\"],[\"Data Scientists\"],[\"Data Scientists\"],[\"Data Scientists\"],[\"Data Scientists\"],[\"Data Scientists\"],[\"Data Scientists\"],[\"Data Scientists\"],[\"Data Scientists\"],[\"Data Scientists\"],[\"Data Scientists\"],[\"Data Scientists\"],[\"Data Scientists\"],[\"Data Scientists\"],[\"Data Scientists\"],[\"Data Scientists\"],[\"Data Scientists\"],[\"Data Scientists\"],[\"Data Scientists\"],[\"Data Scientists\"],[\"Data Scientists\"],[\"Data Scientists\"],[\"Data Scientists\"],[\"Data Scientists\"],[\"Data Scientists\"],[\"Data Scientists\"],[\"Data Scientists\"],[\"Data Scientists\"],[\"Data Scientists\"],[\"Data Scientists\"],[\"Data Scientists\"],[\"Data Scientists\"],[\"Data Scientists\"],[\"Data Scientists\"],[\"Data Scientists\"],[\"Data Scientists\"],[\"Data Scientists\"],[\"Data Scientists\"],[\"Data Scientists\"],[\"Data Scientists\"],[\"Data Scientists\"],[\"Data Scientists\"],[\"Data Scientists\"],[\"Data Scientists\"],[\"Data Scientists\"],[\"Data Scientists\"],[\"Data Scientists\"],[\"Data Scientists\"],[\"Data Scientists\"],[\"Data Scientists\"],[\"Data Scientists\"],[\"Data Scientists\"],[\"Data Scientists\"],[\"Data Scientists\"],[\"Data Scientists\"],[\"Data Scientists\"],[\"Data Scientists\"],[\"Data Scientists\"],[\"Data Scientists\"],[\"Data Scientists\"],[\"Data Scientists\"],[\"Data Scientists\"],[\"Data Scientists\"],[\"Data Scientists\"],[\"Data Scientists\"],[\"Data Scientists\"],[\"Data Scientists\"],[\"Data Scientists\"],[\"Data Scientists\"],[\"Data Scientists\"],[\"Data Scientists\"],[\"Data Scientists\"],[\"Data Scientists\"],[\"Data Scientists\"],[\"Data Scientists\"],[\"Data Scientists\"],[\"Data Scientists\"],[\"Data Scientists\"],[\"Data Scientists\"],[\"Data Scientists\"],[\"Data Scientists\"],[\"Data Scientists\"],[\"Data Scientists\"],[\"Data Scientists\"],[\"Data Scientists\"],[\"Data Scientists\"],[\"Data Scientists\"],[\"Data Scientists\"],[\"Data Scientists\"],[\"Data Scientists\"],[\"Data Scientists\"],[\"Data Scientists\"],[\"Data Scientists\"],[\"Data Scientists\"],[\"Data Scientists\"],[\"Data Scientists\"],[\"Data Scientists\"],[\"Data Scientists\"],[\"Data Scientists\"],[\"Data Scientists\"],[\"Data Scientists\"],[\"Data Scientists\"],[\"Data Scientists\"],[\"Data Scientists\"],[\"Data Scientists\"],[\"Data Scientists\"],[\"Data Scientists\"],[\"Data Scientists\"],[\"Data Scientists\"],[\"Data Scientists\"],[\"Data Scientists\"],[\"Data Scientists\"],[\"Data Scientists\"],[\"Data Scientists\"],[\"Data Scientists\"],[\"Data Scientists\"],[\"Data Scientists\"],[\"Data Scientists\"],[\"Data Scientists\"],[\"Data Scientists\"],[\"Data Scientists\"],[\"Data Scientists\"],[\"Data Scientists\"],[\"Data Scientists\"],[\"Data Scientists\"],[\"Data Scientists\"],[\"Data Scientists\"],[\"Data Scientists\"],[\"Data Scientists\"],[\"Data Scientists\"],[\"Data Scientists\"],[\"Data Scientists\"],[\"Data Scientists\"],[\"Data Scientists\"],[\"Data Scientists\"],[\"Data Scientists\"],[\"Data Scientists\"],[\"Data Scientists\"],[\"Data Scientists\"],[\"Data Scientists\"],[\"Data Scientists\"],[\"Data Scientists\"],[\"Data Scientists\"],[\"Data Scientists\"],[\"Data Scientists\"],[\"Data Scientists\"],[\"Data Scientists\"],[\"Data Scientists\"],[\"Data Scientists\"],[\"Data Scientists\"],[\"Data Scientists\"],[\"Data Scientists\"],[\"Data Scientists\"],[\"Data Scientists\"],[\"Data Scientists\"],[\"Data Scientists\"],[\"Data Scientists\"],[\"Data Scientists\"],[\"Data Scientists\"],[\"Data Scientists\"],[\"Data Scientists\"],[\"Data Scientists\"],[\"Data Scientists\"],[\"Data Scientists\"],[\"Data Scientists\"],[\"Data Scientists\"],[\"Data Scientists\"],[\"Data Scientists\"],[\"Data Scientists\"],[\"Data Scientists\"],[\"Data Scientists\"],[\"Data Scientists\"],[\"Data Scientists\"],[\"Data Scientists\"],[\"Data Scientists\"],[\"Data Scientists\"],[\"Data Scientists\"],[\"Data Scientists\"],[\"Data Scientists\"],[\"Data Scientists\"],[\"Data Scientists\"],[\"Data Scientists\"],[\"Data Scientists\"],[\"Data Scientists\"],[\"Data Scientists\"],[\"Data Scientists\"],[\"Data Scientists\"],[\"Data Scientists\"],[\"Data Scientists\"],[\"Data Scientists\"],[\"Data Scientists\"],[\"Data Scientists\"],[\"Data Scientists\"],[\"Data Scientists\"],[\"Data Scientists\"],[\"Data Scientists\"],[\"Data Scientists\"],[\"Data Scientists\"],[\"Data Scientists\"],[\"Data Scientists\"],[\"Data Scientists\"],[\"Data Scientists\"],[\"Data Scientists\"],[\"Data Scientists\"],[\"Data Scientists\"],[\"Data Scientists\"],[\"Data Scientists\"],[\"Data Scientists\"],[\"Data Scientists\"],[\"Data Scientists\"],[\"Data Scientists\"],[\"Data Scientists\"],[\"Data Scientists\"],[\"Data Scientists\"],[\"Data Scientists\"],[\"Data Scientists\"],[\"Data Scientists\"],[\"Data Scientists\"],[\"Data Scientists\"],[\"Data Scientists\"],[\"Data Scientists\"],[\"Data Scientists\"],[\"Data Scientists\"],[\"Data Scientists\"],[\"Data Scientists\"],[\"Data Scientists\"],[\"Data Scientists\"],[\"Data Scientists\"],[\"Data Scientists\"],[\"Data Scientists\"],[\"Data Scientists\"],[\"Data Scientists\"],[\"Data Scientists\"],[\"Data Scientists\"],[\"Data Scientists\"],[\"Data Scientists\"],[\"Data Scientists\"],[\"Data Scientists\"],[\"Data Scientists\"],[\"Data Scientists\"],[\"Data Scientists\"],[\"Data Scientists\"],[\"Data Scientists\"],[\"Data Scientists\"],[\"Data Scientists\"],[\"Data Scientists\"],[\"Data Scientists\"],[\"Data Scientists\"],[\"Data Scientists\"],[\"Data Scientists\"],[\"Data Scientists\"],[\"Data Scientists\"],[\"Data Scientists\"],[\"Data Scientists\"],[\"Data Scientists\"],[\"Data Scientists\"],[\"Data Scientists\"],[\"Data Scientists\"],[\"Data Scientists\"],[\"Data Scientists\"],[\"Data Scientists\"],[\"Data Scientists\"],[\"Data Scientists\"],[\"Data Scientists\"],[\"Data Scientists\"],[\"Data Scientists\"],[\"Data Scientists\"],[\"Data Scientists\"],[\"Data Scientists\"],[\"Data Scientists\"],[\"Data Scientists\"],[\"Data Scientists\"],[\"Data Scientists\"],[\"Data Scientists\"],[\"Data Scientists\"],[\"Data Scientists\"],[\"Data Scientists\"],[\"Data Scientists\"],[\"Data Scientists\"],[\"Data Scientists\"],[\"Data Scientists\"],[\"Data Scientists\"],[\"Data Scientists\"],[\"Data Scientists\"],[\"Data Scientists\"],[\"Data Scientists\"],[\"Data Scientists\"],[\"Data Scientists\"],[\"Data Scientists\"],[\"Data Scientists\"],[\"Data Scientists\"],[\"Data Scientists\"],[\"Data Scientists\"],[\"Data Scientists\"],[\"Data Scientists\"],[\"Data Scientists\"],[\"Data Scientists\"],[\"Data Scientists\"],[\"Data Scientists\"],[\"Data Scientists\"],[\"Data Scientists\"],[\"Data Scientists\"],[\"Data Scientists\"],[\"Data Scientists\"],[\"Data Scientists\"],[\"Data Scientists\"],[\"Data Scientists\"],[\"Data Scientists\"],[\"Data Scientists\"],[\"Data Scientists\"],[\"Data Scientists\"],[\"Data Scientists\"],[\"Data Scientists\"],[\"Data Scientists\"],[\"Data Scientists\"],[\"Data Scientists\"],[\"Data Scientists\"],[\"Data Scientists\"],[\"Data Scientists\"],[\"Data Scientists\"],[\"Data Scientists\"],[\"Data Scientists\"],[\"Data Scientists\"],[\"Data Scientists\"],[\"Data Scientists\"],[\"Data Scientists\"],[\"Data Scientists\"],[\"Data Scientists\"],[\"Data Scientists\"],[\"Data Scientists\"],[\"Data Scientists\"],[\"Data Scientists\"],[\"Data Scientists\"],[\"Data Scientists\"],[\"Data Scientists\"],[\"Data Scientists\"],[\"Data Scientists\"],[\"Data Scientists\"],[\"Data Scientists\"],[\"Data Scientists\"],[\"Data Scientists\"],[\"Data Scientists\"],[\"Data Scientists\"],[\"Data Scientists\"],[\"Data Scientists\"],[\"Data Scientists\"],[\"Data Scientists\"],[\"Data Scientists\"],[\"Data Scientists\"],[\"Data Scientists\"],[\"Data Scientists\"],[\"Data Scientists\"],[\"Data Scientists\"],[\"Data Scientists\"],[\"Data Scientists\"],[\"Data Scientists\"],[\"Data Scientists\"],[\"Data Scientists\"],[\"Data Scientists\"],[\"Data Scientists\"],[\"Data Scientists\"],[\"Data Scientists\"],[\"Data Scientists\"],[\"Data Scientists\"],[\"Data Scientists\"],[\"Data Scientists\"],[\"Data Scientists\"],[\"Data Scientists\"],[\"Data Scientists\"],[\"Data Scientists\"],[\"Data Scientists\"],[\"Data Scientists\"],[\"Data Scientists\"],[\"Data Scientists\"],[\"Data Scientists\"],[\"Data Scientists\"],[\"Data Scientists\"],[\"Data Scientists\"],[\"Data Scientists\"],[\"Data Scientists\"],[\"Data Scientists\"],[\"Data Scientists\"],[\"Data Scientists\"],[\"Data Scientists\"],[\"Data Scientists\"],[\"Data Scientists\"],[\"Data Scientists\"],[\"Data Scientists\"],[\"Data Scientists\"],[\"Data Scientists\"],[\"Data Scientists\"],[\"Data Scientists\"],[\"Data Scientists\"],[\"Data Scientists\"],[\"Data Scientists\"],[\"Data Scientists\"],[\"Data Scientists\"],[\"Data Scientists\"],[\"Data Scientists\"],[\"Data Scientists\"],[\"Data Scientists\"],[\"Data Scientists\"],[\"Data Scientists\"],[\"Data Scientists\"],[\"Data Scientists\"],[\"Data Scientists\"],[\"Data Scientists\"],[\"Data Scientists\"],[\"Data Scientists\"],[\"Data Scientists\"],[\"Data Scientists\"],[\"Data Scientists\"],[\"Data Scientists\"],[\"Data Scientists\"],[\"Data Scientists\"],[\"Data Scientists\"],[\"Data Scientists\"],[\"Data Scientists\"],[\"Data Scientists\"],[\"Data Scientists\"],[\"Data Scientists\"],[\"Data Scientists\"],[\"Data Scientists\"],[\"Data Scientists\"],[\"Data Scientists\"],[\"Data Scientists\"],[\"Data Scientists\"],[\"Data Scientists\"],[\"Data Scientists\"],[\"Data Scientists\"],[\"Data Scientists\"],[\"Data Scientists\"],[\"Data Scientists\"],[\"Data Scientists\"],[\"Data Scientists\"],[\"Data Scientists\"],[\"Data Scientists\"],[\"Data Scientists\"],[\"Data Scientists\"],[\"Data Scientists\"],[\"Data Scientists\"],[\"Data Scientists\"],[\"Data Scientists\"],[\"Data Scientists\"],[\"Data Scientists\"],[\"Data Scientists\"],[\"Data Scientists\"],[\"Data Scientists\"],[\"Data Scientists\"],[\"Data Scientists\"],[\"Data Scientists\"],[\"Data Scientists\"],[\"Data Scientists\"],[\"Data Scientists\"],[\"Data Scientists\"],[\"Data Scientists\"],[\"Data Scientists\"],[\"Data Scientists\"],[\"Data Scientists\"],[\"Data Scientists\"],[\"Data Scientists\"],[\"Data Scientists\"],[\"Data Scientists\"],[\"Data Scientists\"],[\"Data Scientists\"],[\"Data Scientists\"],[\"Data Scientists\"],[\"Data Scientists\"],[\"Data Scientists\"],[\"Data Scientists\"],[\"Data Scientists\"],[\"Data Scientists\"],[\"Data Scientists\"],[\"Data Scientists\"],[\"Data Scientists\"],[\"Data Scientists\"],[\"Data Scientists\"],[\"Data Scientists\"],[\"Data Scientists\"],[\"Data Scientists\"],[\"Data Scientists\"],[\"Data Scientists\"],[\"Data Scientists\"],[\"Data Scientists\"],[\"Data Scientists\"],[\"Data Scientists\"],[\"Data Scientists\"],[\"Data Scientists\"],[\"Data Scientists\"],[\"Data Scientists\"],[\"Data Scientists\"],[\"Data Scientists\"],[\"Data Scientists\"],[\"Data Scientists\"],[\"Data Scientists\"],[\"Data Scientists\"],[\"Data Scientists\"],[\"Data Scientists\"],[\"Data Scientists\"],[\"Data Scientists\"],[\"Data Scientists\"],[\"Data Scientists\"],[\"Data Scientists\"],[\"Data Scientists\"],[\"Data Scientists\"],[\"Data Scientists\"],[\"Data Scientists\"],[\"Data Scientists\"],[\"Data Scientists\"],[\"Data Scientists\"],[\"Data Scientists\"],[\"Data Scientists\"],[\"Data Scientists\"],[\"Data Scientists\"],[\"Data Scientists\"],[\"Data Scientists\"],[\"Data Scientists\"],[\"Data Scientists\"],[\"Data Scientists\"],[\"Data Scientists\"],[\"Data Scientists\"],[\"Data Scientists\"],[\"Data Scientists\"],[\"Data Scientists\"],[\"Data Scientists\"],[\"Data Scientists\"],[\"Data Scientists\"],[\"Data Scientists\"],[\"Data Scientists\"],[\"Data Scientists\"],[\"Data Scientists\"],[\"Data Scientists\"],[\"Data Scientists\"],[\"Data Scientists\"],[\"Data Scientists\"],[\"Data Scientists\"],[\"Data Scientists\"],[\"Data Scientists\"],[\"Data Scientists\"],[\"Data Scientists\"],[\"Data Scientists\"],[\"Data Scientists\"],[\"Data Scientists\"],[\"Data Scientists\"],[\"Data Scientists\"],[\"Data Scientists\"],[\"Data Scientists\"],[\"Data Scientists\"],[\"Data Scientists\"],[\"Data Scientists\"],[\"Data Scientists\"],[\"Data Scientists\"],[\"Data Scientists\"],[\"Data Scientists\"],[\"Data Scientists\"],[\"Data Scientists\"],[\"Data Scientists\"],[\"Data Scientists\"],[\"Data Scientists\"],[\"Data Scientists\"],[\"Data Scientists\"],[\"Data Scientists\"],[\"Data Scientists\"],[\"Data Scientists\"],[\"Data Scientists\"],[\"Data Scientists\"],[\"Data Scientists\"],[\"Data Scientists\"],[\"Data Scientists\"],[\"Data Scientists\"],[\"Data Scientists\"],[\"Data Scientists\"],[\"Data Scientists\"],[\"Data Scientists\"],[\"Data Scientists\"],[\"Data Scientists\"],[\"Data Scientists\"],[\"Data Scientists\"],[\"Data Scientists\"],[\"Data Scientists\"],[\"Data Scientists\"],[\"Data Scientists\"],[\"Data Scientists\"],[\"Data Scientists\"],[\"Data Scientists\"],[\"Data Scientists\"],[\"Data Scientists\"],[\"Data Scientists\"],[\"Data Scientists\"],[\"Data Scientists\"],[\"Data Scientists\"],[\"Data Scientists\"],[\"Data Scientists\"],[\"Data Scientists\"],[\"Data Scientists\"],[\"Data Scientists\"],[\"Data Scientists\"],[\"Data Scientists\"],[\"Data Scientists\"],[\"Data Scientists\"],[\"Data Scientists\"],[\"Data Scientists\"],[\"Data Scientists\"],[\"Data Scientists\"],[\"Data Scientists\"],[\"Data Scientists\"],[\"Data Scientists\"],[\"Data Scientists\"],[\"Data Scientists\"],[\"Data Scientists\"],[\"Data Scientists\"],[\"Data Scientists\"],[\"Data Scientists\"],[\"Data Scientists\"],[\"Data Scientists\"],[\"Data Scientists\"],[\"Data Scientists\"],[\"Data Scientists\"],[\"Data Scientists\"],[\"Data Scientists\"],[\"Data Scientists\"],[\"Data Scientists\"],[\"Data Scientists\"],[\"Data Scientists\"],[\"Data Scientists\"],[\"Data Scientists\"],[\"Data Scientists\"],[\"Data Scientists\"],[\"Data Scientists\"],[\"Data Scientists\"],[\"Data Scientists\"],[\"Data Scientists\"],[\"Data Scientists\"],[\"Data Scientists\"],[\"Data Scientists\"],[\"Data Scientists\"],[\"Data Scientists\"],[\"Data Scientists\"],[\"Data Scientists\"],[\"Data Scientists\"],[\"Data Scientists\"],[\"Data Scientists\"],[\"Data Scientists\"],[\"Data Scientists\"],[\"Data Scientists\"],[\"Data Scientists\"],[\"Data Scientists\"],[\"Data Scientists\"],[\"Data Scientists\"],[\"Data Scientists\"],[\"Data Scientists\"],[\"Data Scientists\"],[\"Data Scientists\"],[\"Data Scientists\"],[\"Data Scientists\"],[\"Data Scientists\"],[\"Data Scientists\"],[\"Data Scientists\"],[\"Data Scientists\"],[\"Data Scientists\"],[\"Data Scientists\"],[\"Data Scientists\"],[\"Data Scientists\"],[\"Data Scientists\"],[\"Data Scientists\"],[\"Data Scientists\"],[\"Data Scientists\"],[\"Data Scientists\"],[\"Data Scientists\"],[\"Data Scientists\"],[\"Data Scientists\"],[\"Data Scientists\"],[\"Data Scientists\"],[\"Data Scientists\"],[\"Data Scientists\"],[\"Data Scientists\"],[\"Data Scientists\"],[\"Data Scientists\"],[\"Data Scientists\"],[\"Data Scientists\"],[\"Data Scientists\"],[\"Data Scientists\"],[\"Data Scientists\"],[\"Data Scientists\"],[\"Data Scientists\"],[\"Data Scientists\"],[\"Data Scientists\"],[\"Data Scientists\"],[\"Data Scientists\"],[\"Data Scientists\"],[\"Data Scientists\"],[\"Data Scientists\"],[\"Data Scientists\"],[\"Data Scientists\"],[\"Data Scientists\"],[\"Data Scientists\"],[\"Data Scientists\"],[\"Data Scientists\"],[\"Data Scientists\"],[\"Data Scientists\"],[\"Data Scientists\"],[\"Data Scientists\"],[\"Data Scientists\"],[\"Data Scientists\"],[\"Data Scientists\"],[\"Data Scientists\"],[\"Data Scientists\"],[\"Data Scientists\"],[\"Data Scientists\"],[\"Data Scientists\"],[\"Data Scientists\"],[\"Data Scientists\"],[\"Data Scientists\"],[\"Data Scientists\"],[\"Data Scientists\"],[\"Data Scientists\"],[\"Data Scientists\"],[\"Data Scientists\"],[\"Data Scientists\"],[\"Data Scientists\"],[\"Data Scientists\"],[\"Data Scientists\"],[\"Data Scientists\"],[\"Data Scientists\"],[\"Data Scientists\"],[\"Data Scientists\"],[\"Data Scientists\"],[\"Data Scientists\"],[\"Data Scientists\"],[\"Data Scientists\"],[\"Data Scientists\"],[\"Data Scientists\"],[\"Data Scientists\"],[\"Data Scientists\"],[\"Data Scientists\"],[\"Data Scientists\"],[\"Data Scientists\"],[\"Data Scientists\"],[\"Data Scientists\"],[\"Data Scientists\"],[\"Data Scientists\"],[\"Data Scientists\"],[\"Data Scientists\"],[\"Data Scientists\"],[\"Data Scientists\"],[\"Data Scientists\"],[\"Data Scientists\"],[\"Data Scientists\"],[\"Data Scientists\"],[\"Data Scientists\"],[\"Data Scientists\"],[\"Data Scientists\"],[\"Data Scientists\"],[\"Data Scientists\"],[\"Data Scientists\"],[\"Data Scientists\"],[\"Data Scientists\"],[\"Data Scientists\"],[\"Data Scientists\"],[\"Data Scientists\"],[\"Data Scientists\"],[\"Data Scientists\"],[\"Data Scientists\"],[\"Data Scientists\"],[\"Data Scientists\"],[\"Data Scientists\"],[\"Data Scientists\"],[\"Data Scientists\"],[\"Data Scientists\"],[\"Data Scientists\"],[\"Data Scientists\"],[\"Data Scientists\"],[\"Data Scientists\"],[\"Data Scientists\"],[\"Data Scientists\"],[\"Data Scientists\"],[\"Data Scientists\"],[\"Data Scientists\"],[\"Data Scientists\"],[\"Data Scientists\"],[\"Data Scientists\"],[\"Data Scientists\"],[\"Data Scientists\"],[\"Data Scientists\"],[\"Data Scientists\"],[\"Data Scientists\"],[\"Data Scientists\"],[\"Data Scientists\"],[\"Data Scientists\"],[\"Data Scientists\"],[\"Data Scientists\"],[\"Data Scientists\"],[\"Data Scientists\"],[\"Data Scientists\"],[\"Data Scientists\"],[\"Data Scientists\"],[\"Data Scientists\"],[\"Data Scientists\"],[\"Data Scientists\"],[\"Data Scientists\"],[\"Data Scientists\"],[\"Data Scientists\"],[\"Data Scientists\"],[\"Data Scientists\"],[\"Data Scientists\"],[\"Data Scientists\"],[\"Data Scientists\"],[\"Data Scientists\"],[\"Data Scientists\"],[\"Data Scientists\"]],\"hovertemplate\":\"OCC_TITLE=%{customdata[0]}\\u003cbr\\u003eH_MEDIAN=%{x}\\u003cbr\\u003eA_MEDIAN=%{y}\\u003cextra\\u003e\\u003c\\u002fextra\\u003e\",\"legendgroup\":\"Data Scientists\",\"marker\":{\"color\":\"#ab63fa\",\"symbol\":\"circle\"},\"mode\":\"markers\",\"name\":\"Data Scientists\",\"showlegend\":true,\"x\":[\"51.93\",\"51.93\",\"52.80\",\"52.80\",\"50.52\",\"50.52\",\"48.53\",\"48.53\",\"34.42\",\"34.42\",\"52.20\",\"52.20\",\"65.38\",\"65.38\",\"56.12\",\"56.12\",\"48.08\",\"48.08\",\"53.42\",\"53.42\",\"55.18\",\"55.18\",\"45.87\",\"45.87\",\"38.07\",\"38.07\",\"40.57\",\"40.57\",\"39.27\",\"39.27\",\"37.60\",\"37.60\",\"40.31\",\"40.31\",\"41.86\",\"41.86\",\"51.07\",\"51.07\",\"51.07\",\"51.07\",\"47.82\",\"47.82\",\"39.87\",\"39.87\",\"50.52\",\"50.52\",\"50.52\",\"50.52\",\"48.53\",\"48.53\",\"48.55\",\"48.55\",\"64.05\",\"64.05\",\"48.31\",\"48.31\",\"41.49\",\"41.49\",\"35.61\",\"35.61\",\"62.95\",\"62.95\",\"27.52\",\"27.52\",\"23.98\",\"23.98\",\"23.98\",\"23.98\",\"38.14\",\"38.14\",\"36.89\",\"36.89\",\"34.42\",\"34.42\",\"55.30\",\"55.30\",\"44.45\",\"44.45\",\"47.83\",\"47.83\",\"44.27\",\"44.27\",\"*\",\"*\",\"44.76\",\"44.76\",\"48.15\",\"48.15\",\"48.14\",\"48.14\",\"43.07\",\"43.07\",\"38.65\",\"38.65\",\"38.65\",\"38.65\",\"60.23\",\"60.23\",\"60.23\",\"60.23\",\"59.78\",\"59.78\",\"64.38\",\"64.38\",\"38.99\",\"38.99\",\"37.66\",\"37.66\",\"51.78\",\"51.78\",\"51.78\",\"51.78\",\"41.93\",\"41.93\",\"42.15\",\"42.15\",\"47.62\",\"47.62\",\"47.62\",\"47.62\",\"39.36\",\"39.36\",\"54.39\",\"54.39\",\"68.02\",\"68.02\",\"83.58\",\"83.58\",\"66.85\",\"66.85\",\"74.73\",\"74.73\",\"58.96\",\"58.96\",\"45.67\",\"45.67\",\"49.86\",\"49.86\",\"51.89\",\"51.89\",\"60.35\",\"60.35\",\"63.84\",\"63.84\",\"47.39\",\"47.39\",\"60.35\",\"60.35\",\"35.11\",\"35.11\",\"49.91\",\"49.91\",\"50.97\",\"50.97\",\"40.35\",\"40.35\",\"50.53\",\"50.53\",\"58.18\",\"58.18\",\"56.75\",\"56.75\",\"48.28\",\"48.28\",\"*\",\"*\",\"49.34\",\"49.34\",\"47.74\",\"47.74\",\"54.96\",\"54.96\",\"54.96\",\"54.96\",\"63.96\",\"63.96\",\"47.88\",\"47.88\",\"69.54\",\"69.54\",\"50.67\",\"50.67\",\"64.61\",\"64.61\",\"27.39\",\"27.39\",\"54.00\",\"54.00\",\"49.22\",\"49.22\",\"58.67\",\"58.67\",\"58.67\",\"58.67\",\"65.88\",\"65.88\",\"65.88\",\"65.88\",\"64.03\",\"64.03\",\"*\",\"*\",\"*\",\"*\",\"43.26\",\"43.26\",\"29.24\",\"29.24\",\"30.09\",\"30.09\",\"48.26\",\"48.26\",\"50.45\",\"50.45\",\"51.37\",\"51.37\",\"47.36\",\"47.36\",\"47.36\",\"47.36\",\"39.22\",\"39.22\",\"39.22\",\"39.22\",\"79.15\",\"79.15\",\"79.15\",\"79.15\",\"37.10\",\"37.10\",\"36.53\",\"36.53\",\"36.95\",\"36.95\",\"41.93\",\"41.93\",\"41.48\",\"41.48\",\"43.88\",\"43.88\",\"59.83\",\"59.83\",\"59.83\",\"59.83\",\"37.08\",\"37.08\",\"37.08\",\"37.08\",\"64.36\",\"64.36\",\"65.18\",\"65.18\",\"43.26\",\"43.26\",\"65.97\",\"65.97\",\"54.97\",\"54.97\",\"46.11\",\"46.11\",\"68.43\",\"68.43\",\"82.63\",\"82.63\",\"44.08\",\"44.08\",\"44.10\",\"44.10\",\"83.14\",\"83.14\",\"52.70\",\"52.70\",\"52.70\",\"52.70\",\"62.04\",\"62.04\",\"62.04\",\"62.04\",\"71.11\",\"71.11\",\"71.11\",\"71.11\",\"53.15\",\"53.15\",\"53.15\",\"53.15\",\"60.86\",\"60.86\",\"56.70\",\"56.70\",\"55.91\",\"55.91\",\"64.68\",\"64.68\",\"64.68\",\"64.68\",\"50.19\",\"50.19\",\"50.53\",\"50.53\",\"49.85\",\"49.85\",\"51.64\",\"51.64\",\"47.29\",\"47.29\",\"49.78\",\"49.78\",\"43.71\",\"43.71\",\"48.15\",\"48.15\",\"50.86\",\"50.86\",\"49.58\",\"49.58\",\"49.58\",\"49.58\",\"*\",\"*\",\"40.86\",\"40.86\",\"40.86\",\"40.86\",\"53.42\",\"53.42\",\"33.81\",\"33.81\",\"61.68\",\"61.68\",\"43.96\",\"43.96\",\"45.67\",\"45.67\",\"35.55\",\"35.55\",\"61.04\",\"61.04\",\"56.92\",\"56.92\",\"49.52\",\"49.52\",\"60.78\",\"60.78\",\"61.23\",\"61.23\",\"49.04\",\"49.04\",\"48.52\",\"48.52\",\"53.11\",\"53.11\",\"55.18\",\"55.18\",\"55.18\",\"55.18\",\"45.87\",\"45.87\",\"45.87\",\"45.87\",\"34.50\",\"34.50\",\"49.42\",\"49.42\",\"43.74\",\"43.74\",\"39.35\",\"39.35\",\"64.95\",\"64.95\",\"45.86\",\"45.86\",\"46.19\",\"46.19\",\"39.62\",\"39.62\",\"31.78\",\"31.78\",\"38.36\",\"38.36\",\"64.52\",\"64.52\",\"38.07\",\"38.07\",\"33.56\",\"37.10\",\"39.57\",\"33.56\",\"37.10\",\"39.57\",\"37.92\",\"37.92\",\"39.04\",\"36.05\",\"39.04\",\"36.05\",\"33.59\",\"33.59\",\"38.60\",\"32.81\",\"38.60\",\"32.81\",\"37.36\",\"37.36\",\"33.56\",\"37.10\",\"39.27\",\"33.56\",\"37.10\",\"39.27\",\"50.15\",\"50.15\",\"50.67\",\"50.67\",\"32.24\",\"32.24\",\"38.56\",\"38.56\",\"38.59\",\"38.59\",\"38.59\",\"38.59\",\"49.37\",\"49.37\",\"36.44\",\"49.37\",\"36.44\",\"49.37\",\"42.50\",\"42.50\",\"38.18\",\"38.18\",\"50.92\",\"50.92\",\"40.21\",\"40.21\",\"59.51\",\"59.51\",\"41.44\",\"41.44\",\"29.98\",\"29.98\",\"52.37\",\"52.37\",\"45.38\",\"45.38\",\"45.67\",\"45.67\",\"47.42\",\"47.42\",\"43.39\",\"43.39\",\"55.82\",\"42.13\",\"42.82\",\"55.82\",\"42.13\",\"42.82\",\"43.33\",\"43.33\",\"55.82\",\"42.14\",\"42.29\",\"55.82\",\"42.14\",\"42.29\",\"36.84\",\"36.84\",\"47.40\",\"47.40\",\"47.40\",\"47.40\",\"32.13\",\"32.13\",\"36.50\",\"36.50\",\"30.41\",\"30.41\",\"28.14\",\"28.14\",\"32.32\",\"32.32\",\"30.83\",\"30.83\",\"30.73\",\"30.73\",\"34.46\",\"34.46\",\"31.65\",\"31.65\",\"39.27\",\"39.27\",\"40.54\",\"40.54\",\"34.96\",\"34.96\",\"33.07\",\"33.07\",\"33.07\",\"33.07\",\"50.09\",\"50.09\",\"54.61\",\"54.61\",\"36.64\",\"36.64\",\"36.64\",\"36.64\",\"36.80\",\"36.80\",\"39.44\",\"39.44\",\"32.24\",\"32.24\",\"48.09\",\"48.09\",\"47.96\",\"47.96\",\"40.09\",\"40.09\",\"37.52\",\"37.52\",\"38.89\",\"38.89\",\"37.78\",\"37.78\",\"31.17\",\"31.17\",\"44.93\",\"44.93\",\"46.94\",\"46.94\",\"41.86\",\"41.86\",\"39.64\",\"39.64\",\"57.82\",\"57.82\",\"57.82\",\"57.82\",\"41.86\",\"41.86\",\"39.64\",\"39.64\",\"37.22\",\"37.22\",\"37.64\",\"37.64\",\"58.27\",\"58.27\",\"48.13\",\"48.13\",\"37.63\",\"37.63\",\"39.42\",\"39.42\",\"47.48\",\"47.48\",\"35.11\",\"35.11\",\"42.64\",\"42.64\",\"43.57\",\"43.57\",\"58.70\",\"58.70\",\"35.60\",\"35.60\",\"59.36\",\"59.36\",\"27.44\",\"27.44\",\"39.03\",\"39.03\",\"40.85\",\"40.85\",\"61.39\",\"61.39\",\"49.43\",\"49.43\",\"48.35\",\"38.46\",\"51.15\",\"55.72\",\"64.27\",\"53.83\",\"54.21\",\"66.72\",\"58.66\",\"45.84\",\"48.54\",\"62.47\",\"58.79\",\"52.20\",\"39.24\",\"46.62\",\"48.85\",\"42.69\",\"33.04\",\"48.06\",\"60.32\",\"58.44\",\"43.63\",\"55.11\",\"30.10\",\"39.14\",\"45.40\",\"44.54\",\"41.36\",\"44.55\",\"62.77\",\"41.84\",\"61.96\",\"61.03\",\"54.63\",\"46.67\",\"40.29\",\"55.24\",\"46.76\",\"61.71\",\"45.82\",\"43.97\",\"44.42\",\"48.12\",\"46.87\",\"56.49\",\"65.62\",\"63.76\",\"32.53\",\"48.96\",\"62.68\",\"36.48\",\"53.00\",\"44.62\",\"47.72\",\"39.59\",\"47.49\",\"34.58\",\"48.98\",\"33.96\",\"40.35\",\"47.70\",\"42.14\",\"49.62\",\"50.31\",\"48.36\",\"37.75\",\"53.73\",\"38.23\",\"60.78\",\"33.04\",\"37.88\",\"44.22\",\"46.14\",\"44.04\",\"40.06\",\"57.02\",\"40.70\",\"38.93\",\"50.00\",\"60.35\",\"54.42\",\"47.00\",\"51.57\",\"41.33\",\"27.40\",\"42.54\",\"41.78\",\"32.41\",\"45.51\",\"64.05\",\"56.45\",\"33.86\",\"52.20\",\"48.92\",\"37.51\",\"44.71\",\"43.11\",\"54.24\",\"37.29\",\"40.59\",\"39.94\",\"45.38\",\"37.70\",\"52.28\",\"43.97\",\"52.34\",\"48.28\",\"38.27\",\"39.02\",\"53.73\",\"51.06\",\"46.62\",\"60.80\",\"35.66\",\"61.71\",\"61.21\",\"49.41\",\"35.73\",\"39.49\",\"35.89\",\"45.85\",\"34.45\",\"49.27\",\"51.20\",\"39.09\",\"35.52\",\"37.59\",\"54.72\",\"37.53\",\"41.41\",\"28.63\",\"33.33\",\"53.54\",\"40.39\",\"52.36\",\"48.32\",\"48.90\",\"50.27\",\"42.78\",\"40.74\",\"42.10\",\"43.37\",\"46.87\",\"45.93\",\"51.09\",\"*\",\"39.19\",\"39.22\",\"38.18\",\"44.87\",\"37.93\",\"48.65\",\"47.59\",\"35.81\",\"39.01\",\"40.60\",\"*\",\"40.18\",\"55.50\",\"42.21\",\"41.98\",\"46.65\",\"39.01\",\"46.95\",\"37.49\",\"39.03\",\"34.25\",\"41.53\",\"39.77\",\"41.77\",\"48.25\",\"35.65\",\"60.01\",\"41.74\",\"42.41\",\"45.25\",\"50.07\",\"35.23\",\"49.73\",\"48.62\",\"44.97\",\"38.45\",\"47.28\",\"50.77\",\"55.08\",\"38.47\",\"49.88\",\"22.12\",\"43.40\",\"45.31\",\"47.64\",\"46.77\",\"38.40\",\"64.21\",\"40.21\",\"46.68\",\"40.70\",\"42.79\",\"42.39\",\"50.93\",\"45.94\",\"42.53\",\"48.91\",\"61.20\",\"47.00\",\"36.70\",\"36.82\",\"47.85\",\"51.33\",\"52.64\",\"39.70\",\"60.79\",\"44.79\",\"46.95\",\"48.26\",\"61.03\",\"47.28\",\"48.19\",\"39.75\",\"55.67\",\"49.13\",\"41.49\",\"40.42\",\"50.45\",\"44.72\",\"47.24\",\"48.45\",\"40.90\",\"53.07\",\"38.61\",\"47.12\",\"51.08\",\"61.20\",\"78.57\",\"82.60\",\"31.16\",\"54.25\",\"62.02\",\"61.84\",\"54.22\",\"34.66\",\"38.48\",\"65.20\",\"47.30\",\"44.98\",\"43.97\",\"38.02\",\"42.41\",\"56.14\",\"44.41\",\"33.65\",\"42.91\",\"43.57\",\"34.46\",\"48.85\",\"36.75\",\"34.37\",\"64.40\",\"46.14\",\"40.60\",\"43.97\",\"37.25\",\"59.82\",\"35.60\",\"39.13\",\"50.61\",\"43.97\",\"43.74\",\"39.69\",\"64.94\",\"47.41\",\"49.49\",\"44.73\",\"54.48\",\"56.47\",\"43.52\",\"41.03\",\"39.76\",\"44.82\",\"49.81\",\"58.66\",\"66.07\",\"56.56\",\"45.79\",\"39.55\",\"54.21\",\"41.30\",\"42.86\",\"56.76\",\"46.21\",\"59.30\",\"60.51\",\"51.68\",\"37.89\",\"61.45\",\"43.68\",\"48.24\",\"40.01\",\"39.87\",\"36.66\",\"47.55\",\"49.14\",\"40.06\",\"35.81\",\"30.41\",\"32.56\",\"37.82\",\"31.00\",\"34.32\",\"38.88\",\"39.83\",\"41.16\",\"30.33\",\"58.51\",\"27.91\",\"44.84\",\"41.35\",\"33.42\",\"35.91\",\"35.72\",\"25.58\",\"36.97\",\"29.05\",\"42.07\",\"40.90\",\"42.04\",\"45.38\",\"38.44\",\"41.54\",\"40.59\",\"41.86\",\"39.88\",\"47.38\",\"36.04\",\"39.59\",\"42.97\",\"33.03\",\"37.22\",\"37.54\",\"31.02\",\"43.71\",\"38.45\",\"46.15\",\"45.46\",\"41.45\",\"29.28\",\"35.66\",\"44.18\",\"48.52\",\"17.51\",\"43.76\",\"37.35\",\"39.87\",\"43.76\",\"42.94\",\"37.32\",\"38.87\",\"46.16\",\"40.57\"],\"xaxis\":\"x\",\"y\":[\"108,020\",\"108,020\",\"109,820\",\"109,820\",\"105,090\",\"105,090\",\"100,940\",\"100,940\",\"71,600\",\"71,600\",\"108,580\",\"108,580\",\"135,990\",\"135,990\",\"116,730\",\"116,730\",\"100,000\",\"100,000\",\"111,110\",\"111,110\",\"114,780\",\"114,780\",\"95,410\",\"95,410\",\"79,190\",\"79,190\",\"84,390\",\"84,390\",\"81,680\",\"81,680\",\"78,200\",\"78,200\",\"83,840\",\"83,840\",\"87,070\",\"87,070\",\"106,220\",\"106,220\",\"106,220\",\"106,220\",\"99,470\",\"99,470\",\"82,930\",\"82,930\",\"105,090\",\"105,090\",\"105,090\",\"105,090\",\"100,940\",\"100,940\",\"100,990\",\"100,990\",\"133,220\",\"133,220\",\"100,490\",\"100,490\",\"86,290\",\"86,290\",\"74,080\",\"74,080\",\"130,940\",\"130,940\",\"57,230\",\"57,230\",\"49,880\",\"49,880\",\"49,880\",\"49,880\",\"79,340\",\"79,340\",\"76,730\",\"76,730\",\"71,600\",\"71,600\",\"115,030\",\"115,030\",\"92,460\",\"92,460\",\"99,480\",\"99,480\",\"92,070\",\"92,070\",\"*\",\"*\",\"93,100\",\"93,100\",\"100,150\",\"100,150\",\"100,140\",\"100,140\",\"89,590\",\"89,590\",\"80,390\",\"80,390\",\"80,390\",\"80,390\",\"125,270\",\"125,270\",\"125,270\",\"125,270\",\"124,350\",\"124,350\",\"133,900\",\"133,900\",\"81,100\",\"81,100\",\"78,330\",\"78,330\",\"107,700\",\"107,700\",\"107,700\",\"107,700\",\"87,210\",\"87,210\",\"87,660\",\"87,660\",\"99,050\",\"99,050\",\"99,050\",\"99,050\",\"81,860\",\"81,860\",\"113,130\",\"113,130\",\"141,480\",\"141,480\",\"173,850\",\"173,850\",\"139,050\",\"139,050\",\"155,440\",\"155,440\",\"122,640\",\"122,640\",\"94,990\",\"94,990\",\"103,720\",\"103,720\",\"107,940\",\"107,940\",\"125,520\",\"125,520\",\"132,790\",\"132,790\",\"98,570\",\"98,570\",\"125,530\",\"125,530\",\"73,020\",\"73,020\",\"103,820\",\"103,820\",\"106,020\",\"106,020\",\"83,930\",\"83,930\",\"105,090\",\"105,090\",\"121,010\",\"121,010\",\"118,030\",\"118,030\",\"100,420\",\"100,420\",\"*\",\"*\",\"102,620\",\"102,620\",\"99,310\",\"99,310\",\"114,310\",\"114,310\",\"114,310\",\"114,310\",\"133,030\",\"133,030\",\"99,590\",\"99,590\",\"144,640\",\"144,640\",\"105,390\",\"105,390\",\"134,380\",\"134,380\",\"56,960\",\"56,960\",\"112,310\",\"112,310\",\"102,370\",\"102,370\",\"122,040\",\"122,040\",\"122,040\",\"122,040\",\"137,030\",\"137,030\",\"137,030\",\"137,030\",\"133,170\",\"133,170\",\"*\",\"*\",\"*\",\"*\",\"89,980\",\"89,980\",\"60,820\",\"60,820\",\"62,580\",\"62,580\",\"100,380\",\"100,380\",\"104,940\",\"104,940\",\"106,860\",\"106,860\",\"98,510\",\"98,510\",\"98,510\",\"98,510\",\"81,580\",\"81,580\",\"81,580\",\"81,580\",\"164,630\",\"164,630\",\"164,630\",\"164,630\",\"77,160\",\"77,160\",\"75,980\",\"75,980\",\"76,860\",\"76,860\",\"87,210\",\"87,210\",\"86,270\",\"86,270\",\"91,270\",\"91,270\",\"124,450\",\"124,450\",\"124,450\",\"124,450\",\"77,120\",\"77,120\",\"77,120\",\"77,120\",\"133,880\",\"133,880\",\"135,570\",\"135,570\",\"89,980\",\"89,980\",\"137,220\",\"137,220\",\"114,340\",\"114,340\",\"95,920\",\"95,920\",\"142,330\",\"142,330\",\"171,860\",\"171,860\",\"91,680\",\"91,680\",\"91,720\",\"91,720\",\"172,930\",\"172,930\",\"109,620\",\"109,620\",\"109,620\",\"109,620\",\"129,030\",\"129,030\",\"129,030\",\"129,030\",\"147,900\",\"147,900\",\"147,900\",\"147,900\",\"110,560\",\"110,560\",\"110,560\",\"110,560\",\"126,590\",\"126,590\",\"117,930\",\"117,930\",\"116,290\",\"116,290\",\"134,540\",\"134,540\",\"134,540\",\"134,540\",\"104,390\",\"104,390\",\"105,110\",\"105,110\",\"103,690\",\"103,690\",\"107,410\",\"107,410\",\"98,360\",\"98,360\",\"103,550\",\"103,550\",\"90,920\",\"90,920\",\"100,140\",\"100,140\",\"105,790\",\"105,790\",\"103,130\",\"103,130\",\"103,130\",\"103,130\",\"*\",\"*\",\"84,990\",\"84,990\",\"84,990\",\"84,990\",\"111,110\",\"111,110\",\"70,320\",\"70,320\",\"128,300\",\"128,300\",\"91,440\",\"91,440\",\"94,990\",\"94,990\",\"73,950\",\"73,950\",\"126,960\",\"126,960\",\"118,400\",\"118,400\",\"103,000\",\"103,000\",\"126,430\",\"126,430\",\"127,360\",\"127,360\",\"102,010\",\"102,010\",\"100,930\",\"100,930\",\"110,470\",\"110,470\",\"114,780\",\"114,780\",\"114,780\",\"114,780\",\"95,410\",\"95,410\",\"95,410\",\"95,410\",\"71,760\",\"71,760\",\"102,790\",\"102,790\",\"90,980\",\"90,980\",\"81,850\",\"81,850\",\"135,090\",\"135,090\",\"95,390\",\"95,390\",\"96,080\",\"96,080\",\"82,410\",\"82,410\",\"66,110\",\"66,110\",\"79,790\",\"79,790\",\"134,210\",\"134,210\",\"79,190\",\"79,190\",\"69,790\",\"77,170\",\"82,310\",\"69,790\",\"77,170\",\"82,310\",\"78,870\",\"78,870\",\"81,210\",\"74,980\",\"81,210\",\"74,980\",\"69,870\",\"69,870\",\"80,290\",\"68,250\",\"80,290\",\"68,250\",\"77,720\",\"77,720\",\"69,790\",\"77,170\",\"81,680\",\"69,790\",\"77,170\",\"81,680\",\"104,310\",\"104,310\",\"105,390\",\"105,390\",\"67,050\",\"67,050\",\"80,200\",\"80,200\",\"80,260\",\"80,260\",\"80,260\",\"80,260\",\"102,690\",\"102,690\",\"75,790\",\"102,690\",\"75,790\",\"102,690\",\"88,400\",\"88,400\",\"79,410\",\"79,410\",\"105,910\",\"105,910\",\"83,630\",\"83,630\",\"123,790\",\"123,790\",\"86,190\",\"86,190\",\"62,360\",\"62,360\",\"108,930\",\"108,930\",\"94,380\",\"94,380\",\"94,990\",\"94,990\",\"98,630\",\"98,630\",\"90,260\",\"90,260\",\"116,100\",\"87,630\",\"89,070\",\"116,100\",\"87,630\",\"89,070\",\"90,120\",\"90,120\",\"116,100\",\"87,650\",\"87,970\",\"116,100\",\"87,650\",\"87,970\",\"76,630\",\"76,630\",\"98,580\",\"98,580\",\"98,580\",\"98,580\",\"66,840\",\"66,840\",\"75,910\",\"75,910\",\"63,250\",\"63,250\",\"58,520\",\"58,520\",\"67,220\",\"67,220\",\"64,130\",\"64,130\",\"63,920\",\"63,920\",\"71,670\",\"71,670\",\"65,830\",\"65,830\",\"81,680\",\"81,680\",\"84,320\",\"84,320\",\"72,710\",\"72,710\",\"68,780\",\"68,780\",\"68,780\",\"68,780\",\"104,190\",\"104,190\",\"113,580\",\"113,580\",\"76,210\",\"76,210\",\"76,210\",\"76,210\",\"76,540\",\"76,540\",\"82,040\",\"82,040\",\"67,050\",\"67,050\",\"100,020\",\"100,020\",\"99,750\",\"99,750\",\"83,390\",\"83,390\",\"78,050\",\"78,050\",\"80,890\",\"80,890\",\"78,580\",\"78,580\",\"64,830\",\"64,830\",\"93,460\",\"93,460\",\"97,630\",\"97,630\",\"87,070\",\"87,070\",\"82,460\",\"82,460\",\"120,270\",\"120,270\",\"120,270\",\"120,270\",\"87,070\",\"87,070\",\"82,460\",\"82,460\",\"77,420\",\"77,420\",\"78,300\",\"78,300\",\"121,200\",\"121,200\",\"100,100\",\"100,100\",\"78,270\",\"78,270\",\"81,990\",\"81,990\",\"98,760\",\"98,760\",\"73,020\",\"73,020\",\"88,690\",\"88,690\",\"90,630\",\"90,630\",\"122,100\",\"122,100\",\"74,050\",\"74,050\",\"123,480\",\"123,480\",\"57,080\",\"57,080\",\"81,180\",\"81,180\",\"84,960\",\"84,960\",\"127,690\",\"127,690\",\"102,810\",\"102,810\",\"100,560\",\"80,000\",\"106,400\",\"115,890\",\"133,690\",\"111,970\",\"112,750\",\"138,780\",\"122,010\",\"95,360\",\"100,950\",\"129,930\",\"122,280\",\"108,580\",\"81,620\",\"96,980\",\"101,610\",\"88,800\",\"68,730\",\"99,960\",\"125,460\",\"121,560\",\"90,750\",\"114,630\",\"62,600\",\"81,410\",\"94,420\",\"92,640\",\"86,030\",\"92,670\",\"130,570\",\"87,020\",\"128,890\",\"126,940\",\"113,620\",\"97,070\",\"83,810\",\"114,910\",\"97,260\",\"128,350\",\"95,310\",\"91,460\",\"92,400\",\"100,100\",\"97,490\",\"117,500\",\"136,490\",\"132,620\",\"67,660\",\"101,850\",\"130,370\",\"75,880\",\"110,230\",\"92,820\",\"99,250\",\"82,360\",\"98,780\",\"71,930\",\"101,880\",\"70,630\",\"83,940\",\"99,220\",\"87,650\",\"103,220\",\"104,640\",\"100,580\",\"78,530\",\"111,760\",\"79,520\",\"126,430\",\"68,730\",\"78,800\",\"91,970\",\"95,970\",\"91,610\",\"83,330\",\"118,610\",\"84,650\",\"80,980\",\"104,000\",\"125,520\",\"113,190\",\"97,770\",\"107,260\",\"85,970\",\"56,990\",\"88,480\",\"86,900\",\"67,410\",\"94,650\",\"133,220\",\"117,410\",\"70,430\",\"108,580\",\"101,750\",\"78,020\",\"92,990\",\"89,660\",\"112,820\",\"77,560\",\"84,430\",\"83,060\",\"94,390\",\"78,410\",\"108,730\",\"91,460\",\"108,870\",\"100,420\",\"79,600\",\"81,160\",\"111,750\",\"106,210\",\"96,970\",\"126,460\",\"74,180\",\"128,350\",\"127,310\",\"102,770\",\"74,310\",\"82,140\",\"74,650\",\"95,380\",\"71,660\",\"102,480\",\"106,490\",\"81,300\",\"73,890\",\"78,200\",\"113,830\",\"78,060\",\"86,130\",\"59,550\",\"69,320\",\"111,360\",\"84,010\",\"108,920\",\"100,510\",\"101,720\",\"104,560\",\"88,980\",\"84,740\",\"87,580\",\"90,200\",\"97,490\",\"95,520\",\"106,270\",\"*\",\"81,510\",\"81,590\",\"79,420\",\"93,330\",\"78,900\",\"101,190\",\"98,980\",\"74,490\",\"81,130\",\"84,450\",\"*\",\"83,570\",\"115,440\",\"87,790\",\"87,310\",\"97,020\",\"81,140\",\"97,660\",\"77,990\",\"81,180\",\"71,250\",\"86,390\",\"82,720\",\"86,880\",\"100,370\",\"74,150\",\"124,810\",\"86,810\",\"88,210\",\"94,120\",\"104,140\",\"73,270\",\"103,440\",\"101,120\",\"93,540\",\"79,970\",\"98,340\",\"105,610\",\"114,560\",\"80,020\",\"103,760\",\"46,010\",\"90,260\",\"94,230\",\"99,100\",\"97,290\",\"79,870\",\"133,560\",\"83,640\",\"97,090\",\"84,650\",\"89,000\",\"88,170\",\"105,930\",\"95,550\",\"88,460\",\"101,730\",\"127,300\",\"97,770\",\"76,340\",\"76,590\",\"99,530\",\"106,760\",\"109,500\",\"82,580\",\"126,450\",\"93,160\",\"97,650\",\"100,380\",\"126,950\",\"98,350\",\"100,240\",\"82,680\",\"115,800\",\"102,180\",\"86,290\",\"84,080\",\"104,940\",\"93,020\",\"98,260\",\"100,780\",\"85,070\",\"110,390\",\"80,310\",\"98,010\",\"106,250\",\"127,300\",\"163,430\",\"171,800\",\"64,820\",\"112,840\",\"129,010\",\"128,620\",\"112,770\",\"72,090\",\"80,030\",\"135,610\",\"98,390\",\"93,560\",\"91,460\",\"79,080\",\"88,210\",\"116,770\",\"92,370\",\"70,000\",\"89,250\",\"90,630\",\"71,670\",\"101,600\",\"76,440\",\"71,480\",\"133,960\",\"95,960\",\"84,450\",\"91,470\",\"77,480\",\"124,420\",\"74,050\",\"81,390\",\"105,280\",\"91,450\",\"90,980\",\"82,550\",\"135,080\",\"98,600\",\"102,940\",\"93,030\",\"113,320\",\"117,450\",\"90,520\",\"85,340\",\"82,700\",\"93,220\",\"103,600\",\"122,020\",\"137,420\",\"117,650\",\"95,240\",\"82,270\",\"112,750\",\"85,900\",\"89,140\",\"118,060\",\"96,120\",\"123,340\",\"125,860\",\"107,490\",\"78,800\",\"127,820\",\"90,860\",\"100,340\",\"83,220\",\"82,930\",\"76,250\",\"98,900\",\"102,220\",\"83,320\",\"74,480\",\"63,250\",\"67,720\",\"78,660\",\"64,470\",\"71,380\",\"80,870\",\"82,850\",\"85,610\",\"63,080\",\"121,700\",\"58,060\",\"93,270\",\"86,010\",\"69,510\",\"74,680\",\"74,300\",\"53,200\",\"76,900\",\"60,420\",\"87,510\",\"85,070\",\"87,440\",\"94,390\",\"79,960\",\"86,400\",\"84,430\",\"87,060\",\"82,950\",\"98,560\",\"74,960\",\"82,340\",\"89,380\",\"68,700\",\"77,410\",\"78,080\",\"64,520\",\"90,920\",\"79,970\",\"96,000\",\"94,570\",\"86,220\",\"60,900\",\"74,160\",\"91,900\",\"100,910\",\"36,410\",\"91,010\",\"77,690\",\"82,930\",\"91,010\",\"89,320\",\"77,620\",\"80,860\",\"96,020\",\"84,380\"],\"yaxis\":\"y\",\"type\":\"scattergl\"}],                        {\"template\":{\"data\":{\"histogram2dcontour\":[{\"type\":\"histogram2dcontour\",\"colorbar\":{\"outlinewidth\":0,\"ticks\":\"\"},\"colorscale\":[[0.0,\"#0d0887\"],[0.1111111111111111,\"#46039f\"],[0.2222222222222222,\"#7201a8\"],[0.3333333333333333,\"#9c179e\"],[0.4444444444444444,\"#bd3786\"],[0.5555555555555556,\"#d8576b\"],[0.6666666666666666,\"#ed7953\"],[0.7777777777777778,\"#fb9f3a\"],[0.8888888888888888,\"#fdca26\"],[1.0,\"#f0f921\"]]}],\"choropleth\":[{\"type\":\"choropleth\",\"colorbar\":{\"outlinewidth\":0,\"ticks\":\"\"}}],\"histogram2d\":[{\"type\":\"histogram2d\",\"colorbar\":{\"outlinewidth\":0,\"ticks\":\"\"},\"colorscale\":[[0.0,\"#0d0887\"],[0.1111111111111111,\"#46039f\"],[0.2222222222222222,\"#7201a8\"],[0.3333333333333333,\"#9c179e\"],[0.4444444444444444,\"#bd3786\"],[0.5555555555555556,\"#d8576b\"],[0.6666666666666666,\"#ed7953\"],[0.7777777777777778,\"#fb9f3a\"],[0.8888888888888888,\"#fdca26\"],[1.0,\"#f0f921\"]]}],\"heatmap\":[{\"type\":\"heatmap\",\"colorbar\":{\"outlinewidth\":0,\"ticks\":\"\"},\"colorscale\":[[0.0,\"#0d0887\"],[0.1111111111111111,\"#46039f\"],[0.2222222222222222,\"#7201a8\"],[0.3333333333333333,\"#9c179e\"],[0.4444444444444444,\"#bd3786\"],[0.5555555555555556,\"#d8576b\"],[0.6666666666666666,\"#ed7953\"],[0.7777777777777778,\"#fb9f3a\"],[0.8888888888888888,\"#fdca26\"],[1.0,\"#f0f921\"]]}],\"heatmapgl\":[{\"type\":\"heatmapgl\",\"colorbar\":{\"outlinewidth\":0,\"ticks\":\"\"},\"colorscale\":[[0.0,\"#0d0887\"],[0.1111111111111111,\"#46039f\"],[0.2222222222222222,\"#7201a8\"],[0.3333333333333333,\"#9c179e\"],[0.4444444444444444,\"#bd3786\"],[0.5555555555555556,\"#d8576b\"],[0.6666666666666666,\"#ed7953\"],[0.7777777777777778,\"#fb9f3a\"],[0.8888888888888888,\"#fdca26\"],[1.0,\"#f0f921\"]]}],\"contourcarpet\":[{\"type\":\"contourcarpet\",\"colorbar\":{\"outlinewidth\":0,\"ticks\":\"\"}}],\"contour\":[{\"type\":\"contour\",\"colorbar\":{\"outlinewidth\":0,\"ticks\":\"\"},\"colorscale\":[[0.0,\"#0d0887\"],[0.1111111111111111,\"#46039f\"],[0.2222222222222222,\"#7201a8\"],[0.3333333333333333,\"#9c179e\"],[0.4444444444444444,\"#bd3786\"],[0.5555555555555556,\"#d8576b\"],[0.6666666666666666,\"#ed7953\"],[0.7777777777777778,\"#fb9f3a\"],[0.8888888888888888,\"#fdca26\"],[1.0,\"#f0f921\"]]}],\"surface\":[{\"type\":\"surface\",\"colorbar\":{\"outlinewidth\":0,\"ticks\":\"\"},\"colorscale\":[[0.0,\"#0d0887\"],[0.1111111111111111,\"#46039f\"],[0.2222222222222222,\"#7201a8\"],[0.3333333333333333,\"#9c179e\"],[0.4444444444444444,\"#bd3786\"],[0.5555555555555556,\"#d8576b\"],[0.6666666666666666,\"#ed7953\"],[0.7777777777777778,\"#fb9f3a\"],[0.8888888888888888,\"#fdca26\"],[1.0,\"#f0f921\"]]}],\"mesh3d\":[{\"type\":\"mesh3d\",\"colorbar\":{\"outlinewidth\":0,\"ticks\":\"\"}}],\"scatter\":[{\"fillpattern\":{\"fillmode\":\"overlay\",\"size\":10,\"solidity\":0.2},\"type\":\"scatter\"}],\"parcoords\":[{\"type\":\"parcoords\",\"line\":{\"colorbar\":{\"outlinewidth\":0,\"ticks\":\"\"}}}],\"scatterpolargl\":[{\"type\":\"scatterpolargl\",\"marker\":{\"colorbar\":{\"outlinewidth\":0,\"ticks\":\"\"}}}],\"bar\":[{\"error_x\":{\"color\":\"#2a3f5f\"},\"error_y\":{\"color\":\"#2a3f5f\"},\"marker\":{\"line\":{\"color\":\"#E5ECF6\",\"width\":0.5},\"pattern\":{\"fillmode\":\"overlay\",\"size\":10,\"solidity\":0.2}},\"type\":\"bar\"}],\"scattergeo\":[{\"type\":\"scattergeo\",\"marker\":{\"colorbar\":{\"outlinewidth\":0,\"ticks\":\"\"}}}],\"scatterpolar\":[{\"type\":\"scatterpolar\",\"marker\":{\"colorbar\":{\"outlinewidth\":0,\"ticks\":\"\"}}}],\"histogram\":[{\"marker\":{\"pattern\":{\"fillmode\":\"overlay\",\"size\":10,\"solidity\":0.2}},\"type\":\"histogram\"}],\"scattergl\":[{\"type\":\"scattergl\",\"marker\":{\"colorbar\":{\"outlinewidth\":0,\"ticks\":\"\"}}}],\"scatter3d\":[{\"type\":\"scatter3d\",\"line\":{\"colorbar\":{\"outlinewidth\":0,\"ticks\":\"\"}},\"marker\":{\"colorbar\":{\"outlinewidth\":0,\"ticks\":\"\"}}}],\"scattermapbox\":[{\"type\":\"scattermapbox\",\"marker\":{\"colorbar\":{\"outlinewidth\":0,\"ticks\":\"\"}}}],\"scatterternary\":[{\"type\":\"scatterternary\",\"marker\":{\"colorbar\":{\"outlinewidth\":0,\"ticks\":\"\"}}}],\"scattercarpet\":[{\"type\":\"scattercarpet\",\"marker\":{\"colorbar\":{\"outlinewidth\":0,\"ticks\":\"\"}}}],\"carpet\":[{\"aaxis\":{\"endlinecolor\":\"#2a3f5f\",\"gridcolor\":\"white\",\"linecolor\":\"white\",\"minorgridcolor\":\"white\",\"startlinecolor\":\"#2a3f5f\"},\"baxis\":{\"endlinecolor\":\"#2a3f5f\",\"gridcolor\":\"white\",\"linecolor\":\"white\",\"minorgridcolor\":\"white\",\"startlinecolor\":\"#2a3f5f\"},\"type\":\"carpet\"}],\"table\":[{\"cells\":{\"fill\":{\"color\":\"#EBF0F8\"},\"line\":{\"color\":\"white\"}},\"header\":{\"fill\":{\"color\":\"#C8D4E3\"},\"line\":{\"color\":\"white\"}},\"type\":\"table\"}],\"barpolar\":[{\"marker\":{\"line\":{\"color\":\"#E5ECF6\",\"width\":0.5},\"pattern\":{\"fillmode\":\"overlay\",\"size\":10,\"solidity\":0.2}},\"type\":\"barpolar\"}],\"pie\":[{\"automargin\":true,\"type\":\"pie\"}]},\"layout\":{\"autotypenumbers\":\"strict\",\"colorway\":[\"#636efa\",\"#EF553B\",\"#00cc96\",\"#ab63fa\",\"#FFA15A\",\"#19d3f3\",\"#FF6692\",\"#B6E880\",\"#FF97FF\",\"#FECB52\"],\"font\":{\"color\":\"#2a3f5f\"},\"hovermode\":\"closest\",\"hoverlabel\":{\"align\":\"left\"},\"paper_bgcolor\":\"white\",\"plot_bgcolor\":\"#E5ECF6\",\"polar\":{\"bgcolor\":\"#E5ECF6\",\"angularaxis\":{\"gridcolor\":\"white\",\"linecolor\":\"white\",\"ticks\":\"\"},\"radialaxis\":{\"gridcolor\":\"white\",\"linecolor\":\"white\",\"ticks\":\"\"}},\"ternary\":{\"bgcolor\":\"#E5ECF6\",\"aaxis\":{\"gridcolor\":\"white\",\"linecolor\":\"white\",\"ticks\":\"\"},\"baxis\":{\"gridcolor\":\"white\",\"linecolor\":\"white\",\"ticks\":\"\"},\"caxis\":{\"gridcolor\":\"white\",\"linecolor\":\"white\",\"ticks\":\"\"}},\"coloraxis\":{\"colorbar\":{\"outlinewidth\":0,\"ticks\":\"\"}},\"colorscale\":{\"sequential\":[[0.0,\"#0d0887\"],[0.1111111111111111,\"#46039f\"],[0.2222222222222222,\"#7201a8\"],[0.3333333333333333,\"#9c179e\"],[0.4444444444444444,\"#bd3786\"],[0.5555555555555556,\"#d8576b\"],[0.6666666666666666,\"#ed7953\"],[0.7777777777777778,\"#fb9f3a\"],[0.8888888888888888,\"#fdca26\"],[1.0,\"#f0f921\"]],\"sequentialminus\":[[0.0,\"#0d0887\"],[0.1111111111111111,\"#46039f\"],[0.2222222222222222,\"#7201a8\"],[0.3333333333333333,\"#9c179e\"],[0.4444444444444444,\"#bd3786\"],[0.5555555555555556,\"#d8576b\"],[0.6666666666666666,\"#ed7953\"],[0.7777777777777778,\"#fb9f3a\"],[0.8888888888888888,\"#fdca26\"],[1.0,\"#f0f921\"]],\"diverging\":[[0,\"#8e0152\"],[0.1,\"#c51b7d\"],[0.2,\"#de77ae\"],[0.3,\"#f1b6da\"],[0.4,\"#fde0ef\"],[0.5,\"#f7f7f7\"],[0.6,\"#e6f5d0\"],[0.7,\"#b8e186\"],[0.8,\"#7fbc41\"],[0.9,\"#4d9221\"],[1,\"#276419\"]]},\"xaxis\":{\"gridcolor\":\"white\",\"linecolor\":\"white\",\"ticks\":\"\",\"title\":{\"standoff\":15},\"zerolinecolor\":\"white\",\"automargin\":true,\"zerolinewidth\":2},\"yaxis\":{\"gridcolor\":\"white\",\"linecolor\":\"white\",\"ticks\":\"\",\"title\":{\"standoff\":15},\"zerolinecolor\":\"white\",\"automargin\":true,\"zerolinewidth\":2},\"scene\":{\"xaxis\":{\"backgroundcolor\":\"#E5ECF6\",\"gridcolor\":\"white\",\"linecolor\":\"white\",\"showbackground\":true,\"ticks\":\"\",\"zerolinecolor\":\"white\",\"gridwidth\":2},\"yaxis\":{\"backgroundcolor\":\"#E5ECF6\",\"gridcolor\":\"white\",\"linecolor\":\"white\",\"showbackground\":true,\"ticks\":\"\",\"zerolinecolor\":\"white\",\"gridwidth\":2},\"zaxis\":{\"backgroundcolor\":\"#E5ECF6\",\"gridcolor\":\"white\",\"linecolor\":\"white\",\"showbackground\":true,\"ticks\":\"\",\"zerolinecolor\":\"white\",\"gridwidth\":2}},\"shapedefaults\":{\"line\":{\"color\":\"#2a3f5f\"}},\"annotationdefaults\":{\"arrowcolor\":\"#2a3f5f\",\"arrowhead\":0,\"arrowwidth\":1},\"geo\":{\"bgcolor\":\"white\",\"landcolor\":\"#E5ECF6\",\"subunitcolor\":\"white\",\"showland\":true,\"showlakes\":true,\"lakecolor\":\"white\"},\"title\":{\"x\":0.05},\"mapbox\":{\"style\":\"light\"}}},\"xaxis\":{\"anchor\":\"y\",\"domain\":[0.0,1.0],\"title\":{\"text\":\"H_MEDIAN\"}},\"yaxis\":{\"anchor\":\"x\",\"domain\":[0.0,1.0],\"title\":{\"text\":\"A_MEDIAN\"}},\"legend\":{\"title\":{\"text\":\"OCC_TITLE\"},\"tracegroupgap\":0},\"title\":{\"text\":\"Hourly and Annual Median According to Job Titles\"}},                        {\"responsive\": true}                    ).then(function(){\n",
       "                            \n",
       "var gd = document.getElementById('62b46986-82fd-43fd-947e-d94d8b21b724');\n",
       "var x = new MutationObserver(function (mutations, observer) {{\n",
       "        var display = window.getComputedStyle(gd).display;\n",
       "        if (!display || display === 'none') {{\n",
       "            console.log([gd, 'removed!']);\n",
       "            Plotly.purge(gd);\n",
       "            observer.disconnect();\n",
       "        }}\n",
       "}});\n",
       "\n",
       "// Listen for the removal of the full notebook cells\n",
       "var notebookContainer = gd.closest('#notebook-container');\n",
       "if (notebookContainer) {{\n",
       "    x.observe(notebookContainer, {childList: true});\n",
       "}}\n",
       "\n",
       "// Listen for the clearing of the current output cell\n",
       "var outputEl = gd.closest('.output');\n",
       "if (outputEl) {{\n",
       "    x.observe(outputEl, {childList: true});\n",
       "}}\n",
       "\n",
       "                        })                };                });            </script>        </div>"
      ]
     },
     "metadata": {},
     "output_type": "display_data"
    }
   ],
   "source": [
    "#I had to skip the size option, it contains no valid characters and I am not sure how to delete that so I just skipt it for now\n",
    "\n",
    "# Scatter: Hourly median vs Annual median\n",
    "fig_2d = px.scatter(\n",
    "    filtered_df,\n",
    "    x='H_MEDIAN',       # Hourly median\n",
    "    y='A_MEDIAN',       # Annual median\n",
    "    color='OCC_TITLE',  # Different color per job type\n",
    "    hover_data=['OCC_TITLE', 'H_MEDIAN', 'A_MEDIAN'],\n",
    "    title='Hourly and Annual Median According to Job Titles'\n",
    ")\n",
    "\n",
    "fig_2d.show()\n",
    "\n"
   ]
  },
  {
   "cell_type": "code",
   "execution_count": null,
   "id": "b4a004b0-5b61-46cb-bc37-b6c43fb1afb2",
   "metadata": {},
   "outputs": [],
   "source": []
  }
 ],
 "metadata": {
  "kernelspec": {
   "display_name": "Python 3 (ipykernel)",
   "language": "python",
   "name": "python3"
  },
  "language_info": {
   "codemirror_mode": {
    "name": "ipython",
    "version": 3
   },
   "file_extension": ".py",
   "mimetype": "text/x-python",
   "name": "python",
   "nbconvert_exporter": "python",
   "pygments_lexer": "ipython3",
   "version": "3.12.4"
  }
 },
 "nbformat": 4,
 "nbformat_minor": 5
}
