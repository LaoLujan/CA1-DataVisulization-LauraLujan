{
 "cells": [
  {
   "cell_type": "markdown",
   "id": "303282f6-b486-4d34-b122-0a1bd5401ccf",
   "metadata": {},
   "source": [
    "Step 1: \n",
    "import data and libraries\n",
    "\n",
    "#seaborn in the one that allow us to use countplot \n",
    "#data was a .xlsx file, I changed to csv"
   ]
  },
  {
   "cell_type": "code",
   "execution_count": 19,
   "id": "995ba793-7763-4c4f-8a3a-fa2972b2a732",
   "metadata": {},
   "outputs": [
    {
     "name": "stderr",
     "output_type": "stream",
     "text": [
      "C:\\Users\\NHLUJ\\AppData\\Local\\Temp\\ipykernel_2792\\2032865888.py:4: DtypeWarning: Columns (0,4,13,14,15,16,30,31) have mixed types. Specify dtype option on import or set low_memory=False.\n",
      "  df = pd.read_csv('all_data_M_2023.csv')\n"
     ]
    }
   ],
   "source": [
    "import pandas as pd\n",
    "import matplotlib.pyplot as plt\n",
    "import seaborn as sns \n",
    "df = pd.read_csv('all_data_M_2023.csv')\n",
    "\n"
   ]
  },
  {
   "cell_type": "markdown",
   "id": "aac39ea1-1f2c-489b-939f-71eea45b7505",
   "metadata": {},
   "source": [
    "Step 2:\n",
    "General analysis of data and information"
   ]
  },
  {
   "cell_type": "code",
   "execution_count": 21,
   "id": "fbdd2a19-6bea-4903-a55b-93a340366f26",
   "metadata": {},
   "outputs": [
    {
     "data": {
      "text/plain": [
       "(413327, 32)"
      ]
     },
     "execution_count": 21,
     "metadata": {},
     "output_type": "execute_result"
    }
   ],
   "source": [
    "#data.shape(rows, colums)\n",
    "df.shape"
   ]
  },
  {
   "cell_type": "code",
   "execution_count": 29,
   "id": "fb0888fc-97da-4de9-8639-73f168996dc1",
   "metadata": {},
   "outputs": [
    {
     "data": {
      "text/plain": [
       "pandas.core.frame.DataFrame"
      ]
     },
     "execution_count": 29,
     "metadata": {},
     "output_type": "execute_result"
    }
   ],
   "source": [
    "type(df)"
   ]
  },
  {
   "cell_type": "code",
   "execution_count": 31,
   "id": "4ce00b67-b3cf-4827-8db8-02adaf467e3a",
   "metadata": {},
   "outputs": [
    {
     "data": {
      "text/html": [
       "<div>\n",
       "<style scoped>\n",
       "    .dataframe tbody tr th:only-of-type {\n",
       "        vertical-align: middle;\n",
       "    }\n",
       "\n",
       "    .dataframe tbody tr th {\n",
       "        vertical-align: top;\n",
       "    }\n",
       "\n",
       "    .dataframe thead th {\n",
       "        text-align: right;\n",
       "    }\n",
       "</style>\n",
       "<table border=\"1\" class=\"dataframe\">\n",
       "  <thead>\n",
       "    <tr style=\"text-align: right;\">\n",
       "      <th></th>\n",
       "      <th>AREA</th>\n",
       "      <th>AREA_TITLE</th>\n",
       "      <th>AREA_TYPE</th>\n",
       "      <th>PRIM_STATE</th>\n",
       "      <th>NAICS</th>\n",
       "      <th>NAICS_TITLE</th>\n",
       "      <th>I_GROUP</th>\n",
       "      <th>OWN_CODE</th>\n",
       "      <th>OCC_CODE</th>\n",
       "      <th>OCC_TITLE</th>\n",
       "      <th>...</th>\n",
       "      <th>H_MEDIAN</th>\n",
       "      <th>H_PCT75</th>\n",
       "      <th>H_PCT90</th>\n",
       "      <th>A_PCT10</th>\n",
       "      <th>A_PCT25</th>\n",
       "      <th>A_MEDIAN</th>\n",
       "      <th>A_PCT75</th>\n",
       "      <th>A_PCT90</th>\n",
       "      <th>ANNUAL</th>\n",
       "      <th>HOURLY</th>\n",
       "    </tr>\n",
       "  </thead>\n",
       "  <tbody>\n",
       "    <tr>\n",
       "      <th>0</th>\n",
       "      <td>c</td>\n",
       "      <td>U.S.</td>\n",
       "      <td>1</td>\n",
       "      <td>US</td>\n",
       "      <td>0</td>\n",
       "      <td>Cross-industry</td>\n",
       "      <td>cross-industry</td>\n",
       "      <td>1235</td>\n",
       "      <td>00-0000</td>\n",
       "      <td>All Occupations</td>\n",
       "      <td>...</td>\n",
       "      <td>23.11</td>\n",
       "      <td>37.01</td>\n",
       "      <td>58.40</td>\n",
       "      <td>29,050</td>\n",
       "      <td>35,660</td>\n",
       "      <td>48,060</td>\n",
       "      <td>76,980</td>\n",
       "      <td>121,470</td>\n",
       "      <td>NaN</td>\n",
       "      <td>NaN</td>\n",
       "    </tr>\n",
       "    <tr>\n",
       "      <th>1</th>\n",
       "      <td>99</td>\n",
       "      <td>U.S.</td>\n",
       "      <td>1</td>\n",
       "      <td>US</td>\n",
       "      <td>0</td>\n",
       "      <td>Cross-industry</td>\n",
       "      <td>cross-industry</td>\n",
       "      <td>1235</td>\n",
       "      <td>11-0000</td>\n",
       "      <td>Management Occupations</td>\n",
       "      <td>...</td>\n",
       "      <td>56.19</td>\n",
       "      <td>81.29</td>\n",
       "      <td>111.36</td>\n",
       "      <td>54,550</td>\n",
       "      <td>78,330</td>\n",
       "      <td>116,880</td>\n",
       "      <td>169,090</td>\n",
       "      <td>231,620</td>\n",
       "      <td>NaN</td>\n",
       "      <td>NaN</td>\n",
       "    </tr>\n",
       "    <tr>\n",
       "      <th>2</th>\n",
       "      <td>99</td>\n",
       "      <td>U.S.</td>\n",
       "      <td>1</td>\n",
       "      <td>US</td>\n",
       "      <td>0</td>\n",
       "      <td>Cross-industry</td>\n",
       "      <td>cross-industry</td>\n",
       "      <td>1235</td>\n",
       "      <td>11-1000</td>\n",
       "      <td>Top Executives</td>\n",
       "      <td>...</td>\n",
       "      <td>49.74</td>\n",
       "      <td>79.57</td>\n",
       "      <td>#</td>\n",
       "      <td>46,400</td>\n",
       "      <td>66,170</td>\n",
       "      <td>103,460</td>\n",
       "      <td>165,500</td>\n",
       "      <td>#</td>\n",
       "      <td>NaN</td>\n",
       "      <td>NaN</td>\n",
       "    </tr>\n",
       "    <tr>\n",
       "      <th>3</th>\n",
       "      <td>99</td>\n",
       "      <td>U.S.</td>\n",
       "      <td>1</td>\n",
       "      <td>US</td>\n",
       "      <td>0</td>\n",
       "      <td>Cross-industry</td>\n",
       "      <td>cross-industry</td>\n",
       "      <td>1235</td>\n",
       "      <td>11-1010</td>\n",
       "      <td>Chief Executives</td>\n",
       "      <td>...</td>\n",
       "      <td>99.37</td>\n",
       "      <td>#</td>\n",
       "      <td>#</td>\n",
       "      <td>80,000</td>\n",
       "      <td>130,840</td>\n",
       "      <td>206,680</td>\n",
       "      <td>#</td>\n",
       "      <td>#</td>\n",
       "      <td>NaN</td>\n",
       "      <td>NaN</td>\n",
       "    </tr>\n",
       "    <tr>\n",
       "      <th>4</th>\n",
       "      <td>99</td>\n",
       "      <td>U.S.</td>\n",
       "      <td>1</td>\n",
       "      <td>US</td>\n",
       "      <td>0</td>\n",
       "      <td>Cross-industry</td>\n",
       "      <td>cross-industry</td>\n",
       "      <td>1235</td>\n",
       "      <td>11-1011</td>\n",
       "      <td>Chief Executives</td>\n",
       "      <td>...</td>\n",
       "      <td>99.37</td>\n",
       "      <td>#</td>\n",
       "      <td>#</td>\n",
       "      <td>80,000</td>\n",
       "      <td>130,840</td>\n",
       "      <td>206,680</td>\n",
       "      <td>#</td>\n",
       "      <td>#</td>\n",
       "      <td>NaN</td>\n",
       "      <td>NaN</td>\n",
       "    </tr>\n",
       "  </tbody>\n",
       "</table>\n",
       "<p>5 rows × 32 columns</p>\n",
       "</div>"
      ],
      "text/plain": [
       "   AREA AREA_TITLE  AREA_TYPE PRIM_STATE NAICS     NAICS_TITLE  \\\n",
       "0     c       U.S.          1         US     0  Cross-industry   \n",
       "1    99       U.S.          1         US     0  Cross-industry   \n",
       "2    99       U.S.          1         US     0  Cross-industry   \n",
       "3    99       U.S.          1         US     0  Cross-industry   \n",
       "4    99       U.S.          1         US     0  Cross-industry   \n",
       "\n",
       "          I_GROUP  OWN_CODE OCC_CODE               OCC_TITLE  ... H_MEDIAN  \\\n",
       "0  cross-industry      1235  00-0000         All Occupations  ...    23.11   \n",
       "1  cross-industry      1235  11-0000  Management Occupations  ...    56.19   \n",
       "2  cross-industry      1235  11-1000          Top Executives  ...    49.74   \n",
       "3  cross-industry      1235  11-1010        Chief Executives  ...    99.37   \n",
       "4  cross-industry      1235  11-1011        Chief Executives  ...    99.37   \n",
       "\n",
       "  H_PCT75 H_PCT90 A_PCT10  A_PCT25 A_MEDIAN  A_PCT75  A_PCT90 ANNUAL HOURLY  \n",
       "0   37.01   58.40  29,050   35,660   48,060   76,980  121,470    NaN    NaN  \n",
       "1   81.29  111.36  54,550   78,330  116,880  169,090  231,620    NaN    NaN  \n",
       "2   79.57       #  46,400   66,170  103,460  165,500        #    NaN    NaN  \n",
       "3       #       #  80,000  130,840  206,680        #        #    NaN    NaN  \n",
       "4       #       #  80,000  130,840  206,680        #        #    NaN    NaN  \n",
       "\n",
       "[5 rows x 32 columns]"
      ]
     },
     "execution_count": 31,
     "metadata": {},
     "output_type": "execute_result"
    }
   ],
   "source": [
    "df.head()"
   ]
  },
  {
   "cell_type": "code",
   "execution_count": 33,
   "id": "29672639-8808-4d06-adf4-07a5c6d3eb93",
   "metadata": {},
   "outputs": [
    {
     "name": "stdout",
     "output_type": "stream",
     "text": [
      "<class 'pandas.core.frame.DataFrame'>\n",
      "RangeIndex: 413327 entries, 0 to 413326\n",
      "Data columns (total 32 columns):\n",
      " #   Column        Non-Null Count   Dtype \n",
      "---  ------        --------------   ----- \n",
      " 0   AREA          413327 non-null  object\n",
      " 1   AREA_TITLE    413327 non-null  object\n",
      " 2   AREA_TYPE     413327 non-null  int64 \n",
      " 3   PRIM_STATE    413327 non-null  object\n",
      " 4   NAICS         413327 non-null  object\n",
      " 5   NAICS_TITLE   413327 non-null  object\n",
      " 6   I_GROUP       413327 non-null  object\n",
      " 7   OWN_CODE      413327 non-null  int64 \n",
      " 8   OCC_CODE      413327 non-null  object\n",
      " 9   OCC_TITLE     413327 non-null  object\n",
      " 10  O_GROUP       413327 non-null  object\n",
      " 11  TOT_EMP       413327 non-null  object\n",
      " 12  EMP_PRSE      413327 non-null  object\n",
      " 13  JOBS_1000     235826 non-null  object\n",
      " 14  LOC_QUOTIENT  235826 non-null  object\n",
      " 15  PCT_TOTAL     170470 non-null  object\n",
      " 16  PCT_RPT       170470 non-null  object\n",
      " 17  H_MEAN        413327 non-null  object\n",
      " 18  A_MEAN        413327 non-null  object\n",
      " 19  MEAN_PRSE     413327 non-null  object\n",
      " 20  H_PCT10       413327 non-null  object\n",
      " 21  H_PCT25       413327 non-null  object\n",
      " 22  H_MEDIAN      413327 non-null  object\n",
      " 23  H_PCT75       413327 non-null  object\n",
      " 24  H_PCT90       413327 non-null  object\n",
      " 25  A_PCT10       413327 non-null  object\n",
      " 26  A_PCT25       413327 non-null  object\n",
      " 27  A_MEDIAN      413327 non-null  object\n",
      " 28  A_PCT75       413327 non-null  object\n",
      " 29  A_PCT90       413327 non-null  object\n",
      " 30  ANNUAL        16497 non-null   object\n",
      " 31  HOURLY        755 non-null     object\n",
      "dtypes: int64(2), object(30)\n",
      "memory usage: 100.9+ MB\n"
     ]
    }
   ],
   "source": [
    "df.info()"
   ]
  },
  {
   "cell_type": "code",
   "execution_count": 15,
   "id": "39ccfb41-5d57-4e45-9d53-3cb77d64324b",
   "metadata": {},
   "outputs": [
    {
     "data": {
      "text/html": [
       "<div>\n",
       "<style scoped>\n",
       "    .dataframe tbody tr th:only-of-type {\n",
       "        vertical-align: middle;\n",
       "    }\n",
       "\n",
       "    .dataframe tbody tr th {\n",
       "        vertical-align: top;\n",
       "    }\n",
       "\n",
       "    .dataframe thead th {\n",
       "        text-align: right;\n",
       "    }\n",
       "</style>\n",
       "<table border=\"1\" class=\"dataframe\">\n",
       "  <thead>\n",
       "    <tr style=\"text-align: right;\">\n",
       "      <th></th>\n",
       "      <th>AREA_TYPE</th>\n",
       "      <th>OWN_CODE</th>\n",
       "    </tr>\n",
       "  </thead>\n",
       "  <tbody>\n",
       "    <tr>\n",
       "      <th>count</th>\n",
       "      <td>413327.000000</td>\n",
       "      <td>413327.000000</td>\n",
       "    </tr>\n",
       "    <tr>\n",
       "      <th>mean</th>\n",
       "      <td>2.766826</td>\n",
       "      <td>717.279984</td>\n",
       "    </tr>\n",
       "    <tr>\n",
       "      <th>std</th>\n",
       "      <td>1.780825</td>\n",
       "      <td>601.852382</td>\n",
       "    </tr>\n",
       "    <tr>\n",
       "      <th>min</th>\n",
       "      <td>1.000000</td>\n",
       "      <td>1.000000</td>\n",
       "    </tr>\n",
       "    <tr>\n",
       "      <th>25%</th>\n",
       "      <td>1.000000</td>\n",
       "      <td>5.000000</td>\n",
       "    </tr>\n",
       "    <tr>\n",
       "      <th>50%</th>\n",
       "      <td>2.000000</td>\n",
       "      <td>1235.000000</td>\n",
       "    </tr>\n",
       "    <tr>\n",
       "      <th>75%</th>\n",
       "      <td>4.000000</td>\n",
       "      <td>1235.000000</td>\n",
       "    </tr>\n",
       "    <tr>\n",
       "      <th>max</th>\n",
       "      <td>6.000000</td>\n",
       "      <td>1235.000000</td>\n",
       "    </tr>\n",
       "  </tbody>\n",
       "</table>\n",
       "</div>"
      ],
      "text/plain": [
       "           AREA_TYPE       OWN_CODE\n",
       "count  413327.000000  413327.000000\n",
       "mean        2.766826     717.279984\n",
       "std         1.780825     601.852382\n",
       "min         1.000000       1.000000\n",
       "25%         1.000000       5.000000\n",
       "50%         2.000000    1235.000000\n",
       "75%         4.000000    1235.000000\n",
       "max         6.000000    1235.000000"
      ]
     },
     "execution_count": 15,
     "metadata": {},
     "output_type": "execute_result"
    }
   ],
   "source": [
    "data.describe()"
   ]
  },
  {
   "cell_type": "markdown",
   "id": "959debfd-ca0b-4624-9b26-d83924cc8353",
   "metadata": {},
   "source": [
    "Step 3: \n",
    "Based on analysis, define what do you want to knwo about the data set, create some possible questions to answear\n",
    "I analyzed the excel file to understand the data. \n",
    "and some of the possible questions we can answear with metploit is: \n",
    "1) How many times each area_type appears\n",
    "       First I had to convert the areas 1,2,3,4... in names like U.S, so it will be clear to represent\n",
    "       So I created area_labels to relate each number with its name\n",
    "       From now all this info will be stored in area_type_label\n",
    "       \n",
    "       \n"
   ]
  },
  {
   "cell_type": "code",
   "execution_count": 75,
   "id": "4cea18cc-25b2-45fa-b92c-4e6420828417",
   "metadata": {},
   "outputs": [],
   "source": [
    "area_labels = {1: 'U.S.', 2: 'State', 3: 'Territory', 4: 'MSA/NECTA',6 : 'Nonmetropolitan Area'}"
   ]
  },
  {
   "cell_type": "code",
   "execution_count": 79,
   "id": "5b2c2da8-2732-4181-98aa-e4e480bf1002",
   "metadata": {},
   "outputs": [],
   "source": [
    "df['area_type_label'] = df['AREA_TYPE'].map(area_labels)"
   ]
  },
  {
   "cell_type": "code",
   "execution_count": 89,
   "id": "12b63589-4ae7-423c-b159-2dd493b9608b",
   "metadata": {},
   "outputs": [
    {
     "data": {
      "image/png": "[encoded data removed]",
      "text/plain": [
       "<Figure size 640x480 with 1 Axes>"
      ]
     },
     "metadata": {},
     "output_type": "display_data"
    }
   ],
   "source": [
    "sns.countplot(x='area_type_label', data = df)\n",
    "plt.title('Area Type')\n",
    "plt.show()"
   ]
  },
  {
   "cell_type": "code",
   "execution_count": null,
   "id": "20488ef3-94d3-4f4a-a3a5-2fea6b375729",
   "metadata": {},
   "outputs": [],
   "source": []
  }
 ],
 "metadata": {
  "kernelspec": {
   "display_name": "Python 3 (ipykernel)",
   "language": "python",
   "name": "python3"
  },
  "language_info": {
   "codemirror_mode": {
    "name": "ipython",
    "version": 3
   },
   "file_extension": ".py",
   "mimetype": "text/x-python",
   "name": "python",
   "nbconvert_exporter": "python",
   "pygments_lexer": "ipython3",
   "version": "3.12.4"
  }
 },
 "nbformat": 4,
 "nbformat_minor": 5
}
