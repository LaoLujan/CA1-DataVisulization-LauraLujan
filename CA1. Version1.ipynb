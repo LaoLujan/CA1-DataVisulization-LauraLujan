{
 "cells": [
  {
   "cell_type": "markdown",
   "id": "303282f6-b486-4d34-b122-0a1bd5401ccf",
   "metadata": {},
   "source": [
    "Step 1: \n",
    "import data and libraries\n"
   ]
  },
  {
   "cell_type": "code",
   "execution_count": 65,
   "id": "995ba793-7763-4c4f-8a3a-fa2972b2a732",
   "metadata": {},
   "outputs": [
    {
     "name": "stderr",
     "output_type": "stream",
     "text": [
      "C:\\Users\\NHLUJ\\AppData\\Local\\Temp\\ipykernel_13560\\3369162346.py:3: DtypeWarning: Columns (4,13,14,15,16,30,31) have mixed types. Specify dtype option on import or set low_memory=False.\n",
      "  data = pd.read_csv('all_data_M_2023.csv')\n"
     ]
    }
   ],
   "source": [
    "import pandas as pd\n",
    "import matplotlib.pyplot as plt\n",
    "data = pd.read_csv('all_data_M_2023.csv')\n",
    "\n"
   ]
  },
  {
   "cell_type": "markdown",
   "id": "aac39ea1-1f2c-489b-939f-71eea45b7505",
   "metadata": {},
   "source": [
    "Step 2:\n",
    "General analysis of data and information"
   ]
  },
  {
   "cell_type": "code",
   "execution_count": 55,
   "id": "fbdd2a19-6bea-4903-a55b-93a340366f26",
   "metadata": {},
   "outputs": [
    {
     "data": {
      "text/plain": [
       "(413327, 32)"
      ]
     },
     "execution_count": 55,
     "metadata": {},
     "output_type": "execute_result"
    }
   ],
   "source": [
    "#data.shape(rows, colums)\n",
    "data.shape"
   ]
  },
  {
   "cell_type": "code",
   "execution_count": 57,
   "id": "fb0888fc-97da-4de9-8639-73f168996dc1",
   "metadata": {},
   "outputs": [
    {
     "data": {
      "text/plain": [
       "pandas.core.frame.DataFrame"
      ]
     },
     "execution_count": 57,
     "metadata": {},
     "output_type": "execute_result"
    }
   ],
   "source": [
    "type(data)"
   ]
  },
  {
   "cell_type": "code",
   "execution_count": 67,
   "id": "4ce00b67-b3cf-4827-8db8-02adaf467e3a",
   "metadata": {},
   "outputs": [
    {
     "data": {
      "text/html": [
       "<div>\n",
       "<style scoped>\n",
       "    .dataframe tbody tr th:only-of-type {\n",
       "        vertical-align: middle;\n",
       "    }\n",
       "\n",
       "    .dataframe tbody tr th {\n",
       "        vertical-align: top;\n",
       "    }\n",
       "\n",
       "    .dataframe thead th {\n",
       "        text-align: right;\n",
       "    }\n",
       "</style>\n",
       "<table border=\"1\" class=\"dataframe\">\n",
       "  <thead>\n",
       "    <tr style=\"text-align: right;\">\n",
       "      <th></th>\n",
       "      <th>AREA</th>\n",
       "      <th>AREA_TITLE</th>\n",
       "      <th>AREA_TYPE</th>\n",
       "      <th>PRIM_STATE</th>\n",
       "      <th>NAICS</th>\n",
       "      <th>NAICS_TITLE</th>\n",
       "      <th>I_GROUP</th>\n",
       "      <th>OWN_CODE</th>\n",
       "      <th>OCC_CODE</th>\n",
       "      <th>OCC_TITLE</th>\n",
       "      <th>...</th>\n",
       "      <th>H_MEDIAN</th>\n",
       "      <th>H_PCT75</th>\n",
       "      <th>H_PCT90</th>\n",
       "      <th>A_PCT10</th>\n",
       "      <th>A_PCT25</th>\n",
       "      <th>A_MEDIAN</th>\n",
       "      <th>A_PCT75</th>\n",
       "      <th>A_PCT90</th>\n",
       "      <th>ANNUAL</th>\n",
       "      <th>HOURLY</th>\n",
       "    </tr>\n",
       "  </thead>\n",
       "  <tbody>\n",
       "    <tr>\n",
       "      <th>0</th>\n",
       "      <td>99</td>\n",
       "      <td>U.S.</td>\n",
       "      <td>1</td>\n",
       "      <td>US</td>\n",
       "      <td>0</td>\n",
       "      <td>Cross-industry</td>\n",
       "      <td>cross-industry</td>\n",
       "      <td>1235</td>\n",
       "      <td>00-0000</td>\n",
       "      <td>All Occupations</td>\n",
       "      <td>...</td>\n",
       "      <td>23.11</td>\n",
       "      <td>37.01</td>\n",
       "      <td>58.40</td>\n",
       "      <td>29,050</td>\n",
       "      <td>35,660</td>\n",
       "      <td>48,060</td>\n",
       "      <td>76,980</td>\n",
       "      <td>121,470</td>\n",
       "      <td>NaN</td>\n",
       "      <td>NaN</td>\n",
       "    </tr>\n",
       "    <tr>\n",
       "      <th>1</th>\n",
       "      <td>99</td>\n",
       "      <td>U.S.</td>\n",
       "      <td>1</td>\n",
       "      <td>US</td>\n",
       "      <td>0</td>\n",
       "      <td>Cross-industry</td>\n",
       "      <td>cross-industry</td>\n",
       "      <td>1235</td>\n",
       "      <td>11-0000</td>\n",
       "      <td>Management Occupations</td>\n",
       "      <td>...</td>\n",
       "      <td>56.19</td>\n",
       "      <td>81.29</td>\n",
       "      <td>111.36</td>\n",
       "      <td>54,550</td>\n",
       "      <td>78,330</td>\n",
       "      <td>116,880</td>\n",
       "      <td>169,090</td>\n",
       "      <td>231,620</td>\n",
       "      <td>NaN</td>\n",
       "      <td>NaN</td>\n",
       "    </tr>\n",
       "    <tr>\n",
       "      <th>2</th>\n",
       "      <td>99</td>\n",
       "      <td>U.S.</td>\n",
       "      <td>1</td>\n",
       "      <td>US</td>\n",
       "      <td>0</td>\n",
       "      <td>Cross-industry</td>\n",
       "      <td>cross-industry</td>\n",
       "      <td>1235</td>\n",
       "      <td>11-1000</td>\n",
       "      <td>Top Executives</td>\n",
       "      <td>...</td>\n",
       "      <td>49.74</td>\n",
       "      <td>79.57</td>\n",
       "      <td>#</td>\n",
       "      <td>46,400</td>\n",
       "      <td>66,170</td>\n",
       "      <td>103,460</td>\n",
       "      <td>165,500</td>\n",
       "      <td>#</td>\n",
       "      <td>NaN</td>\n",
       "      <td>NaN</td>\n",
       "    </tr>\n",
       "    <tr>\n",
       "      <th>3</th>\n",
       "      <td>99</td>\n",
       "      <td>U.S.</td>\n",
       "      <td>1</td>\n",
       "      <td>US</td>\n",
       "      <td>0</td>\n",
       "      <td>Cross-industry</td>\n",
       "      <td>cross-industry</td>\n",
       "      <td>1235</td>\n",
       "      <td>11-1010</td>\n",
       "      <td>Chief Executives</td>\n",
       "      <td>...</td>\n",
       "      <td>99.37</td>\n",
       "      <td>#</td>\n",
       "      <td>#</td>\n",
       "      <td>80,000</td>\n",
       "      <td>130,840</td>\n",
       "      <td>206,680</td>\n",
       "      <td>#</td>\n",
       "      <td>#</td>\n",
       "      <td>NaN</td>\n",
       "      <td>NaN</td>\n",
       "    </tr>\n",
       "    <tr>\n",
       "      <th>4</th>\n",
       "      <td>99</td>\n",
       "      <td>U.S.</td>\n",
       "      <td>1</td>\n",
       "      <td>US</td>\n",
       "      <td>0</td>\n",
       "      <td>Cross-industry</td>\n",
       "      <td>cross-industry</td>\n",
       "      <td>1235</td>\n",
       "      <td>11-1011</td>\n",
       "      <td>Chief Executives</td>\n",
       "      <td>...</td>\n",
       "      <td>99.37</td>\n",
       "      <td>#</td>\n",
       "      <td>#</td>\n",
       "      <td>80,000</td>\n",
       "      <td>130,840</td>\n",
       "      <td>206,680</td>\n",
       "      <td>#</td>\n",
       "      <td>#</td>\n",
       "      <td>NaN</td>\n",
       "      <td>NaN</td>\n",
       "    </tr>\n",
       "  </tbody>\n",
       "</table>\n",
       "<p>5 rows × 32 columns</p>\n",
       "</div>"
      ],
      "text/plain": [
       "   AREA AREA_TITLE  AREA_TYPE PRIM_STATE NAICS     NAICS_TITLE  \\\n",
       "0    99       U.S.          1         US     0  Cross-industry   \n",
       "1    99       U.S.          1         US     0  Cross-industry   \n",
       "2    99       U.S.          1         US     0  Cross-industry   \n",
       "3    99       U.S.          1         US     0  Cross-industry   \n",
       "4    99       U.S.          1         US     0  Cross-industry   \n",
       "\n",
       "          I_GROUP  OWN_CODE OCC_CODE               OCC_TITLE  ... H_MEDIAN  \\\n",
       "0  cross-industry      1235  00-0000         All Occupations  ...    23.11   \n",
       "1  cross-industry      1235  11-0000  Management Occupations  ...    56.19   \n",
       "2  cross-industry      1235  11-1000          Top Executives  ...    49.74   \n",
       "3  cross-industry      1235  11-1010        Chief Executives  ...    99.37   \n",
       "4  cross-industry      1235  11-1011        Chief Executives  ...    99.37   \n",
       "\n",
       "  H_PCT75 H_PCT90 A_PCT10  A_PCT25 A_MEDIAN  A_PCT75  A_PCT90 ANNUAL HOURLY  \n",
       "0   37.01   58.40  29,050   35,660   48,060   76,980  121,470    NaN    NaN  \n",
       "1   81.29  111.36  54,550   78,330  116,880  169,090  231,620    NaN    NaN  \n",
       "2   79.57       #  46,400   66,170  103,460  165,500        #    NaN    NaN  \n",
       "3       #       #  80,000  130,840  206,680        #        #    NaN    NaN  \n",
       "4       #       #  80,000  130,840  206,680        #        #    NaN    NaN  \n",
       "\n",
       "[5 rows x 32 columns]"
      ]
     },
     "execution_count": 67,
     "metadata": {},
     "output_type": "execute_result"
    }
   ],
   "source": [
    "data.head()"
   ]
  },
  {
   "cell_type": "code",
   "execution_count": null,
   "id": "29672639-8808-4d06-adf4-07a5c6d3eb93",
   "metadata": {},
   "outputs": [],
   "source": []
  },
  {
   "cell_type": "markdown",
   "id": "959debfd-ca0b-4624-9b26-d83924cc8353",
   "metadata": {},
   "source": [
    "Step 3: \n",
    "Based on analysis, define what do you want to knwo about the data set, create some possible questions to answear"
   ]
  }
 ],
 "metadata": {
  "kernelspec": {
   "display_name": "Python 3 (ipykernel)",
   "language": "python",
   "name": "python3"
  },
  "language_info": {
   "codemirror_mode": {
    "name": "ipython",
    "version": 3
   },
   "file_extension": ".py",
   "mimetype": "text/x-python",
   "name": "python",
   "nbconvert_exporter": "python",
   "pygments_lexer": "ipython3",
   "version": "3.12.4"
  }
 },
 "nbformat": 4,
 "nbformat_minor": 5
}
